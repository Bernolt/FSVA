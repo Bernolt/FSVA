{
 "cells": [
  {
   "cell_type": "markdown",
   "metadata": {},
   "source": [
    "### Customization"
   ]
  },
  {
   "cell_type": "code",
   "execution_count": 1,
   "metadata": {},
   "outputs": [],
   "source": [
    "import altair as alt\n",
    "import pandas as pd"
   ]
  },
  {
   "cell_type": "markdown",
   "metadata": {},
   "source": [
    "#### Colours"
   ]
  },
  {
   "cell_type": "markdown",
   "metadata": {},
   "source": [
    "[Inspiration](https://www.youtube.com/watch?v=dwSe2imUyvg)"
   ]
  },
  {
   "cell_type": "code",
   "execution_count": 2,
   "metadata": {},
   "outputs": [],
   "source": [
    "owl = pd.read_csv('../data/owl.csv')"
   ]
  },
  {
   "cell_type": "code",
   "execution_count": 3,
   "metadata": {},
   "outputs": [
    {
     "data": {
      "text/html": [
       "\n",
       "<div id=\"altair-viz-c50d78f2d78b4227ba43050d2915562c\"></div>\n",
       "<script type=\"text/javascript\">\n",
       "  (function(spec, embedOpt){\n",
       "    const outputDiv = document.getElementById(\"altair-viz-c50d78f2d78b4227ba43050d2915562c\");\n",
       "    const paths = {\n",
       "      \"vega\": \"https://cdn.jsdelivr.net/npm//vega@5?noext\",\n",
       "      \"vega-lib\": \"https://cdn.jsdelivr.net/npm//vega-lib?noext\",\n",
       "      \"vega-lite\": \"https://cdn.jsdelivr.net/npm//vega-lite@4.0.2?noext\",\n",
       "      \"vega-embed\": \"https://cdn.jsdelivr.net/npm//vega-embed@6?noext\",\n",
       "    };\n",
       "\n",
       "    function loadScript(lib) {\n",
       "      return new Promise(function(resolve, reject) {\n",
       "        var s = document.createElement('script');\n",
       "        s.src = paths[lib];\n",
       "        s.async = true;\n",
       "        s.onload = () => resolve(paths[lib]);\n",
       "        s.onerror = () => reject(`Error loading script: ${paths[lib]}`);\n",
       "        document.getElementsByTagName(\"head\")[0].appendChild(s);\n",
       "      });\n",
       "    }\n",
       "\n",
       "    function showError(err) {\n",
       "      outputDiv.innerHTML = `<div class=\"error\" style=\"color:red;\">${err}</div>`;\n",
       "      throw err;\n",
       "    }\n",
       "\n",
       "    function displayChart(vegaEmbed) {\n",
       "      vegaEmbed(outputDiv, spec, embedOpt)\n",
       "        .catch(err => showError(`Javascript Error: ${err.message}<br>This usually means there's a typo in your chart specification. See the javascript console for the full traceback.`));\n",
       "    }\n",
       "\n",
       "    if(typeof define === \"function\" && define.amd) {\n",
       "      requirejs.config({paths});\n",
       "      require([\"vega-embed\"], displayChart, err => showError(`Error loading script: ${err.message}`));\n",
       "    } else if (typeof vegaEmbed === \"function\") {\n",
       "      displayChart(vegaEmbed);\n",
       "    } else {\n",
       "      loadScript(\"vega\")\n",
       "        .then(() => loadScript(\"vega-lite\"))\n",
       "        .then(() => loadScript(\"vega-embed\"))\n",
       "        .catch(showError)\n",
       "        .then(() => displayChart(vegaEmbed));\n",
       "    }\n",
       "  })({\"config\": {\"view\": {\"continuousWidth\": 400, \"continuousHeight\": 300}}, \"data\": {\"name\": \"data-2a6700b88613219c0348f5ad71778108\"}, \"mark\": \"rect\", \"encoding\": {\"color\": {\"type\": \"nominal\", \"field\": \"Colour\"}, \"x\": {\"type\": \"ordinal\", \"field\": \"X\"}, \"y\": {\"type\": \"ordinal\", \"field\": \"Y\"}}, \"$schema\": \"https://vega.github.io/schema/vega-lite/v4.0.2.json\", \"datasets\": {\"data-2a6700b88613219c0348f5ad71778108\": [{\"X\": 1, \"Y\": 1, \"Colour\": \"Blue\"}, {\"X\": 1, \"Y\": 2, \"Colour\": \"Blue\"}, {\"X\": 1, \"Y\": 3, \"Colour\": \"Blue\"}, {\"X\": 1, \"Y\": 4, \"Colour\": \"Blue\"}, {\"X\": 1, \"Y\": 5, \"Colour\": \"Blue\"}, {\"X\": 1, \"Y\": 6, \"Colour\": \"Blue\"}, {\"X\": 1, \"Y\": 7, \"Colour\": \"Blue\"}, {\"X\": 1, \"Y\": 8, \"Colour\": \"Blue\"}, {\"X\": 1, \"Y\": 9, \"Colour\": \"Blue\"}, {\"X\": 1, \"Y\": 10, \"Colour\": \"Blue\"}, {\"X\": 1, \"Y\": 11, \"Colour\": \"Blue\"}, {\"X\": 2, \"Y\": 1, \"Colour\": \"Dark Brown\"}, {\"X\": 2, \"Y\": 2, \"Colour\": \"Dark Brown\"}, {\"X\": 2, \"Y\": 3, \"Colour\": \"Dark Brown\"}, {\"X\": 2, \"Y\": 4, \"Colour\": \"Brown\"}, {\"X\": 2, \"Y\": 5, \"Colour\": \"Light Blue\"}, {\"X\": 2, \"Y\": 6, \"Colour\": \"Light Blue\"}, {\"X\": 2, \"Y\": 7, \"Colour\": \"Light Blue\"}, {\"X\": 2, \"Y\": 8, \"Colour\": \"Light Blue\"}, {\"X\": 2, \"Y\": 9, \"Colour\": \"Light Blue\"}, {\"X\": 2, \"Y\": 10, \"Colour\": \"Light Blue\"}, {\"X\": 2, \"Y\": 11, \"Colour\": \"Blue\"}, {\"X\": 3, \"Y\": 1, \"Colour\": \"Brown\"}, {\"X\": 3, \"Y\": 2, \"Colour\": \"Brown\"}, {\"X\": 3, \"Y\": 3, \"Colour\": \"Brown\"}, {\"X\": 3, \"Y\": 4, \"Colour\": \"Dark Brown\"}, {\"X\": 3, \"Y\": 5, \"Colour\": \"Dark Brown\"}, {\"X\": 3, \"Y\": 6, \"Colour\": \"Dark Brown\"}, {\"X\": 3, \"Y\": 7, \"Colour\": \"Dark Brown\"}, {\"X\": 3, \"Y\": 8, \"Colour\": \"Dark Brown\"}, {\"X\": 3, \"Y\": 9, \"Colour\": \"Dark Brown\"}, {\"X\": 3, \"Y\": 10, \"Colour\": \"Light Blue\"}, {\"X\": 3, \"Y\": 11, \"Colour\": \"Blue\"}, {\"X\": 4, \"Y\": 1, \"Colour\": \"Brown\"}, {\"X\": 4, \"Y\": 2, \"Colour\": \"Brown\"}, {\"X\": 4, \"Y\": 3, \"Colour\": \"Brown\"}, {\"X\": 4, \"Y\": 4, \"Colour\": \"Brown\"}, {\"X\": 4, \"Y\": 5, \"Colour\": \"Brown\"}, {\"X\": 4, \"Y\": 6, \"Colour\": \"White\"}, {\"X\": 4, \"Y\": 7, \"Colour\": \"White\"}, {\"X\": 4, \"Y\": 8, \"Colour\": \"Brown\"}, {\"X\": 4, \"Y\": 9, \"Colour\": \"Brown\"}, {\"X\": 4, \"Y\": 10, \"Colour\": \"Dark Brown\"}, {\"X\": 4, \"Y\": 11, \"Colour\": \"Blue\"}, {\"X\": 5, \"Y\": 1, \"Colour\": \"Brown\"}, {\"X\": 5, \"Y\": 2, \"Colour\": \"Brown\"}, {\"X\": 5, \"Y\": 3, \"Colour\": \"Brown\"}, {\"X\": 5, \"Y\": 4, \"Colour\": \"Brown\"}, {\"X\": 5, \"Y\": 5, \"Colour\": \"Brown\"}, {\"X\": 5, \"Y\": 6, \"Colour\": \"Black\"}, {\"X\": 5, \"Y\": 7, \"Colour\": \"White\"}, {\"X\": 5, \"Y\": 8, \"Colour\": \"Brown\"}, {\"X\": 5, \"Y\": 9, \"Colour\": \"Dark Brown\"}, {\"X\": 5, \"Y\": 10, \"Colour\": \"Light Blue\"}, {\"X\": 5, \"Y\": 11, \"Colour\": \"Blue\"}, {\"X\": 6, \"Y\": 1, \"Colour\": \"Brown\"}, {\"X\": 6, \"Y\": 2, \"Colour\": \"Brown\"}, {\"X\": 6, \"Y\": 3, \"Colour\": \"Brown\"}, {\"X\": 6, \"Y\": 4, \"Colour\": \"Yellow\"}, {\"X\": 6, \"Y\": 5, \"Colour\": \"Yellow\"}, {\"X\": 6, \"Y\": 6, \"Colour\": \"Brown\"}, {\"X\": 6, \"Y\": 7, \"Colour\": \"Brown\"}, {\"X\": 6, \"Y\": 8, \"Colour\": \"Dark Brown\"}, {\"X\": 6, \"Y\": 9, \"Colour\": \"Brown\"}, {\"X\": 6, \"Y\": 10, \"Colour\": \"Light Blue\"}, {\"X\": 6, \"Y\": 11, \"Colour\": \"Blue\"}, {\"X\": 7, \"Y\": 1, \"Colour\": \"Brown\"}, {\"X\": 7, \"Y\": 2, \"Colour\": \"Brown\"}, {\"X\": 7, \"Y\": 3, \"Colour\": \"Brown\"}, {\"X\": 7, \"Y\": 4, \"Colour\": \"Brown\"}, {\"X\": 7, \"Y\": 5, \"Colour\": \"Brown\"}, {\"X\": 7, \"Y\": 6, \"Colour\": \"Black\"}, {\"X\": 7, \"Y\": 7, \"Colour\": \"White\"}, {\"X\": 7, \"Y\": 8, \"Colour\": \"Brown\"}, {\"X\": 7, \"Y\": 9, \"Colour\": \"Dark Brown\"}, {\"X\": 7, \"Y\": 10, \"Colour\": \"Light Blue\"}, {\"X\": 7, \"Y\": 11, \"Colour\": \"Blue\"}, {\"X\": 8, \"Y\": 1, \"Colour\": \"Brown\"}, {\"X\": 8, \"Y\": 2, \"Colour\": \"Brown\"}, {\"X\": 8, \"Y\": 3, \"Colour\": \"Brown\"}, {\"X\": 8, \"Y\": 4, \"Colour\": \"Brown\"}, {\"X\": 8, \"Y\": 5, \"Colour\": \"Brown\"}, {\"X\": 8, \"Y\": 6, \"Colour\": \"White\"}, {\"X\": 8, \"Y\": 7, \"Colour\": \"White\"}, {\"X\": 8, \"Y\": 8, \"Colour\": \"Brown\"}, {\"X\": 8, \"Y\": 9, \"Colour\": \"Brown\"}, {\"X\": 8, \"Y\": 10, \"Colour\": \"Dark Brown\"}, {\"X\": 8, \"Y\": 11, \"Colour\": \"Blue\"}, {\"X\": 9, \"Y\": 1, \"Colour\": \"Brown\"}, {\"X\": 9, \"Y\": 2, \"Colour\": \"Brown\"}, {\"X\": 9, \"Y\": 3, \"Colour\": \"Brown\"}, {\"X\": 9, \"Y\": 4, \"Colour\": \"Dark Brown\"}, {\"X\": 9, \"Y\": 5, \"Colour\": \"Dark Brown\"}, {\"X\": 9, \"Y\": 6, \"Colour\": \"Dark Brown\"}, {\"X\": 9, \"Y\": 7, \"Colour\": \"Dark Brown\"}, {\"X\": 9, \"Y\": 8, \"Colour\": \"Dark Brown\"}, {\"X\": 9, \"Y\": 9, \"Colour\": \"Dark Brown\"}, {\"X\": 9, \"Y\": 10, \"Colour\": \"Light Blue\"}, {\"X\": 9, \"Y\": 11, \"Colour\": \"Blue\"}, {\"X\": 10, \"Y\": 1, \"Colour\": \"Dark Brown\"}, {\"X\": 10, \"Y\": 2, \"Colour\": \"Dark Brown\"}, {\"X\": 10, \"Y\": 3, \"Colour\": \"Dark Brown\"}, {\"X\": 10, \"Y\": 4, \"Colour\": \"Brown\"}, {\"X\": 10, \"Y\": 5, \"Colour\": \"Light Blue\"}, {\"X\": 10, \"Y\": 6, \"Colour\": \"Light Blue\"}, {\"X\": 10, \"Y\": 7, \"Colour\": \"Light Blue\"}, {\"X\": 10, \"Y\": 8, \"Colour\": \"Light Blue\"}, {\"X\": 10, \"Y\": 9, \"Colour\": \"Light Blue\"}, {\"X\": 10, \"Y\": 10, \"Colour\": \"Light Blue\"}, {\"X\": 10, \"Y\": 11, \"Colour\": \"Blue\"}, {\"X\": 11, \"Y\": 1, \"Colour\": \"Blue\"}, {\"X\": 11, \"Y\": 2, \"Colour\": \"Blue\"}, {\"X\": 11, \"Y\": 3, \"Colour\": \"Blue\"}, {\"X\": 11, \"Y\": 4, \"Colour\": \"Blue\"}, {\"X\": 11, \"Y\": 5, \"Colour\": \"Blue\"}, {\"X\": 11, \"Y\": 6, \"Colour\": \"Blue\"}, {\"X\": 11, \"Y\": 7, \"Colour\": \"Blue\"}, {\"X\": 11, \"Y\": 8, \"Colour\": \"Blue\"}, {\"X\": 11, \"Y\": 9, \"Colour\": \"Blue\"}, {\"X\": 11, \"Y\": 10, \"Colour\": \"Blue\"}, {\"X\": 11, \"Y\": 11, \"Colour\": \"Blue\"}]}}, {\"mode\": \"vega-lite\"});\n",
       "</script>"
      ],
      "text/plain": [
       "alt.Chart(...)"
      ]
     },
     "execution_count": 3,
     "metadata": {},
     "output_type": "execute_result"
    }
   ],
   "source": [
    "alt.Chart(owl).mark_rect().encode(\n",
    "    x='X:O',\n",
    "    y='Y:O',\n",
    "    color='Colour:N'\n",
    ")"
   ]
  },
  {
   "cell_type": "code",
   "execution_count": 4,
   "metadata": {},
   "outputs": [
    {
     "data": {
      "text/html": [
       "\n",
       "<div id=\"altair-viz-b5e09dc2741143d6acd53033b1283390\"></div>\n",
       "<script type=\"text/javascript\">\n",
       "  (function(spec, embedOpt){\n",
       "    const outputDiv = document.getElementById(\"altair-viz-b5e09dc2741143d6acd53033b1283390\");\n",
       "    const paths = {\n",
       "      \"vega\": \"https://cdn.jsdelivr.net/npm//vega@5?noext\",\n",
       "      \"vega-lib\": \"https://cdn.jsdelivr.net/npm//vega-lib?noext\",\n",
       "      \"vega-lite\": \"https://cdn.jsdelivr.net/npm//vega-lite@4.0.2?noext\",\n",
       "      \"vega-embed\": \"https://cdn.jsdelivr.net/npm//vega-embed@6?noext\",\n",
       "    };\n",
       "\n",
       "    function loadScript(lib) {\n",
       "      return new Promise(function(resolve, reject) {\n",
       "        var s = document.createElement('script');\n",
       "        s.src = paths[lib];\n",
       "        s.async = true;\n",
       "        s.onload = () => resolve(paths[lib]);\n",
       "        s.onerror = () => reject(`Error loading script: ${paths[lib]}`);\n",
       "        document.getElementsByTagName(\"head\")[0].appendChild(s);\n",
       "      });\n",
       "    }\n",
       "\n",
       "    function showError(err) {\n",
       "      outputDiv.innerHTML = `<div class=\"error\" style=\"color:red;\">${err}</div>`;\n",
       "      throw err;\n",
       "    }\n",
       "\n",
       "    function displayChart(vegaEmbed) {\n",
       "      vegaEmbed(outputDiv, spec, embedOpt)\n",
       "        .catch(err => showError(`Javascript Error: ${err.message}<br>This usually means there's a typo in your chart specification. See the javascript console for the full traceback.`));\n",
       "    }\n",
       "\n",
       "    if(typeof define === \"function\" && define.amd) {\n",
       "      requirejs.config({paths});\n",
       "      require([\"vega-embed\"], displayChart, err => showError(`Error loading script: ${err.message}`));\n",
       "    } else if (typeof vegaEmbed === \"function\") {\n",
       "      displayChart(vegaEmbed);\n",
       "    } else {\n",
       "      loadScript(\"vega\")\n",
       "        .then(() => loadScript(\"vega-lite\"))\n",
       "        .then(() => loadScript(\"vega-embed\"))\n",
       "        .catch(showError)\n",
       "        .then(() => displayChart(vegaEmbed));\n",
       "    }\n",
       "  })({\"config\": {\"view\": {\"continuousWidth\": 400, \"continuousHeight\": 300}}, \"data\": {\"name\": \"data-2a6700b88613219c0348f5ad71778108\"}, \"mark\": \"rect\", \"encoding\": {\"color\": {\"type\": \"nominal\", \"field\": \"Colour\", \"legend\": null, \"scale\": {\"domain\": [\"Black\", \"Dark Blue\", \"Brown\", \"Dark Brown\", \"Light Blue\", \"White\", \"Yellow\"], \"range\": [\"#000000\", \"#088DA5\", \"#753A10\", \"#48240A\", \"#21CDF2\", \"#FFFFFF\", \"#FFBA3F\"]}}, \"x\": {\"type\": \"ordinal\", \"field\": \"X\"}, \"y\": {\"type\": \"ordinal\", \"field\": \"Y\"}}, \"$schema\": \"https://vega.github.io/schema/vega-lite/v4.0.2.json\", \"datasets\": {\"data-2a6700b88613219c0348f5ad71778108\": [{\"X\": 1, \"Y\": 1, \"Colour\": \"Blue\"}, {\"X\": 1, \"Y\": 2, \"Colour\": \"Blue\"}, {\"X\": 1, \"Y\": 3, \"Colour\": \"Blue\"}, {\"X\": 1, \"Y\": 4, \"Colour\": \"Blue\"}, {\"X\": 1, \"Y\": 5, \"Colour\": \"Blue\"}, {\"X\": 1, \"Y\": 6, \"Colour\": \"Blue\"}, {\"X\": 1, \"Y\": 7, \"Colour\": \"Blue\"}, {\"X\": 1, \"Y\": 8, \"Colour\": \"Blue\"}, {\"X\": 1, \"Y\": 9, \"Colour\": \"Blue\"}, {\"X\": 1, \"Y\": 10, \"Colour\": \"Blue\"}, {\"X\": 1, \"Y\": 11, \"Colour\": \"Blue\"}, {\"X\": 2, \"Y\": 1, \"Colour\": \"Dark Brown\"}, {\"X\": 2, \"Y\": 2, \"Colour\": \"Dark Brown\"}, {\"X\": 2, \"Y\": 3, \"Colour\": \"Dark Brown\"}, {\"X\": 2, \"Y\": 4, \"Colour\": \"Brown\"}, {\"X\": 2, \"Y\": 5, \"Colour\": \"Light Blue\"}, {\"X\": 2, \"Y\": 6, \"Colour\": \"Light Blue\"}, {\"X\": 2, \"Y\": 7, \"Colour\": \"Light Blue\"}, {\"X\": 2, \"Y\": 8, \"Colour\": \"Light Blue\"}, {\"X\": 2, \"Y\": 9, \"Colour\": \"Light Blue\"}, {\"X\": 2, \"Y\": 10, \"Colour\": \"Light Blue\"}, {\"X\": 2, \"Y\": 11, \"Colour\": \"Blue\"}, {\"X\": 3, \"Y\": 1, \"Colour\": \"Brown\"}, {\"X\": 3, \"Y\": 2, \"Colour\": \"Brown\"}, {\"X\": 3, \"Y\": 3, \"Colour\": \"Brown\"}, {\"X\": 3, \"Y\": 4, \"Colour\": \"Dark Brown\"}, {\"X\": 3, \"Y\": 5, \"Colour\": \"Dark Brown\"}, {\"X\": 3, \"Y\": 6, \"Colour\": \"Dark Brown\"}, {\"X\": 3, \"Y\": 7, \"Colour\": \"Dark Brown\"}, {\"X\": 3, \"Y\": 8, \"Colour\": \"Dark Brown\"}, {\"X\": 3, \"Y\": 9, \"Colour\": \"Dark Brown\"}, {\"X\": 3, \"Y\": 10, \"Colour\": \"Light Blue\"}, {\"X\": 3, \"Y\": 11, \"Colour\": \"Blue\"}, {\"X\": 4, \"Y\": 1, \"Colour\": \"Brown\"}, {\"X\": 4, \"Y\": 2, \"Colour\": \"Brown\"}, {\"X\": 4, \"Y\": 3, \"Colour\": \"Brown\"}, {\"X\": 4, \"Y\": 4, \"Colour\": \"Brown\"}, {\"X\": 4, \"Y\": 5, \"Colour\": \"Brown\"}, {\"X\": 4, \"Y\": 6, \"Colour\": \"White\"}, {\"X\": 4, \"Y\": 7, \"Colour\": \"White\"}, {\"X\": 4, \"Y\": 8, \"Colour\": \"Brown\"}, {\"X\": 4, \"Y\": 9, \"Colour\": \"Brown\"}, {\"X\": 4, \"Y\": 10, \"Colour\": \"Dark Brown\"}, {\"X\": 4, \"Y\": 11, \"Colour\": \"Blue\"}, {\"X\": 5, \"Y\": 1, \"Colour\": \"Brown\"}, {\"X\": 5, \"Y\": 2, \"Colour\": \"Brown\"}, {\"X\": 5, \"Y\": 3, \"Colour\": \"Brown\"}, {\"X\": 5, \"Y\": 4, \"Colour\": \"Brown\"}, {\"X\": 5, \"Y\": 5, \"Colour\": \"Brown\"}, {\"X\": 5, \"Y\": 6, \"Colour\": \"Black\"}, {\"X\": 5, \"Y\": 7, \"Colour\": \"White\"}, {\"X\": 5, \"Y\": 8, \"Colour\": \"Brown\"}, {\"X\": 5, \"Y\": 9, \"Colour\": \"Dark Brown\"}, {\"X\": 5, \"Y\": 10, \"Colour\": \"Light Blue\"}, {\"X\": 5, \"Y\": 11, \"Colour\": \"Blue\"}, {\"X\": 6, \"Y\": 1, \"Colour\": \"Brown\"}, {\"X\": 6, \"Y\": 2, \"Colour\": \"Brown\"}, {\"X\": 6, \"Y\": 3, \"Colour\": \"Brown\"}, {\"X\": 6, \"Y\": 4, \"Colour\": \"Yellow\"}, {\"X\": 6, \"Y\": 5, \"Colour\": \"Yellow\"}, {\"X\": 6, \"Y\": 6, \"Colour\": \"Brown\"}, {\"X\": 6, \"Y\": 7, \"Colour\": \"Brown\"}, {\"X\": 6, \"Y\": 8, \"Colour\": \"Dark Brown\"}, {\"X\": 6, \"Y\": 9, \"Colour\": \"Brown\"}, {\"X\": 6, \"Y\": 10, \"Colour\": \"Light Blue\"}, {\"X\": 6, \"Y\": 11, \"Colour\": \"Blue\"}, {\"X\": 7, \"Y\": 1, \"Colour\": \"Brown\"}, {\"X\": 7, \"Y\": 2, \"Colour\": \"Brown\"}, {\"X\": 7, \"Y\": 3, \"Colour\": \"Brown\"}, {\"X\": 7, \"Y\": 4, \"Colour\": \"Brown\"}, {\"X\": 7, \"Y\": 5, \"Colour\": \"Brown\"}, {\"X\": 7, \"Y\": 6, \"Colour\": \"Black\"}, {\"X\": 7, \"Y\": 7, \"Colour\": \"White\"}, {\"X\": 7, \"Y\": 8, \"Colour\": \"Brown\"}, {\"X\": 7, \"Y\": 9, \"Colour\": \"Dark Brown\"}, {\"X\": 7, \"Y\": 10, \"Colour\": \"Light Blue\"}, {\"X\": 7, \"Y\": 11, \"Colour\": \"Blue\"}, {\"X\": 8, \"Y\": 1, \"Colour\": \"Brown\"}, {\"X\": 8, \"Y\": 2, \"Colour\": \"Brown\"}, {\"X\": 8, \"Y\": 3, \"Colour\": \"Brown\"}, {\"X\": 8, \"Y\": 4, \"Colour\": \"Brown\"}, {\"X\": 8, \"Y\": 5, \"Colour\": \"Brown\"}, {\"X\": 8, \"Y\": 6, \"Colour\": \"White\"}, {\"X\": 8, \"Y\": 7, \"Colour\": \"White\"}, {\"X\": 8, \"Y\": 8, \"Colour\": \"Brown\"}, {\"X\": 8, \"Y\": 9, \"Colour\": \"Brown\"}, {\"X\": 8, \"Y\": 10, \"Colour\": \"Dark Brown\"}, {\"X\": 8, \"Y\": 11, \"Colour\": \"Blue\"}, {\"X\": 9, \"Y\": 1, \"Colour\": \"Brown\"}, {\"X\": 9, \"Y\": 2, \"Colour\": \"Brown\"}, {\"X\": 9, \"Y\": 3, \"Colour\": \"Brown\"}, {\"X\": 9, \"Y\": 4, \"Colour\": \"Dark Brown\"}, {\"X\": 9, \"Y\": 5, \"Colour\": \"Dark Brown\"}, {\"X\": 9, \"Y\": 6, \"Colour\": \"Dark Brown\"}, {\"X\": 9, \"Y\": 7, \"Colour\": \"Dark Brown\"}, {\"X\": 9, \"Y\": 8, \"Colour\": \"Dark Brown\"}, {\"X\": 9, \"Y\": 9, \"Colour\": \"Dark Brown\"}, {\"X\": 9, \"Y\": 10, \"Colour\": \"Light Blue\"}, {\"X\": 9, \"Y\": 11, \"Colour\": \"Blue\"}, {\"X\": 10, \"Y\": 1, \"Colour\": \"Dark Brown\"}, {\"X\": 10, \"Y\": 2, \"Colour\": \"Dark Brown\"}, {\"X\": 10, \"Y\": 3, \"Colour\": \"Dark Brown\"}, {\"X\": 10, \"Y\": 4, \"Colour\": \"Brown\"}, {\"X\": 10, \"Y\": 5, \"Colour\": \"Light Blue\"}, {\"X\": 10, \"Y\": 6, \"Colour\": \"Light Blue\"}, {\"X\": 10, \"Y\": 7, \"Colour\": \"Light Blue\"}, {\"X\": 10, \"Y\": 8, \"Colour\": \"Light Blue\"}, {\"X\": 10, \"Y\": 9, \"Colour\": \"Light Blue\"}, {\"X\": 10, \"Y\": 10, \"Colour\": \"Light Blue\"}, {\"X\": 10, \"Y\": 11, \"Colour\": \"Blue\"}, {\"X\": 11, \"Y\": 1, \"Colour\": \"Blue\"}, {\"X\": 11, \"Y\": 2, \"Colour\": \"Blue\"}, {\"X\": 11, \"Y\": 3, \"Colour\": \"Blue\"}, {\"X\": 11, \"Y\": 4, \"Colour\": \"Blue\"}, {\"X\": 11, \"Y\": 5, \"Colour\": \"Blue\"}, {\"X\": 11, \"Y\": 6, \"Colour\": \"Blue\"}, {\"X\": 11, \"Y\": 7, \"Colour\": \"Blue\"}, {\"X\": 11, \"Y\": 8, \"Colour\": \"Blue\"}, {\"X\": 11, \"Y\": 9, \"Colour\": \"Blue\"}, {\"X\": 11, \"Y\": 10, \"Colour\": \"Blue\"}, {\"X\": 11, \"Y\": 11, \"Colour\": \"Blue\"}]}}, {\"mode\": \"vega-lite\"});\n",
       "</script>"
      ],
      "text/plain": [
       "alt.Chart(...)"
      ]
     },
     "execution_count": 4,
     "metadata": {},
     "output_type": "execute_result"
    }
   ],
   "source": [
    "alt.Chart(owl).mark_rect().encode(\n",
    "    x='X:O',\n",
    "    y='Y:O',\n",
    "    color=alt.Color('Colour', \n",
    "        scale=alt.Scale(\n",
    "        domain=['Black', 'Dark Blue', 'Brown', 'Dark Brown', 'Light Blue', 'White', 'Yellow'], \n",
    "        range=[\"#000000\", \"#088DA5\", \"#753A10\", \"#48240A\", \"#21CDF2\", \"#FFFFFF\", \"#FFBA3F\"]\n",
    "    ),\n",
    "    legend=None)\n",
    ")"
   ]
  },
  {
   "cell_type": "code",
   "execution_count": 5,
   "metadata": {},
   "outputs": [
    {
     "data": {
      "text/html": [
       "\n",
       "<div id=\"altair-viz-b66a777fe07847888720dc3b16e2183e\"></div>\n",
       "<script type=\"text/javascript\">\n",
       "  (function(spec, embedOpt){\n",
       "    const outputDiv = document.getElementById(\"altair-viz-b66a777fe07847888720dc3b16e2183e\");\n",
       "    const paths = {\n",
       "      \"vega\": \"https://cdn.jsdelivr.net/npm//vega@5?noext\",\n",
       "      \"vega-lib\": \"https://cdn.jsdelivr.net/npm//vega-lib?noext\",\n",
       "      \"vega-lite\": \"https://cdn.jsdelivr.net/npm//vega-lite@4.0.2?noext\",\n",
       "      \"vega-embed\": \"https://cdn.jsdelivr.net/npm//vega-embed@6?noext\",\n",
       "    };\n",
       "\n",
       "    function loadScript(lib) {\n",
       "      return new Promise(function(resolve, reject) {\n",
       "        var s = document.createElement('script');\n",
       "        s.src = paths[lib];\n",
       "        s.async = true;\n",
       "        s.onload = () => resolve(paths[lib]);\n",
       "        s.onerror = () => reject(`Error loading script: ${paths[lib]}`);\n",
       "        document.getElementsByTagName(\"head\")[0].appendChild(s);\n",
       "      });\n",
       "    }\n",
       "\n",
       "    function showError(err) {\n",
       "      outputDiv.innerHTML = `<div class=\"error\" style=\"color:red;\">${err}</div>`;\n",
       "      throw err;\n",
       "    }\n",
       "\n",
       "    function displayChart(vegaEmbed) {\n",
       "      vegaEmbed(outputDiv, spec, embedOpt)\n",
       "        .catch(err => showError(`Javascript Error: ${err.message}<br>This usually means there's a typo in your chart specification. See the javascript console for the full traceback.`));\n",
       "    }\n",
       "\n",
       "    if(typeof define === \"function\" && define.amd) {\n",
       "      requirejs.config({paths});\n",
       "      require([\"vega-embed\"], displayChart, err => showError(`Error loading script: ${err.message}`));\n",
       "    } else if (typeof vegaEmbed === \"function\") {\n",
       "      displayChart(vegaEmbed);\n",
       "    } else {\n",
       "      loadScript(\"vega\")\n",
       "        .then(() => loadScript(\"vega-lite\"))\n",
       "        .then(() => loadScript(\"vega-embed\"))\n",
       "        .catch(showError)\n",
       "        .then(() => displayChart(vegaEmbed));\n",
       "    }\n",
       "  })({\"config\": {\"view\": {\"continuousWidth\": 400, \"continuousHeight\": 300}}, \"data\": {\"name\": \"data-2a6700b88613219c0348f5ad71778108\"}, \"mark\": \"rect\", \"encoding\": {\"color\": {\"type\": \"nominal\", \"field\": \"Colour\", \"legend\": null, \"scale\": {\"domain\": [\"Black\", \"Dark Blue\", \"Brown\", \"Dark Brown\", \"Light Blue\", \"White\", \"Yellow\"], \"range\": [\"#000000\", \"#088DA5\", \"#753A10\", \"#48240A\", \"#21CDF2\", \"#FFFFFF\", \"#FFBA3F\"]}}, \"x\": {\"type\": \"ordinal\", \"field\": \"X\"}, \"y\": {\"type\": \"ordinal\", \"field\": \"Y\", \"sort\": \"descending\"}}, \"$schema\": \"https://vega.github.io/schema/vega-lite/v4.0.2.json\", \"datasets\": {\"data-2a6700b88613219c0348f5ad71778108\": [{\"X\": 1, \"Y\": 1, \"Colour\": \"Blue\"}, {\"X\": 1, \"Y\": 2, \"Colour\": \"Blue\"}, {\"X\": 1, \"Y\": 3, \"Colour\": \"Blue\"}, {\"X\": 1, \"Y\": 4, \"Colour\": \"Blue\"}, {\"X\": 1, \"Y\": 5, \"Colour\": \"Blue\"}, {\"X\": 1, \"Y\": 6, \"Colour\": \"Blue\"}, {\"X\": 1, \"Y\": 7, \"Colour\": \"Blue\"}, {\"X\": 1, \"Y\": 8, \"Colour\": \"Blue\"}, {\"X\": 1, \"Y\": 9, \"Colour\": \"Blue\"}, {\"X\": 1, \"Y\": 10, \"Colour\": \"Blue\"}, {\"X\": 1, \"Y\": 11, \"Colour\": \"Blue\"}, {\"X\": 2, \"Y\": 1, \"Colour\": \"Dark Brown\"}, {\"X\": 2, \"Y\": 2, \"Colour\": \"Dark Brown\"}, {\"X\": 2, \"Y\": 3, \"Colour\": \"Dark Brown\"}, {\"X\": 2, \"Y\": 4, \"Colour\": \"Brown\"}, {\"X\": 2, \"Y\": 5, \"Colour\": \"Light Blue\"}, {\"X\": 2, \"Y\": 6, \"Colour\": \"Light Blue\"}, {\"X\": 2, \"Y\": 7, \"Colour\": \"Light Blue\"}, {\"X\": 2, \"Y\": 8, \"Colour\": \"Light Blue\"}, {\"X\": 2, \"Y\": 9, \"Colour\": \"Light Blue\"}, {\"X\": 2, \"Y\": 10, \"Colour\": \"Light Blue\"}, {\"X\": 2, \"Y\": 11, \"Colour\": \"Blue\"}, {\"X\": 3, \"Y\": 1, \"Colour\": \"Brown\"}, {\"X\": 3, \"Y\": 2, \"Colour\": \"Brown\"}, {\"X\": 3, \"Y\": 3, \"Colour\": \"Brown\"}, {\"X\": 3, \"Y\": 4, \"Colour\": \"Dark Brown\"}, {\"X\": 3, \"Y\": 5, \"Colour\": \"Dark Brown\"}, {\"X\": 3, \"Y\": 6, \"Colour\": \"Dark Brown\"}, {\"X\": 3, \"Y\": 7, \"Colour\": \"Dark Brown\"}, {\"X\": 3, \"Y\": 8, \"Colour\": \"Dark Brown\"}, {\"X\": 3, \"Y\": 9, \"Colour\": \"Dark Brown\"}, {\"X\": 3, \"Y\": 10, \"Colour\": \"Light Blue\"}, {\"X\": 3, \"Y\": 11, \"Colour\": \"Blue\"}, {\"X\": 4, \"Y\": 1, \"Colour\": \"Brown\"}, {\"X\": 4, \"Y\": 2, \"Colour\": \"Brown\"}, {\"X\": 4, \"Y\": 3, \"Colour\": \"Brown\"}, {\"X\": 4, \"Y\": 4, \"Colour\": \"Brown\"}, {\"X\": 4, \"Y\": 5, \"Colour\": \"Brown\"}, {\"X\": 4, \"Y\": 6, \"Colour\": \"White\"}, {\"X\": 4, \"Y\": 7, \"Colour\": \"White\"}, {\"X\": 4, \"Y\": 8, \"Colour\": \"Brown\"}, {\"X\": 4, \"Y\": 9, \"Colour\": \"Brown\"}, {\"X\": 4, \"Y\": 10, \"Colour\": \"Dark Brown\"}, {\"X\": 4, \"Y\": 11, \"Colour\": \"Blue\"}, {\"X\": 5, \"Y\": 1, \"Colour\": \"Brown\"}, {\"X\": 5, \"Y\": 2, \"Colour\": \"Brown\"}, {\"X\": 5, \"Y\": 3, \"Colour\": \"Brown\"}, {\"X\": 5, \"Y\": 4, \"Colour\": \"Brown\"}, {\"X\": 5, \"Y\": 5, \"Colour\": \"Brown\"}, {\"X\": 5, \"Y\": 6, \"Colour\": \"Black\"}, {\"X\": 5, \"Y\": 7, \"Colour\": \"White\"}, {\"X\": 5, \"Y\": 8, \"Colour\": \"Brown\"}, {\"X\": 5, \"Y\": 9, \"Colour\": \"Dark Brown\"}, {\"X\": 5, \"Y\": 10, \"Colour\": \"Light Blue\"}, {\"X\": 5, \"Y\": 11, \"Colour\": \"Blue\"}, {\"X\": 6, \"Y\": 1, \"Colour\": \"Brown\"}, {\"X\": 6, \"Y\": 2, \"Colour\": \"Brown\"}, {\"X\": 6, \"Y\": 3, \"Colour\": \"Brown\"}, {\"X\": 6, \"Y\": 4, \"Colour\": \"Yellow\"}, {\"X\": 6, \"Y\": 5, \"Colour\": \"Yellow\"}, {\"X\": 6, \"Y\": 6, \"Colour\": \"Brown\"}, {\"X\": 6, \"Y\": 7, \"Colour\": \"Brown\"}, {\"X\": 6, \"Y\": 8, \"Colour\": \"Dark Brown\"}, {\"X\": 6, \"Y\": 9, \"Colour\": \"Brown\"}, {\"X\": 6, \"Y\": 10, \"Colour\": \"Light Blue\"}, {\"X\": 6, \"Y\": 11, \"Colour\": \"Blue\"}, {\"X\": 7, \"Y\": 1, \"Colour\": \"Brown\"}, {\"X\": 7, \"Y\": 2, \"Colour\": \"Brown\"}, {\"X\": 7, \"Y\": 3, \"Colour\": \"Brown\"}, {\"X\": 7, \"Y\": 4, \"Colour\": \"Brown\"}, {\"X\": 7, \"Y\": 5, \"Colour\": \"Brown\"}, {\"X\": 7, \"Y\": 6, \"Colour\": \"Black\"}, {\"X\": 7, \"Y\": 7, \"Colour\": \"White\"}, {\"X\": 7, \"Y\": 8, \"Colour\": \"Brown\"}, {\"X\": 7, \"Y\": 9, \"Colour\": \"Dark Brown\"}, {\"X\": 7, \"Y\": 10, \"Colour\": \"Light Blue\"}, {\"X\": 7, \"Y\": 11, \"Colour\": \"Blue\"}, {\"X\": 8, \"Y\": 1, \"Colour\": \"Brown\"}, {\"X\": 8, \"Y\": 2, \"Colour\": \"Brown\"}, {\"X\": 8, \"Y\": 3, \"Colour\": \"Brown\"}, {\"X\": 8, \"Y\": 4, \"Colour\": \"Brown\"}, {\"X\": 8, \"Y\": 5, \"Colour\": \"Brown\"}, {\"X\": 8, \"Y\": 6, \"Colour\": \"White\"}, {\"X\": 8, \"Y\": 7, \"Colour\": \"White\"}, {\"X\": 8, \"Y\": 8, \"Colour\": \"Brown\"}, {\"X\": 8, \"Y\": 9, \"Colour\": \"Brown\"}, {\"X\": 8, \"Y\": 10, \"Colour\": \"Dark Brown\"}, {\"X\": 8, \"Y\": 11, \"Colour\": \"Blue\"}, {\"X\": 9, \"Y\": 1, \"Colour\": \"Brown\"}, {\"X\": 9, \"Y\": 2, \"Colour\": \"Brown\"}, {\"X\": 9, \"Y\": 3, \"Colour\": \"Brown\"}, {\"X\": 9, \"Y\": 4, \"Colour\": \"Dark Brown\"}, {\"X\": 9, \"Y\": 5, \"Colour\": \"Dark Brown\"}, {\"X\": 9, \"Y\": 6, \"Colour\": \"Dark Brown\"}, {\"X\": 9, \"Y\": 7, \"Colour\": \"Dark Brown\"}, {\"X\": 9, \"Y\": 8, \"Colour\": \"Dark Brown\"}, {\"X\": 9, \"Y\": 9, \"Colour\": \"Dark Brown\"}, {\"X\": 9, \"Y\": 10, \"Colour\": \"Light Blue\"}, {\"X\": 9, \"Y\": 11, \"Colour\": \"Blue\"}, {\"X\": 10, \"Y\": 1, \"Colour\": \"Dark Brown\"}, {\"X\": 10, \"Y\": 2, \"Colour\": \"Dark Brown\"}, {\"X\": 10, \"Y\": 3, \"Colour\": \"Dark Brown\"}, {\"X\": 10, \"Y\": 4, \"Colour\": \"Brown\"}, {\"X\": 10, \"Y\": 5, \"Colour\": \"Light Blue\"}, {\"X\": 10, \"Y\": 6, \"Colour\": \"Light Blue\"}, {\"X\": 10, \"Y\": 7, \"Colour\": \"Light Blue\"}, {\"X\": 10, \"Y\": 8, \"Colour\": \"Light Blue\"}, {\"X\": 10, \"Y\": 9, \"Colour\": \"Light Blue\"}, {\"X\": 10, \"Y\": 10, \"Colour\": \"Light Blue\"}, {\"X\": 10, \"Y\": 11, \"Colour\": \"Blue\"}, {\"X\": 11, \"Y\": 1, \"Colour\": \"Blue\"}, {\"X\": 11, \"Y\": 2, \"Colour\": \"Blue\"}, {\"X\": 11, \"Y\": 3, \"Colour\": \"Blue\"}, {\"X\": 11, \"Y\": 4, \"Colour\": \"Blue\"}, {\"X\": 11, \"Y\": 5, \"Colour\": \"Blue\"}, {\"X\": 11, \"Y\": 6, \"Colour\": \"Blue\"}, {\"X\": 11, \"Y\": 7, \"Colour\": \"Blue\"}, {\"X\": 11, \"Y\": 8, \"Colour\": \"Blue\"}, {\"X\": 11, \"Y\": 9, \"Colour\": \"Blue\"}, {\"X\": 11, \"Y\": 10, \"Colour\": \"Blue\"}, {\"X\": 11, \"Y\": 11, \"Colour\": \"Blue\"}]}}, {\"mode\": \"vega-lite\"});\n",
       "</script>"
      ],
      "text/plain": [
       "alt.Chart(...)"
      ]
     },
     "execution_count": 5,
     "metadata": {},
     "output_type": "execute_result"
    }
   ],
   "source": [
    "alt.Chart(owl).mark_rect().encode(\n",
    "    x='X:O',\n",
    "    # whoops!\n",
    "    y=alt.Y('Y:O', sort='descending'),\n",
    "    color=alt.Color('Colour', \n",
    "        scale=alt.Scale(\n",
    "        domain=['Black', 'Dark Blue', 'Brown', 'Dark Brown', 'Light Blue', 'White', 'Yellow'], \n",
    "        range=[\"#000000\", \"#088DA5\", \"#753A10\", \"#48240A\", \"#21CDF2\", \"#FFFFFF\", \"#FFBA3F\"]\n",
    "    ),\n",
    "    legend=None)\n",
    ")"
   ]
  },
  {
   "cell_type": "markdown",
   "metadata": {},
   "source": [
    "Clean it all up..."
   ]
  },
  {
   "cell_type": "code",
   "execution_count": 6,
   "metadata": {},
   "outputs": [
    {
     "data": {
      "text/html": [
       "\n",
       "<div id=\"altair-viz-83679b809cc54d02ac17ce47a3c67df2\"></div>\n",
       "<script type=\"text/javascript\">\n",
       "  (function(spec, embedOpt){\n",
       "    const outputDiv = document.getElementById(\"altair-viz-83679b809cc54d02ac17ce47a3c67df2\");\n",
       "    const paths = {\n",
       "      \"vega\": \"https://cdn.jsdelivr.net/npm//vega@5?noext\",\n",
       "      \"vega-lib\": \"https://cdn.jsdelivr.net/npm//vega-lib?noext\",\n",
       "      \"vega-lite\": \"https://cdn.jsdelivr.net/npm//vega-lite@4.0.2?noext\",\n",
       "      \"vega-embed\": \"https://cdn.jsdelivr.net/npm//vega-embed@6?noext\",\n",
       "    };\n",
       "\n",
       "    function loadScript(lib) {\n",
       "      return new Promise(function(resolve, reject) {\n",
       "        var s = document.createElement('script');\n",
       "        s.src = paths[lib];\n",
       "        s.async = true;\n",
       "        s.onload = () => resolve(paths[lib]);\n",
       "        s.onerror = () => reject(`Error loading script: ${paths[lib]}`);\n",
       "        document.getElementsByTagName(\"head\")[0].appendChild(s);\n",
       "      });\n",
       "    }\n",
       "\n",
       "    function showError(err) {\n",
       "      outputDiv.innerHTML = `<div class=\"error\" style=\"color:red;\">${err}</div>`;\n",
       "      throw err;\n",
       "    }\n",
       "\n",
       "    function displayChart(vegaEmbed) {\n",
       "      vegaEmbed(outputDiv, spec, embedOpt)\n",
       "        .catch(err => showError(`Javascript Error: ${err.message}<br>This usually means there's a typo in your chart specification. See the javascript console for the full traceback.`));\n",
       "    }\n",
       "\n",
       "    if(typeof define === \"function\" && define.amd) {\n",
       "      requirejs.config({paths});\n",
       "      require([\"vega-embed\"], displayChart, err => showError(`Error loading script: ${err.message}`));\n",
       "    } else if (typeof vegaEmbed === \"function\") {\n",
       "      displayChart(vegaEmbed);\n",
       "    } else {\n",
       "      loadScript(\"vega\")\n",
       "        .then(() => loadScript(\"vega-lite\"))\n",
       "        .then(() => loadScript(\"vega-embed\"))\n",
       "        .catch(showError)\n",
       "        .then(() => displayChart(vegaEmbed));\n",
       "    }\n",
       "  })({\"config\": {\"view\": {\"continuousWidth\": 400, \"continuousHeight\": 300, \"strokeWidth\": 0}, \"axis\": {\"grid\": false}}, \"data\": {\"name\": \"data-2a6700b88613219c0348f5ad71778108\"}, \"mark\": \"rect\", \"encoding\": {\"color\": {\"type\": \"nominal\", \"field\": \"Colour\", \"legend\": null, \"scale\": {\"domain\": [\"Black\", \"Dark Blue\", \"Brown\", \"Dark Brown\", \"Light Blue\", \"White\", \"Yellow\"], \"range\": [\"#000000\", \"#088DA5\", \"#753A10\", \"#48240A\", \"#21CDF2\", \"#FFFFFF\", \"#FFBA3F\"]}}, \"x\": {\"type\": \"ordinal\", \"axis\": null, \"field\": \"X\"}, \"y\": {\"type\": \"ordinal\", \"axis\": null, \"field\": \"Y\", \"sort\": \"descending\"}}, \"$schema\": \"https://vega.github.io/schema/vega-lite/v4.0.2.json\", \"datasets\": {\"data-2a6700b88613219c0348f5ad71778108\": [{\"X\": 1, \"Y\": 1, \"Colour\": \"Blue\"}, {\"X\": 1, \"Y\": 2, \"Colour\": \"Blue\"}, {\"X\": 1, \"Y\": 3, \"Colour\": \"Blue\"}, {\"X\": 1, \"Y\": 4, \"Colour\": \"Blue\"}, {\"X\": 1, \"Y\": 5, \"Colour\": \"Blue\"}, {\"X\": 1, \"Y\": 6, \"Colour\": \"Blue\"}, {\"X\": 1, \"Y\": 7, \"Colour\": \"Blue\"}, {\"X\": 1, \"Y\": 8, \"Colour\": \"Blue\"}, {\"X\": 1, \"Y\": 9, \"Colour\": \"Blue\"}, {\"X\": 1, \"Y\": 10, \"Colour\": \"Blue\"}, {\"X\": 1, \"Y\": 11, \"Colour\": \"Blue\"}, {\"X\": 2, \"Y\": 1, \"Colour\": \"Dark Brown\"}, {\"X\": 2, \"Y\": 2, \"Colour\": \"Dark Brown\"}, {\"X\": 2, \"Y\": 3, \"Colour\": \"Dark Brown\"}, {\"X\": 2, \"Y\": 4, \"Colour\": \"Brown\"}, {\"X\": 2, \"Y\": 5, \"Colour\": \"Light Blue\"}, {\"X\": 2, \"Y\": 6, \"Colour\": \"Light Blue\"}, {\"X\": 2, \"Y\": 7, \"Colour\": \"Light Blue\"}, {\"X\": 2, \"Y\": 8, \"Colour\": \"Light Blue\"}, {\"X\": 2, \"Y\": 9, \"Colour\": \"Light Blue\"}, {\"X\": 2, \"Y\": 10, \"Colour\": \"Light Blue\"}, {\"X\": 2, \"Y\": 11, \"Colour\": \"Blue\"}, {\"X\": 3, \"Y\": 1, \"Colour\": \"Brown\"}, {\"X\": 3, \"Y\": 2, \"Colour\": \"Brown\"}, {\"X\": 3, \"Y\": 3, \"Colour\": \"Brown\"}, {\"X\": 3, \"Y\": 4, \"Colour\": \"Dark Brown\"}, {\"X\": 3, \"Y\": 5, \"Colour\": \"Dark Brown\"}, {\"X\": 3, \"Y\": 6, \"Colour\": \"Dark Brown\"}, {\"X\": 3, \"Y\": 7, \"Colour\": \"Dark Brown\"}, {\"X\": 3, \"Y\": 8, \"Colour\": \"Dark Brown\"}, {\"X\": 3, \"Y\": 9, \"Colour\": \"Dark Brown\"}, {\"X\": 3, \"Y\": 10, \"Colour\": \"Light Blue\"}, {\"X\": 3, \"Y\": 11, \"Colour\": \"Blue\"}, {\"X\": 4, \"Y\": 1, \"Colour\": \"Brown\"}, {\"X\": 4, \"Y\": 2, \"Colour\": \"Brown\"}, {\"X\": 4, \"Y\": 3, \"Colour\": \"Brown\"}, {\"X\": 4, \"Y\": 4, \"Colour\": \"Brown\"}, {\"X\": 4, \"Y\": 5, \"Colour\": \"Brown\"}, {\"X\": 4, \"Y\": 6, \"Colour\": \"White\"}, {\"X\": 4, \"Y\": 7, \"Colour\": \"White\"}, {\"X\": 4, \"Y\": 8, \"Colour\": \"Brown\"}, {\"X\": 4, \"Y\": 9, \"Colour\": \"Brown\"}, {\"X\": 4, \"Y\": 10, \"Colour\": \"Dark Brown\"}, {\"X\": 4, \"Y\": 11, \"Colour\": \"Blue\"}, {\"X\": 5, \"Y\": 1, \"Colour\": \"Brown\"}, {\"X\": 5, \"Y\": 2, \"Colour\": \"Brown\"}, {\"X\": 5, \"Y\": 3, \"Colour\": \"Brown\"}, {\"X\": 5, \"Y\": 4, \"Colour\": \"Brown\"}, {\"X\": 5, \"Y\": 5, \"Colour\": \"Brown\"}, {\"X\": 5, \"Y\": 6, \"Colour\": \"Black\"}, {\"X\": 5, \"Y\": 7, \"Colour\": \"White\"}, {\"X\": 5, \"Y\": 8, \"Colour\": \"Brown\"}, {\"X\": 5, \"Y\": 9, \"Colour\": \"Dark Brown\"}, {\"X\": 5, \"Y\": 10, \"Colour\": \"Light Blue\"}, {\"X\": 5, \"Y\": 11, \"Colour\": \"Blue\"}, {\"X\": 6, \"Y\": 1, \"Colour\": \"Brown\"}, {\"X\": 6, \"Y\": 2, \"Colour\": \"Brown\"}, {\"X\": 6, \"Y\": 3, \"Colour\": \"Brown\"}, {\"X\": 6, \"Y\": 4, \"Colour\": \"Yellow\"}, {\"X\": 6, \"Y\": 5, \"Colour\": \"Yellow\"}, {\"X\": 6, \"Y\": 6, \"Colour\": \"Brown\"}, {\"X\": 6, \"Y\": 7, \"Colour\": \"Brown\"}, {\"X\": 6, \"Y\": 8, \"Colour\": \"Dark Brown\"}, {\"X\": 6, \"Y\": 9, \"Colour\": \"Brown\"}, {\"X\": 6, \"Y\": 10, \"Colour\": \"Light Blue\"}, {\"X\": 6, \"Y\": 11, \"Colour\": \"Blue\"}, {\"X\": 7, \"Y\": 1, \"Colour\": \"Brown\"}, {\"X\": 7, \"Y\": 2, \"Colour\": \"Brown\"}, {\"X\": 7, \"Y\": 3, \"Colour\": \"Brown\"}, {\"X\": 7, \"Y\": 4, \"Colour\": \"Brown\"}, {\"X\": 7, \"Y\": 5, \"Colour\": \"Brown\"}, {\"X\": 7, \"Y\": 6, \"Colour\": \"Black\"}, {\"X\": 7, \"Y\": 7, \"Colour\": \"White\"}, {\"X\": 7, \"Y\": 8, \"Colour\": \"Brown\"}, {\"X\": 7, \"Y\": 9, \"Colour\": \"Dark Brown\"}, {\"X\": 7, \"Y\": 10, \"Colour\": \"Light Blue\"}, {\"X\": 7, \"Y\": 11, \"Colour\": \"Blue\"}, {\"X\": 8, \"Y\": 1, \"Colour\": \"Brown\"}, {\"X\": 8, \"Y\": 2, \"Colour\": \"Brown\"}, {\"X\": 8, \"Y\": 3, \"Colour\": \"Brown\"}, {\"X\": 8, \"Y\": 4, \"Colour\": \"Brown\"}, {\"X\": 8, \"Y\": 5, \"Colour\": \"Brown\"}, {\"X\": 8, \"Y\": 6, \"Colour\": \"White\"}, {\"X\": 8, \"Y\": 7, \"Colour\": \"White\"}, {\"X\": 8, \"Y\": 8, \"Colour\": \"Brown\"}, {\"X\": 8, \"Y\": 9, \"Colour\": \"Brown\"}, {\"X\": 8, \"Y\": 10, \"Colour\": \"Dark Brown\"}, {\"X\": 8, \"Y\": 11, \"Colour\": \"Blue\"}, {\"X\": 9, \"Y\": 1, \"Colour\": \"Brown\"}, {\"X\": 9, \"Y\": 2, \"Colour\": \"Brown\"}, {\"X\": 9, \"Y\": 3, \"Colour\": \"Brown\"}, {\"X\": 9, \"Y\": 4, \"Colour\": \"Dark Brown\"}, {\"X\": 9, \"Y\": 5, \"Colour\": \"Dark Brown\"}, {\"X\": 9, \"Y\": 6, \"Colour\": \"Dark Brown\"}, {\"X\": 9, \"Y\": 7, \"Colour\": \"Dark Brown\"}, {\"X\": 9, \"Y\": 8, \"Colour\": \"Dark Brown\"}, {\"X\": 9, \"Y\": 9, \"Colour\": \"Dark Brown\"}, {\"X\": 9, \"Y\": 10, \"Colour\": \"Light Blue\"}, {\"X\": 9, \"Y\": 11, \"Colour\": \"Blue\"}, {\"X\": 10, \"Y\": 1, \"Colour\": \"Dark Brown\"}, {\"X\": 10, \"Y\": 2, \"Colour\": \"Dark Brown\"}, {\"X\": 10, \"Y\": 3, \"Colour\": \"Dark Brown\"}, {\"X\": 10, \"Y\": 4, \"Colour\": \"Brown\"}, {\"X\": 10, \"Y\": 5, \"Colour\": \"Light Blue\"}, {\"X\": 10, \"Y\": 6, \"Colour\": \"Light Blue\"}, {\"X\": 10, \"Y\": 7, \"Colour\": \"Light Blue\"}, {\"X\": 10, \"Y\": 8, \"Colour\": \"Light Blue\"}, {\"X\": 10, \"Y\": 9, \"Colour\": \"Light Blue\"}, {\"X\": 10, \"Y\": 10, \"Colour\": \"Light Blue\"}, {\"X\": 10, \"Y\": 11, \"Colour\": \"Blue\"}, {\"X\": 11, \"Y\": 1, \"Colour\": \"Blue\"}, {\"X\": 11, \"Y\": 2, \"Colour\": \"Blue\"}, {\"X\": 11, \"Y\": 3, \"Colour\": \"Blue\"}, {\"X\": 11, \"Y\": 4, \"Colour\": \"Blue\"}, {\"X\": 11, \"Y\": 5, \"Colour\": \"Blue\"}, {\"X\": 11, \"Y\": 6, \"Colour\": \"Blue\"}, {\"X\": 11, \"Y\": 7, \"Colour\": \"Blue\"}, {\"X\": 11, \"Y\": 8, \"Colour\": \"Blue\"}, {\"X\": 11, \"Y\": 9, \"Colour\": \"Blue\"}, {\"X\": 11, \"Y\": 10, \"Colour\": \"Blue\"}, {\"X\": 11, \"Y\": 11, \"Colour\": \"Blue\"}]}}, {\"mode\": \"vega-lite\"});\n",
       "</script>"
      ],
      "text/plain": [
       "alt.Chart(...)"
      ]
     },
     "execution_count": 6,
     "metadata": {},
     "output_type": "execute_result"
    }
   ],
   "source": [
    "owl_chart = (\n",
    "    alt.Chart(owl)\n",
    "    .mark_rect()\n",
    "    .encode(\n",
    "        x=alt.X('X:O', axis=None),\n",
    "        y=alt.Y('Y:O', sort='descending', axis=None),\n",
    "        color=alt.Color('Colour', \n",
    "            scale=alt.Scale(\n",
    "                domain=['Black', 'Dark Blue', 'Brown', 'Dark Brown', 'Light Blue', 'White', 'Yellow'], \n",
    "                range=[\"#000000\", \"#088DA5\", \"#753A10\", \"#48240A\", \"#21CDF2\", \"#FFFFFF\", \"#FFBA3F\"]\n",
    "            ),\n",
    "        legend=None\n",
    "        )\n",
    "    )\n",
    "    .configure_axis(grid=False)\n",
    "    .configure_view(strokeWidth=0)\n",
    ")\n",
    "\n",
    "owl_chart"
   ]
  },
  {
   "cell_type": "code",
   "execution_count": 7,
   "metadata": {},
   "outputs": [
    {
     "data": {
      "text/html": [
       "\n",
       "<div id=\"altair-viz-77d0c693aadd4a7ca6dbcfd87f38e369\"></div>\n",
       "<script type=\"text/javascript\">\n",
       "  (function(spec, embedOpt){\n",
       "    const outputDiv = document.getElementById(\"altair-viz-77d0c693aadd4a7ca6dbcfd87f38e369\");\n",
       "    const paths = {\n",
       "      \"vega\": \"https://cdn.jsdelivr.net/npm//vega@5?noext\",\n",
       "      \"vega-lib\": \"https://cdn.jsdelivr.net/npm//vega-lib?noext\",\n",
       "      \"vega-lite\": \"https://cdn.jsdelivr.net/npm//vega-lite@4.0.2?noext\",\n",
       "      \"vega-embed\": \"https://cdn.jsdelivr.net/npm//vega-embed@6?noext\",\n",
       "    };\n",
       "\n",
       "    function loadScript(lib) {\n",
       "      return new Promise(function(resolve, reject) {\n",
       "        var s = document.createElement('script');\n",
       "        s.src = paths[lib];\n",
       "        s.async = true;\n",
       "        s.onload = () => resolve(paths[lib]);\n",
       "        s.onerror = () => reject(`Error loading script: ${paths[lib]}`);\n",
       "        document.getElementsByTagName(\"head\")[0].appendChild(s);\n",
       "      });\n",
       "    }\n",
       "\n",
       "    function showError(err) {\n",
       "      outputDiv.innerHTML = `<div class=\"error\" style=\"color:red;\">${err}</div>`;\n",
       "      throw err;\n",
       "    }\n",
       "\n",
       "    function displayChart(vegaEmbed) {\n",
       "      vegaEmbed(outputDiv, spec, embedOpt)\n",
       "        .catch(err => showError(`Javascript Error: ${err.message}<br>This usually means there's a typo in your chart specification. See the javascript console for the full traceback.`));\n",
       "    }\n",
       "\n",
       "    if(typeof define === \"function\" && define.amd) {\n",
       "      requirejs.config({paths});\n",
       "      require([\"vega-embed\"], displayChart, err => showError(`Error loading script: ${err.message}`));\n",
       "    } else if (typeof vegaEmbed === \"function\") {\n",
       "      displayChart(vegaEmbed);\n",
       "    } else {\n",
       "      loadScript(\"vega\")\n",
       "        .then(() => loadScript(\"vega-lite\"))\n",
       "        .then(() => loadScript(\"vega-embed\"))\n",
       "        .catch(showError)\n",
       "        .then(() => displayChart(vegaEmbed));\n",
       "    }\n",
       "  })({\"config\": {\"view\": {\"continuousWidth\": 400, \"continuousHeight\": 300}}, \"data\": {\"name\": \"data-2a6700b88613219c0348f5ad71778108\"}, \"mark\": {\"type\": \"rect\", \"color\": \"black\", \"size\": 10}, \"encoding\": {\"x\": {\"type\": \"ordinal\", \"field\": \"X\"}, \"y\": {\"type\": \"ordinal\", \"field\": \"Y\"}}, \"$schema\": \"https://vega.github.io/schema/vega-lite/v4.0.2.json\", \"datasets\": {\"data-2a6700b88613219c0348f5ad71778108\": [{\"X\": 1, \"Y\": 1, \"Colour\": \"Blue\"}, {\"X\": 1, \"Y\": 2, \"Colour\": \"Blue\"}, {\"X\": 1, \"Y\": 3, \"Colour\": \"Blue\"}, {\"X\": 1, \"Y\": 4, \"Colour\": \"Blue\"}, {\"X\": 1, \"Y\": 5, \"Colour\": \"Blue\"}, {\"X\": 1, \"Y\": 6, \"Colour\": \"Blue\"}, {\"X\": 1, \"Y\": 7, \"Colour\": \"Blue\"}, {\"X\": 1, \"Y\": 8, \"Colour\": \"Blue\"}, {\"X\": 1, \"Y\": 9, \"Colour\": \"Blue\"}, {\"X\": 1, \"Y\": 10, \"Colour\": \"Blue\"}, {\"X\": 1, \"Y\": 11, \"Colour\": \"Blue\"}, {\"X\": 2, \"Y\": 1, \"Colour\": \"Dark Brown\"}, {\"X\": 2, \"Y\": 2, \"Colour\": \"Dark Brown\"}, {\"X\": 2, \"Y\": 3, \"Colour\": \"Dark Brown\"}, {\"X\": 2, \"Y\": 4, \"Colour\": \"Brown\"}, {\"X\": 2, \"Y\": 5, \"Colour\": \"Light Blue\"}, {\"X\": 2, \"Y\": 6, \"Colour\": \"Light Blue\"}, {\"X\": 2, \"Y\": 7, \"Colour\": \"Light Blue\"}, {\"X\": 2, \"Y\": 8, \"Colour\": \"Light Blue\"}, {\"X\": 2, \"Y\": 9, \"Colour\": \"Light Blue\"}, {\"X\": 2, \"Y\": 10, \"Colour\": \"Light Blue\"}, {\"X\": 2, \"Y\": 11, \"Colour\": \"Blue\"}, {\"X\": 3, \"Y\": 1, \"Colour\": \"Brown\"}, {\"X\": 3, \"Y\": 2, \"Colour\": \"Brown\"}, {\"X\": 3, \"Y\": 3, \"Colour\": \"Brown\"}, {\"X\": 3, \"Y\": 4, \"Colour\": \"Dark Brown\"}, {\"X\": 3, \"Y\": 5, \"Colour\": \"Dark Brown\"}, {\"X\": 3, \"Y\": 6, \"Colour\": \"Dark Brown\"}, {\"X\": 3, \"Y\": 7, \"Colour\": \"Dark Brown\"}, {\"X\": 3, \"Y\": 8, \"Colour\": \"Dark Brown\"}, {\"X\": 3, \"Y\": 9, \"Colour\": \"Dark Brown\"}, {\"X\": 3, \"Y\": 10, \"Colour\": \"Light Blue\"}, {\"X\": 3, \"Y\": 11, \"Colour\": \"Blue\"}, {\"X\": 4, \"Y\": 1, \"Colour\": \"Brown\"}, {\"X\": 4, \"Y\": 2, \"Colour\": \"Brown\"}, {\"X\": 4, \"Y\": 3, \"Colour\": \"Brown\"}, {\"X\": 4, \"Y\": 4, \"Colour\": \"Brown\"}, {\"X\": 4, \"Y\": 5, \"Colour\": \"Brown\"}, {\"X\": 4, \"Y\": 6, \"Colour\": \"White\"}, {\"X\": 4, \"Y\": 7, \"Colour\": \"White\"}, {\"X\": 4, \"Y\": 8, \"Colour\": \"Brown\"}, {\"X\": 4, \"Y\": 9, \"Colour\": \"Brown\"}, {\"X\": 4, \"Y\": 10, \"Colour\": \"Dark Brown\"}, {\"X\": 4, \"Y\": 11, \"Colour\": \"Blue\"}, {\"X\": 5, \"Y\": 1, \"Colour\": \"Brown\"}, {\"X\": 5, \"Y\": 2, \"Colour\": \"Brown\"}, {\"X\": 5, \"Y\": 3, \"Colour\": \"Brown\"}, {\"X\": 5, \"Y\": 4, \"Colour\": \"Brown\"}, {\"X\": 5, \"Y\": 5, \"Colour\": \"Brown\"}, {\"X\": 5, \"Y\": 6, \"Colour\": \"Black\"}, {\"X\": 5, \"Y\": 7, \"Colour\": \"White\"}, {\"X\": 5, \"Y\": 8, \"Colour\": \"Brown\"}, {\"X\": 5, \"Y\": 9, \"Colour\": \"Dark Brown\"}, {\"X\": 5, \"Y\": 10, \"Colour\": \"Light Blue\"}, {\"X\": 5, \"Y\": 11, \"Colour\": \"Blue\"}, {\"X\": 6, \"Y\": 1, \"Colour\": \"Brown\"}, {\"X\": 6, \"Y\": 2, \"Colour\": \"Brown\"}, {\"X\": 6, \"Y\": 3, \"Colour\": \"Brown\"}, {\"X\": 6, \"Y\": 4, \"Colour\": \"Yellow\"}, {\"X\": 6, \"Y\": 5, \"Colour\": \"Yellow\"}, {\"X\": 6, \"Y\": 6, \"Colour\": \"Brown\"}, {\"X\": 6, \"Y\": 7, \"Colour\": \"Brown\"}, {\"X\": 6, \"Y\": 8, \"Colour\": \"Dark Brown\"}, {\"X\": 6, \"Y\": 9, \"Colour\": \"Brown\"}, {\"X\": 6, \"Y\": 10, \"Colour\": \"Light Blue\"}, {\"X\": 6, \"Y\": 11, \"Colour\": \"Blue\"}, {\"X\": 7, \"Y\": 1, \"Colour\": \"Brown\"}, {\"X\": 7, \"Y\": 2, \"Colour\": \"Brown\"}, {\"X\": 7, \"Y\": 3, \"Colour\": \"Brown\"}, {\"X\": 7, \"Y\": 4, \"Colour\": \"Brown\"}, {\"X\": 7, \"Y\": 5, \"Colour\": \"Brown\"}, {\"X\": 7, \"Y\": 6, \"Colour\": \"Black\"}, {\"X\": 7, \"Y\": 7, \"Colour\": \"White\"}, {\"X\": 7, \"Y\": 8, \"Colour\": \"Brown\"}, {\"X\": 7, \"Y\": 9, \"Colour\": \"Dark Brown\"}, {\"X\": 7, \"Y\": 10, \"Colour\": \"Light Blue\"}, {\"X\": 7, \"Y\": 11, \"Colour\": \"Blue\"}, {\"X\": 8, \"Y\": 1, \"Colour\": \"Brown\"}, {\"X\": 8, \"Y\": 2, \"Colour\": \"Brown\"}, {\"X\": 8, \"Y\": 3, \"Colour\": \"Brown\"}, {\"X\": 8, \"Y\": 4, \"Colour\": \"Brown\"}, {\"X\": 8, \"Y\": 5, \"Colour\": \"Brown\"}, {\"X\": 8, \"Y\": 6, \"Colour\": \"White\"}, {\"X\": 8, \"Y\": 7, \"Colour\": \"White\"}, {\"X\": 8, \"Y\": 8, \"Colour\": \"Brown\"}, {\"X\": 8, \"Y\": 9, \"Colour\": \"Brown\"}, {\"X\": 8, \"Y\": 10, \"Colour\": \"Dark Brown\"}, {\"X\": 8, \"Y\": 11, \"Colour\": \"Blue\"}, {\"X\": 9, \"Y\": 1, \"Colour\": \"Brown\"}, {\"X\": 9, \"Y\": 2, \"Colour\": \"Brown\"}, {\"X\": 9, \"Y\": 3, \"Colour\": \"Brown\"}, {\"X\": 9, \"Y\": 4, \"Colour\": \"Dark Brown\"}, {\"X\": 9, \"Y\": 5, \"Colour\": \"Dark Brown\"}, {\"X\": 9, \"Y\": 6, \"Colour\": \"Dark Brown\"}, {\"X\": 9, \"Y\": 7, \"Colour\": \"Dark Brown\"}, {\"X\": 9, \"Y\": 8, \"Colour\": \"Dark Brown\"}, {\"X\": 9, \"Y\": 9, \"Colour\": \"Dark Brown\"}, {\"X\": 9, \"Y\": 10, \"Colour\": \"Light Blue\"}, {\"X\": 9, \"Y\": 11, \"Colour\": \"Blue\"}, {\"X\": 10, \"Y\": 1, \"Colour\": \"Dark Brown\"}, {\"X\": 10, \"Y\": 2, \"Colour\": \"Dark Brown\"}, {\"X\": 10, \"Y\": 3, \"Colour\": \"Dark Brown\"}, {\"X\": 10, \"Y\": 4, \"Colour\": \"Brown\"}, {\"X\": 10, \"Y\": 5, \"Colour\": \"Light Blue\"}, {\"X\": 10, \"Y\": 6, \"Colour\": \"Light Blue\"}, {\"X\": 10, \"Y\": 7, \"Colour\": \"Light Blue\"}, {\"X\": 10, \"Y\": 8, \"Colour\": \"Light Blue\"}, {\"X\": 10, \"Y\": 9, \"Colour\": \"Light Blue\"}, {\"X\": 10, \"Y\": 10, \"Colour\": \"Light Blue\"}, {\"X\": 10, \"Y\": 11, \"Colour\": \"Blue\"}, {\"X\": 11, \"Y\": 1, \"Colour\": \"Blue\"}, {\"X\": 11, \"Y\": 2, \"Colour\": \"Blue\"}, {\"X\": 11, \"Y\": 3, \"Colour\": \"Blue\"}, {\"X\": 11, \"Y\": 4, \"Colour\": \"Blue\"}, {\"X\": 11, \"Y\": 5, \"Colour\": \"Blue\"}, {\"X\": 11, \"Y\": 6, \"Colour\": \"Blue\"}, {\"X\": 11, \"Y\": 7, \"Colour\": \"Blue\"}, {\"X\": 11, \"Y\": 8, \"Colour\": \"Blue\"}, {\"X\": 11, \"Y\": 9, \"Colour\": \"Blue\"}, {\"X\": 11, \"Y\": 10, \"Colour\": \"Blue\"}, {\"X\": 11, \"Y\": 11, \"Colour\": \"Blue\"}]}}, {\"mode\": \"vega-lite\"});\n",
       "</script>"
      ],
      "text/plain": [
       "alt.Chart(...)"
      ]
     },
     "execution_count": 7,
     "metadata": {},
     "output_type": "execute_result"
    }
   ],
   "source": [
    "alt.Chart(owl).mark_rect(color='black', size=10).encode(\n",
    "    x='X:O',\n",
    "    y='Y:O'\n",
    ")"
   ]
  },
  {
   "cell_type": "markdown",
   "metadata": {},
   "source": [
    "### Actual Data"
   ]
  },
  {
   "cell_type": "markdown",
   "metadata": {},
   "source": [
    "ZA4950: International Social Survey Programme: Religion III - ISSP 2008\n",
    "        \n",
    "[Source](https://zacat.gesis.org/webview/index.jsp?object=http://zacat.gesis.org/obj/fStudy/ZA4950)"
   ]
  },
  {
   "cell_type": "code",
   "execution_count": 8,
   "metadata": {},
   "outputs": [],
   "source": [
    "df = pd.read_csv('../data/sex.csv')"
   ]
  },
  {
   "cell_type": "code",
   "execution_count": 9,
   "metadata": {},
   "outputs": [],
   "source": [
    "df = df.rename(columns={'age2': 'age'})\n",
    "df['pct'] /= 100"
   ]
  },
  {
   "cell_type": "code",
   "execution_count": 10,
   "metadata": {},
   "outputs": [
    {
     "data": {
      "text/html": [
       "<div>\n",
       "<style scoped>\n",
       "    .dataframe tbody tr th:only-of-type {\n",
       "        vertical-align: middle;\n",
       "    }\n",
       "\n",
       "    .dataframe tbody tr th {\n",
       "        vertical-align: top;\n",
       "    }\n",
       "\n",
       "    .dataframe thead th {\n",
       "        text-align: right;\n",
       "    }\n",
       "</style>\n",
       "<table border=\"1\" class=\"dataframe\">\n",
       "  <thead>\n",
       "    <tr style=\"text-align: right;\">\n",
       "      <th></th>\n",
       "      <th>age</th>\n",
       "      <th>religion</th>\n",
       "      <th>response</th>\n",
       "      <th>n</th>\n",
       "      <th>pct</th>\n",
       "    </tr>\n",
       "  </thead>\n",
       "  <tbody>\n",
       "    <tr>\n",
       "      <td>49</td>\n",
       "      <td>25-29</td>\n",
       "      <td>No religion</td>\n",
       "      <td>Wrong</td>\n",
       "      <td>116</td>\n",
       "      <td>0.099</td>\n",
       "    </tr>\n",
       "    <tr>\n",
       "      <td>55</td>\n",
       "      <td>25-29</td>\n",
       "      <td>Other Eastern Religions</td>\n",
       "      <td>Wrong</td>\n",
       "      <td>21</td>\n",
       "      <td>0.208</td>\n",
       "    </tr>\n",
       "    <tr>\n",
       "      <td>190</td>\n",
       "      <td>60-69</td>\n",
       "      <td>Other Religions</td>\n",
       "      <td>Wrong</td>\n",
       "      <td>30</td>\n",
       "      <td>0.536</td>\n",
       "    </tr>\n",
       "  </tbody>\n",
       "</table>\n",
       "</div>"
      ],
      "text/plain": [
       "       age                 religion response    n    pct\n",
       "49   25-29              No religion    Wrong  116  0.099\n",
       "55   25-29  Other Eastern Religions    Wrong   21  0.208\n",
       "190  60-69          Other Religions    Wrong   30  0.536"
      ]
     },
     "execution_count": 10,
     "metadata": {},
     "output_type": "execute_result"
    }
   ],
   "source": [
    "df.sample(3)"
   ]
  },
  {
   "cell_type": "markdown",
   "metadata": {},
   "source": [
    "<img src=\"../images/sex.png\" alt=\"sex\" width=\"500\">"
   ]
  },
  {
   "cell_type": "code",
   "execution_count": 11,
   "metadata": {},
   "outputs": [
    {
     "data": {
      "text/plain": [
       "Jewish                       21\n",
       "Other Eastern Religions      21\n",
       "Christian Orthodox           21\n",
       "Buddhism                     21\n",
       "Other Religions              21\n",
       "No religion                  21\n",
       "Roman Catholic               21\n",
       "Protestant                   21\n",
       "Other Christian Religions    21\n",
       "Islam                        21\n",
       "Hinduism                     20\n",
       "Name: religion, dtype: int64"
      ]
     },
     "execution_count": 11,
     "metadata": {},
     "output_type": "execute_result"
    }
   ],
   "source": [
    "df['religion'].value_counts()"
   ]
  },
  {
   "cell_type": "markdown",
   "metadata": {},
   "source": [
    "#### Start Small..."
   ]
  },
  {
   "cell_type": "code",
   "execution_count": 12,
   "metadata": {},
   "outputs": [],
   "source": [
    "no = df[df['religion'] == 'No religion']"
   ]
  },
  {
   "cell_type": "code",
   "execution_count": 13,
   "metadata": {},
   "outputs": [
    {
     "data": {
      "text/html": [
       "\n",
       "<div id=\"altair-viz-b0a8aacede664629b798022fb24c2cf7\"></div>\n",
       "<script type=\"text/javascript\">\n",
       "  (function(spec, embedOpt){\n",
       "    const outputDiv = document.getElementById(\"altair-viz-b0a8aacede664629b798022fb24c2cf7\");\n",
       "    const paths = {\n",
       "      \"vega\": \"https://cdn.jsdelivr.net/npm//vega@5?noext\",\n",
       "      \"vega-lib\": \"https://cdn.jsdelivr.net/npm//vega-lib?noext\",\n",
       "      \"vega-lite\": \"https://cdn.jsdelivr.net/npm//vega-lite@4.0.2?noext\",\n",
       "      \"vega-embed\": \"https://cdn.jsdelivr.net/npm//vega-embed@6?noext\",\n",
       "    };\n",
       "\n",
       "    function loadScript(lib) {\n",
       "      return new Promise(function(resolve, reject) {\n",
       "        var s = document.createElement('script');\n",
       "        s.src = paths[lib];\n",
       "        s.async = true;\n",
       "        s.onload = () => resolve(paths[lib]);\n",
       "        s.onerror = () => reject(`Error loading script: ${paths[lib]}`);\n",
       "        document.getElementsByTagName(\"head\")[0].appendChild(s);\n",
       "      });\n",
       "    }\n",
       "\n",
       "    function showError(err) {\n",
       "      outputDiv.innerHTML = `<div class=\"error\" style=\"color:red;\">${err}</div>`;\n",
       "      throw err;\n",
       "    }\n",
       "\n",
       "    function displayChart(vegaEmbed) {\n",
       "      vegaEmbed(outputDiv, spec, embedOpt)\n",
       "        .catch(err => showError(`Javascript Error: ${err.message}<br>This usually means there's a typo in your chart specification. See the javascript console for the full traceback.`));\n",
       "    }\n",
       "\n",
       "    if(typeof define === \"function\" && define.amd) {\n",
       "      requirejs.config({paths});\n",
       "      require([\"vega-embed\"], displayChart, err => showError(`Error loading script: ${err.message}`));\n",
       "    } else if (typeof vegaEmbed === \"function\") {\n",
       "      displayChart(vegaEmbed);\n",
       "    } else {\n",
       "      loadScript(\"vega\")\n",
       "        .then(() => loadScript(\"vega-lite\"))\n",
       "        .then(() => loadScript(\"vega-embed\"))\n",
       "        .catch(showError)\n",
       "        .then(() => displayChart(vegaEmbed));\n",
       "    }\n",
       "  })({\"config\": {\"view\": {\"continuousWidth\": 400, \"continuousHeight\": 300}}, \"data\": {\"name\": \"data-235d74cff4151e7f691ed260b343d78b\"}, \"mark\": \"circle\", \"encoding\": {\"x\": {\"type\": \"nominal\", \"field\": \"age\"}, \"y\": {\"type\": \"quantitative\", \"field\": \"pct\"}}, \"$schema\": \"https://vega.github.io/schema/vega-lite/v4.0.2.json\", \"datasets\": {\"data-235d74cff4151e7f691ed260b343d78b\": [{\"age\": \"18-24\", \"religion\": \"No religion\", \"response\": \"Not wrong\", \"n\": 1147, \"pct\": 0.762}, {\"age\": \"18-24\", \"religion\": \"No religion\", \"response\": \"Wrong\", \"n\": 161, \"pct\": 0.107}, {\"age\": \"18-24\", \"religion\": \"No religion\", \"response\": \"Wrong-ish\", \"n\": 197, \"pct\": 0.131}, {\"age\": \"25-29\", \"religion\": \"No religion\", \"response\": \"Not wrong\", \"n\": 887, \"pct\": 0.755}, {\"age\": \"25-29\", \"religion\": \"No religion\", \"response\": \"Wrong\", \"n\": 116, \"pct\": 0.099}, {\"age\": \"25-29\", \"religion\": \"No religion\", \"response\": \"Wrong-ish\", \"n\": 172, \"pct\": 0.146}, {\"age\": \"30-39\", \"religion\": \"No religion\", \"response\": \"Not wrong\", \"n\": 1853, \"pct\": 0.763}, {\"age\": \"30-39\", \"religion\": \"No religion\", \"response\": \"Wrong\", \"n\": 205, \"pct\": 0.084}, {\"age\": \"30-39\", \"religion\": \"No religion\", \"response\": \"Wrong-ish\", \"n\": 370, \"pct\": 0.152}, {\"age\": \"40-49\", \"religion\": \"No religion\", \"response\": \"Not wrong\", \"n\": 1818, \"pct\": 0.7440000000000001}, {\"age\": \"40-49\", \"religion\": \"No religion\", \"response\": \"Wrong\", \"n\": 251, \"pct\": 0.10300000000000001}, {\"age\": \"40-49\", \"religion\": \"No religion\", \"response\": \"Wrong-ish\", \"n\": 375, \"pct\": 0.153}, {\"age\": \"50-59\", \"religion\": \"No religion\", \"response\": \"Not wrong\", \"n\": 1591, \"pct\": 0.75}, {\"age\": \"50-59\", \"religion\": \"No religion\", \"response\": \"Wrong\", \"n\": 211, \"pct\": 0.1}, {\"age\": \"50-59\", \"religion\": \"No religion\", \"response\": \"Wrong-ish\", \"n\": 318, \"pct\": 0.15}, {\"age\": \"60-69\", \"religion\": \"No religion\", \"response\": \"Not wrong\", \"n\": 970, \"pct\": 0.6629999999999999}, {\"age\": \"60-69\", \"religion\": \"No religion\", \"response\": \"Wrong\", \"n\": 211, \"pct\": 0.14400000000000002}, {\"age\": \"60-69\", \"religion\": \"No religion\", \"response\": \"Wrong-ish\", \"n\": 282, \"pct\": 0.193}, {\"age\": \"70+\", \"religion\": \"No religion\", \"response\": \"Not wrong\", \"n\": 469, \"pct\": 0.521}, {\"age\": \"70+\", \"religion\": \"No religion\", \"response\": \"Wrong\", \"n\": 236, \"pct\": 0.262}, {\"age\": \"70+\", \"religion\": \"No religion\", \"response\": \"Wrong-ish\", \"n\": 195, \"pct\": 0.217}]}}, {\"mode\": \"vega-lite\"});\n",
       "</script>"
      ],
      "text/plain": [
       "alt.Chart(...)"
      ]
     },
     "execution_count": 13,
     "metadata": {},
     "output_type": "execute_result"
    }
   ],
   "source": [
    "alt.Chart(no).encode(x='age', y='pct').mark_circle()"
   ]
  },
  {
   "cell_type": "code",
   "execution_count": 14,
   "metadata": {},
   "outputs": [
    {
     "data": {
      "text/html": [
       "\n",
       "<div id=\"altair-viz-352f03a633f74f86be978b26122bff3c\"></div>\n",
       "<script type=\"text/javascript\">\n",
       "  (function(spec, embedOpt){\n",
       "    const outputDiv = document.getElementById(\"altair-viz-352f03a633f74f86be978b26122bff3c\");\n",
       "    const paths = {\n",
       "      \"vega\": \"https://cdn.jsdelivr.net/npm//vega@5?noext\",\n",
       "      \"vega-lib\": \"https://cdn.jsdelivr.net/npm//vega-lib?noext\",\n",
       "      \"vega-lite\": \"https://cdn.jsdelivr.net/npm//vega-lite@4.0.2?noext\",\n",
       "      \"vega-embed\": \"https://cdn.jsdelivr.net/npm//vega-embed@6?noext\",\n",
       "    };\n",
       "\n",
       "    function loadScript(lib) {\n",
       "      return new Promise(function(resolve, reject) {\n",
       "        var s = document.createElement('script');\n",
       "        s.src = paths[lib];\n",
       "        s.async = true;\n",
       "        s.onload = () => resolve(paths[lib]);\n",
       "        s.onerror = () => reject(`Error loading script: ${paths[lib]}`);\n",
       "        document.getElementsByTagName(\"head\")[0].appendChild(s);\n",
       "      });\n",
       "    }\n",
       "\n",
       "    function showError(err) {\n",
       "      outputDiv.innerHTML = `<div class=\"error\" style=\"color:red;\">${err}</div>`;\n",
       "      throw err;\n",
       "    }\n",
       "\n",
       "    function displayChart(vegaEmbed) {\n",
       "      vegaEmbed(outputDiv, spec, embedOpt)\n",
       "        .catch(err => showError(`Javascript Error: ${err.message}<br>This usually means there's a typo in your chart specification. See the javascript console for the full traceback.`));\n",
       "    }\n",
       "\n",
       "    if(typeof define === \"function\" && define.amd) {\n",
       "      requirejs.config({paths});\n",
       "      require([\"vega-embed\"], displayChart, err => showError(`Error loading script: ${err.message}`));\n",
       "    } else if (typeof vegaEmbed === \"function\") {\n",
       "      displayChart(vegaEmbed);\n",
       "    } else {\n",
       "      loadScript(\"vega\")\n",
       "        .then(() => loadScript(\"vega-lite\"))\n",
       "        .then(() => loadScript(\"vega-embed\"))\n",
       "        .catch(showError)\n",
       "        .then(() => displayChart(vegaEmbed));\n",
       "    }\n",
       "  })({\"config\": {\"view\": {\"continuousWidth\": 400, \"continuousHeight\": 300}}, \"data\": {\"name\": \"data-235d74cff4151e7f691ed260b343d78b\"}, \"mark\": \"circle\", \"encoding\": {\"color\": {\"type\": \"nominal\", \"field\": \"response\"}, \"x\": {\"type\": \"nominal\", \"field\": \"age\"}, \"y\": {\"type\": \"quantitative\", \"field\": \"pct\"}}, \"$schema\": \"https://vega.github.io/schema/vega-lite/v4.0.2.json\", \"datasets\": {\"data-235d74cff4151e7f691ed260b343d78b\": [{\"age\": \"18-24\", \"religion\": \"No religion\", \"response\": \"Not wrong\", \"n\": 1147, \"pct\": 0.762}, {\"age\": \"18-24\", \"religion\": \"No religion\", \"response\": \"Wrong\", \"n\": 161, \"pct\": 0.107}, {\"age\": \"18-24\", \"religion\": \"No religion\", \"response\": \"Wrong-ish\", \"n\": 197, \"pct\": 0.131}, {\"age\": \"25-29\", \"religion\": \"No religion\", \"response\": \"Not wrong\", \"n\": 887, \"pct\": 0.755}, {\"age\": \"25-29\", \"religion\": \"No religion\", \"response\": \"Wrong\", \"n\": 116, \"pct\": 0.099}, {\"age\": \"25-29\", \"religion\": \"No religion\", \"response\": \"Wrong-ish\", \"n\": 172, \"pct\": 0.146}, {\"age\": \"30-39\", \"religion\": \"No religion\", \"response\": \"Not wrong\", \"n\": 1853, \"pct\": 0.763}, {\"age\": \"30-39\", \"religion\": \"No religion\", \"response\": \"Wrong\", \"n\": 205, \"pct\": 0.084}, {\"age\": \"30-39\", \"religion\": \"No religion\", \"response\": \"Wrong-ish\", \"n\": 370, \"pct\": 0.152}, {\"age\": \"40-49\", \"religion\": \"No religion\", \"response\": \"Not wrong\", \"n\": 1818, \"pct\": 0.7440000000000001}, {\"age\": \"40-49\", \"religion\": \"No religion\", \"response\": \"Wrong\", \"n\": 251, \"pct\": 0.10300000000000001}, {\"age\": \"40-49\", \"religion\": \"No religion\", \"response\": \"Wrong-ish\", \"n\": 375, \"pct\": 0.153}, {\"age\": \"50-59\", \"religion\": \"No religion\", \"response\": \"Not wrong\", \"n\": 1591, \"pct\": 0.75}, {\"age\": \"50-59\", \"religion\": \"No religion\", \"response\": \"Wrong\", \"n\": 211, \"pct\": 0.1}, {\"age\": \"50-59\", \"religion\": \"No religion\", \"response\": \"Wrong-ish\", \"n\": 318, \"pct\": 0.15}, {\"age\": \"60-69\", \"religion\": \"No religion\", \"response\": \"Not wrong\", \"n\": 970, \"pct\": 0.6629999999999999}, {\"age\": \"60-69\", \"religion\": \"No religion\", \"response\": \"Wrong\", \"n\": 211, \"pct\": 0.14400000000000002}, {\"age\": \"60-69\", \"religion\": \"No religion\", \"response\": \"Wrong-ish\", \"n\": 282, \"pct\": 0.193}, {\"age\": \"70+\", \"religion\": \"No religion\", \"response\": \"Not wrong\", \"n\": 469, \"pct\": 0.521}, {\"age\": \"70+\", \"religion\": \"No religion\", \"response\": \"Wrong\", \"n\": 236, \"pct\": 0.262}, {\"age\": \"70+\", \"religion\": \"No religion\", \"response\": \"Wrong-ish\", \"n\": 195, \"pct\": 0.217}]}}, {\"mode\": \"vega-lite\"});\n",
       "</script>"
      ],
      "text/plain": [
       "alt.Chart(...)"
      ]
     },
     "execution_count": 14,
     "metadata": {},
     "output_type": "execute_result"
    }
   ],
   "source": [
    "alt.Chart(no).encode(x='age', y='pct', color='response').mark_circle()"
   ]
  },
  {
   "cell_type": "code",
   "execution_count": 15,
   "metadata": {},
   "outputs": [
    {
     "data": {
      "text/html": [
       "\n",
       "<div id=\"altair-viz-f855626613e847dba39d5fb9ed08fd81\"></div>\n",
       "<script type=\"text/javascript\">\n",
       "  (function(spec, embedOpt){\n",
       "    const outputDiv = document.getElementById(\"altair-viz-f855626613e847dba39d5fb9ed08fd81\");\n",
       "    const paths = {\n",
       "      \"vega\": \"https://cdn.jsdelivr.net/npm//vega@5?noext\",\n",
       "      \"vega-lib\": \"https://cdn.jsdelivr.net/npm//vega-lib?noext\",\n",
       "      \"vega-lite\": \"https://cdn.jsdelivr.net/npm//vega-lite@4.0.2?noext\",\n",
       "      \"vega-embed\": \"https://cdn.jsdelivr.net/npm//vega-embed@6?noext\",\n",
       "    };\n",
       "\n",
       "    function loadScript(lib) {\n",
       "      return new Promise(function(resolve, reject) {\n",
       "        var s = document.createElement('script');\n",
       "        s.src = paths[lib];\n",
       "        s.async = true;\n",
       "        s.onload = () => resolve(paths[lib]);\n",
       "        s.onerror = () => reject(`Error loading script: ${paths[lib]}`);\n",
       "        document.getElementsByTagName(\"head\")[0].appendChild(s);\n",
       "      });\n",
       "    }\n",
       "\n",
       "    function showError(err) {\n",
       "      outputDiv.innerHTML = `<div class=\"error\" style=\"color:red;\">${err}</div>`;\n",
       "      throw err;\n",
       "    }\n",
       "\n",
       "    function displayChart(vegaEmbed) {\n",
       "      vegaEmbed(outputDiv, spec, embedOpt)\n",
       "        .catch(err => showError(`Javascript Error: ${err.message}<br>This usually means there's a typo in your chart specification. See the javascript console for the full traceback.`));\n",
       "    }\n",
       "\n",
       "    if(typeof define === \"function\" && define.amd) {\n",
       "      requirejs.config({paths});\n",
       "      require([\"vega-embed\"], displayChart, err => showError(`Error loading script: ${err.message}`));\n",
       "    } else if (typeof vegaEmbed === \"function\") {\n",
       "      displayChart(vegaEmbed);\n",
       "    } else {\n",
       "      loadScript(\"vega\")\n",
       "        .then(() => loadScript(\"vega-lite\"))\n",
       "        .then(() => loadScript(\"vega-embed\"))\n",
       "        .catch(showError)\n",
       "        .then(() => displayChart(vegaEmbed));\n",
       "    }\n",
       "  })({\"config\": {\"view\": {\"continuousWidth\": 400, \"continuousHeight\": 300}}, \"data\": {\"name\": \"data-235d74cff4151e7f691ed260b343d78b\"}, \"mark\": \"circle\", \"encoding\": {\"color\": {\"type\": \"nominal\", \"field\": \"response\"}, \"x\": {\"type\": \"quantitative\", \"field\": \"pct\"}, \"y\": {\"type\": \"nominal\", \"field\": \"age\"}}, \"$schema\": \"https://vega.github.io/schema/vega-lite/v4.0.2.json\", \"datasets\": {\"data-235d74cff4151e7f691ed260b343d78b\": [{\"age\": \"18-24\", \"religion\": \"No religion\", \"response\": \"Not wrong\", \"n\": 1147, \"pct\": 0.762}, {\"age\": \"18-24\", \"religion\": \"No religion\", \"response\": \"Wrong\", \"n\": 161, \"pct\": 0.107}, {\"age\": \"18-24\", \"religion\": \"No religion\", \"response\": \"Wrong-ish\", \"n\": 197, \"pct\": 0.131}, {\"age\": \"25-29\", \"religion\": \"No religion\", \"response\": \"Not wrong\", \"n\": 887, \"pct\": 0.755}, {\"age\": \"25-29\", \"religion\": \"No religion\", \"response\": \"Wrong\", \"n\": 116, \"pct\": 0.099}, {\"age\": \"25-29\", \"religion\": \"No religion\", \"response\": \"Wrong-ish\", \"n\": 172, \"pct\": 0.146}, {\"age\": \"30-39\", \"religion\": \"No religion\", \"response\": \"Not wrong\", \"n\": 1853, \"pct\": 0.763}, {\"age\": \"30-39\", \"religion\": \"No religion\", \"response\": \"Wrong\", \"n\": 205, \"pct\": 0.084}, {\"age\": \"30-39\", \"religion\": \"No religion\", \"response\": \"Wrong-ish\", \"n\": 370, \"pct\": 0.152}, {\"age\": \"40-49\", \"religion\": \"No religion\", \"response\": \"Not wrong\", \"n\": 1818, \"pct\": 0.7440000000000001}, {\"age\": \"40-49\", \"religion\": \"No religion\", \"response\": \"Wrong\", \"n\": 251, \"pct\": 0.10300000000000001}, {\"age\": \"40-49\", \"religion\": \"No religion\", \"response\": \"Wrong-ish\", \"n\": 375, \"pct\": 0.153}, {\"age\": \"50-59\", \"religion\": \"No religion\", \"response\": \"Not wrong\", \"n\": 1591, \"pct\": 0.75}, {\"age\": \"50-59\", \"religion\": \"No religion\", \"response\": \"Wrong\", \"n\": 211, \"pct\": 0.1}, {\"age\": \"50-59\", \"religion\": \"No religion\", \"response\": \"Wrong-ish\", \"n\": 318, \"pct\": 0.15}, {\"age\": \"60-69\", \"religion\": \"No religion\", \"response\": \"Not wrong\", \"n\": 970, \"pct\": 0.6629999999999999}, {\"age\": \"60-69\", \"religion\": \"No religion\", \"response\": \"Wrong\", \"n\": 211, \"pct\": 0.14400000000000002}, {\"age\": \"60-69\", \"religion\": \"No religion\", \"response\": \"Wrong-ish\", \"n\": 282, \"pct\": 0.193}, {\"age\": \"70+\", \"religion\": \"No religion\", \"response\": \"Not wrong\", \"n\": 469, \"pct\": 0.521}, {\"age\": \"70+\", \"religion\": \"No religion\", \"response\": \"Wrong\", \"n\": 236, \"pct\": 0.262}, {\"age\": \"70+\", \"religion\": \"No religion\", \"response\": \"Wrong-ish\", \"n\": 195, \"pct\": 0.217}]}}, {\"mode\": \"vega-lite\"});\n",
       "</script>"
      ],
      "text/plain": [
       "alt.Chart(...)"
      ]
     },
     "execution_count": 15,
     "metadata": {},
     "output_type": "execute_result"
    }
   ],
   "source": [
    "alt.Chart(no).encode(y='age', x='pct', color='response').mark_circle()"
   ]
  },
  {
   "cell_type": "code",
   "execution_count": 16,
   "metadata": {},
   "outputs": [
    {
     "data": {
      "text/html": [
       "\n",
       "<div id=\"altair-viz-8b5b28396acb4d0b8dc663838d43d166\"></div>\n",
       "<script type=\"text/javascript\">\n",
       "  (function(spec, embedOpt){\n",
       "    const outputDiv = document.getElementById(\"altair-viz-8b5b28396acb4d0b8dc663838d43d166\");\n",
       "    const paths = {\n",
       "      \"vega\": \"https://cdn.jsdelivr.net/npm//vega@5?noext\",\n",
       "      \"vega-lib\": \"https://cdn.jsdelivr.net/npm//vega-lib?noext\",\n",
       "      \"vega-lite\": \"https://cdn.jsdelivr.net/npm//vega-lite@4.0.2?noext\",\n",
       "      \"vega-embed\": \"https://cdn.jsdelivr.net/npm//vega-embed@6?noext\",\n",
       "    };\n",
       "\n",
       "    function loadScript(lib) {\n",
       "      return new Promise(function(resolve, reject) {\n",
       "        var s = document.createElement('script');\n",
       "        s.src = paths[lib];\n",
       "        s.async = true;\n",
       "        s.onload = () => resolve(paths[lib]);\n",
       "        s.onerror = () => reject(`Error loading script: ${paths[lib]}`);\n",
       "        document.getElementsByTagName(\"head\")[0].appendChild(s);\n",
       "      });\n",
       "    }\n",
       "\n",
       "    function showError(err) {\n",
       "      outputDiv.innerHTML = `<div class=\"error\" style=\"color:red;\">${err}</div>`;\n",
       "      throw err;\n",
       "    }\n",
       "\n",
       "    function displayChart(vegaEmbed) {\n",
       "      vegaEmbed(outputDiv, spec, embedOpt)\n",
       "        .catch(err => showError(`Javascript Error: ${err.message}<br>This usually means there's a typo in your chart specification. See the javascript console for the full traceback.`));\n",
       "    }\n",
       "\n",
       "    if(typeof define === \"function\" && define.amd) {\n",
       "      requirejs.config({paths});\n",
       "      require([\"vega-embed\"], displayChart, err => showError(`Error loading script: ${err.message}`));\n",
       "    } else if (typeof vegaEmbed === \"function\") {\n",
       "      displayChart(vegaEmbed);\n",
       "    } else {\n",
       "      loadScript(\"vega\")\n",
       "        .then(() => loadScript(\"vega-lite\"))\n",
       "        .then(() => loadScript(\"vega-embed\"))\n",
       "        .catch(showError)\n",
       "        .then(() => displayChart(vegaEmbed));\n",
       "    }\n",
       "  })({\"config\": {\"view\": {\"continuousWidth\": 400, \"continuousHeight\": 300}}, \"data\": {\"name\": \"data-235d74cff4151e7f691ed260b343d78b\"}, \"mark\": \"circle\", \"encoding\": {\"color\": {\"type\": \"nominal\", \"field\": \"response\", \"scale\": {\"domain\": [\"Not wrong\", \"Wrong\", \"Wrong-ish\"], \"range\": [\"green\", \"yellow\", \"red\"]}}, \"x\": {\"type\": \"quantitative\", \"field\": \"pct\"}, \"y\": {\"type\": \"nominal\", \"field\": \"age\"}}, \"$schema\": \"https://vega.github.io/schema/vega-lite/v4.0.2.json\", \"datasets\": {\"data-235d74cff4151e7f691ed260b343d78b\": [{\"age\": \"18-24\", \"religion\": \"No religion\", \"response\": \"Not wrong\", \"n\": 1147, \"pct\": 0.762}, {\"age\": \"18-24\", \"religion\": \"No religion\", \"response\": \"Wrong\", \"n\": 161, \"pct\": 0.107}, {\"age\": \"18-24\", \"religion\": \"No religion\", \"response\": \"Wrong-ish\", \"n\": 197, \"pct\": 0.131}, {\"age\": \"25-29\", \"religion\": \"No religion\", \"response\": \"Not wrong\", \"n\": 887, \"pct\": 0.755}, {\"age\": \"25-29\", \"religion\": \"No religion\", \"response\": \"Wrong\", \"n\": 116, \"pct\": 0.099}, {\"age\": \"25-29\", \"religion\": \"No religion\", \"response\": \"Wrong-ish\", \"n\": 172, \"pct\": 0.146}, {\"age\": \"30-39\", \"religion\": \"No religion\", \"response\": \"Not wrong\", \"n\": 1853, \"pct\": 0.763}, {\"age\": \"30-39\", \"religion\": \"No religion\", \"response\": \"Wrong\", \"n\": 205, \"pct\": 0.084}, {\"age\": \"30-39\", \"religion\": \"No religion\", \"response\": \"Wrong-ish\", \"n\": 370, \"pct\": 0.152}, {\"age\": \"40-49\", \"religion\": \"No religion\", \"response\": \"Not wrong\", \"n\": 1818, \"pct\": 0.7440000000000001}, {\"age\": \"40-49\", \"religion\": \"No religion\", \"response\": \"Wrong\", \"n\": 251, \"pct\": 0.10300000000000001}, {\"age\": \"40-49\", \"religion\": \"No religion\", \"response\": \"Wrong-ish\", \"n\": 375, \"pct\": 0.153}, {\"age\": \"50-59\", \"religion\": \"No religion\", \"response\": \"Not wrong\", \"n\": 1591, \"pct\": 0.75}, {\"age\": \"50-59\", \"religion\": \"No religion\", \"response\": \"Wrong\", \"n\": 211, \"pct\": 0.1}, {\"age\": \"50-59\", \"religion\": \"No religion\", \"response\": \"Wrong-ish\", \"n\": 318, \"pct\": 0.15}, {\"age\": \"60-69\", \"religion\": \"No religion\", \"response\": \"Not wrong\", \"n\": 970, \"pct\": 0.6629999999999999}, {\"age\": \"60-69\", \"religion\": \"No religion\", \"response\": \"Wrong\", \"n\": 211, \"pct\": 0.14400000000000002}, {\"age\": \"60-69\", \"religion\": \"No religion\", \"response\": \"Wrong-ish\", \"n\": 282, \"pct\": 0.193}, {\"age\": \"70+\", \"religion\": \"No religion\", \"response\": \"Not wrong\", \"n\": 469, \"pct\": 0.521}, {\"age\": \"70+\", \"religion\": \"No religion\", \"response\": \"Wrong\", \"n\": 236, \"pct\": 0.262}, {\"age\": \"70+\", \"religion\": \"No religion\", \"response\": \"Wrong-ish\", \"n\": 195, \"pct\": 0.217}]}}, {\"mode\": \"vega-lite\"});\n",
       "</script>"
      ],
      "text/plain": [
       "alt.Chart(...)"
      ]
     },
     "execution_count": 16,
     "metadata": {},
     "output_type": "execute_result"
    }
   ],
   "source": [
    "alt.Chart(no).encode(\n",
    "    y='age', \n",
    "    x='pct', \n",
    "    color=alt.Color('response', \n",
    "        scale=alt.Scale(\n",
    "        domain=['Not wrong', 'Wrong', 'Wrong-ish'], \n",
    "        range=['green', 'yellow', 'red'])\n",
    "    )\n",
    ").mark_circle()"
   ]
  },
  {
   "cell_type": "code",
   "execution_count": 17,
   "metadata": {},
   "outputs": [
    {
     "data": {
      "text/html": [
       "\n",
       "<div id=\"altair-viz-5357e3f4887240fbbf1fc4cc1018bd53\"></div>\n",
       "<script type=\"text/javascript\">\n",
       "  (function(spec, embedOpt){\n",
       "    const outputDiv = document.getElementById(\"altair-viz-5357e3f4887240fbbf1fc4cc1018bd53\");\n",
       "    const paths = {\n",
       "      \"vega\": \"https://cdn.jsdelivr.net/npm//vega@5?noext\",\n",
       "      \"vega-lib\": \"https://cdn.jsdelivr.net/npm//vega-lib?noext\",\n",
       "      \"vega-lite\": \"https://cdn.jsdelivr.net/npm//vega-lite@4.0.2?noext\",\n",
       "      \"vega-embed\": \"https://cdn.jsdelivr.net/npm//vega-embed@6?noext\",\n",
       "    };\n",
       "\n",
       "    function loadScript(lib) {\n",
       "      return new Promise(function(resolve, reject) {\n",
       "        var s = document.createElement('script');\n",
       "        s.src = paths[lib];\n",
       "        s.async = true;\n",
       "        s.onload = () => resolve(paths[lib]);\n",
       "        s.onerror = () => reject(`Error loading script: ${paths[lib]}`);\n",
       "        document.getElementsByTagName(\"head\")[0].appendChild(s);\n",
       "      });\n",
       "    }\n",
       "\n",
       "    function showError(err) {\n",
       "      outputDiv.innerHTML = `<div class=\"error\" style=\"color:red;\">${err}</div>`;\n",
       "      throw err;\n",
       "    }\n",
       "\n",
       "    function displayChart(vegaEmbed) {\n",
       "      vegaEmbed(outputDiv, spec, embedOpt)\n",
       "        .catch(err => showError(`Javascript Error: ${err.message}<br>This usually means there's a typo in your chart specification. See the javascript console for the full traceback.`));\n",
       "    }\n",
       "\n",
       "    if(typeof define === \"function\" && define.amd) {\n",
       "      requirejs.config({paths});\n",
       "      require([\"vega-embed\"], displayChart, err => showError(`Error loading script: ${err.message}`));\n",
       "    } else if (typeof vegaEmbed === \"function\") {\n",
       "      displayChart(vegaEmbed);\n",
       "    } else {\n",
       "      loadScript(\"vega\")\n",
       "        .then(() => loadScript(\"vega-lite\"))\n",
       "        .then(() => loadScript(\"vega-embed\"))\n",
       "        .catch(showError)\n",
       "        .then(() => displayChart(vegaEmbed));\n",
       "    }\n",
       "  })({\"config\": {\"view\": {\"continuousWidth\": 400, \"continuousHeight\": 300}}, \"data\": {\"name\": \"data-235d74cff4151e7f691ed260b343d78b\"}, \"mark\": \"circle\", \"encoding\": {\"color\": {\"type\": \"nominal\", \"field\": \"response\", \"scale\": {\"domain\": [\"Not wrong\", \"Wrong\", \"Wrong-ish\"], \"range\": [\"#8EA604\", \"#F5BB00\", \"#DE1A1A\"]}}, \"x\": {\"type\": \"quantitative\", \"field\": \"pct\"}, \"y\": {\"type\": \"nominal\", \"field\": \"age\", \"scale\": {\"domain\": [\"70+\", \"60-69\", \"50-59\", \"40-49\", \"30-39\", \"25-29\", \"18-24\"]}}}, \"$schema\": \"https://vega.github.io/schema/vega-lite/v4.0.2.json\", \"datasets\": {\"data-235d74cff4151e7f691ed260b343d78b\": [{\"age\": \"18-24\", \"religion\": \"No religion\", \"response\": \"Not wrong\", \"n\": 1147, \"pct\": 0.762}, {\"age\": \"18-24\", \"religion\": \"No religion\", \"response\": \"Wrong\", \"n\": 161, \"pct\": 0.107}, {\"age\": \"18-24\", \"religion\": \"No religion\", \"response\": \"Wrong-ish\", \"n\": 197, \"pct\": 0.131}, {\"age\": \"25-29\", \"religion\": \"No religion\", \"response\": \"Not wrong\", \"n\": 887, \"pct\": 0.755}, {\"age\": \"25-29\", \"religion\": \"No religion\", \"response\": \"Wrong\", \"n\": 116, \"pct\": 0.099}, {\"age\": \"25-29\", \"religion\": \"No religion\", \"response\": \"Wrong-ish\", \"n\": 172, \"pct\": 0.146}, {\"age\": \"30-39\", \"religion\": \"No religion\", \"response\": \"Not wrong\", \"n\": 1853, \"pct\": 0.763}, {\"age\": \"30-39\", \"religion\": \"No religion\", \"response\": \"Wrong\", \"n\": 205, \"pct\": 0.084}, {\"age\": \"30-39\", \"religion\": \"No religion\", \"response\": \"Wrong-ish\", \"n\": 370, \"pct\": 0.152}, {\"age\": \"40-49\", \"religion\": \"No religion\", \"response\": \"Not wrong\", \"n\": 1818, \"pct\": 0.7440000000000001}, {\"age\": \"40-49\", \"religion\": \"No religion\", \"response\": \"Wrong\", \"n\": 251, \"pct\": 0.10300000000000001}, {\"age\": \"40-49\", \"religion\": \"No religion\", \"response\": \"Wrong-ish\", \"n\": 375, \"pct\": 0.153}, {\"age\": \"50-59\", \"religion\": \"No religion\", \"response\": \"Not wrong\", \"n\": 1591, \"pct\": 0.75}, {\"age\": \"50-59\", \"religion\": \"No religion\", \"response\": \"Wrong\", \"n\": 211, \"pct\": 0.1}, {\"age\": \"50-59\", \"religion\": \"No religion\", \"response\": \"Wrong-ish\", \"n\": 318, \"pct\": 0.15}, {\"age\": \"60-69\", \"religion\": \"No religion\", \"response\": \"Not wrong\", \"n\": 970, \"pct\": 0.6629999999999999}, {\"age\": \"60-69\", \"religion\": \"No religion\", \"response\": \"Wrong\", \"n\": 211, \"pct\": 0.14400000000000002}, {\"age\": \"60-69\", \"religion\": \"No religion\", \"response\": \"Wrong-ish\", \"n\": 282, \"pct\": 0.193}, {\"age\": \"70+\", \"religion\": \"No religion\", \"response\": \"Not wrong\", \"n\": 469, \"pct\": 0.521}, {\"age\": \"70+\", \"religion\": \"No religion\", \"response\": \"Wrong\", \"n\": 236, \"pct\": 0.262}, {\"age\": \"70+\", \"religion\": \"No religion\", \"response\": \"Wrong-ish\", \"n\": 195, \"pct\": 0.217}]}}, {\"mode\": \"vega-lite\"});\n",
       "</script>"
      ],
      "text/plain": [
       "alt.Chart(...)"
      ]
     },
     "execution_count": 17,
     "metadata": {},
     "output_type": "execute_result"
    }
   ],
   "source": [
    "alt.Chart(no).encode(\n",
    "    y=alt.Y('age', scale=alt.Scale(domain=['70+','60-69', '50-59', '40-49', '30-39', '25-29', '18-24'])),\n",
    "    x='pct', \n",
    "    color=alt.Color('response', \n",
    "        scale=alt.Scale(\n",
    "        domain=['Not wrong', 'Wrong', 'Wrong-ish'], \n",
    "        range=[\"#8EA604\", \"#F5BB00\", \"#DE1A1A\"])\n",
    "    )\n",
    ").mark_circle()"
   ]
  },
  {
   "cell_type": "code",
   "execution_count": 18,
   "metadata": {},
   "outputs": [
    {
     "data": {
      "text/html": [
       "\n",
       "<div id=\"altair-viz-155da57f56dd436c92b3c61a84f526fc\"></div>\n",
       "<script type=\"text/javascript\">\n",
       "  (function(spec, embedOpt){\n",
       "    const outputDiv = document.getElementById(\"altair-viz-155da57f56dd436c92b3c61a84f526fc\");\n",
       "    const paths = {\n",
       "      \"vega\": \"https://cdn.jsdelivr.net/npm//vega@5?noext\",\n",
       "      \"vega-lib\": \"https://cdn.jsdelivr.net/npm//vega-lib?noext\",\n",
       "      \"vega-lite\": \"https://cdn.jsdelivr.net/npm//vega-lite@4.0.2?noext\",\n",
       "      \"vega-embed\": \"https://cdn.jsdelivr.net/npm//vega-embed@6?noext\",\n",
       "    };\n",
       "\n",
       "    function loadScript(lib) {\n",
       "      return new Promise(function(resolve, reject) {\n",
       "        var s = document.createElement('script');\n",
       "        s.src = paths[lib];\n",
       "        s.async = true;\n",
       "        s.onload = () => resolve(paths[lib]);\n",
       "        s.onerror = () => reject(`Error loading script: ${paths[lib]}`);\n",
       "        document.getElementsByTagName(\"head\")[0].appendChild(s);\n",
       "      });\n",
       "    }\n",
       "\n",
       "    function showError(err) {\n",
       "      outputDiv.innerHTML = `<div class=\"error\" style=\"color:red;\">${err}</div>`;\n",
       "      throw err;\n",
       "    }\n",
       "\n",
       "    function displayChart(vegaEmbed) {\n",
       "      vegaEmbed(outputDiv, spec, embedOpt)\n",
       "        .catch(err => showError(`Javascript Error: ${err.message}<br>This usually means there's a typo in your chart specification. See the javascript console for the full traceback.`));\n",
       "    }\n",
       "\n",
       "    if(typeof define === \"function\" && define.amd) {\n",
       "      requirejs.config({paths});\n",
       "      require([\"vega-embed\"], displayChart, err => showError(`Error loading script: ${err.message}`));\n",
       "    } else if (typeof vegaEmbed === \"function\") {\n",
       "      displayChart(vegaEmbed);\n",
       "    } else {\n",
       "      loadScript(\"vega\")\n",
       "        .then(() => loadScript(\"vega-lite\"))\n",
       "        .then(() => loadScript(\"vega-embed\"))\n",
       "        .catch(showError)\n",
       "        .then(() => displayChart(vegaEmbed));\n",
       "    }\n",
       "  })({\"config\": {\"view\": {\"continuousWidth\": 400, \"continuousHeight\": 300}}, \"data\": {\"name\": \"data-235d74cff4151e7f691ed260b343d78b\"}, \"mark\": \"circle\", \"encoding\": {\"color\": {\"type\": \"nominal\", \"field\": \"response\", \"scale\": {\"domain\": [\"Not wrong\", \"Wrong\", \"Wrong-ish\"], \"range\": [\"#8EA604\", \"#F5BB00\", \"#DE1A1A\"]}}, \"x\": {\"type\": \"quantitative\", \"field\": \"pct\"}, \"y\": {\"type\": \"nominal\", \"field\": \"age\", \"scale\": {\"domain\": [\"70+\", \"60-69\", \"50-59\", \"40-49\", \"30-39\", \"25-29\", \"18-24\"]}}}, \"$schema\": \"https://vega.github.io/schema/vega-lite/v4.0.2.json\", \"datasets\": {\"data-235d74cff4151e7f691ed260b343d78b\": [{\"age\": \"18-24\", \"religion\": \"No religion\", \"response\": \"Not wrong\", \"n\": 1147, \"pct\": 0.762}, {\"age\": \"18-24\", \"religion\": \"No religion\", \"response\": \"Wrong\", \"n\": 161, \"pct\": 0.107}, {\"age\": \"18-24\", \"religion\": \"No religion\", \"response\": \"Wrong-ish\", \"n\": 197, \"pct\": 0.131}, {\"age\": \"25-29\", \"religion\": \"No religion\", \"response\": \"Not wrong\", \"n\": 887, \"pct\": 0.755}, {\"age\": \"25-29\", \"religion\": \"No religion\", \"response\": \"Wrong\", \"n\": 116, \"pct\": 0.099}, {\"age\": \"25-29\", \"religion\": \"No religion\", \"response\": \"Wrong-ish\", \"n\": 172, \"pct\": 0.146}, {\"age\": \"30-39\", \"religion\": \"No religion\", \"response\": \"Not wrong\", \"n\": 1853, \"pct\": 0.763}, {\"age\": \"30-39\", \"religion\": \"No religion\", \"response\": \"Wrong\", \"n\": 205, \"pct\": 0.084}, {\"age\": \"30-39\", \"religion\": \"No religion\", \"response\": \"Wrong-ish\", \"n\": 370, \"pct\": 0.152}, {\"age\": \"40-49\", \"religion\": \"No religion\", \"response\": \"Not wrong\", \"n\": 1818, \"pct\": 0.7440000000000001}, {\"age\": \"40-49\", \"religion\": \"No religion\", \"response\": \"Wrong\", \"n\": 251, \"pct\": 0.10300000000000001}, {\"age\": \"40-49\", \"religion\": \"No religion\", \"response\": \"Wrong-ish\", \"n\": 375, \"pct\": 0.153}, {\"age\": \"50-59\", \"religion\": \"No religion\", \"response\": \"Not wrong\", \"n\": 1591, \"pct\": 0.75}, {\"age\": \"50-59\", \"religion\": \"No religion\", \"response\": \"Wrong\", \"n\": 211, \"pct\": 0.1}, {\"age\": \"50-59\", \"religion\": \"No religion\", \"response\": \"Wrong-ish\", \"n\": 318, \"pct\": 0.15}, {\"age\": \"60-69\", \"religion\": \"No religion\", \"response\": \"Not wrong\", \"n\": 970, \"pct\": 0.6629999999999999}, {\"age\": \"60-69\", \"religion\": \"No religion\", \"response\": \"Wrong\", \"n\": 211, \"pct\": 0.14400000000000002}, {\"age\": \"60-69\", \"religion\": \"No religion\", \"response\": \"Wrong-ish\", \"n\": 282, \"pct\": 0.193}, {\"age\": \"70+\", \"religion\": \"No religion\", \"response\": \"Not wrong\", \"n\": 469, \"pct\": 0.521}, {\"age\": \"70+\", \"religion\": \"No religion\", \"response\": \"Wrong\", \"n\": 236, \"pct\": 0.262}, {\"age\": \"70+\", \"religion\": \"No religion\", \"response\": \"Wrong-ish\", \"n\": 195, \"pct\": 0.217}]}}, {\"mode\": \"vega-lite\"});\n",
       "</script>"
      ],
      "text/plain": [
       "alt.Chart(...)"
      ]
     },
     "execution_count": 18,
     "metadata": {},
     "output_type": "execute_result"
    }
   ],
   "source": [
    "chart = (\n",
    "    alt.Chart(no)\n",
    "    .mark_circle()\n",
    "    .encode(\n",
    "        x='pct',\n",
    "        y=alt.Y(\n",
    "            'age', \n",
    "            scale=alt.Scale(domain=['70+','60-69', '50-59', '40-49', '30-39', '25-29', '18-24'])\n",
    "        ),\n",
    "        color=alt.Color(\n",
    "            'response', \n",
    "            scale=alt.Scale(\n",
    "            domain=['Not wrong', 'Wrong', 'Wrong-ish'], \n",
    "            range=[\"#8EA604\", \"#F5BB00\", \"#DE1A1A\"])\n",
    "        )\n",
    "    )\n",
    ")\n",
    "\n",
    "chart"
   ]
  },
  {
   "cell_type": "code",
   "execution_count": 19,
   "metadata": {},
   "outputs": [
    {
     "data": {
      "text/html": [
       "\n",
       "<div id=\"altair-viz-4087e963cfce463f89071132134b7815\"></div>\n",
       "<script type=\"text/javascript\">\n",
       "  (function(spec, embedOpt){\n",
       "    const outputDiv = document.getElementById(\"altair-viz-4087e963cfce463f89071132134b7815\");\n",
       "    const paths = {\n",
       "      \"vega\": \"https://cdn.jsdelivr.net/npm//vega@5?noext\",\n",
       "      \"vega-lib\": \"https://cdn.jsdelivr.net/npm//vega-lib?noext\",\n",
       "      \"vega-lite\": \"https://cdn.jsdelivr.net/npm//vega-lite@4.0.2?noext\",\n",
       "      \"vega-embed\": \"https://cdn.jsdelivr.net/npm//vega-embed@6?noext\",\n",
       "    };\n",
       "\n",
       "    function loadScript(lib) {\n",
       "      return new Promise(function(resolve, reject) {\n",
       "        var s = document.createElement('script');\n",
       "        s.src = paths[lib];\n",
       "        s.async = true;\n",
       "        s.onload = () => resolve(paths[lib]);\n",
       "        s.onerror = () => reject(`Error loading script: ${paths[lib]}`);\n",
       "        document.getElementsByTagName(\"head\")[0].appendChild(s);\n",
       "      });\n",
       "    }\n",
       "\n",
       "    function showError(err) {\n",
       "      outputDiv.innerHTML = `<div class=\"error\" style=\"color:red;\">${err}</div>`;\n",
       "      throw err;\n",
       "    }\n",
       "\n",
       "    function displayChart(vegaEmbed) {\n",
       "      vegaEmbed(outputDiv, spec, embedOpt)\n",
       "        .catch(err => showError(`Javascript Error: ${err.message}<br>This usually means there's a typo in your chart specification. See the javascript console for the full traceback.`));\n",
       "    }\n",
       "\n",
       "    if(typeof define === \"function\" && define.amd) {\n",
       "      requirejs.config({paths});\n",
       "      require([\"vega-embed\"], displayChart, err => showError(`Error loading script: ${err.message}`));\n",
       "    } else if (typeof vegaEmbed === \"function\") {\n",
       "      displayChart(vegaEmbed);\n",
       "    } else {\n",
       "      loadScript(\"vega\")\n",
       "        .then(() => loadScript(\"vega-lite\"))\n",
       "        .then(() => loadScript(\"vega-embed\"))\n",
       "        .catch(showError)\n",
       "        .then(() => displayChart(vegaEmbed));\n",
       "    }\n",
       "  })({\"config\": {\"view\": {\"continuousWidth\": 400, \"continuousHeight\": 300, \"strokeWidth\": 0}}, \"data\": {\"name\": \"data-235d74cff4151e7f691ed260b343d78b\"}, \"mark\": {\"type\": \"circle\", \"opacity\": 0.75}, \"background\": \"#F0F0F0\", \"encoding\": {\"color\": {\"type\": \"nominal\", \"field\": \"response\", \"legend\": {\"orient\": \"top\", \"title\": \"\"}, \"scale\": {\"domain\": [\"Not wrong\", \"Wrong-ish\", \"Wrong\"], \"range\": [\"#39a9db\", \"#f39237\", \"#d63230\"]}}, \"x\": {\"type\": \"quantitative\", \"axis\": {\"format\": \"%\", \"title\": \"\", \"values\": [0, 0.25, 0.5, 0.75, 1]}, \"field\": \"pct\"}, \"y\": {\"type\": \"nominal\", \"axis\": {\"grid\": true, \"title\": \"\"}, \"field\": \"age\", \"scale\": {\"domain\": [\"70+\", \"60-69\", \"50-59\", \"40-49\", \"30-39\", \"25-29\", \"18-24\"]}}}, \"height\": 250, \"title\": \"Sex Before Marriage\", \"width\": 250, \"$schema\": \"https://vega.github.io/schema/vega-lite/v4.0.2.json\", \"datasets\": {\"data-235d74cff4151e7f691ed260b343d78b\": [{\"age\": \"18-24\", \"religion\": \"No religion\", \"response\": \"Not wrong\", \"n\": 1147, \"pct\": 0.762}, {\"age\": \"18-24\", \"religion\": \"No religion\", \"response\": \"Wrong\", \"n\": 161, \"pct\": 0.107}, {\"age\": \"18-24\", \"religion\": \"No religion\", \"response\": \"Wrong-ish\", \"n\": 197, \"pct\": 0.131}, {\"age\": \"25-29\", \"religion\": \"No religion\", \"response\": \"Not wrong\", \"n\": 887, \"pct\": 0.755}, {\"age\": \"25-29\", \"religion\": \"No religion\", \"response\": \"Wrong\", \"n\": 116, \"pct\": 0.099}, {\"age\": \"25-29\", \"religion\": \"No religion\", \"response\": \"Wrong-ish\", \"n\": 172, \"pct\": 0.146}, {\"age\": \"30-39\", \"religion\": \"No religion\", \"response\": \"Not wrong\", \"n\": 1853, \"pct\": 0.763}, {\"age\": \"30-39\", \"religion\": \"No religion\", \"response\": \"Wrong\", \"n\": 205, \"pct\": 0.084}, {\"age\": \"30-39\", \"religion\": \"No religion\", \"response\": \"Wrong-ish\", \"n\": 370, \"pct\": 0.152}, {\"age\": \"40-49\", \"religion\": \"No religion\", \"response\": \"Not wrong\", \"n\": 1818, \"pct\": 0.7440000000000001}, {\"age\": \"40-49\", \"religion\": \"No religion\", \"response\": \"Wrong\", \"n\": 251, \"pct\": 0.10300000000000001}, {\"age\": \"40-49\", \"religion\": \"No religion\", \"response\": \"Wrong-ish\", \"n\": 375, \"pct\": 0.153}, {\"age\": \"50-59\", \"religion\": \"No religion\", \"response\": \"Not wrong\", \"n\": 1591, \"pct\": 0.75}, {\"age\": \"50-59\", \"religion\": \"No religion\", \"response\": \"Wrong\", \"n\": 211, \"pct\": 0.1}, {\"age\": \"50-59\", \"religion\": \"No religion\", \"response\": \"Wrong-ish\", \"n\": 318, \"pct\": 0.15}, {\"age\": \"60-69\", \"religion\": \"No religion\", \"response\": \"Not wrong\", \"n\": 970, \"pct\": 0.6629999999999999}, {\"age\": \"60-69\", \"religion\": \"No religion\", \"response\": \"Wrong\", \"n\": 211, \"pct\": 0.14400000000000002}, {\"age\": \"60-69\", \"religion\": \"No religion\", \"response\": \"Wrong-ish\", \"n\": 282, \"pct\": 0.193}, {\"age\": \"70+\", \"religion\": \"No religion\", \"response\": \"Not wrong\", \"n\": 469, \"pct\": 0.521}, {\"age\": \"70+\", \"religion\": \"No religion\", \"response\": \"Wrong\", \"n\": 236, \"pct\": 0.262}, {\"age\": \"70+\", \"religion\": \"No religion\", \"response\": \"Wrong-ish\", \"n\": 195, \"pct\": 0.217}]}}, {\"mode\": \"vega-lite\"});\n",
       "</script>"
      ],
      "text/plain": [
       "alt.Chart(...)"
      ]
     },
     "execution_count": 19,
     "metadata": {},
     "output_type": "execute_result"
    }
   ],
   "source": [
    "chart = (\n",
    "    alt.Chart(no)\n",
    "    .mark_circle(opacity=3/4)\n",
    "    .encode(\n",
    "        x=alt.X('pct:Q',\n",
    "            axis=alt.Axis(\n",
    "                title='', \n",
    "                format='%', \n",
    "                values=[0, 0.25, 0.5, 0.75, 1]\n",
    "            ),\n",
    "        ), \n",
    "        y=alt.Y('age', \n",
    "            axis=alt.Axis(title='', grid=True),\n",
    "            scale=alt.Scale(domain=['70+','60-69', '50-59', '40-49', '30-39', '25-29', '18-24']),\n",
    "        ), \n",
    "        color=alt.Color('response', \n",
    "            scale=alt.Scale(\n",
    "                domain=['Not wrong', 'Wrong-ish', 'Wrong'], \n",
    "                range=[\"#39a9db\", \"#f39237\", \"#d63230\"]\n",
    "            ),\n",
    "            legend=alt.Legend(title='', orient='top')\n",
    "        )\n",
    "    )\n",
    "    .configure_view(strokeWidth=0)\n",
    "    .properties(\n",
    "        width=250, \n",
    "        height=250,\n",
    "        background='#F0F0F0',\n",
    "        title='Sex Before Marriage'\n",
    "    )\n",
    ")\n",
    "\n",
    "chart"
   ]
  },
  {
   "cell_type": "markdown",
   "metadata": {},
   "source": [
    "#### Marathon"
   ]
  },
  {
   "cell_type": "code",
   "execution_count": 20,
   "metadata": {},
   "outputs": [],
   "source": [
    "marathon = pd.read_csv('../data/marathon.csv')\n",
    "marathon['time'] = marathon['time'].apply(pd.to_datetime)\n",
    "two = marathon[marathon['runner'].isin(['Emma S.', 'Rich H.'])]"
   ]
  },
  {
   "cell_type": "code",
   "execution_count": 21,
   "metadata": {},
   "outputs": [
    {
     "data": {
      "text/html": [
       "\n",
       "<div id=\"altair-viz-a9c5d5a5b187445aa5218370177c5b77\"></div>\n",
       "<script type=\"text/javascript\">\n",
       "  (function(spec, embedOpt){\n",
       "    const outputDiv = document.getElementById(\"altair-viz-a9c5d5a5b187445aa5218370177c5b77\");\n",
       "    const paths = {\n",
       "      \"vega\": \"https://cdn.jsdelivr.net/npm//vega@5?noext\",\n",
       "      \"vega-lib\": \"https://cdn.jsdelivr.net/npm//vega-lib?noext\",\n",
       "      \"vega-lite\": \"https://cdn.jsdelivr.net/npm//vega-lite@4.0.2?noext\",\n",
       "      \"vega-embed\": \"https://cdn.jsdelivr.net/npm//vega-embed@6?noext\",\n",
       "    };\n",
       "\n",
       "    function loadScript(lib) {\n",
       "      return new Promise(function(resolve, reject) {\n",
       "        var s = document.createElement('script');\n",
       "        s.src = paths[lib];\n",
       "        s.async = true;\n",
       "        s.onload = () => resolve(paths[lib]);\n",
       "        s.onerror = () => reject(`Error loading script: ${paths[lib]}`);\n",
       "        document.getElementsByTagName(\"head\")[0].appendChild(s);\n",
       "      });\n",
       "    }\n",
       "\n",
       "    function showError(err) {\n",
       "      outputDiv.innerHTML = `<div class=\"error\" style=\"color:red;\">${err}</div>`;\n",
       "      throw err;\n",
       "    }\n",
       "\n",
       "    function displayChart(vegaEmbed) {\n",
       "      vegaEmbed(outputDiv, spec, embedOpt)\n",
       "        .catch(err => showError(`Javascript Error: ${err.message}<br>This usually means there's a typo in your chart specification. See the javascript console for the full traceback.`));\n",
       "    }\n",
       "\n",
       "    if(typeof define === \"function\" && define.amd) {\n",
       "      requirejs.config({paths});\n",
       "      require([\"vega-embed\"], displayChart, err => showError(`Error loading script: ${err.message}`));\n",
       "    } else if (typeof vegaEmbed === \"function\") {\n",
       "      displayChart(vegaEmbed);\n",
       "    } else {\n",
       "      loadScript(\"vega\")\n",
       "        .then(() => loadScript(\"vega-lite\"))\n",
       "        .then(() => loadScript(\"vega-embed\"))\n",
       "        .catch(showError)\n",
       "        .then(() => displayChart(vegaEmbed));\n",
       "    }\n",
       "  })({\"config\": {\"view\": {\"continuousWidth\": 400, \"continuousHeight\": 300}}, \"data\": {\"name\": \"data-4fda701406295302c275db25e8d7a0e7\"}, \"mark\": \"line\", \"encoding\": {\"color\": {\"type\": \"nominal\", \"field\": \"runner\"}, \"x\": {\"type\": \"temporal\", \"field\": \"time\"}, \"y\": {\"type\": \"quantitative\", \"field\": \"distance\"}}, \"title\": \"Ultra Runners\", \"$schema\": \"https://vega.github.io/schema/vega-lite/v4.0.2.json\", \"datasets\": {\"data-4fda701406295302c275db25e8d7a0e7\": [{\"time\": \"2019-03-24T18:00:00\", \"distance\": 0.0, \"runner\": \"Emma S.\", \"dsplit\": 7.822755, \"mph\": 3.9113775, \"hour\": 0}, {\"time\": \"2019-03-24T20:00:00\", \"distance\": 7.822755, \"runner\": \"Emma S.\", \"dsplit\": 7.822755, \"mph\": 3.9113775, \"hour\": 2}, {\"time\": \"2019-03-24T22:00:00\", \"distance\": 15.64551, \"runner\": \"Emma S.\", \"dsplit\": 5.21517, \"mph\": 2.607585, \"hour\": 4}, {\"time\": \"2019-03-25T06:00:00\", \"distance\": 20.86068, \"runner\": \"Emma S.\", \"dsplit\": 0.0, \"mph\": 0.0, \"hour\": 12}, {\"time\": \"2019-03-25T04:00:00\", \"distance\": 20.86068, \"runner\": \"Emma S.\", \"dsplit\": 0.0, \"mph\": 0.0, \"hour\": 10}, {\"time\": \"2019-03-25T02:00:00\", \"distance\": 20.86068, \"runner\": \"Emma S.\", \"dsplit\": 0.0, \"mph\": 0.0, \"hour\": 8}, {\"time\": \"2019-03-24T23:59:00\", \"distance\": 20.86068, \"runner\": \"Emma S.\", \"dsplit\": 7.822755, \"mph\": 3.9113775, \"hour\": 6}, {\"time\": \"2019-03-25T08:00:00\", \"distance\": 28.683435, \"runner\": \"Emma S.\", \"dsplit\": 5.21517, \"mph\": 2.607585, \"hour\": 14}, {\"time\": \"2019-03-25T10:00:00\", \"distance\": 33.898605, \"runner\": \"Emma S.\", \"dsplit\": 7.82275499999999, \"mph\": 3.9113775, \"hour\": 16}, {\"time\": \"2019-03-25T12:01:00\", \"distance\": 41.72136, \"runner\": \"Emma S.\", \"dsplit\": 2.607585, \"mph\": 1.3037925, \"hour\": 18}, {\"time\": \"2019-03-25T14:00:00\", \"distance\": 44.328945, \"runner\": \"Emma S.\", \"dsplit\": 7.822755, \"mph\": 3.9113775, \"hour\": 20}, {\"time\": \"2019-03-25T16:00:00\", \"distance\": 52.1517, \"runner\": \"Emma S.\", \"dsplit\": 2.607585, \"mph\": 1.3037925, \"hour\": 22}, {\"time\": \"2019-03-25T18:00:00\", \"distance\": 54.759285, \"runner\": \"Emma S.\", \"dsplit\": 5.21517, \"mph\": 2.607585, \"hour\": 24}, {\"time\": \"2019-03-25T20:00:00\", \"distance\": 59.974455000000006, \"runner\": \"Emma S.\", \"dsplit\": 5.2151700000000085, \"mph\": 2.607585, \"hour\": 26}, {\"time\": \"2019-03-25T22:00:00\", \"distance\": 65.189625, \"runner\": \"Emma S.\", \"dsplit\": 2.607585, \"mph\": 1.3037925, \"hour\": 28}, {\"time\": \"2019-03-26T06:00:00\", \"distance\": 67.79720999999999, \"runner\": \"Emma S.\", \"dsplit\": 0.0, \"mph\": 0.0, \"hour\": 36}, {\"time\": \"2019-03-26T04:00:00\", \"distance\": 67.79720999999999, \"runner\": \"Emma S.\", \"dsplit\": 0.0, \"mph\": 0.0, \"hour\": 34}, {\"time\": \"2019-03-26T02:00:00\", \"distance\": 67.79720999999999, \"runner\": \"Emma S.\", \"dsplit\": 0.0, \"mph\": 0.0, \"hour\": 32}, {\"time\": \"2019-03-25T23:59:00\", \"distance\": 67.79720999999999, \"runner\": \"Emma S.\", \"dsplit\": 5.215169999999991, \"mph\": 2.60758499999999, \"hour\": 30}, {\"time\": \"2019-03-26T08:00:00\", \"distance\": 73.01238000000002, \"runner\": \"Emma S.\", \"dsplit\": 2.607585, \"mph\": 1.3037925, \"hour\": 38}, {\"time\": \"2019-03-26T10:00:00\", \"distance\": 75.61996500000002, \"runner\": \"Emma S.\", \"dsplit\": 7.822755, \"mph\": 3.9113775, \"hour\": 40}, {\"time\": \"2019-03-26T12:01:00\", \"distance\": 83.44272, \"runner\": \"Emma S.\", \"dsplit\": 5.21517, \"mph\": 2.607585, \"hour\": 42}, {\"time\": \"2019-03-26T14:00:00\", \"distance\": 88.65789000000002, \"runner\": \"Emma S.\", \"dsplit\": 7.822755, \"mph\": 3.9113775, \"hour\": 44}, {\"time\": \"2019-03-26T16:00:00\", \"distance\": 96.480645, \"runner\": \"Emma S.\", \"dsplit\": 6.807585, \"mph\": 3.4037925, \"hour\": 46}, {\"time\": \"2019-03-26T18:00:00\", \"distance\": 103.28823, \"runner\": \"Emma S.\", \"dsplit\": null, \"mph\": null, \"hour\": 48}, {\"time\": \"2019-03-24T18:00:00\", \"distance\": 0.0, \"runner\": \"Rich H.\", \"dsplit\": 10.43034, \"mph\": 5.21517, \"hour\": 0}, {\"time\": \"2019-03-24T20:00:00\", \"distance\": 10.43034, \"runner\": \"Rich H.\", \"dsplit\": 10.43034, \"mph\": 5.21517, \"hour\": 2}, {\"time\": \"2019-03-24T22:00:00\", \"distance\": 20.86068, \"runner\": \"Rich H.\", \"dsplit\": 7.822755, \"mph\": 3.9113775, \"hour\": 4}, {\"time\": \"2019-03-24T23:59:00\", \"distance\": 28.683435, \"runner\": \"Rich H.\", \"dsplit\": 7.822755, \"mph\": 3.9113775, \"hour\": 6}, {\"time\": \"2019-03-25T02:00:00\", \"distance\": 36.50619, \"runner\": \"Rich H.\", \"dsplit\": 7.822755, \"mph\": 3.9113775, \"hour\": 8}, {\"time\": \"2019-03-25T04:00:00\", \"distance\": 44.328945, \"runner\": \"Rich H.\", \"dsplit\": 5.21517, \"mph\": 2.607585, \"hour\": 10}, {\"time\": \"2019-03-25T06:00:00\", \"distance\": 49.54411500000001, \"runner\": \"Rich H.\", \"dsplit\": 2.607585, \"mph\": 1.3037925, \"hour\": 12}, {\"time\": \"2019-03-25T08:00:00\", \"distance\": 52.1517, \"runner\": \"Rich H.\", \"dsplit\": 5.21517, \"mph\": 2.607585, \"hour\": 14}, {\"time\": \"2019-03-25T10:00:00\", \"distance\": 57.36687, \"runner\": \"Rich H.\", \"dsplit\": 7.82275500000001, \"mph\": 3.9113775, \"hour\": 16}, {\"time\": \"2019-03-25T12:01:00\", \"distance\": 65.189625, \"runner\": \"Rich H.\", \"dsplit\": 2.607585, \"mph\": 1.3037925, \"hour\": 18}, {\"time\": \"2019-03-25T14:00:00\", \"distance\": 67.79720999999999, \"runner\": \"Rich H.\", \"dsplit\": 5.215169999999991, \"mph\": 2.60758499999999, \"hour\": 20}, {\"time\": \"2019-03-25T16:00:00\", \"distance\": 73.01238000000002, \"runner\": \"Rich H.\", \"dsplit\": 5.21517, \"mph\": 2.607585, \"hour\": 22}, {\"time\": \"2019-03-25T18:00:00\", \"distance\": 78.22755, \"runner\": \"Rich H.\", \"dsplit\": 2.607585, \"mph\": 1.3037925, \"hour\": 24}, {\"time\": \"2019-03-25T20:00:00\", \"distance\": 80.835135, \"runner\": \"Rich H.\", \"dsplit\": 2.607585, \"mph\": 1.3037925, \"hour\": 26}, {\"time\": \"2019-03-25T22:00:00\", \"distance\": 83.44272, \"runner\": \"Rich H.\", \"dsplit\": 5.21517, \"mph\": 2.607585, \"hour\": 28}, {\"time\": \"2019-03-25T23:59:00\", \"distance\": 88.65789000000002, \"runner\": \"Rich H.\", \"dsplit\": 2.607585, \"mph\": 1.3037925, \"hour\": 30}, {\"time\": \"2019-03-26T02:00:00\", \"distance\": 91.265475, \"runner\": \"Rich H.\", \"dsplit\": 2.607585, \"mph\": 1.3037925, \"hour\": 32}, {\"time\": \"2019-03-26T04:00:00\", \"distance\": 93.87306, \"runner\": \"Rich H.\", \"dsplit\": 5.21517, \"mph\": 2.607585, \"hour\": 34}, {\"time\": \"2019-03-26T08:00:00\", \"distance\": 99.08823, \"runner\": \"Rich H.\", \"dsplit\": 0.0, \"mph\": 0.0, \"hour\": 38}, {\"time\": \"2019-03-26T06:00:00\", \"distance\": 99.08823, \"runner\": \"Rich H.\", \"dsplit\": 2.607585, \"mph\": 1.3037925, \"hour\": 36}, {\"time\": \"2019-03-26T10:00:00\", \"distance\": 101.695815, \"runner\": \"Rich H.\", \"dsplit\": 5.21517, \"mph\": 2.607585, \"hour\": 40}, {\"time\": \"2019-03-26T14:00:00\", \"distance\": 106.910985, \"runner\": \"Rich H.\", \"dsplit\": 0.0, \"mph\": 0.0, \"hour\": 44}, {\"time\": \"2019-03-26T12:01:00\", \"distance\": 106.910985, \"runner\": \"Rich H.\", \"dsplit\": 5.21517, \"mph\": 2.607585, \"hour\": 42}, {\"time\": \"2019-03-26T16:00:00\", \"distance\": 112.126155, \"runner\": \"Rich H.\", \"dsplit\": 4.0075850000000095, \"mph\": 2.0037925, \"hour\": 46}, {\"time\": \"2019-03-26T18:00:00\", \"distance\": 116.13374, \"runner\": \"Rich H.\", \"dsplit\": null, \"mph\": null, \"hour\": 48}]}}, {\"mode\": \"vega-lite\"});\n",
       "</script>"
      ],
      "text/plain": [
       "alt.Chart(...)"
      ]
     },
     "execution_count": 21,
     "metadata": {},
     "output_type": "execute_result"
    }
   ],
   "source": [
    "alt.Chart(two).mark_line().encode(\n",
    "    x='time:T',\n",
    "    y='distance',\n",
    "    color='runner'\n",
    ").properties(title='Ultra Runners')"
   ]
  },
  {
   "cell_type": "code",
   "execution_count": 22,
   "metadata": {},
   "outputs": [
    {
     "data": {
      "text/html": [
       "\n",
       "<div id=\"altair-viz-9f5e3ce351ff43058392f66262659699\"></div>\n",
       "<script type=\"text/javascript\">\n",
       "  (function(spec, embedOpt){\n",
       "    const outputDiv = document.getElementById(\"altair-viz-9f5e3ce351ff43058392f66262659699\");\n",
       "    const paths = {\n",
       "      \"vega\": \"https://cdn.jsdelivr.net/npm//vega@5?noext\",\n",
       "      \"vega-lib\": \"https://cdn.jsdelivr.net/npm//vega-lib?noext\",\n",
       "      \"vega-lite\": \"https://cdn.jsdelivr.net/npm//vega-lite@4.0.2?noext\",\n",
       "      \"vega-embed\": \"https://cdn.jsdelivr.net/npm//vega-embed@6?noext\",\n",
       "    };\n",
       "\n",
       "    function loadScript(lib) {\n",
       "      return new Promise(function(resolve, reject) {\n",
       "        var s = document.createElement('script');\n",
       "        s.src = paths[lib];\n",
       "        s.async = true;\n",
       "        s.onload = () => resolve(paths[lib]);\n",
       "        s.onerror = () => reject(`Error loading script: ${paths[lib]}`);\n",
       "        document.getElementsByTagName(\"head\")[0].appendChild(s);\n",
       "      });\n",
       "    }\n",
       "\n",
       "    function showError(err) {\n",
       "      outputDiv.innerHTML = `<div class=\"error\" style=\"color:red;\">${err}</div>`;\n",
       "      throw err;\n",
       "    }\n",
       "\n",
       "    function displayChart(vegaEmbed) {\n",
       "      vegaEmbed(outputDiv, spec, embedOpt)\n",
       "        .catch(err => showError(`Javascript Error: ${err.message}<br>This usually means there's a typo in your chart specification. See the javascript console for the full traceback.`));\n",
       "    }\n",
       "\n",
       "    if(typeof define === \"function\" && define.amd) {\n",
       "      requirejs.config({paths});\n",
       "      require([\"vega-embed\"], displayChart, err => showError(`Error loading script: ${err.message}`));\n",
       "    } else if (typeof vegaEmbed === \"function\") {\n",
       "      displayChart(vegaEmbed);\n",
       "    } else {\n",
       "      loadScript(\"vega\")\n",
       "        .then(() => loadScript(\"vega-lite\"))\n",
       "        .then(() => loadScript(\"vega-embed\"))\n",
       "        .catch(showError)\n",
       "        .then(() => displayChart(vegaEmbed));\n",
       "    }\n",
       "  })({\"config\": {\"view\": {\"continuousWidth\": 400, \"continuousHeight\": 300}}, \"data\": {\"name\": \"data-4fda701406295302c275db25e8d7a0e7\"}, \"mark\": {\"type\": \"line\", \"size\": 3}, \"encoding\": {\"color\": {\"type\": \"nominal\", \"field\": \"runner\", \"legend\": {\"orient\": \"top\", \"title\": null}, \"scale\": {\"domain\": [\"Rich H.\", \"Emma S.\"], \"range\": [\"blue\", \"pink\"]}}, \"x\": {\"type\": \"temporal\", \"field\": \"time\", \"title\": \"Timestamp\"}, \"y\": {\"type\": \"quantitative\", \"field\": \"distance\", \"title\": \"Miles\"}}, \"height\": 200, \"title\": \"My Dad vs. a 9 year-old\", \"width\": 400, \"$schema\": \"https://vega.github.io/schema/vega-lite/v4.0.2.json\", \"datasets\": {\"data-4fda701406295302c275db25e8d7a0e7\": [{\"time\": \"2019-03-24T18:00:00\", \"distance\": 0.0, \"runner\": \"Emma S.\", \"dsplit\": 7.822755, \"mph\": 3.9113775, \"hour\": 0}, {\"time\": \"2019-03-24T20:00:00\", \"distance\": 7.822755, \"runner\": \"Emma S.\", \"dsplit\": 7.822755, \"mph\": 3.9113775, \"hour\": 2}, {\"time\": \"2019-03-24T22:00:00\", \"distance\": 15.64551, \"runner\": \"Emma S.\", \"dsplit\": 5.21517, \"mph\": 2.607585, \"hour\": 4}, {\"time\": \"2019-03-25T06:00:00\", \"distance\": 20.86068, \"runner\": \"Emma S.\", \"dsplit\": 0.0, \"mph\": 0.0, \"hour\": 12}, {\"time\": \"2019-03-25T04:00:00\", \"distance\": 20.86068, \"runner\": \"Emma S.\", \"dsplit\": 0.0, \"mph\": 0.0, \"hour\": 10}, {\"time\": \"2019-03-25T02:00:00\", \"distance\": 20.86068, \"runner\": \"Emma S.\", \"dsplit\": 0.0, \"mph\": 0.0, \"hour\": 8}, {\"time\": \"2019-03-24T23:59:00\", \"distance\": 20.86068, \"runner\": \"Emma S.\", \"dsplit\": 7.822755, \"mph\": 3.9113775, \"hour\": 6}, {\"time\": \"2019-03-25T08:00:00\", \"distance\": 28.683435, \"runner\": \"Emma S.\", \"dsplit\": 5.21517, \"mph\": 2.607585, \"hour\": 14}, {\"time\": \"2019-03-25T10:00:00\", \"distance\": 33.898605, \"runner\": \"Emma S.\", \"dsplit\": 7.82275499999999, \"mph\": 3.9113775, \"hour\": 16}, {\"time\": \"2019-03-25T12:01:00\", \"distance\": 41.72136, \"runner\": \"Emma S.\", \"dsplit\": 2.607585, \"mph\": 1.3037925, \"hour\": 18}, {\"time\": \"2019-03-25T14:00:00\", \"distance\": 44.328945, \"runner\": \"Emma S.\", \"dsplit\": 7.822755, \"mph\": 3.9113775, \"hour\": 20}, {\"time\": \"2019-03-25T16:00:00\", \"distance\": 52.1517, \"runner\": \"Emma S.\", \"dsplit\": 2.607585, \"mph\": 1.3037925, \"hour\": 22}, {\"time\": \"2019-03-25T18:00:00\", \"distance\": 54.759285, \"runner\": \"Emma S.\", \"dsplit\": 5.21517, \"mph\": 2.607585, \"hour\": 24}, {\"time\": \"2019-03-25T20:00:00\", \"distance\": 59.974455000000006, \"runner\": \"Emma S.\", \"dsplit\": 5.2151700000000085, \"mph\": 2.607585, \"hour\": 26}, {\"time\": \"2019-03-25T22:00:00\", \"distance\": 65.189625, \"runner\": \"Emma S.\", \"dsplit\": 2.607585, \"mph\": 1.3037925, \"hour\": 28}, {\"time\": \"2019-03-26T06:00:00\", \"distance\": 67.79720999999999, \"runner\": \"Emma S.\", \"dsplit\": 0.0, \"mph\": 0.0, \"hour\": 36}, {\"time\": \"2019-03-26T04:00:00\", \"distance\": 67.79720999999999, \"runner\": \"Emma S.\", \"dsplit\": 0.0, \"mph\": 0.0, \"hour\": 34}, {\"time\": \"2019-03-26T02:00:00\", \"distance\": 67.79720999999999, \"runner\": \"Emma S.\", \"dsplit\": 0.0, \"mph\": 0.0, \"hour\": 32}, {\"time\": \"2019-03-25T23:59:00\", \"distance\": 67.79720999999999, \"runner\": \"Emma S.\", \"dsplit\": 5.215169999999991, \"mph\": 2.60758499999999, \"hour\": 30}, {\"time\": \"2019-03-26T08:00:00\", \"distance\": 73.01238000000002, \"runner\": \"Emma S.\", \"dsplit\": 2.607585, \"mph\": 1.3037925, \"hour\": 38}, {\"time\": \"2019-03-26T10:00:00\", \"distance\": 75.61996500000002, \"runner\": \"Emma S.\", \"dsplit\": 7.822755, \"mph\": 3.9113775, \"hour\": 40}, {\"time\": \"2019-03-26T12:01:00\", \"distance\": 83.44272, \"runner\": \"Emma S.\", \"dsplit\": 5.21517, \"mph\": 2.607585, \"hour\": 42}, {\"time\": \"2019-03-26T14:00:00\", \"distance\": 88.65789000000002, \"runner\": \"Emma S.\", \"dsplit\": 7.822755, \"mph\": 3.9113775, \"hour\": 44}, {\"time\": \"2019-03-26T16:00:00\", \"distance\": 96.480645, \"runner\": \"Emma S.\", \"dsplit\": 6.807585, \"mph\": 3.4037925, \"hour\": 46}, {\"time\": \"2019-03-26T18:00:00\", \"distance\": 103.28823, \"runner\": \"Emma S.\", \"dsplit\": null, \"mph\": null, \"hour\": 48}, {\"time\": \"2019-03-24T18:00:00\", \"distance\": 0.0, \"runner\": \"Rich H.\", \"dsplit\": 10.43034, \"mph\": 5.21517, \"hour\": 0}, {\"time\": \"2019-03-24T20:00:00\", \"distance\": 10.43034, \"runner\": \"Rich H.\", \"dsplit\": 10.43034, \"mph\": 5.21517, \"hour\": 2}, {\"time\": \"2019-03-24T22:00:00\", \"distance\": 20.86068, \"runner\": \"Rich H.\", \"dsplit\": 7.822755, \"mph\": 3.9113775, \"hour\": 4}, {\"time\": \"2019-03-24T23:59:00\", \"distance\": 28.683435, \"runner\": \"Rich H.\", \"dsplit\": 7.822755, \"mph\": 3.9113775, \"hour\": 6}, {\"time\": \"2019-03-25T02:00:00\", \"distance\": 36.50619, \"runner\": \"Rich H.\", \"dsplit\": 7.822755, \"mph\": 3.9113775, \"hour\": 8}, {\"time\": \"2019-03-25T04:00:00\", \"distance\": 44.328945, \"runner\": \"Rich H.\", \"dsplit\": 5.21517, \"mph\": 2.607585, \"hour\": 10}, {\"time\": \"2019-03-25T06:00:00\", \"distance\": 49.54411500000001, \"runner\": \"Rich H.\", \"dsplit\": 2.607585, \"mph\": 1.3037925, \"hour\": 12}, {\"time\": \"2019-03-25T08:00:00\", \"distance\": 52.1517, \"runner\": \"Rich H.\", \"dsplit\": 5.21517, \"mph\": 2.607585, \"hour\": 14}, {\"time\": \"2019-03-25T10:00:00\", \"distance\": 57.36687, \"runner\": \"Rich H.\", \"dsplit\": 7.82275500000001, \"mph\": 3.9113775, \"hour\": 16}, {\"time\": \"2019-03-25T12:01:00\", \"distance\": 65.189625, \"runner\": \"Rich H.\", \"dsplit\": 2.607585, \"mph\": 1.3037925, \"hour\": 18}, {\"time\": \"2019-03-25T14:00:00\", \"distance\": 67.79720999999999, \"runner\": \"Rich H.\", \"dsplit\": 5.215169999999991, \"mph\": 2.60758499999999, \"hour\": 20}, {\"time\": \"2019-03-25T16:00:00\", \"distance\": 73.01238000000002, \"runner\": \"Rich H.\", \"dsplit\": 5.21517, \"mph\": 2.607585, \"hour\": 22}, {\"time\": \"2019-03-25T18:00:00\", \"distance\": 78.22755, \"runner\": \"Rich H.\", \"dsplit\": 2.607585, \"mph\": 1.3037925, \"hour\": 24}, {\"time\": \"2019-03-25T20:00:00\", \"distance\": 80.835135, \"runner\": \"Rich H.\", \"dsplit\": 2.607585, \"mph\": 1.3037925, \"hour\": 26}, {\"time\": \"2019-03-25T22:00:00\", \"distance\": 83.44272, \"runner\": \"Rich H.\", \"dsplit\": 5.21517, \"mph\": 2.607585, \"hour\": 28}, {\"time\": \"2019-03-25T23:59:00\", \"distance\": 88.65789000000002, \"runner\": \"Rich H.\", \"dsplit\": 2.607585, \"mph\": 1.3037925, \"hour\": 30}, {\"time\": \"2019-03-26T02:00:00\", \"distance\": 91.265475, \"runner\": \"Rich H.\", \"dsplit\": 2.607585, \"mph\": 1.3037925, \"hour\": 32}, {\"time\": \"2019-03-26T04:00:00\", \"distance\": 93.87306, \"runner\": \"Rich H.\", \"dsplit\": 5.21517, \"mph\": 2.607585, \"hour\": 34}, {\"time\": \"2019-03-26T08:00:00\", \"distance\": 99.08823, \"runner\": \"Rich H.\", \"dsplit\": 0.0, \"mph\": 0.0, \"hour\": 38}, {\"time\": \"2019-03-26T06:00:00\", \"distance\": 99.08823, \"runner\": \"Rich H.\", \"dsplit\": 2.607585, \"mph\": 1.3037925, \"hour\": 36}, {\"time\": \"2019-03-26T10:00:00\", \"distance\": 101.695815, \"runner\": \"Rich H.\", \"dsplit\": 5.21517, \"mph\": 2.607585, \"hour\": 40}, {\"time\": \"2019-03-26T14:00:00\", \"distance\": 106.910985, \"runner\": \"Rich H.\", \"dsplit\": 0.0, \"mph\": 0.0, \"hour\": 44}, {\"time\": \"2019-03-26T12:01:00\", \"distance\": 106.910985, \"runner\": \"Rich H.\", \"dsplit\": 5.21517, \"mph\": 2.607585, \"hour\": 42}, {\"time\": \"2019-03-26T16:00:00\", \"distance\": 112.126155, \"runner\": \"Rich H.\", \"dsplit\": 4.0075850000000095, \"mph\": 2.0037925, \"hour\": 46}, {\"time\": \"2019-03-26T18:00:00\", \"distance\": 116.13374, \"runner\": \"Rich H.\", \"dsplit\": null, \"mph\": null, \"hour\": 48}]}}, {\"mode\": \"vega-lite\"});\n",
       "</script>"
      ],
      "text/plain": [
       "alt.Chart(...)"
      ]
     },
     "execution_count": 22,
     "metadata": {},
     "output_type": "execute_result"
    }
   ],
   "source": [
    "(\n",
    "    alt.Chart(two)\n",
    "    .mark_line(size=3)\n",
    "    .encode(\n",
    "        x=alt.X('time:T', title='Timestamp'),\n",
    "        y=alt.Y('distance', title='Miles'),\n",
    "        color=alt.Color(\n",
    "            'runner', \n",
    "            scale=alt.Scale(domain=['Rich H.', 'Emma S.'], range=['blue', 'pink']),\n",
    "            legend=alt.Legend(title=None, orient='top')\n",
    "        )\n",
    "    )\n",
    "    .properties(\n",
    "        title='My Dad vs. a 9 year-old',\n",
    "        width=400,\n",
    "        height=200\n",
    "    )\n",
    ")"
   ]
  },
  {
   "cell_type": "markdown",
   "metadata": {},
   "source": [
    "#### Exercise\n",
    "\n",
    "Build an Altair chart to compare the attitudes of two different religions in the `sex` data set!"
   ]
  }
 ],
 "metadata": {
  "kernelspec": {
   "display_name": "Python 3",
   "language": "python",
   "name": "python3"
  },
  "language_info": {
   "codemirror_mode": {
    "name": "ipython",
    "version": 3
   },
   "file_extension": ".py",
   "mimetype": "text/x-python",
   "name": "python",
   "nbconvert_exporter": "python",
   "pygments_lexer": "ipython3",
   "version": "3.7.4"
  }
 },
 "nbformat": 4,
 "nbformat_minor": 2
}
