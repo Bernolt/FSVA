{
 "cells": [
  {
   "cell_type": "markdown",
   "metadata": {},
   "source": [
    "### Customization"
   ]
  },
  {
   "cell_type": "code",
   "execution_count": 1,
   "metadata": {},
   "outputs": [],
   "source": [
    "import altair as alt\n",
    "import pandas as pd"
   ]
  },
  {
   "cell_type": "markdown",
   "metadata": {},
   "source": [
    "#### Colours"
   ]
  },
  {
   "cell_type": "markdown",
   "metadata": {},
   "source": [
    "[Inspiration](https://www.youtube.com/watch?v=dwSe2imUyvg)"
   ]
  },
  {
   "cell_type": "code",
   "execution_count": 2,
   "metadata": {},
   "outputs": [],
   "source": [
    "owl = pd.read_csv('../data/owl.csv')"
   ]
  },
  {
   "cell_type": "code",
   "execution_count": 3,
   "metadata": {},
   "outputs": [
    {
     "data": {
      "text/html": [
       "\n",
       "<div id=\"altair-viz-43facaf38a304490b9ef0a48b949c4e7\"></div>\n",
       "<script type=\"text/javascript\">\n",
       "  (function(spec, embedOpt){\n",
       "    const outputDiv = document.getElementById(\"altair-viz-43facaf38a304490b9ef0a48b949c4e7\");\n",
       "    const paths = {\n",
       "      \"vega\": \"https://cdn.jsdelivr.net/npm//vega@5?noext\",\n",
       "      \"vega-lib\": \"https://cdn.jsdelivr.net/npm//vega-lib?noext\",\n",
       "      \"vega-lite\": \"https://cdn.jsdelivr.net/npm//vega-lite@4.0.2?noext\",\n",
       "      \"vega-embed\": \"https://cdn.jsdelivr.net/npm//vega-embed@6?noext\",\n",
       "    };\n",
       "\n",
       "    function loadScript(lib) {\n",
       "      return new Promise(function(resolve, reject) {\n",
       "        var s = document.createElement('script');\n",
       "        s.src = paths[lib];\n",
       "        s.async = true;\n",
       "        s.onload = () => resolve(paths[lib]);\n",
       "        s.onerror = () => reject(`Error loading script: ${paths[lib]}`);\n",
       "        document.getElementsByTagName(\"head\")[0].appendChild(s);\n",
       "      });\n",
       "    }\n",
       "\n",
       "    function showError(err) {\n",
       "      outputDiv.innerHTML = `<div class=\"error\" style=\"color:red;\">${err}</div>`;\n",
       "      throw err;\n",
       "    }\n",
       "\n",
       "    function displayChart(vegaEmbed) {\n",
       "      vegaEmbed(outputDiv, spec, embedOpt)\n",
       "        .catch(err => showError(`Javascript Error: ${err.message}<br>This usually means there's a typo in your chart specification. See the javascript console for the full traceback.`));\n",
       "    }\n",
       "\n",
       "    if(typeof define === \"function\" && define.amd) {\n",
       "      requirejs.config({paths});\n",
       "      require([\"vega-embed\"], displayChart, err => showError(`Error loading script: ${err.message}`));\n",
       "    } else if (typeof vegaEmbed === \"function\") {\n",
       "      displayChart(vegaEmbed);\n",
       "    } else {\n",
       "      loadScript(\"vega\")\n",
       "        .then(() => loadScript(\"vega-lite\"))\n",
       "        .then(() => loadScript(\"vega-embed\"))\n",
       "        .catch(showError)\n",
       "        .then(() => displayChart(vegaEmbed));\n",
       "    }\n",
       "  })({\"config\": {\"view\": {\"continuousWidth\": 400, \"continuousHeight\": 300}}, \"data\": {\"name\": \"data-2a6700b88613219c0348f5ad71778108\"}, \"mark\": \"rect\", \"encoding\": {\"color\": {\"type\": \"nominal\", \"field\": \"Colour\"}, \"x\": {\"type\": \"ordinal\", \"field\": \"X\"}, \"y\": {\"type\": \"ordinal\", \"field\": \"Y\"}}, \"$schema\": \"https://vega.github.io/schema/vega-lite/v4.0.2.json\", \"datasets\": {\"data-2a6700b88613219c0348f5ad71778108\": [{\"X\": 1, \"Y\": 1, \"Colour\": \"Blue\"}, {\"X\": 1, \"Y\": 2, \"Colour\": \"Blue\"}, {\"X\": 1, \"Y\": 3, \"Colour\": \"Blue\"}, {\"X\": 1, \"Y\": 4, \"Colour\": \"Blue\"}, {\"X\": 1, \"Y\": 5, \"Colour\": \"Blue\"}, {\"X\": 1, \"Y\": 6, \"Colour\": \"Blue\"}, {\"X\": 1, \"Y\": 7, \"Colour\": \"Blue\"}, {\"X\": 1, \"Y\": 8, \"Colour\": \"Blue\"}, {\"X\": 1, \"Y\": 9, \"Colour\": \"Blue\"}, {\"X\": 1, \"Y\": 10, \"Colour\": \"Blue\"}, {\"X\": 1, \"Y\": 11, \"Colour\": \"Blue\"}, {\"X\": 2, \"Y\": 1, \"Colour\": \"Dark Brown\"}, {\"X\": 2, \"Y\": 2, \"Colour\": \"Dark Brown\"}, {\"X\": 2, \"Y\": 3, \"Colour\": \"Dark Brown\"}, {\"X\": 2, \"Y\": 4, \"Colour\": \"Brown\"}, {\"X\": 2, \"Y\": 5, \"Colour\": \"Light Blue\"}, {\"X\": 2, \"Y\": 6, \"Colour\": \"Light Blue\"}, {\"X\": 2, \"Y\": 7, \"Colour\": \"Light Blue\"}, {\"X\": 2, \"Y\": 8, \"Colour\": \"Light Blue\"}, {\"X\": 2, \"Y\": 9, \"Colour\": \"Light Blue\"}, {\"X\": 2, \"Y\": 10, \"Colour\": \"Light Blue\"}, {\"X\": 2, \"Y\": 11, \"Colour\": \"Blue\"}, {\"X\": 3, \"Y\": 1, \"Colour\": \"Brown\"}, {\"X\": 3, \"Y\": 2, \"Colour\": \"Brown\"}, {\"X\": 3, \"Y\": 3, \"Colour\": \"Brown\"}, {\"X\": 3, \"Y\": 4, \"Colour\": \"Dark Brown\"}, {\"X\": 3, \"Y\": 5, \"Colour\": \"Dark Brown\"}, {\"X\": 3, \"Y\": 6, \"Colour\": \"Dark Brown\"}, {\"X\": 3, \"Y\": 7, \"Colour\": \"Dark Brown\"}, {\"X\": 3, \"Y\": 8, \"Colour\": \"Dark Brown\"}, {\"X\": 3, \"Y\": 9, \"Colour\": \"Dark Brown\"}, {\"X\": 3, \"Y\": 10, \"Colour\": \"Light Blue\"}, {\"X\": 3, \"Y\": 11, \"Colour\": \"Blue\"}, {\"X\": 4, \"Y\": 1, \"Colour\": \"Brown\"}, {\"X\": 4, \"Y\": 2, \"Colour\": \"Brown\"}, {\"X\": 4, \"Y\": 3, \"Colour\": \"Brown\"}, {\"X\": 4, \"Y\": 4, \"Colour\": \"Brown\"}, {\"X\": 4, \"Y\": 5, \"Colour\": \"Brown\"}, {\"X\": 4, \"Y\": 6, \"Colour\": \"White\"}, {\"X\": 4, \"Y\": 7, \"Colour\": \"White\"}, {\"X\": 4, \"Y\": 8, \"Colour\": \"Brown\"}, {\"X\": 4, \"Y\": 9, \"Colour\": \"Brown\"}, {\"X\": 4, \"Y\": 10, \"Colour\": \"Dark Brown\"}, {\"X\": 4, \"Y\": 11, \"Colour\": \"Blue\"}, {\"X\": 5, \"Y\": 1, \"Colour\": \"Brown\"}, {\"X\": 5, \"Y\": 2, \"Colour\": \"Brown\"}, {\"X\": 5, \"Y\": 3, \"Colour\": \"Brown\"}, {\"X\": 5, \"Y\": 4, \"Colour\": \"Brown\"}, {\"X\": 5, \"Y\": 5, \"Colour\": \"Brown\"}, {\"X\": 5, \"Y\": 6, \"Colour\": \"Black\"}, {\"X\": 5, \"Y\": 7, \"Colour\": \"White\"}, {\"X\": 5, \"Y\": 8, \"Colour\": \"Brown\"}, {\"X\": 5, \"Y\": 9, \"Colour\": \"Dark Brown\"}, {\"X\": 5, \"Y\": 10, \"Colour\": \"Light Blue\"}, {\"X\": 5, \"Y\": 11, \"Colour\": \"Blue\"}, {\"X\": 6, \"Y\": 1, \"Colour\": \"Brown\"}, {\"X\": 6, \"Y\": 2, \"Colour\": \"Brown\"}, {\"X\": 6, \"Y\": 3, \"Colour\": \"Brown\"}, {\"X\": 6, \"Y\": 4, \"Colour\": \"Yellow\"}, {\"X\": 6, \"Y\": 5, \"Colour\": \"Yellow\"}, {\"X\": 6, \"Y\": 6, \"Colour\": \"Brown\"}, {\"X\": 6, \"Y\": 7, \"Colour\": \"Brown\"}, {\"X\": 6, \"Y\": 8, \"Colour\": \"Dark Brown\"}, {\"X\": 6, \"Y\": 9, \"Colour\": \"Brown\"}, {\"X\": 6, \"Y\": 10, \"Colour\": \"Light Blue\"}, {\"X\": 6, \"Y\": 11, \"Colour\": \"Blue\"}, {\"X\": 7, \"Y\": 1, \"Colour\": \"Brown\"}, {\"X\": 7, \"Y\": 2, \"Colour\": \"Brown\"}, {\"X\": 7, \"Y\": 3, \"Colour\": \"Brown\"}, {\"X\": 7, \"Y\": 4, \"Colour\": \"Brown\"}, {\"X\": 7, \"Y\": 5, \"Colour\": \"Brown\"}, {\"X\": 7, \"Y\": 6, \"Colour\": \"Black\"}, {\"X\": 7, \"Y\": 7, \"Colour\": \"White\"}, {\"X\": 7, \"Y\": 8, \"Colour\": \"Brown\"}, {\"X\": 7, \"Y\": 9, \"Colour\": \"Dark Brown\"}, {\"X\": 7, \"Y\": 10, \"Colour\": \"Light Blue\"}, {\"X\": 7, \"Y\": 11, \"Colour\": \"Blue\"}, {\"X\": 8, \"Y\": 1, \"Colour\": \"Brown\"}, {\"X\": 8, \"Y\": 2, \"Colour\": \"Brown\"}, {\"X\": 8, \"Y\": 3, \"Colour\": \"Brown\"}, {\"X\": 8, \"Y\": 4, \"Colour\": \"Brown\"}, {\"X\": 8, \"Y\": 5, \"Colour\": \"Brown\"}, {\"X\": 8, \"Y\": 6, \"Colour\": \"White\"}, {\"X\": 8, \"Y\": 7, \"Colour\": \"White\"}, {\"X\": 8, \"Y\": 8, \"Colour\": \"Brown\"}, {\"X\": 8, \"Y\": 9, \"Colour\": \"Brown\"}, {\"X\": 8, \"Y\": 10, \"Colour\": \"Dark Brown\"}, {\"X\": 8, \"Y\": 11, \"Colour\": \"Blue\"}, {\"X\": 9, \"Y\": 1, \"Colour\": \"Brown\"}, {\"X\": 9, \"Y\": 2, \"Colour\": \"Brown\"}, {\"X\": 9, \"Y\": 3, \"Colour\": \"Brown\"}, {\"X\": 9, \"Y\": 4, \"Colour\": \"Dark Brown\"}, {\"X\": 9, \"Y\": 5, \"Colour\": \"Dark Brown\"}, {\"X\": 9, \"Y\": 6, \"Colour\": \"Dark Brown\"}, {\"X\": 9, \"Y\": 7, \"Colour\": \"Dark Brown\"}, {\"X\": 9, \"Y\": 8, \"Colour\": \"Dark Brown\"}, {\"X\": 9, \"Y\": 9, \"Colour\": \"Dark Brown\"}, {\"X\": 9, \"Y\": 10, \"Colour\": \"Light Blue\"}, {\"X\": 9, \"Y\": 11, \"Colour\": \"Blue\"}, {\"X\": 10, \"Y\": 1, \"Colour\": \"Dark Brown\"}, {\"X\": 10, \"Y\": 2, \"Colour\": \"Dark Brown\"}, {\"X\": 10, \"Y\": 3, \"Colour\": \"Dark Brown\"}, {\"X\": 10, \"Y\": 4, \"Colour\": \"Brown\"}, {\"X\": 10, \"Y\": 5, \"Colour\": \"Light Blue\"}, {\"X\": 10, \"Y\": 6, \"Colour\": \"Light Blue\"}, {\"X\": 10, \"Y\": 7, \"Colour\": \"Light Blue\"}, {\"X\": 10, \"Y\": 8, \"Colour\": \"Light Blue\"}, {\"X\": 10, \"Y\": 9, \"Colour\": \"Light Blue\"}, {\"X\": 10, \"Y\": 10, \"Colour\": \"Light Blue\"}, {\"X\": 10, \"Y\": 11, \"Colour\": \"Blue\"}, {\"X\": 11, \"Y\": 1, \"Colour\": \"Blue\"}, {\"X\": 11, \"Y\": 2, \"Colour\": \"Blue\"}, {\"X\": 11, \"Y\": 3, \"Colour\": \"Blue\"}, {\"X\": 11, \"Y\": 4, \"Colour\": \"Blue\"}, {\"X\": 11, \"Y\": 5, \"Colour\": \"Blue\"}, {\"X\": 11, \"Y\": 6, \"Colour\": \"Blue\"}, {\"X\": 11, \"Y\": 7, \"Colour\": \"Blue\"}, {\"X\": 11, \"Y\": 8, \"Colour\": \"Blue\"}, {\"X\": 11, \"Y\": 9, \"Colour\": \"Blue\"}, {\"X\": 11, \"Y\": 10, \"Colour\": \"Blue\"}, {\"X\": 11, \"Y\": 11, \"Colour\": \"Blue\"}]}}, {\"mode\": \"vega-lite\"});\n",
       "</script>"
      ],
      "text/plain": [
       "alt.Chart(...)"
      ]
     },
     "execution_count": 3,
     "metadata": {},
     "output_type": "execute_result"
    }
   ],
   "source": [
    "alt.Chart(owl).mark_rect().encode(\n",
    "    x='X:O',\n",
    "    y='Y:O',\n",
    "    color='Colour:N'\n",
    ")"
   ]
  },
  {
   "cell_type": "code",
   "execution_count": 4,
   "metadata": {},
   "outputs": [
    {
     "data": {
      "text/html": [
       "\n",
       "<div id=\"altair-viz-79aca386256242fc9d0638eeffde172d\"></div>\n",
       "<script type=\"text/javascript\">\n",
       "  (function(spec, embedOpt){\n",
       "    const outputDiv = document.getElementById(\"altair-viz-79aca386256242fc9d0638eeffde172d\");\n",
       "    const paths = {\n",
       "      \"vega\": \"https://cdn.jsdelivr.net/npm//vega@5?noext\",\n",
       "      \"vega-lib\": \"https://cdn.jsdelivr.net/npm//vega-lib?noext\",\n",
       "      \"vega-lite\": \"https://cdn.jsdelivr.net/npm//vega-lite@4.0.2?noext\",\n",
       "      \"vega-embed\": \"https://cdn.jsdelivr.net/npm//vega-embed@6?noext\",\n",
       "    };\n",
       "\n",
       "    function loadScript(lib) {\n",
       "      return new Promise(function(resolve, reject) {\n",
       "        var s = document.createElement('script');\n",
       "        s.src = paths[lib];\n",
       "        s.async = true;\n",
       "        s.onload = () => resolve(paths[lib]);\n",
       "        s.onerror = () => reject(`Error loading script: ${paths[lib]}`);\n",
       "        document.getElementsByTagName(\"head\")[0].appendChild(s);\n",
       "      });\n",
       "    }\n",
       "\n",
       "    function showError(err) {\n",
       "      outputDiv.innerHTML = `<div class=\"error\" style=\"color:red;\">${err}</div>`;\n",
       "      throw err;\n",
       "    }\n",
       "\n",
       "    function displayChart(vegaEmbed) {\n",
       "      vegaEmbed(outputDiv, spec, embedOpt)\n",
       "        .catch(err => showError(`Javascript Error: ${err.message}<br>This usually means there's a typo in your chart specification. See the javascript console for the full traceback.`));\n",
       "    }\n",
       "\n",
       "    if(typeof define === \"function\" && define.amd) {\n",
       "      requirejs.config({paths});\n",
       "      require([\"vega-embed\"], displayChart, err => showError(`Error loading script: ${err.message}`));\n",
       "    } else if (typeof vegaEmbed === \"function\") {\n",
       "      displayChart(vegaEmbed);\n",
       "    } else {\n",
       "      loadScript(\"vega\")\n",
       "        .then(() => loadScript(\"vega-lite\"))\n",
       "        .then(() => loadScript(\"vega-embed\"))\n",
       "        .catch(showError)\n",
       "        .then(() => displayChart(vegaEmbed));\n",
       "    }\n",
       "  })({\"config\": {\"view\": {\"continuousWidth\": 400, \"continuousHeight\": 300}}, \"data\": {\"name\": \"data-2a6700b88613219c0348f5ad71778108\"}, \"mark\": \"rect\", \"encoding\": {\"color\": {\"type\": \"nominal\", \"field\": \"Colour\", \"legend\": null, \"scale\": {\"domain\": [\"Black\", \"Dark Blue\", \"Brown\", \"Dark Brown\", \"Light Blue\", \"White\", \"Yellow\"], \"range\": [\"#000000\", \"#088DA5\", \"#753A10\", \"#48240A\", \"#21CDF2\", \"#FFFFFF\", \"#FFBA3F\"]}}, \"x\": {\"type\": \"ordinal\", \"field\": \"X\"}, \"y\": {\"type\": \"ordinal\", \"field\": \"Y\"}}, \"$schema\": \"https://vega.github.io/schema/vega-lite/v4.0.2.json\", \"datasets\": {\"data-2a6700b88613219c0348f5ad71778108\": [{\"X\": 1, \"Y\": 1, \"Colour\": \"Blue\"}, {\"X\": 1, \"Y\": 2, \"Colour\": \"Blue\"}, {\"X\": 1, \"Y\": 3, \"Colour\": \"Blue\"}, {\"X\": 1, \"Y\": 4, \"Colour\": \"Blue\"}, {\"X\": 1, \"Y\": 5, \"Colour\": \"Blue\"}, {\"X\": 1, \"Y\": 6, \"Colour\": \"Blue\"}, {\"X\": 1, \"Y\": 7, \"Colour\": \"Blue\"}, {\"X\": 1, \"Y\": 8, \"Colour\": \"Blue\"}, {\"X\": 1, \"Y\": 9, \"Colour\": \"Blue\"}, {\"X\": 1, \"Y\": 10, \"Colour\": \"Blue\"}, {\"X\": 1, \"Y\": 11, \"Colour\": \"Blue\"}, {\"X\": 2, \"Y\": 1, \"Colour\": \"Dark Brown\"}, {\"X\": 2, \"Y\": 2, \"Colour\": \"Dark Brown\"}, {\"X\": 2, \"Y\": 3, \"Colour\": \"Dark Brown\"}, {\"X\": 2, \"Y\": 4, \"Colour\": \"Brown\"}, {\"X\": 2, \"Y\": 5, \"Colour\": \"Light Blue\"}, {\"X\": 2, \"Y\": 6, \"Colour\": \"Light Blue\"}, {\"X\": 2, \"Y\": 7, \"Colour\": \"Light Blue\"}, {\"X\": 2, \"Y\": 8, \"Colour\": \"Light Blue\"}, {\"X\": 2, \"Y\": 9, \"Colour\": \"Light Blue\"}, {\"X\": 2, \"Y\": 10, \"Colour\": \"Light Blue\"}, {\"X\": 2, \"Y\": 11, \"Colour\": \"Blue\"}, {\"X\": 3, \"Y\": 1, \"Colour\": \"Brown\"}, {\"X\": 3, \"Y\": 2, \"Colour\": \"Brown\"}, {\"X\": 3, \"Y\": 3, \"Colour\": \"Brown\"}, {\"X\": 3, \"Y\": 4, \"Colour\": \"Dark Brown\"}, {\"X\": 3, \"Y\": 5, \"Colour\": \"Dark Brown\"}, {\"X\": 3, \"Y\": 6, \"Colour\": \"Dark Brown\"}, {\"X\": 3, \"Y\": 7, \"Colour\": \"Dark Brown\"}, {\"X\": 3, \"Y\": 8, \"Colour\": \"Dark Brown\"}, {\"X\": 3, \"Y\": 9, \"Colour\": \"Dark Brown\"}, {\"X\": 3, \"Y\": 10, \"Colour\": \"Light Blue\"}, {\"X\": 3, \"Y\": 11, \"Colour\": \"Blue\"}, {\"X\": 4, \"Y\": 1, \"Colour\": \"Brown\"}, {\"X\": 4, \"Y\": 2, \"Colour\": \"Brown\"}, {\"X\": 4, \"Y\": 3, \"Colour\": \"Brown\"}, {\"X\": 4, \"Y\": 4, \"Colour\": \"Brown\"}, {\"X\": 4, \"Y\": 5, \"Colour\": \"Brown\"}, {\"X\": 4, \"Y\": 6, \"Colour\": \"White\"}, {\"X\": 4, \"Y\": 7, \"Colour\": \"White\"}, {\"X\": 4, \"Y\": 8, \"Colour\": \"Brown\"}, {\"X\": 4, \"Y\": 9, \"Colour\": \"Brown\"}, {\"X\": 4, \"Y\": 10, \"Colour\": \"Dark Brown\"}, {\"X\": 4, \"Y\": 11, \"Colour\": \"Blue\"}, {\"X\": 5, \"Y\": 1, \"Colour\": \"Brown\"}, {\"X\": 5, \"Y\": 2, \"Colour\": \"Brown\"}, {\"X\": 5, \"Y\": 3, \"Colour\": \"Brown\"}, {\"X\": 5, \"Y\": 4, \"Colour\": \"Brown\"}, {\"X\": 5, \"Y\": 5, \"Colour\": \"Brown\"}, {\"X\": 5, \"Y\": 6, \"Colour\": \"Black\"}, {\"X\": 5, \"Y\": 7, \"Colour\": \"White\"}, {\"X\": 5, \"Y\": 8, \"Colour\": \"Brown\"}, {\"X\": 5, \"Y\": 9, \"Colour\": \"Dark Brown\"}, {\"X\": 5, \"Y\": 10, \"Colour\": \"Light Blue\"}, {\"X\": 5, \"Y\": 11, \"Colour\": \"Blue\"}, {\"X\": 6, \"Y\": 1, \"Colour\": \"Brown\"}, {\"X\": 6, \"Y\": 2, \"Colour\": \"Brown\"}, {\"X\": 6, \"Y\": 3, \"Colour\": \"Brown\"}, {\"X\": 6, \"Y\": 4, \"Colour\": \"Yellow\"}, {\"X\": 6, \"Y\": 5, \"Colour\": \"Yellow\"}, {\"X\": 6, \"Y\": 6, \"Colour\": \"Brown\"}, {\"X\": 6, \"Y\": 7, \"Colour\": \"Brown\"}, {\"X\": 6, \"Y\": 8, \"Colour\": \"Dark Brown\"}, {\"X\": 6, \"Y\": 9, \"Colour\": \"Brown\"}, {\"X\": 6, \"Y\": 10, \"Colour\": \"Light Blue\"}, {\"X\": 6, \"Y\": 11, \"Colour\": \"Blue\"}, {\"X\": 7, \"Y\": 1, \"Colour\": \"Brown\"}, {\"X\": 7, \"Y\": 2, \"Colour\": \"Brown\"}, {\"X\": 7, \"Y\": 3, \"Colour\": \"Brown\"}, {\"X\": 7, \"Y\": 4, \"Colour\": \"Brown\"}, {\"X\": 7, \"Y\": 5, \"Colour\": \"Brown\"}, {\"X\": 7, \"Y\": 6, \"Colour\": \"Black\"}, {\"X\": 7, \"Y\": 7, \"Colour\": \"White\"}, {\"X\": 7, \"Y\": 8, \"Colour\": \"Brown\"}, {\"X\": 7, \"Y\": 9, \"Colour\": \"Dark Brown\"}, {\"X\": 7, \"Y\": 10, \"Colour\": \"Light Blue\"}, {\"X\": 7, \"Y\": 11, \"Colour\": \"Blue\"}, {\"X\": 8, \"Y\": 1, \"Colour\": \"Brown\"}, {\"X\": 8, \"Y\": 2, \"Colour\": \"Brown\"}, {\"X\": 8, \"Y\": 3, \"Colour\": \"Brown\"}, {\"X\": 8, \"Y\": 4, \"Colour\": \"Brown\"}, {\"X\": 8, \"Y\": 5, \"Colour\": \"Brown\"}, {\"X\": 8, \"Y\": 6, \"Colour\": \"White\"}, {\"X\": 8, \"Y\": 7, \"Colour\": \"White\"}, {\"X\": 8, \"Y\": 8, \"Colour\": \"Brown\"}, {\"X\": 8, \"Y\": 9, \"Colour\": \"Brown\"}, {\"X\": 8, \"Y\": 10, \"Colour\": \"Dark Brown\"}, {\"X\": 8, \"Y\": 11, \"Colour\": \"Blue\"}, {\"X\": 9, \"Y\": 1, \"Colour\": \"Brown\"}, {\"X\": 9, \"Y\": 2, \"Colour\": \"Brown\"}, {\"X\": 9, \"Y\": 3, \"Colour\": \"Brown\"}, {\"X\": 9, \"Y\": 4, \"Colour\": \"Dark Brown\"}, {\"X\": 9, \"Y\": 5, \"Colour\": \"Dark Brown\"}, {\"X\": 9, \"Y\": 6, \"Colour\": \"Dark Brown\"}, {\"X\": 9, \"Y\": 7, \"Colour\": \"Dark Brown\"}, {\"X\": 9, \"Y\": 8, \"Colour\": \"Dark Brown\"}, {\"X\": 9, \"Y\": 9, \"Colour\": \"Dark Brown\"}, {\"X\": 9, \"Y\": 10, \"Colour\": \"Light Blue\"}, {\"X\": 9, \"Y\": 11, \"Colour\": \"Blue\"}, {\"X\": 10, \"Y\": 1, \"Colour\": \"Dark Brown\"}, {\"X\": 10, \"Y\": 2, \"Colour\": \"Dark Brown\"}, {\"X\": 10, \"Y\": 3, \"Colour\": \"Dark Brown\"}, {\"X\": 10, \"Y\": 4, \"Colour\": \"Brown\"}, {\"X\": 10, \"Y\": 5, \"Colour\": \"Light Blue\"}, {\"X\": 10, \"Y\": 6, \"Colour\": \"Light Blue\"}, {\"X\": 10, \"Y\": 7, \"Colour\": \"Light Blue\"}, {\"X\": 10, \"Y\": 8, \"Colour\": \"Light Blue\"}, {\"X\": 10, \"Y\": 9, \"Colour\": \"Light Blue\"}, {\"X\": 10, \"Y\": 10, \"Colour\": \"Light Blue\"}, {\"X\": 10, \"Y\": 11, \"Colour\": \"Blue\"}, {\"X\": 11, \"Y\": 1, \"Colour\": \"Blue\"}, {\"X\": 11, \"Y\": 2, \"Colour\": \"Blue\"}, {\"X\": 11, \"Y\": 3, \"Colour\": \"Blue\"}, {\"X\": 11, \"Y\": 4, \"Colour\": \"Blue\"}, {\"X\": 11, \"Y\": 5, \"Colour\": \"Blue\"}, {\"X\": 11, \"Y\": 6, \"Colour\": \"Blue\"}, {\"X\": 11, \"Y\": 7, \"Colour\": \"Blue\"}, {\"X\": 11, \"Y\": 8, \"Colour\": \"Blue\"}, {\"X\": 11, \"Y\": 9, \"Colour\": \"Blue\"}, {\"X\": 11, \"Y\": 10, \"Colour\": \"Blue\"}, {\"X\": 11, \"Y\": 11, \"Colour\": \"Blue\"}]}}, {\"mode\": \"vega-lite\"});\n",
       "</script>"
      ],
      "text/plain": [
       "alt.Chart(...)"
      ]
     },
     "execution_count": 4,
     "metadata": {},
     "output_type": "execute_result"
    }
   ],
   "source": [
    "alt.Chart(owl).mark_rect().encode(\n",
    "    x='X:O',\n",
    "    y='Y:O',\n",
    "    color=alt.Color('Colour', \n",
    "        scale=alt.Scale(\n",
    "        domain=['Black', 'Dark Blue', 'Brown', 'Dark Brown', 'Light Blue', 'White', 'Yellow'], \n",
    "        range=[\"#000000\", \"#088DA5\", \"#753A10\", \"#48240A\", \"#21CDF2\", \"#FFFFFF\", \"#FFBA3F\"]\n",
    "    ),\n",
    "    legend=None)\n",
    ")"
   ]
  },
  {
   "cell_type": "code",
   "execution_count": 5,
   "metadata": {},
   "outputs": [
    {
     "data": {
      "text/html": [
       "\n",
       "<div id=\"altair-viz-3b36b3bae9c045b1b5d024b43cf4e273\"></div>\n",
       "<script type=\"text/javascript\">\n",
       "  (function(spec, embedOpt){\n",
       "    const outputDiv = document.getElementById(\"altair-viz-3b36b3bae9c045b1b5d024b43cf4e273\");\n",
       "    const paths = {\n",
       "      \"vega\": \"https://cdn.jsdelivr.net/npm//vega@5?noext\",\n",
       "      \"vega-lib\": \"https://cdn.jsdelivr.net/npm//vega-lib?noext\",\n",
       "      \"vega-lite\": \"https://cdn.jsdelivr.net/npm//vega-lite@4.0.2?noext\",\n",
       "      \"vega-embed\": \"https://cdn.jsdelivr.net/npm//vega-embed@6?noext\",\n",
       "    };\n",
       "\n",
       "    function loadScript(lib) {\n",
       "      return new Promise(function(resolve, reject) {\n",
       "        var s = document.createElement('script');\n",
       "        s.src = paths[lib];\n",
       "        s.async = true;\n",
       "        s.onload = () => resolve(paths[lib]);\n",
       "        s.onerror = () => reject(`Error loading script: ${paths[lib]}`);\n",
       "        document.getElementsByTagName(\"head\")[0].appendChild(s);\n",
       "      });\n",
       "    }\n",
       "\n",
       "    function showError(err) {\n",
       "      outputDiv.innerHTML = `<div class=\"error\" style=\"color:red;\">${err}</div>`;\n",
       "      throw err;\n",
       "    }\n",
       "\n",
       "    function displayChart(vegaEmbed) {\n",
       "      vegaEmbed(outputDiv, spec, embedOpt)\n",
       "        .catch(err => showError(`Javascript Error: ${err.message}<br>This usually means there's a typo in your chart specification. See the javascript console for the full traceback.`));\n",
       "    }\n",
       "\n",
       "    if(typeof define === \"function\" && define.amd) {\n",
       "      requirejs.config({paths});\n",
       "      require([\"vega-embed\"], displayChart, err => showError(`Error loading script: ${err.message}`));\n",
       "    } else if (typeof vegaEmbed === \"function\") {\n",
       "      displayChart(vegaEmbed);\n",
       "    } else {\n",
       "      loadScript(\"vega\")\n",
       "        .then(() => loadScript(\"vega-lite\"))\n",
       "        .then(() => loadScript(\"vega-embed\"))\n",
       "        .catch(showError)\n",
       "        .then(() => displayChart(vegaEmbed));\n",
       "    }\n",
       "  })({\"config\": {\"view\": {\"continuousWidth\": 400, \"continuousHeight\": 300}}, \"data\": {\"name\": \"data-2a6700b88613219c0348f5ad71778108\"}, \"mark\": \"rect\", \"encoding\": {\"color\": {\"type\": \"nominal\", \"field\": \"Colour\", \"legend\": null, \"scale\": {\"domain\": [\"Black\", \"Dark Blue\", \"Brown\", \"Dark Brown\", \"Light Blue\", \"White\", \"Yellow\"], \"range\": [\"#000000\", \"#088DA5\", \"#753A10\", \"#48240A\", \"#21CDF2\", \"#FFFFFF\", \"#FFBA3F\"]}}, \"x\": {\"type\": \"ordinal\", \"field\": \"X\"}, \"y\": {\"type\": \"ordinal\", \"field\": \"Y\", \"sort\": \"descending\"}}, \"$schema\": \"https://vega.github.io/schema/vega-lite/v4.0.2.json\", \"datasets\": {\"data-2a6700b88613219c0348f5ad71778108\": [{\"X\": 1, \"Y\": 1, \"Colour\": \"Blue\"}, {\"X\": 1, \"Y\": 2, \"Colour\": \"Blue\"}, {\"X\": 1, \"Y\": 3, \"Colour\": \"Blue\"}, {\"X\": 1, \"Y\": 4, \"Colour\": \"Blue\"}, {\"X\": 1, \"Y\": 5, \"Colour\": \"Blue\"}, {\"X\": 1, \"Y\": 6, \"Colour\": \"Blue\"}, {\"X\": 1, \"Y\": 7, \"Colour\": \"Blue\"}, {\"X\": 1, \"Y\": 8, \"Colour\": \"Blue\"}, {\"X\": 1, \"Y\": 9, \"Colour\": \"Blue\"}, {\"X\": 1, \"Y\": 10, \"Colour\": \"Blue\"}, {\"X\": 1, \"Y\": 11, \"Colour\": \"Blue\"}, {\"X\": 2, \"Y\": 1, \"Colour\": \"Dark Brown\"}, {\"X\": 2, \"Y\": 2, \"Colour\": \"Dark Brown\"}, {\"X\": 2, \"Y\": 3, \"Colour\": \"Dark Brown\"}, {\"X\": 2, \"Y\": 4, \"Colour\": \"Brown\"}, {\"X\": 2, \"Y\": 5, \"Colour\": \"Light Blue\"}, {\"X\": 2, \"Y\": 6, \"Colour\": \"Light Blue\"}, {\"X\": 2, \"Y\": 7, \"Colour\": \"Light Blue\"}, {\"X\": 2, \"Y\": 8, \"Colour\": \"Light Blue\"}, {\"X\": 2, \"Y\": 9, \"Colour\": \"Light Blue\"}, {\"X\": 2, \"Y\": 10, \"Colour\": \"Light Blue\"}, {\"X\": 2, \"Y\": 11, \"Colour\": \"Blue\"}, {\"X\": 3, \"Y\": 1, \"Colour\": \"Brown\"}, {\"X\": 3, \"Y\": 2, \"Colour\": \"Brown\"}, {\"X\": 3, \"Y\": 3, \"Colour\": \"Brown\"}, {\"X\": 3, \"Y\": 4, \"Colour\": \"Dark Brown\"}, {\"X\": 3, \"Y\": 5, \"Colour\": \"Dark Brown\"}, {\"X\": 3, \"Y\": 6, \"Colour\": \"Dark Brown\"}, {\"X\": 3, \"Y\": 7, \"Colour\": \"Dark Brown\"}, {\"X\": 3, \"Y\": 8, \"Colour\": \"Dark Brown\"}, {\"X\": 3, \"Y\": 9, \"Colour\": \"Dark Brown\"}, {\"X\": 3, \"Y\": 10, \"Colour\": \"Light Blue\"}, {\"X\": 3, \"Y\": 11, \"Colour\": \"Blue\"}, {\"X\": 4, \"Y\": 1, \"Colour\": \"Brown\"}, {\"X\": 4, \"Y\": 2, \"Colour\": \"Brown\"}, {\"X\": 4, \"Y\": 3, \"Colour\": \"Brown\"}, {\"X\": 4, \"Y\": 4, \"Colour\": \"Brown\"}, {\"X\": 4, \"Y\": 5, \"Colour\": \"Brown\"}, {\"X\": 4, \"Y\": 6, \"Colour\": \"White\"}, {\"X\": 4, \"Y\": 7, \"Colour\": \"White\"}, {\"X\": 4, \"Y\": 8, \"Colour\": \"Brown\"}, {\"X\": 4, \"Y\": 9, \"Colour\": \"Brown\"}, {\"X\": 4, \"Y\": 10, \"Colour\": \"Dark Brown\"}, {\"X\": 4, \"Y\": 11, \"Colour\": \"Blue\"}, {\"X\": 5, \"Y\": 1, \"Colour\": \"Brown\"}, {\"X\": 5, \"Y\": 2, \"Colour\": \"Brown\"}, {\"X\": 5, \"Y\": 3, \"Colour\": \"Brown\"}, {\"X\": 5, \"Y\": 4, \"Colour\": \"Brown\"}, {\"X\": 5, \"Y\": 5, \"Colour\": \"Brown\"}, {\"X\": 5, \"Y\": 6, \"Colour\": \"Black\"}, {\"X\": 5, \"Y\": 7, \"Colour\": \"White\"}, {\"X\": 5, \"Y\": 8, \"Colour\": \"Brown\"}, {\"X\": 5, \"Y\": 9, \"Colour\": \"Dark Brown\"}, {\"X\": 5, \"Y\": 10, \"Colour\": \"Light Blue\"}, {\"X\": 5, \"Y\": 11, \"Colour\": \"Blue\"}, {\"X\": 6, \"Y\": 1, \"Colour\": \"Brown\"}, {\"X\": 6, \"Y\": 2, \"Colour\": \"Brown\"}, {\"X\": 6, \"Y\": 3, \"Colour\": \"Brown\"}, {\"X\": 6, \"Y\": 4, \"Colour\": \"Yellow\"}, {\"X\": 6, \"Y\": 5, \"Colour\": \"Yellow\"}, {\"X\": 6, \"Y\": 6, \"Colour\": \"Brown\"}, {\"X\": 6, \"Y\": 7, \"Colour\": \"Brown\"}, {\"X\": 6, \"Y\": 8, \"Colour\": \"Dark Brown\"}, {\"X\": 6, \"Y\": 9, \"Colour\": \"Brown\"}, {\"X\": 6, \"Y\": 10, \"Colour\": \"Light Blue\"}, {\"X\": 6, \"Y\": 11, \"Colour\": \"Blue\"}, {\"X\": 7, \"Y\": 1, \"Colour\": \"Brown\"}, {\"X\": 7, \"Y\": 2, \"Colour\": \"Brown\"}, {\"X\": 7, \"Y\": 3, \"Colour\": \"Brown\"}, {\"X\": 7, \"Y\": 4, \"Colour\": \"Brown\"}, {\"X\": 7, \"Y\": 5, \"Colour\": \"Brown\"}, {\"X\": 7, \"Y\": 6, \"Colour\": \"Black\"}, {\"X\": 7, \"Y\": 7, \"Colour\": \"White\"}, {\"X\": 7, \"Y\": 8, \"Colour\": \"Brown\"}, {\"X\": 7, \"Y\": 9, \"Colour\": \"Dark Brown\"}, {\"X\": 7, \"Y\": 10, \"Colour\": \"Light Blue\"}, {\"X\": 7, \"Y\": 11, \"Colour\": \"Blue\"}, {\"X\": 8, \"Y\": 1, \"Colour\": \"Brown\"}, {\"X\": 8, \"Y\": 2, \"Colour\": \"Brown\"}, {\"X\": 8, \"Y\": 3, \"Colour\": \"Brown\"}, {\"X\": 8, \"Y\": 4, \"Colour\": \"Brown\"}, {\"X\": 8, \"Y\": 5, \"Colour\": \"Brown\"}, {\"X\": 8, \"Y\": 6, \"Colour\": \"White\"}, {\"X\": 8, \"Y\": 7, \"Colour\": \"White\"}, {\"X\": 8, \"Y\": 8, \"Colour\": \"Brown\"}, {\"X\": 8, \"Y\": 9, \"Colour\": \"Brown\"}, {\"X\": 8, \"Y\": 10, \"Colour\": \"Dark Brown\"}, {\"X\": 8, \"Y\": 11, \"Colour\": \"Blue\"}, {\"X\": 9, \"Y\": 1, \"Colour\": \"Brown\"}, {\"X\": 9, \"Y\": 2, \"Colour\": \"Brown\"}, {\"X\": 9, \"Y\": 3, \"Colour\": \"Brown\"}, {\"X\": 9, \"Y\": 4, \"Colour\": \"Dark Brown\"}, {\"X\": 9, \"Y\": 5, \"Colour\": \"Dark Brown\"}, {\"X\": 9, \"Y\": 6, \"Colour\": \"Dark Brown\"}, {\"X\": 9, \"Y\": 7, \"Colour\": \"Dark Brown\"}, {\"X\": 9, \"Y\": 8, \"Colour\": \"Dark Brown\"}, {\"X\": 9, \"Y\": 9, \"Colour\": \"Dark Brown\"}, {\"X\": 9, \"Y\": 10, \"Colour\": \"Light Blue\"}, {\"X\": 9, \"Y\": 11, \"Colour\": \"Blue\"}, {\"X\": 10, \"Y\": 1, \"Colour\": \"Dark Brown\"}, {\"X\": 10, \"Y\": 2, \"Colour\": \"Dark Brown\"}, {\"X\": 10, \"Y\": 3, \"Colour\": \"Dark Brown\"}, {\"X\": 10, \"Y\": 4, \"Colour\": \"Brown\"}, {\"X\": 10, \"Y\": 5, \"Colour\": \"Light Blue\"}, {\"X\": 10, \"Y\": 6, \"Colour\": \"Light Blue\"}, {\"X\": 10, \"Y\": 7, \"Colour\": \"Light Blue\"}, {\"X\": 10, \"Y\": 8, \"Colour\": \"Light Blue\"}, {\"X\": 10, \"Y\": 9, \"Colour\": \"Light Blue\"}, {\"X\": 10, \"Y\": 10, \"Colour\": \"Light Blue\"}, {\"X\": 10, \"Y\": 11, \"Colour\": \"Blue\"}, {\"X\": 11, \"Y\": 1, \"Colour\": \"Blue\"}, {\"X\": 11, \"Y\": 2, \"Colour\": \"Blue\"}, {\"X\": 11, \"Y\": 3, \"Colour\": \"Blue\"}, {\"X\": 11, \"Y\": 4, \"Colour\": \"Blue\"}, {\"X\": 11, \"Y\": 5, \"Colour\": \"Blue\"}, {\"X\": 11, \"Y\": 6, \"Colour\": \"Blue\"}, {\"X\": 11, \"Y\": 7, \"Colour\": \"Blue\"}, {\"X\": 11, \"Y\": 8, \"Colour\": \"Blue\"}, {\"X\": 11, \"Y\": 9, \"Colour\": \"Blue\"}, {\"X\": 11, \"Y\": 10, \"Colour\": \"Blue\"}, {\"X\": 11, \"Y\": 11, \"Colour\": \"Blue\"}]}}, {\"mode\": \"vega-lite\"});\n",
       "</script>"
      ],
      "text/plain": [
       "alt.Chart(...)"
      ]
     },
     "execution_count": 5,
     "metadata": {},
     "output_type": "execute_result"
    }
   ],
   "source": [
    "alt.Chart(owl).mark_rect().encode(\n",
    "    x='X:O',\n",
    "    y=alt.Y('Y:O', sort='descending'),\n",
    "    color=alt.Color('Colour', \n",
    "        scale=alt.Scale(\n",
    "        domain=['Black', 'Dark Blue', 'Brown', 'Dark Brown', 'Light Blue', 'White', 'Yellow'], \n",
    "        range=[\"#000000\", \"#088DA5\", \"#753A10\", \"#48240A\", \"#21CDF2\", \"#FFFFFF\", \"#FFBA3F\"]\n",
    "    ),\n",
    "    legend=None)\n",
    ")"
   ]
  },
  {
   "cell_type": "markdown",
   "metadata": {},
   "source": [
    "Clean it all up..."
   ]
  },
  {
   "cell_type": "code",
   "execution_count": 6,
   "metadata": {},
   "outputs": [
    {
     "data": {
      "text/html": [
       "\n",
       "<div id=\"altair-viz-9f21f28a75004ee28cf0d121ff02ed44\"></div>\n",
       "<script type=\"text/javascript\">\n",
       "  (function(spec, embedOpt){\n",
       "    const outputDiv = document.getElementById(\"altair-viz-9f21f28a75004ee28cf0d121ff02ed44\");\n",
       "    const paths = {\n",
       "      \"vega\": \"https://cdn.jsdelivr.net/npm//vega@5?noext\",\n",
       "      \"vega-lib\": \"https://cdn.jsdelivr.net/npm//vega-lib?noext\",\n",
       "      \"vega-lite\": \"https://cdn.jsdelivr.net/npm//vega-lite@4.0.2?noext\",\n",
       "      \"vega-embed\": \"https://cdn.jsdelivr.net/npm//vega-embed@6?noext\",\n",
       "    };\n",
       "\n",
       "    function loadScript(lib) {\n",
       "      return new Promise(function(resolve, reject) {\n",
       "        var s = document.createElement('script');\n",
       "        s.src = paths[lib];\n",
       "        s.async = true;\n",
       "        s.onload = () => resolve(paths[lib]);\n",
       "        s.onerror = () => reject(`Error loading script: ${paths[lib]}`);\n",
       "        document.getElementsByTagName(\"head\")[0].appendChild(s);\n",
       "      });\n",
       "    }\n",
       "\n",
       "    function showError(err) {\n",
       "      outputDiv.innerHTML = `<div class=\"error\" style=\"color:red;\">${err}</div>`;\n",
       "      throw err;\n",
       "    }\n",
       "\n",
       "    function displayChart(vegaEmbed) {\n",
       "      vegaEmbed(outputDiv, spec, embedOpt)\n",
       "        .catch(err => showError(`Javascript Error: ${err.message}<br>This usually means there's a typo in your chart specification. See the javascript console for the full traceback.`));\n",
       "    }\n",
       "\n",
       "    if(typeof define === \"function\" && define.amd) {\n",
       "      requirejs.config({paths});\n",
       "      require([\"vega-embed\"], displayChart, err => showError(`Error loading script: ${err.message}`));\n",
       "    } else if (typeof vegaEmbed === \"function\") {\n",
       "      displayChart(vegaEmbed);\n",
       "    } else {\n",
       "      loadScript(\"vega\")\n",
       "        .then(() => loadScript(\"vega-lite\"))\n",
       "        .then(() => loadScript(\"vega-embed\"))\n",
       "        .catch(showError)\n",
       "        .then(() => displayChart(vegaEmbed));\n",
       "    }\n",
       "  })({\"config\": {\"view\": {\"continuousWidth\": 400, \"continuousHeight\": 300, \"strokeWidth\": 0}, \"axis\": {\"grid\": false}}, \"data\": {\"name\": \"data-2a6700b88613219c0348f5ad71778108\"}, \"mark\": \"rect\", \"encoding\": {\"color\": {\"type\": \"nominal\", \"field\": \"Colour\", \"legend\": null, \"scale\": {\"domain\": [\"Black\", \"Dark Blue\", \"Brown\", \"Dark Brown\", \"Light Blue\", \"White\", \"Yellow\"], \"range\": [\"#000000\", \"#088DA5\", \"#753A10\", \"#48240A\", \"#21CDF2\", \"#FFFFFF\", \"#FFBA3F\"]}}, \"x\": {\"type\": \"ordinal\", \"axis\": null, \"field\": \"X\"}, \"y\": {\"type\": \"ordinal\", \"axis\": null, \"field\": \"Y\", \"sort\": \"descending\"}}, \"$schema\": \"https://vega.github.io/schema/vega-lite/v4.0.2.json\", \"datasets\": {\"data-2a6700b88613219c0348f5ad71778108\": [{\"X\": 1, \"Y\": 1, \"Colour\": \"Blue\"}, {\"X\": 1, \"Y\": 2, \"Colour\": \"Blue\"}, {\"X\": 1, \"Y\": 3, \"Colour\": \"Blue\"}, {\"X\": 1, \"Y\": 4, \"Colour\": \"Blue\"}, {\"X\": 1, \"Y\": 5, \"Colour\": \"Blue\"}, {\"X\": 1, \"Y\": 6, \"Colour\": \"Blue\"}, {\"X\": 1, \"Y\": 7, \"Colour\": \"Blue\"}, {\"X\": 1, \"Y\": 8, \"Colour\": \"Blue\"}, {\"X\": 1, \"Y\": 9, \"Colour\": \"Blue\"}, {\"X\": 1, \"Y\": 10, \"Colour\": \"Blue\"}, {\"X\": 1, \"Y\": 11, \"Colour\": \"Blue\"}, {\"X\": 2, \"Y\": 1, \"Colour\": \"Dark Brown\"}, {\"X\": 2, \"Y\": 2, \"Colour\": \"Dark Brown\"}, {\"X\": 2, \"Y\": 3, \"Colour\": \"Dark Brown\"}, {\"X\": 2, \"Y\": 4, \"Colour\": \"Brown\"}, {\"X\": 2, \"Y\": 5, \"Colour\": \"Light Blue\"}, {\"X\": 2, \"Y\": 6, \"Colour\": \"Light Blue\"}, {\"X\": 2, \"Y\": 7, \"Colour\": \"Light Blue\"}, {\"X\": 2, \"Y\": 8, \"Colour\": \"Light Blue\"}, {\"X\": 2, \"Y\": 9, \"Colour\": \"Light Blue\"}, {\"X\": 2, \"Y\": 10, \"Colour\": \"Light Blue\"}, {\"X\": 2, \"Y\": 11, \"Colour\": \"Blue\"}, {\"X\": 3, \"Y\": 1, \"Colour\": \"Brown\"}, {\"X\": 3, \"Y\": 2, \"Colour\": \"Brown\"}, {\"X\": 3, \"Y\": 3, \"Colour\": \"Brown\"}, {\"X\": 3, \"Y\": 4, \"Colour\": \"Dark Brown\"}, {\"X\": 3, \"Y\": 5, \"Colour\": \"Dark Brown\"}, {\"X\": 3, \"Y\": 6, \"Colour\": \"Dark Brown\"}, {\"X\": 3, \"Y\": 7, \"Colour\": \"Dark Brown\"}, {\"X\": 3, \"Y\": 8, \"Colour\": \"Dark Brown\"}, {\"X\": 3, \"Y\": 9, \"Colour\": \"Dark Brown\"}, {\"X\": 3, \"Y\": 10, \"Colour\": \"Light Blue\"}, {\"X\": 3, \"Y\": 11, \"Colour\": \"Blue\"}, {\"X\": 4, \"Y\": 1, \"Colour\": \"Brown\"}, {\"X\": 4, \"Y\": 2, \"Colour\": \"Brown\"}, {\"X\": 4, \"Y\": 3, \"Colour\": \"Brown\"}, {\"X\": 4, \"Y\": 4, \"Colour\": \"Brown\"}, {\"X\": 4, \"Y\": 5, \"Colour\": \"Brown\"}, {\"X\": 4, \"Y\": 6, \"Colour\": \"White\"}, {\"X\": 4, \"Y\": 7, \"Colour\": \"White\"}, {\"X\": 4, \"Y\": 8, \"Colour\": \"Brown\"}, {\"X\": 4, \"Y\": 9, \"Colour\": \"Brown\"}, {\"X\": 4, \"Y\": 10, \"Colour\": \"Dark Brown\"}, {\"X\": 4, \"Y\": 11, \"Colour\": \"Blue\"}, {\"X\": 5, \"Y\": 1, \"Colour\": \"Brown\"}, {\"X\": 5, \"Y\": 2, \"Colour\": \"Brown\"}, {\"X\": 5, \"Y\": 3, \"Colour\": \"Brown\"}, {\"X\": 5, \"Y\": 4, \"Colour\": \"Brown\"}, {\"X\": 5, \"Y\": 5, \"Colour\": \"Brown\"}, {\"X\": 5, \"Y\": 6, \"Colour\": \"Black\"}, {\"X\": 5, \"Y\": 7, \"Colour\": \"White\"}, {\"X\": 5, \"Y\": 8, \"Colour\": \"Brown\"}, {\"X\": 5, \"Y\": 9, \"Colour\": \"Dark Brown\"}, {\"X\": 5, \"Y\": 10, \"Colour\": \"Light Blue\"}, {\"X\": 5, \"Y\": 11, \"Colour\": \"Blue\"}, {\"X\": 6, \"Y\": 1, \"Colour\": \"Brown\"}, {\"X\": 6, \"Y\": 2, \"Colour\": \"Brown\"}, {\"X\": 6, \"Y\": 3, \"Colour\": \"Brown\"}, {\"X\": 6, \"Y\": 4, \"Colour\": \"Yellow\"}, {\"X\": 6, \"Y\": 5, \"Colour\": \"Yellow\"}, {\"X\": 6, \"Y\": 6, \"Colour\": \"Brown\"}, {\"X\": 6, \"Y\": 7, \"Colour\": \"Brown\"}, {\"X\": 6, \"Y\": 8, \"Colour\": \"Dark Brown\"}, {\"X\": 6, \"Y\": 9, \"Colour\": \"Brown\"}, {\"X\": 6, \"Y\": 10, \"Colour\": \"Light Blue\"}, {\"X\": 6, \"Y\": 11, \"Colour\": \"Blue\"}, {\"X\": 7, \"Y\": 1, \"Colour\": \"Brown\"}, {\"X\": 7, \"Y\": 2, \"Colour\": \"Brown\"}, {\"X\": 7, \"Y\": 3, \"Colour\": \"Brown\"}, {\"X\": 7, \"Y\": 4, \"Colour\": \"Brown\"}, {\"X\": 7, \"Y\": 5, \"Colour\": \"Brown\"}, {\"X\": 7, \"Y\": 6, \"Colour\": \"Black\"}, {\"X\": 7, \"Y\": 7, \"Colour\": \"White\"}, {\"X\": 7, \"Y\": 8, \"Colour\": \"Brown\"}, {\"X\": 7, \"Y\": 9, \"Colour\": \"Dark Brown\"}, {\"X\": 7, \"Y\": 10, \"Colour\": \"Light Blue\"}, {\"X\": 7, \"Y\": 11, \"Colour\": \"Blue\"}, {\"X\": 8, \"Y\": 1, \"Colour\": \"Brown\"}, {\"X\": 8, \"Y\": 2, \"Colour\": \"Brown\"}, {\"X\": 8, \"Y\": 3, \"Colour\": \"Brown\"}, {\"X\": 8, \"Y\": 4, \"Colour\": \"Brown\"}, {\"X\": 8, \"Y\": 5, \"Colour\": \"Brown\"}, {\"X\": 8, \"Y\": 6, \"Colour\": \"White\"}, {\"X\": 8, \"Y\": 7, \"Colour\": \"White\"}, {\"X\": 8, \"Y\": 8, \"Colour\": \"Brown\"}, {\"X\": 8, \"Y\": 9, \"Colour\": \"Brown\"}, {\"X\": 8, \"Y\": 10, \"Colour\": \"Dark Brown\"}, {\"X\": 8, \"Y\": 11, \"Colour\": \"Blue\"}, {\"X\": 9, \"Y\": 1, \"Colour\": \"Brown\"}, {\"X\": 9, \"Y\": 2, \"Colour\": \"Brown\"}, {\"X\": 9, \"Y\": 3, \"Colour\": \"Brown\"}, {\"X\": 9, \"Y\": 4, \"Colour\": \"Dark Brown\"}, {\"X\": 9, \"Y\": 5, \"Colour\": \"Dark Brown\"}, {\"X\": 9, \"Y\": 6, \"Colour\": \"Dark Brown\"}, {\"X\": 9, \"Y\": 7, \"Colour\": \"Dark Brown\"}, {\"X\": 9, \"Y\": 8, \"Colour\": \"Dark Brown\"}, {\"X\": 9, \"Y\": 9, \"Colour\": \"Dark Brown\"}, {\"X\": 9, \"Y\": 10, \"Colour\": \"Light Blue\"}, {\"X\": 9, \"Y\": 11, \"Colour\": \"Blue\"}, {\"X\": 10, \"Y\": 1, \"Colour\": \"Dark Brown\"}, {\"X\": 10, \"Y\": 2, \"Colour\": \"Dark Brown\"}, {\"X\": 10, \"Y\": 3, \"Colour\": \"Dark Brown\"}, {\"X\": 10, \"Y\": 4, \"Colour\": \"Brown\"}, {\"X\": 10, \"Y\": 5, \"Colour\": \"Light Blue\"}, {\"X\": 10, \"Y\": 6, \"Colour\": \"Light Blue\"}, {\"X\": 10, \"Y\": 7, \"Colour\": \"Light Blue\"}, {\"X\": 10, \"Y\": 8, \"Colour\": \"Light Blue\"}, {\"X\": 10, \"Y\": 9, \"Colour\": \"Light Blue\"}, {\"X\": 10, \"Y\": 10, \"Colour\": \"Light Blue\"}, {\"X\": 10, \"Y\": 11, \"Colour\": \"Blue\"}, {\"X\": 11, \"Y\": 1, \"Colour\": \"Blue\"}, {\"X\": 11, \"Y\": 2, \"Colour\": \"Blue\"}, {\"X\": 11, \"Y\": 3, \"Colour\": \"Blue\"}, {\"X\": 11, \"Y\": 4, \"Colour\": \"Blue\"}, {\"X\": 11, \"Y\": 5, \"Colour\": \"Blue\"}, {\"X\": 11, \"Y\": 6, \"Colour\": \"Blue\"}, {\"X\": 11, \"Y\": 7, \"Colour\": \"Blue\"}, {\"X\": 11, \"Y\": 8, \"Colour\": \"Blue\"}, {\"X\": 11, \"Y\": 9, \"Colour\": \"Blue\"}, {\"X\": 11, \"Y\": 10, \"Colour\": \"Blue\"}, {\"X\": 11, \"Y\": 11, \"Colour\": \"Blue\"}]}}, {\"mode\": \"vega-lite\"});\n",
       "</script>"
      ],
      "text/plain": [
       "alt.Chart(...)"
      ]
     },
     "execution_count": 6,
     "metadata": {},
     "output_type": "execute_result"
    }
   ],
   "source": [
    "owl_chart = (\n",
    "    alt.Chart(owl)\n",
    "    .mark_rect()\n",
    "    .encode(\n",
    "        x=alt.X('X:O', axis=None),\n",
    "        y=alt.Y('Y:O', sort='descending', axis=None),\n",
    "        color=alt.Color('Colour', \n",
    "            scale=alt.Scale(\n",
    "                domain=['Black', 'Dark Blue', 'Brown', 'Dark Brown', 'Light Blue', 'White', 'Yellow'], \n",
    "                range=[\"#000000\", \"#088DA5\", \"#753A10\", \"#48240A\", \"#21CDF2\", \"#FFFFFF\", \"#FFBA3F\"]\n",
    "            ),\n",
    "        legend=None\n",
    "        )\n",
    "    )\n",
    "    .configure_axis(grid=False)\n",
    "    .configure_view(strokeWidth=0)\n",
    ")\n",
    "\n",
    "owl_chart"
   ]
  },
  {
   "cell_type": "markdown",
   "metadata": {},
   "source": [
    "### Actual Data"
   ]
  },
  {
   "cell_type": "markdown",
   "metadata": {},
   "source": [
    "ZA4950: International Social Survey Programme: Religion III - ISSP 2008\n",
    "        \n",
    "[Source](https://zacat.gesis.org/webview/index.jsp?object=http://zacat.gesis.org/obj/fStudy/ZA4950)"
   ]
  },
  {
   "cell_type": "code",
   "execution_count": 8,
   "metadata": {},
   "outputs": [],
   "source": [
    "df = pd.read_csv('../data/sex.csv')"
   ]
  },
  {
   "cell_type": "code",
   "execution_count": 9,
   "metadata": {},
   "outputs": [],
   "source": [
    "df = df.rename(columns={'age2': 'age'})\n",
    "df['pct'] /= 100"
   ]
  },
  {
   "cell_type": "code",
   "execution_count": 10,
   "metadata": {},
   "outputs": [
    {
     "data": {
      "text/html": [
       "<div>\n",
       "<style scoped>\n",
       "    .dataframe tbody tr th:only-of-type {\n",
       "        vertical-align: middle;\n",
       "    }\n",
       "\n",
       "    .dataframe tbody tr th {\n",
       "        vertical-align: top;\n",
       "    }\n",
       "\n",
       "    .dataframe thead th {\n",
       "        text-align: right;\n",
       "    }\n",
       "</style>\n",
       "<table border=\"1\" class=\"dataframe\">\n",
       "  <thead>\n",
       "    <tr style=\"text-align: right;\">\n",
       "      <th></th>\n",
       "      <th>age</th>\n",
       "      <th>religion</th>\n",
       "      <th>response</th>\n",
       "      <th>n</th>\n",
       "      <th>pct</th>\n",
       "    </tr>\n",
       "  </thead>\n",
       "  <tbody>\n",
       "    <tr>\n",
       "      <td>35</td>\n",
       "      <td>25-29</td>\n",
       "      <td>Buddhism</td>\n",
       "      <td>Wrong-ish</td>\n",
       "      <td>23</td>\n",
       "      <td>0.377</td>\n",
       "    </tr>\n",
       "    <tr>\n",
       "      <td>88</td>\n",
       "      <td>30-39</td>\n",
       "      <td>Other Eastern Religions</td>\n",
       "      <td>Wrong</td>\n",
       "      <td>62</td>\n",
       "      <td>0.305</td>\n",
       "    </tr>\n",
       "    <tr>\n",
       "      <td>194</td>\n",
       "      <td>60-69</td>\n",
       "      <td>Protestant</td>\n",
       "      <td>Wrong-ish</td>\n",
       "      <td>316</td>\n",
       "      <td>0.163</td>\n",
       "    </tr>\n",
       "  </tbody>\n",
       "</table>\n",
       "</div>"
      ],
      "text/plain": [
       "       age                 religion   response    n    pct\n",
       "35   25-29                 Buddhism  Wrong-ish   23  0.377\n",
       "88   30-39  Other Eastern Religions      Wrong   62  0.305\n",
       "194  60-69               Protestant  Wrong-ish  316  0.163"
      ]
     },
     "execution_count": 10,
     "metadata": {},
     "output_type": "execute_result"
    }
   ],
   "source": [
    "df.sample(3)"
   ]
  },
  {
   "cell_type": "markdown",
   "metadata": {},
   "source": [
    "<img src=\"../data/sex.png\" alt=\"sex\" width=\"500\">"
   ]
  },
  {
   "cell_type": "code",
   "execution_count": 12,
   "metadata": {},
   "outputs": [
    {
     "data": {
      "text/plain": [
       "Jewish                       21\n",
       "Other Religions              21\n",
       "Other Eastern Religions      21\n",
       "Buddhism                     21\n",
       "Protestant                   21\n",
       "Roman Catholic               21\n",
       "No religion                  21\n",
       "Other Christian Religions    21\n",
       "Christian Orthodox           21\n",
       "Islam                        21\n",
       "Hinduism                     20\n",
       "Name: religion, dtype: int64"
      ]
     },
     "execution_count": 12,
     "metadata": {},
     "output_type": "execute_result"
    }
   ],
   "source": [
    "df['religion'].value_counts()"
   ]
  },
  {
   "cell_type": "markdown",
   "metadata": {},
   "source": [
    "#### Start Small..."
   ]
  },
  {
   "cell_type": "code",
   "execution_count": 13,
   "metadata": {},
   "outputs": [],
   "source": [
    "no = df[df['religion'] == 'No religion']"
   ]
  },
  {
   "cell_type": "code",
   "execution_count": 15,
   "metadata": {},
   "outputs": [
    {
     "data": {
      "text/html": [
       "\n",
       "<div id=\"altair-viz-b76993b8b41a4bb1807158cd815be370\"></div>\n",
       "<script type=\"text/javascript\">\n",
       "  (function(spec, embedOpt){\n",
       "    const outputDiv = document.getElementById(\"altair-viz-b76993b8b41a4bb1807158cd815be370\");\n",
       "    const paths = {\n",
       "      \"vega\": \"https://cdn.jsdelivr.net/npm//vega@5?noext\",\n",
       "      \"vega-lib\": \"https://cdn.jsdelivr.net/npm//vega-lib?noext\",\n",
       "      \"vega-lite\": \"https://cdn.jsdelivr.net/npm//vega-lite@4.0.2?noext\",\n",
       "      \"vega-embed\": \"https://cdn.jsdelivr.net/npm//vega-embed@6?noext\",\n",
       "    };\n",
       "\n",
       "    function loadScript(lib) {\n",
       "      return new Promise(function(resolve, reject) {\n",
       "        var s = document.createElement('script');\n",
       "        s.src = paths[lib];\n",
       "        s.async = true;\n",
       "        s.onload = () => resolve(paths[lib]);\n",
       "        s.onerror = () => reject(`Error loading script: ${paths[lib]}`);\n",
       "        document.getElementsByTagName(\"head\")[0].appendChild(s);\n",
       "      });\n",
       "    }\n",
       "\n",
       "    function showError(err) {\n",
       "      outputDiv.innerHTML = `<div class=\"error\" style=\"color:red;\">${err}</div>`;\n",
       "      throw err;\n",
       "    }\n",
       "\n",
       "    function displayChart(vegaEmbed) {\n",
       "      vegaEmbed(outputDiv, spec, embedOpt)\n",
       "        .catch(err => showError(`Javascript Error: ${err.message}<br>This usually means there's a typo in your chart specification. See the javascript console for the full traceback.`));\n",
       "    }\n",
       "\n",
       "    if(typeof define === \"function\" && define.amd) {\n",
       "      requirejs.config({paths});\n",
       "      require([\"vega-embed\"], displayChart, err => showError(`Error loading script: ${err.message}`));\n",
       "    } else if (typeof vegaEmbed === \"function\") {\n",
       "      displayChart(vegaEmbed);\n",
       "    } else {\n",
       "      loadScript(\"vega\")\n",
       "        .then(() => loadScript(\"vega-lite\"))\n",
       "        .then(() => loadScript(\"vega-embed\"))\n",
       "        .catch(showError)\n",
       "        .then(() => displayChart(vegaEmbed));\n",
       "    }\n",
       "  })({\"config\": {\"view\": {\"continuousWidth\": 400, \"continuousHeight\": 300}}, \"data\": {\"name\": \"data-235d74cff4151e7f691ed260b343d78b\"}, \"mark\": \"circle\", \"encoding\": {\"x\": {\"type\": \"nominal\", \"field\": \"age\"}, \"y\": {\"type\": \"quantitative\", \"field\": \"pct\"}}, \"$schema\": \"https://vega.github.io/schema/vega-lite/v4.0.2.json\", \"datasets\": {\"data-235d74cff4151e7f691ed260b343d78b\": [{\"age\": \"18-24\", \"religion\": \"No religion\", \"response\": \"Not wrong\", \"n\": 1147, \"pct\": 0.762}, {\"age\": \"18-24\", \"religion\": \"No religion\", \"response\": \"Wrong\", \"n\": 161, \"pct\": 0.107}, {\"age\": \"18-24\", \"religion\": \"No religion\", \"response\": \"Wrong-ish\", \"n\": 197, \"pct\": 0.131}, {\"age\": \"25-29\", \"religion\": \"No religion\", \"response\": \"Not wrong\", \"n\": 887, \"pct\": 0.755}, {\"age\": \"25-29\", \"religion\": \"No religion\", \"response\": \"Wrong\", \"n\": 116, \"pct\": 0.099}, {\"age\": \"25-29\", \"religion\": \"No religion\", \"response\": \"Wrong-ish\", \"n\": 172, \"pct\": 0.146}, {\"age\": \"30-39\", \"religion\": \"No religion\", \"response\": \"Not wrong\", \"n\": 1853, \"pct\": 0.763}, {\"age\": \"30-39\", \"religion\": \"No religion\", \"response\": \"Wrong\", \"n\": 205, \"pct\": 0.084}, {\"age\": \"30-39\", \"religion\": \"No religion\", \"response\": \"Wrong-ish\", \"n\": 370, \"pct\": 0.152}, {\"age\": \"40-49\", \"religion\": \"No religion\", \"response\": \"Not wrong\", \"n\": 1818, \"pct\": 0.7440000000000001}, {\"age\": \"40-49\", \"religion\": \"No religion\", \"response\": \"Wrong\", \"n\": 251, \"pct\": 0.10300000000000001}, {\"age\": \"40-49\", \"religion\": \"No religion\", \"response\": \"Wrong-ish\", \"n\": 375, \"pct\": 0.153}, {\"age\": \"50-59\", \"religion\": \"No religion\", \"response\": \"Not wrong\", \"n\": 1591, \"pct\": 0.75}, {\"age\": \"50-59\", \"religion\": \"No religion\", \"response\": \"Wrong\", \"n\": 211, \"pct\": 0.1}, {\"age\": \"50-59\", \"religion\": \"No religion\", \"response\": \"Wrong-ish\", \"n\": 318, \"pct\": 0.15}, {\"age\": \"60-69\", \"religion\": \"No religion\", \"response\": \"Not wrong\", \"n\": 970, \"pct\": 0.6629999999999999}, {\"age\": \"60-69\", \"religion\": \"No religion\", \"response\": \"Wrong\", \"n\": 211, \"pct\": 0.14400000000000002}, {\"age\": \"60-69\", \"religion\": \"No religion\", \"response\": \"Wrong-ish\", \"n\": 282, \"pct\": 0.193}, {\"age\": \"70+\", \"religion\": \"No religion\", \"response\": \"Not wrong\", \"n\": 469, \"pct\": 0.521}, {\"age\": \"70+\", \"religion\": \"No religion\", \"response\": \"Wrong\", \"n\": 236, \"pct\": 0.262}, {\"age\": \"70+\", \"religion\": \"No religion\", \"response\": \"Wrong-ish\", \"n\": 195, \"pct\": 0.217}]}}, {\"mode\": \"vega-lite\"});\n",
       "</script>"
      ],
      "text/plain": [
       "alt.Chart(...)"
      ]
     },
     "execution_count": 15,
     "metadata": {},
     "output_type": "execute_result"
    }
   ],
   "source": [
    "alt.Chart(no).encode(x='age', y='pct').mark_circle()"
   ]
  },
  {
   "cell_type": "code",
   "execution_count": 16,
   "metadata": {},
   "outputs": [
    {
     "data": {
      "text/html": [
       "\n",
       "<div id=\"altair-viz-0c5205a4756f489d8fc7882fd19c27dc\"></div>\n",
       "<script type=\"text/javascript\">\n",
       "  (function(spec, embedOpt){\n",
       "    const outputDiv = document.getElementById(\"altair-viz-0c5205a4756f489d8fc7882fd19c27dc\");\n",
       "    const paths = {\n",
       "      \"vega\": \"https://cdn.jsdelivr.net/npm//vega@5?noext\",\n",
       "      \"vega-lib\": \"https://cdn.jsdelivr.net/npm//vega-lib?noext\",\n",
       "      \"vega-lite\": \"https://cdn.jsdelivr.net/npm//vega-lite@4.0.2?noext\",\n",
       "      \"vega-embed\": \"https://cdn.jsdelivr.net/npm//vega-embed@6?noext\",\n",
       "    };\n",
       "\n",
       "    function loadScript(lib) {\n",
       "      return new Promise(function(resolve, reject) {\n",
       "        var s = document.createElement('script');\n",
       "        s.src = paths[lib];\n",
       "        s.async = true;\n",
       "        s.onload = () => resolve(paths[lib]);\n",
       "        s.onerror = () => reject(`Error loading script: ${paths[lib]}`);\n",
       "        document.getElementsByTagName(\"head\")[0].appendChild(s);\n",
       "      });\n",
       "    }\n",
       "\n",
       "    function showError(err) {\n",
       "      outputDiv.innerHTML = `<div class=\"error\" style=\"color:red;\">${err}</div>`;\n",
       "      throw err;\n",
       "    }\n",
       "\n",
       "    function displayChart(vegaEmbed) {\n",
       "      vegaEmbed(outputDiv, spec, embedOpt)\n",
       "        .catch(err => showError(`Javascript Error: ${err.message}<br>This usually means there's a typo in your chart specification. See the javascript console for the full traceback.`));\n",
       "    }\n",
       "\n",
       "    if(typeof define === \"function\" && define.amd) {\n",
       "      requirejs.config({paths});\n",
       "      require([\"vega-embed\"], displayChart, err => showError(`Error loading script: ${err.message}`));\n",
       "    } else if (typeof vegaEmbed === \"function\") {\n",
       "      displayChart(vegaEmbed);\n",
       "    } else {\n",
       "      loadScript(\"vega\")\n",
       "        .then(() => loadScript(\"vega-lite\"))\n",
       "        .then(() => loadScript(\"vega-embed\"))\n",
       "        .catch(showError)\n",
       "        .then(() => displayChart(vegaEmbed));\n",
       "    }\n",
       "  })({\"config\": {\"view\": {\"continuousWidth\": 400, \"continuousHeight\": 300}}, \"data\": {\"name\": \"data-235d74cff4151e7f691ed260b343d78b\"}, \"mark\": \"circle\", \"encoding\": {\"color\": {\"type\": \"nominal\", \"field\": \"response\"}, \"x\": {\"type\": \"nominal\", \"field\": \"age\"}, \"y\": {\"type\": \"quantitative\", \"field\": \"pct\"}}, \"$schema\": \"https://vega.github.io/schema/vega-lite/v4.0.2.json\", \"datasets\": {\"data-235d74cff4151e7f691ed260b343d78b\": [{\"age\": \"18-24\", \"religion\": \"No religion\", \"response\": \"Not wrong\", \"n\": 1147, \"pct\": 0.762}, {\"age\": \"18-24\", \"religion\": \"No religion\", \"response\": \"Wrong\", \"n\": 161, \"pct\": 0.107}, {\"age\": \"18-24\", \"religion\": \"No religion\", \"response\": \"Wrong-ish\", \"n\": 197, \"pct\": 0.131}, {\"age\": \"25-29\", \"religion\": \"No religion\", \"response\": \"Not wrong\", \"n\": 887, \"pct\": 0.755}, {\"age\": \"25-29\", \"religion\": \"No religion\", \"response\": \"Wrong\", \"n\": 116, \"pct\": 0.099}, {\"age\": \"25-29\", \"religion\": \"No religion\", \"response\": \"Wrong-ish\", \"n\": 172, \"pct\": 0.146}, {\"age\": \"30-39\", \"religion\": \"No religion\", \"response\": \"Not wrong\", \"n\": 1853, \"pct\": 0.763}, {\"age\": \"30-39\", \"religion\": \"No religion\", \"response\": \"Wrong\", \"n\": 205, \"pct\": 0.084}, {\"age\": \"30-39\", \"religion\": \"No religion\", \"response\": \"Wrong-ish\", \"n\": 370, \"pct\": 0.152}, {\"age\": \"40-49\", \"religion\": \"No religion\", \"response\": \"Not wrong\", \"n\": 1818, \"pct\": 0.7440000000000001}, {\"age\": \"40-49\", \"religion\": \"No religion\", \"response\": \"Wrong\", \"n\": 251, \"pct\": 0.10300000000000001}, {\"age\": \"40-49\", \"religion\": \"No religion\", \"response\": \"Wrong-ish\", \"n\": 375, \"pct\": 0.153}, {\"age\": \"50-59\", \"religion\": \"No religion\", \"response\": \"Not wrong\", \"n\": 1591, \"pct\": 0.75}, {\"age\": \"50-59\", \"religion\": \"No religion\", \"response\": \"Wrong\", \"n\": 211, \"pct\": 0.1}, {\"age\": \"50-59\", \"religion\": \"No religion\", \"response\": \"Wrong-ish\", \"n\": 318, \"pct\": 0.15}, {\"age\": \"60-69\", \"religion\": \"No religion\", \"response\": \"Not wrong\", \"n\": 970, \"pct\": 0.6629999999999999}, {\"age\": \"60-69\", \"religion\": \"No religion\", \"response\": \"Wrong\", \"n\": 211, \"pct\": 0.14400000000000002}, {\"age\": \"60-69\", \"religion\": \"No religion\", \"response\": \"Wrong-ish\", \"n\": 282, \"pct\": 0.193}, {\"age\": \"70+\", \"religion\": \"No religion\", \"response\": \"Not wrong\", \"n\": 469, \"pct\": 0.521}, {\"age\": \"70+\", \"religion\": \"No religion\", \"response\": \"Wrong\", \"n\": 236, \"pct\": 0.262}, {\"age\": \"70+\", \"religion\": \"No religion\", \"response\": \"Wrong-ish\", \"n\": 195, \"pct\": 0.217}]}}, {\"mode\": \"vega-lite\"});\n",
       "</script>"
      ],
      "text/plain": [
       "alt.Chart(...)"
      ]
     },
     "execution_count": 16,
     "metadata": {},
     "output_type": "execute_result"
    }
   ],
   "source": [
    "alt.Chart(no).encode(x='age', y='pct', color='response').mark_circle()"
   ]
  },
  {
   "cell_type": "code",
   "execution_count": 17,
   "metadata": {},
   "outputs": [
    {
     "data": {
      "text/html": [
       "\n",
       "<div id=\"altair-viz-2d1832c2278742c3933193c43fcd9e66\"></div>\n",
       "<script type=\"text/javascript\">\n",
       "  (function(spec, embedOpt){\n",
       "    const outputDiv = document.getElementById(\"altair-viz-2d1832c2278742c3933193c43fcd9e66\");\n",
       "    const paths = {\n",
       "      \"vega\": \"https://cdn.jsdelivr.net/npm//vega@5?noext\",\n",
       "      \"vega-lib\": \"https://cdn.jsdelivr.net/npm//vega-lib?noext\",\n",
       "      \"vega-lite\": \"https://cdn.jsdelivr.net/npm//vega-lite@4.0.2?noext\",\n",
       "      \"vega-embed\": \"https://cdn.jsdelivr.net/npm//vega-embed@6?noext\",\n",
       "    };\n",
       "\n",
       "    function loadScript(lib) {\n",
       "      return new Promise(function(resolve, reject) {\n",
       "        var s = document.createElement('script');\n",
       "        s.src = paths[lib];\n",
       "        s.async = true;\n",
       "        s.onload = () => resolve(paths[lib]);\n",
       "        s.onerror = () => reject(`Error loading script: ${paths[lib]}`);\n",
       "        document.getElementsByTagName(\"head\")[0].appendChild(s);\n",
       "      });\n",
       "    }\n",
       "\n",
       "    function showError(err) {\n",
       "      outputDiv.innerHTML = `<div class=\"error\" style=\"color:red;\">${err}</div>`;\n",
       "      throw err;\n",
       "    }\n",
       "\n",
       "    function displayChart(vegaEmbed) {\n",
       "      vegaEmbed(outputDiv, spec, embedOpt)\n",
       "        .catch(err => showError(`Javascript Error: ${err.message}<br>This usually means there's a typo in your chart specification. See the javascript console for the full traceback.`));\n",
       "    }\n",
       "\n",
       "    if(typeof define === \"function\" && define.amd) {\n",
       "      requirejs.config({paths});\n",
       "      require([\"vega-embed\"], displayChart, err => showError(`Error loading script: ${err.message}`));\n",
       "    } else if (typeof vegaEmbed === \"function\") {\n",
       "      displayChart(vegaEmbed);\n",
       "    } else {\n",
       "      loadScript(\"vega\")\n",
       "        .then(() => loadScript(\"vega-lite\"))\n",
       "        .then(() => loadScript(\"vega-embed\"))\n",
       "        .catch(showError)\n",
       "        .then(() => displayChart(vegaEmbed));\n",
       "    }\n",
       "  })({\"config\": {\"view\": {\"continuousWidth\": 400, \"continuousHeight\": 300}}, \"data\": {\"name\": \"data-235d74cff4151e7f691ed260b343d78b\"}, \"mark\": \"circle\", \"encoding\": {\"color\": {\"type\": \"nominal\", \"field\": \"response\"}, \"x\": {\"type\": \"quantitative\", \"field\": \"pct\"}, \"y\": {\"type\": \"nominal\", \"field\": \"age\"}}, \"$schema\": \"https://vega.github.io/schema/vega-lite/v4.0.2.json\", \"datasets\": {\"data-235d74cff4151e7f691ed260b343d78b\": [{\"age\": \"18-24\", \"religion\": \"No religion\", \"response\": \"Not wrong\", \"n\": 1147, \"pct\": 0.762}, {\"age\": \"18-24\", \"religion\": \"No religion\", \"response\": \"Wrong\", \"n\": 161, \"pct\": 0.107}, {\"age\": \"18-24\", \"religion\": \"No religion\", \"response\": \"Wrong-ish\", \"n\": 197, \"pct\": 0.131}, {\"age\": \"25-29\", \"religion\": \"No religion\", \"response\": \"Not wrong\", \"n\": 887, \"pct\": 0.755}, {\"age\": \"25-29\", \"religion\": \"No religion\", \"response\": \"Wrong\", \"n\": 116, \"pct\": 0.099}, {\"age\": \"25-29\", \"religion\": \"No religion\", \"response\": \"Wrong-ish\", \"n\": 172, \"pct\": 0.146}, {\"age\": \"30-39\", \"religion\": \"No religion\", \"response\": \"Not wrong\", \"n\": 1853, \"pct\": 0.763}, {\"age\": \"30-39\", \"religion\": \"No religion\", \"response\": \"Wrong\", \"n\": 205, \"pct\": 0.084}, {\"age\": \"30-39\", \"religion\": \"No religion\", \"response\": \"Wrong-ish\", \"n\": 370, \"pct\": 0.152}, {\"age\": \"40-49\", \"religion\": \"No religion\", \"response\": \"Not wrong\", \"n\": 1818, \"pct\": 0.7440000000000001}, {\"age\": \"40-49\", \"religion\": \"No religion\", \"response\": \"Wrong\", \"n\": 251, \"pct\": 0.10300000000000001}, {\"age\": \"40-49\", \"religion\": \"No religion\", \"response\": \"Wrong-ish\", \"n\": 375, \"pct\": 0.153}, {\"age\": \"50-59\", \"religion\": \"No religion\", \"response\": \"Not wrong\", \"n\": 1591, \"pct\": 0.75}, {\"age\": \"50-59\", \"religion\": \"No religion\", \"response\": \"Wrong\", \"n\": 211, \"pct\": 0.1}, {\"age\": \"50-59\", \"religion\": \"No religion\", \"response\": \"Wrong-ish\", \"n\": 318, \"pct\": 0.15}, {\"age\": \"60-69\", \"religion\": \"No religion\", \"response\": \"Not wrong\", \"n\": 970, \"pct\": 0.6629999999999999}, {\"age\": \"60-69\", \"religion\": \"No religion\", \"response\": \"Wrong\", \"n\": 211, \"pct\": 0.14400000000000002}, {\"age\": \"60-69\", \"religion\": \"No religion\", \"response\": \"Wrong-ish\", \"n\": 282, \"pct\": 0.193}, {\"age\": \"70+\", \"religion\": \"No religion\", \"response\": \"Not wrong\", \"n\": 469, \"pct\": 0.521}, {\"age\": \"70+\", \"religion\": \"No religion\", \"response\": \"Wrong\", \"n\": 236, \"pct\": 0.262}, {\"age\": \"70+\", \"religion\": \"No religion\", \"response\": \"Wrong-ish\", \"n\": 195, \"pct\": 0.217}]}}, {\"mode\": \"vega-lite\"});\n",
       "</script>"
      ],
      "text/plain": [
       "alt.Chart(...)"
      ]
     },
     "execution_count": 17,
     "metadata": {},
     "output_type": "execute_result"
    }
   ],
   "source": [
    "alt.Chart(no).encode(y='age', x='pct', color='response').mark_circle()"
   ]
  },
  {
   "cell_type": "code",
   "execution_count": 18,
   "metadata": {},
   "outputs": [
    {
     "data": {
      "text/plain": [
       "array(['Not wrong', 'Wrong', 'Wrong-ish', 'Not wrong', 'Wrong',\n",
       "       'Wrong-ish', 'Not wrong', 'Wrong', 'Wrong-ish', 'Not wrong',\n",
       "       'Wrong', 'Wrong-ish', 'Not wrong', 'Wrong', 'Wrong-ish',\n",
       "       'Not wrong', 'Wrong', 'Wrong-ish', 'Not wrong', 'Wrong',\n",
       "       'Wrong-ish'], dtype=object)"
      ]
     },
     "execution_count": 18,
     "metadata": {},
     "output_type": "execute_result"
    }
   ],
   "source": [
    "no['response'].values"
   ]
  },
  {
   "cell_type": "code",
   "execution_count": 19,
   "metadata": {},
   "outputs": [],
   "source": [
    "mapping = {\n",
    "    'Not wrong': 'green',\n",
    "    'Wrong': 'yellow',\n",
    "    'Wrong-ish': 'red'\n",
    "}"
   ]
  },
  {
   "cell_type": "code",
   "execution_count": 20,
   "metadata": {},
   "outputs": [
    {
     "data": {
      "text/html": [
       "\n",
       "<div id=\"altair-viz-a90a4155c3f0439f9261ab4d5660ec16\"></div>\n",
       "<script type=\"text/javascript\">\n",
       "  (function(spec, embedOpt){\n",
       "    const outputDiv = document.getElementById(\"altair-viz-a90a4155c3f0439f9261ab4d5660ec16\");\n",
       "    const paths = {\n",
       "      \"vega\": \"https://cdn.jsdelivr.net/npm//vega@5?noext\",\n",
       "      \"vega-lib\": \"https://cdn.jsdelivr.net/npm//vega-lib?noext\",\n",
       "      \"vega-lite\": \"https://cdn.jsdelivr.net/npm//vega-lite@4.0.2?noext\",\n",
       "      \"vega-embed\": \"https://cdn.jsdelivr.net/npm//vega-embed@6?noext\",\n",
       "    };\n",
       "\n",
       "    function loadScript(lib) {\n",
       "      return new Promise(function(resolve, reject) {\n",
       "        var s = document.createElement('script');\n",
       "        s.src = paths[lib];\n",
       "        s.async = true;\n",
       "        s.onload = () => resolve(paths[lib]);\n",
       "        s.onerror = () => reject(`Error loading script: ${paths[lib]}`);\n",
       "        document.getElementsByTagName(\"head\")[0].appendChild(s);\n",
       "      });\n",
       "    }\n",
       "\n",
       "    function showError(err) {\n",
       "      outputDiv.innerHTML = `<div class=\"error\" style=\"color:red;\">${err}</div>`;\n",
       "      throw err;\n",
       "    }\n",
       "\n",
       "    function displayChart(vegaEmbed) {\n",
       "      vegaEmbed(outputDiv, spec, embedOpt)\n",
       "        .catch(err => showError(`Javascript Error: ${err.message}<br>This usually means there's a typo in your chart specification. See the javascript console for the full traceback.`));\n",
       "    }\n",
       "\n",
       "    if(typeof define === \"function\" && define.amd) {\n",
       "      requirejs.config({paths});\n",
       "      require([\"vega-embed\"], displayChart, err => showError(`Error loading script: ${err.message}`));\n",
       "    } else if (typeof vegaEmbed === \"function\") {\n",
       "      displayChart(vegaEmbed);\n",
       "    } else {\n",
       "      loadScript(\"vega\")\n",
       "        .then(() => loadScript(\"vega-lite\"))\n",
       "        .then(() => loadScript(\"vega-embed\"))\n",
       "        .catch(showError)\n",
       "        .then(() => displayChart(vegaEmbed));\n",
       "    }\n",
       "  })({\"config\": {\"view\": {\"continuousWidth\": 400, \"continuousHeight\": 300}}, \"data\": {\"name\": \"data-235d74cff4151e7f691ed260b343d78b\"}, \"mark\": \"circle\", \"encoding\": {\"color\": {\"type\": \"nominal\", \"field\": \"response\", \"scale\": {\"domain\": [\"Not wrong\", \"Wrong\", \"Wrong-ish\"], \"range\": [\"green\", \"yellow\", \"red\"]}}, \"x\": {\"type\": \"quantitative\", \"field\": \"pct\"}, \"y\": {\"type\": \"nominal\", \"field\": \"age\"}}, \"$schema\": \"https://vega.github.io/schema/vega-lite/v4.0.2.json\", \"datasets\": {\"data-235d74cff4151e7f691ed260b343d78b\": [{\"age\": \"18-24\", \"religion\": \"No religion\", \"response\": \"Not wrong\", \"n\": 1147, \"pct\": 0.762}, {\"age\": \"18-24\", \"religion\": \"No religion\", \"response\": \"Wrong\", \"n\": 161, \"pct\": 0.107}, {\"age\": \"18-24\", \"religion\": \"No religion\", \"response\": \"Wrong-ish\", \"n\": 197, \"pct\": 0.131}, {\"age\": \"25-29\", \"religion\": \"No religion\", \"response\": \"Not wrong\", \"n\": 887, \"pct\": 0.755}, {\"age\": \"25-29\", \"religion\": \"No religion\", \"response\": \"Wrong\", \"n\": 116, \"pct\": 0.099}, {\"age\": \"25-29\", \"religion\": \"No religion\", \"response\": \"Wrong-ish\", \"n\": 172, \"pct\": 0.146}, {\"age\": \"30-39\", \"religion\": \"No religion\", \"response\": \"Not wrong\", \"n\": 1853, \"pct\": 0.763}, {\"age\": \"30-39\", \"religion\": \"No religion\", \"response\": \"Wrong\", \"n\": 205, \"pct\": 0.084}, {\"age\": \"30-39\", \"religion\": \"No religion\", \"response\": \"Wrong-ish\", \"n\": 370, \"pct\": 0.152}, {\"age\": \"40-49\", \"religion\": \"No religion\", \"response\": \"Not wrong\", \"n\": 1818, \"pct\": 0.7440000000000001}, {\"age\": \"40-49\", \"religion\": \"No religion\", \"response\": \"Wrong\", \"n\": 251, \"pct\": 0.10300000000000001}, {\"age\": \"40-49\", \"religion\": \"No religion\", \"response\": \"Wrong-ish\", \"n\": 375, \"pct\": 0.153}, {\"age\": \"50-59\", \"religion\": \"No religion\", \"response\": \"Not wrong\", \"n\": 1591, \"pct\": 0.75}, {\"age\": \"50-59\", \"religion\": \"No religion\", \"response\": \"Wrong\", \"n\": 211, \"pct\": 0.1}, {\"age\": \"50-59\", \"religion\": \"No religion\", \"response\": \"Wrong-ish\", \"n\": 318, \"pct\": 0.15}, {\"age\": \"60-69\", \"religion\": \"No religion\", \"response\": \"Not wrong\", \"n\": 970, \"pct\": 0.6629999999999999}, {\"age\": \"60-69\", \"religion\": \"No religion\", \"response\": \"Wrong\", \"n\": 211, \"pct\": 0.14400000000000002}, {\"age\": \"60-69\", \"religion\": \"No religion\", \"response\": \"Wrong-ish\", \"n\": 282, \"pct\": 0.193}, {\"age\": \"70+\", \"religion\": \"No religion\", \"response\": \"Not wrong\", \"n\": 469, \"pct\": 0.521}, {\"age\": \"70+\", \"religion\": \"No religion\", \"response\": \"Wrong\", \"n\": 236, \"pct\": 0.262}, {\"age\": \"70+\", \"religion\": \"No religion\", \"response\": \"Wrong-ish\", \"n\": 195, \"pct\": 0.217}]}}, {\"mode\": \"vega-lite\"});\n",
       "</script>"
      ],
      "text/plain": [
       "alt.Chart(...)"
      ]
     },
     "execution_count": 20,
     "metadata": {},
     "output_type": "execute_result"
    }
   ],
   "source": [
    "_domain = list(mapping.keys())\n",
    "_range = list(mapping.values())\n",
    "\n",
    "alt.Chart(no).encode(\n",
    "    y='age', \n",
    "    x='pct', \n",
    "    color=alt.Color('response', scale=alt.Scale(domain=_domain, range=_range))\n",
    ").mark_circle()"
   ]
  },
  {
   "cell_type": "code",
   "execution_count": 21,
   "metadata": {},
   "outputs": [
    {
     "data": {
      "text/html": [
       "\n",
       "<div id=\"altair-viz-4e6508c43cc740bcb1329d04ca35cb8e\"></div>\n",
       "<script type=\"text/javascript\">\n",
       "  (function(spec, embedOpt){\n",
       "    const outputDiv = document.getElementById(\"altair-viz-4e6508c43cc740bcb1329d04ca35cb8e\");\n",
       "    const paths = {\n",
       "      \"vega\": \"https://cdn.jsdelivr.net/npm//vega@5?noext\",\n",
       "      \"vega-lib\": \"https://cdn.jsdelivr.net/npm//vega-lib?noext\",\n",
       "      \"vega-lite\": \"https://cdn.jsdelivr.net/npm//vega-lite@4.0.2?noext\",\n",
       "      \"vega-embed\": \"https://cdn.jsdelivr.net/npm//vega-embed@6?noext\",\n",
       "    };\n",
       "\n",
       "    function loadScript(lib) {\n",
       "      return new Promise(function(resolve, reject) {\n",
       "        var s = document.createElement('script');\n",
       "        s.src = paths[lib];\n",
       "        s.async = true;\n",
       "        s.onload = () => resolve(paths[lib]);\n",
       "        s.onerror = () => reject(`Error loading script: ${paths[lib]}`);\n",
       "        document.getElementsByTagName(\"head\")[0].appendChild(s);\n",
       "      });\n",
       "    }\n",
       "\n",
       "    function showError(err) {\n",
       "      outputDiv.innerHTML = `<div class=\"error\" style=\"color:red;\">${err}</div>`;\n",
       "      throw err;\n",
       "    }\n",
       "\n",
       "    function displayChart(vegaEmbed) {\n",
       "      vegaEmbed(outputDiv, spec, embedOpt)\n",
       "        .catch(err => showError(`Javascript Error: ${err.message}<br>This usually means there's a typo in your chart specification. See the javascript console for the full traceback.`));\n",
       "    }\n",
       "\n",
       "    if(typeof define === \"function\" && define.amd) {\n",
       "      requirejs.config({paths});\n",
       "      require([\"vega-embed\"], displayChart, err => showError(`Error loading script: ${err.message}`));\n",
       "    } else if (typeof vegaEmbed === \"function\") {\n",
       "      displayChart(vegaEmbed);\n",
       "    } else {\n",
       "      loadScript(\"vega\")\n",
       "        .then(() => loadScript(\"vega-lite\"))\n",
       "        .then(() => loadScript(\"vega-embed\"))\n",
       "        .catch(showError)\n",
       "        .then(() => displayChart(vegaEmbed));\n",
       "    }\n",
       "  })({\"config\": {\"view\": {\"continuousWidth\": 400, \"continuousHeight\": 300}}, \"data\": {\"name\": \"data-235d74cff4151e7f691ed260b343d78b\"}, \"mark\": \"circle\", \"encoding\": {\"color\": {\"type\": \"nominal\", \"field\": \"response\", \"scale\": {\"domain\": [\"Not wrong\", \"Wrong\", \"Wrong-ish\"], \"range\": [\"#8EA604\", \"#F5BB00\", \"#DE1A1A\"]}}, \"x\": {\"type\": \"quantitative\", \"field\": \"pct\"}, \"y\": {\"type\": \"nominal\", \"field\": \"age\", \"scale\": {\"domain\": [\"70+\", \"60-69\", \"50-59\", \"40-49\", \"30-39\", \"25-29\", \"18-24\"]}}}, \"$schema\": \"https://vega.github.io/schema/vega-lite/v4.0.2.json\", \"datasets\": {\"data-235d74cff4151e7f691ed260b343d78b\": [{\"age\": \"18-24\", \"religion\": \"No religion\", \"response\": \"Not wrong\", \"n\": 1147, \"pct\": 0.762}, {\"age\": \"18-24\", \"religion\": \"No religion\", \"response\": \"Wrong\", \"n\": 161, \"pct\": 0.107}, {\"age\": \"18-24\", \"religion\": \"No religion\", \"response\": \"Wrong-ish\", \"n\": 197, \"pct\": 0.131}, {\"age\": \"25-29\", \"religion\": \"No religion\", \"response\": \"Not wrong\", \"n\": 887, \"pct\": 0.755}, {\"age\": \"25-29\", \"religion\": \"No religion\", \"response\": \"Wrong\", \"n\": 116, \"pct\": 0.099}, {\"age\": \"25-29\", \"religion\": \"No religion\", \"response\": \"Wrong-ish\", \"n\": 172, \"pct\": 0.146}, {\"age\": \"30-39\", \"religion\": \"No religion\", \"response\": \"Not wrong\", \"n\": 1853, \"pct\": 0.763}, {\"age\": \"30-39\", \"religion\": \"No religion\", \"response\": \"Wrong\", \"n\": 205, \"pct\": 0.084}, {\"age\": \"30-39\", \"religion\": \"No religion\", \"response\": \"Wrong-ish\", \"n\": 370, \"pct\": 0.152}, {\"age\": \"40-49\", \"religion\": \"No religion\", \"response\": \"Not wrong\", \"n\": 1818, \"pct\": 0.7440000000000001}, {\"age\": \"40-49\", \"religion\": \"No religion\", \"response\": \"Wrong\", \"n\": 251, \"pct\": 0.10300000000000001}, {\"age\": \"40-49\", \"religion\": \"No religion\", \"response\": \"Wrong-ish\", \"n\": 375, \"pct\": 0.153}, {\"age\": \"50-59\", \"religion\": \"No religion\", \"response\": \"Not wrong\", \"n\": 1591, \"pct\": 0.75}, {\"age\": \"50-59\", \"religion\": \"No religion\", \"response\": \"Wrong\", \"n\": 211, \"pct\": 0.1}, {\"age\": \"50-59\", \"religion\": \"No religion\", \"response\": \"Wrong-ish\", \"n\": 318, \"pct\": 0.15}, {\"age\": \"60-69\", \"religion\": \"No religion\", \"response\": \"Not wrong\", \"n\": 970, \"pct\": 0.6629999999999999}, {\"age\": \"60-69\", \"religion\": \"No religion\", \"response\": \"Wrong\", \"n\": 211, \"pct\": 0.14400000000000002}, {\"age\": \"60-69\", \"religion\": \"No religion\", \"response\": \"Wrong-ish\", \"n\": 282, \"pct\": 0.193}, {\"age\": \"70+\", \"religion\": \"No religion\", \"response\": \"Not wrong\", \"n\": 469, \"pct\": 0.521}, {\"age\": \"70+\", \"religion\": \"No religion\", \"response\": \"Wrong\", \"n\": 236, \"pct\": 0.262}, {\"age\": \"70+\", \"religion\": \"No religion\", \"response\": \"Wrong-ish\", \"n\": 195, \"pct\": 0.217}]}}, {\"mode\": \"vega-lite\"});\n",
       "</script>"
      ],
      "text/plain": [
       "alt.Chart(...)"
      ]
     },
     "execution_count": 21,
     "metadata": {},
     "output_type": "execute_result"
    }
   ],
   "source": [
    "mapping = {\n",
    "    'Not wrong': \"#8EA604\",\n",
    "    'Wrong': \"#F5BB00\",\n",
    "    'Wrong-ish': \"#DE1A1A\"\n",
    "}\n",
    "\n",
    "_domain = list(mapping.keys())\n",
    "_range = list(mapping.values())\n",
    "\n",
    "alt.Chart(no).encode(\n",
    "    y=alt.Y('age', scale=alt.Scale(domain=['70+','60-69', '50-59', '40-49', '30-39', '25-29', '18-24'])), \n",
    "    x='pct', \n",
    "    color=alt.Color('response', scale=alt.Scale(domain=_domain, range=_range))\n",
    ").mark_circle()"
   ]
  },
  {
   "cell_type": "code",
   "execution_count": 22,
   "metadata": {},
   "outputs": [
    {
     "data": {
      "text/html": [
       "\n",
       "<div id=\"altair-viz-6783d855e7294ed0bfbdb350225d8b07\"></div>\n",
       "<script type=\"text/javascript\">\n",
       "  (function(spec, embedOpt){\n",
       "    const outputDiv = document.getElementById(\"altair-viz-6783d855e7294ed0bfbdb350225d8b07\");\n",
       "    const paths = {\n",
       "      \"vega\": \"https://cdn.jsdelivr.net/npm//vega@5?noext\",\n",
       "      \"vega-lib\": \"https://cdn.jsdelivr.net/npm//vega-lib?noext\",\n",
       "      \"vega-lite\": \"https://cdn.jsdelivr.net/npm//vega-lite@4.0.2?noext\",\n",
       "      \"vega-embed\": \"https://cdn.jsdelivr.net/npm//vega-embed@6?noext\",\n",
       "    };\n",
       "\n",
       "    function loadScript(lib) {\n",
       "      return new Promise(function(resolve, reject) {\n",
       "        var s = document.createElement('script');\n",
       "        s.src = paths[lib];\n",
       "        s.async = true;\n",
       "        s.onload = () => resolve(paths[lib]);\n",
       "        s.onerror = () => reject(`Error loading script: ${paths[lib]}`);\n",
       "        document.getElementsByTagName(\"head\")[0].appendChild(s);\n",
       "      });\n",
       "    }\n",
       "\n",
       "    function showError(err) {\n",
       "      outputDiv.innerHTML = `<div class=\"error\" style=\"color:red;\">${err}</div>`;\n",
       "      throw err;\n",
       "    }\n",
       "\n",
       "    function displayChart(vegaEmbed) {\n",
       "      vegaEmbed(outputDiv, spec, embedOpt)\n",
       "        .catch(err => showError(`Javascript Error: ${err.message}<br>This usually means there's a typo in your chart specification. See the javascript console for the full traceback.`));\n",
       "    }\n",
       "\n",
       "    if(typeof define === \"function\" && define.amd) {\n",
       "      requirejs.config({paths});\n",
       "      require([\"vega-embed\"], displayChart, err => showError(`Error loading script: ${err.message}`));\n",
       "    } else if (typeof vegaEmbed === \"function\") {\n",
       "      displayChart(vegaEmbed);\n",
       "    } else {\n",
       "      loadScript(\"vega\")\n",
       "        .then(() => loadScript(\"vega-lite\"))\n",
       "        .then(() => loadScript(\"vega-embed\"))\n",
       "        .catch(showError)\n",
       "        .then(() => displayChart(vegaEmbed));\n",
       "    }\n",
       "  })({\"config\": {\"view\": {\"continuousWidth\": 400, \"continuousHeight\": 300}}, \"data\": {\"name\": \"data-235d74cff4151e7f691ed260b343d78b\"}, \"mark\": \"circle\", \"encoding\": {\"color\": {\"type\": \"nominal\", \"field\": \"response\", \"scale\": {\"domain\": [\"Not wrong\", \"Wrong\", \"Wrong-ish\"], \"range\": [\"#8EA604\", \"#F5BB00\", \"#DE1A1A\"]}}, \"x\": {\"type\": \"quantitative\", \"field\": \"pct\"}, \"y\": {\"type\": \"nominal\", \"field\": \"age\", \"scale\": {\"domain\": [\"70+\", \"60-69\", \"50-59\", \"40-49\", \"30-39\", \"25-29\", \"18-24\"]}}}, \"$schema\": \"https://vega.github.io/schema/vega-lite/v4.0.2.json\", \"datasets\": {\"data-235d74cff4151e7f691ed260b343d78b\": [{\"age\": \"18-24\", \"religion\": \"No religion\", \"response\": \"Not wrong\", \"n\": 1147, \"pct\": 0.762}, {\"age\": \"18-24\", \"religion\": \"No religion\", \"response\": \"Wrong\", \"n\": 161, \"pct\": 0.107}, {\"age\": \"18-24\", \"religion\": \"No religion\", \"response\": \"Wrong-ish\", \"n\": 197, \"pct\": 0.131}, {\"age\": \"25-29\", \"religion\": \"No religion\", \"response\": \"Not wrong\", \"n\": 887, \"pct\": 0.755}, {\"age\": \"25-29\", \"religion\": \"No religion\", \"response\": \"Wrong\", \"n\": 116, \"pct\": 0.099}, {\"age\": \"25-29\", \"religion\": \"No religion\", \"response\": \"Wrong-ish\", \"n\": 172, \"pct\": 0.146}, {\"age\": \"30-39\", \"religion\": \"No religion\", \"response\": \"Not wrong\", \"n\": 1853, \"pct\": 0.763}, {\"age\": \"30-39\", \"religion\": \"No religion\", \"response\": \"Wrong\", \"n\": 205, \"pct\": 0.084}, {\"age\": \"30-39\", \"religion\": \"No religion\", \"response\": \"Wrong-ish\", \"n\": 370, \"pct\": 0.152}, {\"age\": \"40-49\", \"religion\": \"No religion\", \"response\": \"Not wrong\", \"n\": 1818, \"pct\": 0.7440000000000001}, {\"age\": \"40-49\", \"religion\": \"No religion\", \"response\": \"Wrong\", \"n\": 251, \"pct\": 0.10300000000000001}, {\"age\": \"40-49\", \"religion\": \"No religion\", \"response\": \"Wrong-ish\", \"n\": 375, \"pct\": 0.153}, {\"age\": \"50-59\", \"religion\": \"No religion\", \"response\": \"Not wrong\", \"n\": 1591, \"pct\": 0.75}, {\"age\": \"50-59\", \"religion\": \"No religion\", \"response\": \"Wrong\", \"n\": 211, \"pct\": 0.1}, {\"age\": \"50-59\", \"religion\": \"No religion\", \"response\": \"Wrong-ish\", \"n\": 318, \"pct\": 0.15}, {\"age\": \"60-69\", \"religion\": \"No religion\", \"response\": \"Not wrong\", \"n\": 970, \"pct\": 0.6629999999999999}, {\"age\": \"60-69\", \"religion\": \"No religion\", \"response\": \"Wrong\", \"n\": 211, \"pct\": 0.14400000000000002}, {\"age\": \"60-69\", \"religion\": \"No religion\", \"response\": \"Wrong-ish\", \"n\": 282, \"pct\": 0.193}, {\"age\": \"70+\", \"religion\": \"No religion\", \"response\": \"Not wrong\", \"n\": 469, \"pct\": 0.521}, {\"age\": \"70+\", \"religion\": \"No religion\", \"response\": \"Wrong\", \"n\": 236, \"pct\": 0.262}, {\"age\": \"70+\", \"religion\": \"No religion\", \"response\": \"Wrong-ish\", \"n\": 195, \"pct\": 0.217}]}}, {\"mode\": \"vega-lite\"});\n",
       "</script>"
      ],
      "text/plain": [
       "alt.Chart(...)"
      ]
     },
     "execution_count": 22,
     "metadata": {},
     "output_type": "execute_result"
    }
   ],
   "source": [
    "mapping = {\n",
    "    'Not wrong': \"#8EA604\",\n",
    "    'Wrong': \"#F5BB00\",\n",
    "    'Wrong-ish': \"#DE1A1A\"\n",
    "}\n",
    "\n",
    "chart = (\n",
    "    alt.Chart(no).encode(\n",
    "        y=alt.Y(\n",
    "            shorthand='age', \n",
    "            scale=alt.Scale(\n",
    "                domain=['70+','60-69', '50-59', '40-49', '30-39', '25-29', '18-24']\n",
    "            )\n",
    "        ), \n",
    "        x='pct', \n",
    "        color=alt.Color(\n",
    "            shorthand='response', \n",
    "            scale=alt.Scale(\n",
    "                domain=list(mapping.keys()), \n",
    "                range=list(mapping.values())\n",
    "            )\n",
    "        )\n",
    "    )\n",
    "    .mark_circle()\n",
    ")\n",
    "\n",
    "chart"
   ]
  },
  {
   "cell_type": "code",
   "execution_count": 25,
   "metadata": {},
   "outputs": [
    {
     "data": {
      "text/html": [
       "\n",
       "<div id=\"altair-viz-9e1ac64d696446ca8a0cdaf2ccc56e44\"></div>\n",
       "<script type=\"text/javascript\">\n",
       "  (function(spec, embedOpt){\n",
       "    const outputDiv = document.getElementById(\"altair-viz-9e1ac64d696446ca8a0cdaf2ccc56e44\");\n",
       "    const paths = {\n",
       "      \"vega\": \"https://cdn.jsdelivr.net/npm//vega@5?noext\",\n",
       "      \"vega-lib\": \"https://cdn.jsdelivr.net/npm//vega-lib?noext\",\n",
       "      \"vega-lite\": \"https://cdn.jsdelivr.net/npm//vega-lite@4.0.2?noext\",\n",
       "      \"vega-embed\": \"https://cdn.jsdelivr.net/npm//vega-embed@6?noext\",\n",
       "    };\n",
       "\n",
       "    function loadScript(lib) {\n",
       "      return new Promise(function(resolve, reject) {\n",
       "        var s = document.createElement('script');\n",
       "        s.src = paths[lib];\n",
       "        s.async = true;\n",
       "        s.onload = () => resolve(paths[lib]);\n",
       "        s.onerror = () => reject(`Error loading script: ${paths[lib]}`);\n",
       "        document.getElementsByTagName(\"head\")[0].appendChild(s);\n",
       "      });\n",
       "    }\n",
       "\n",
       "    function showError(err) {\n",
       "      outputDiv.innerHTML = `<div class=\"error\" style=\"color:red;\">${err}</div>`;\n",
       "      throw err;\n",
       "    }\n",
       "\n",
       "    function displayChart(vegaEmbed) {\n",
       "      vegaEmbed(outputDiv, spec, embedOpt)\n",
       "        .catch(err => showError(`Javascript Error: ${err.message}<br>This usually means there's a typo in your chart specification. See the javascript console for the full traceback.`));\n",
       "    }\n",
       "\n",
       "    if(typeof define === \"function\" && define.amd) {\n",
       "      requirejs.config({paths});\n",
       "      require([\"vega-embed\"], displayChart, err => showError(`Error loading script: ${err.message}`));\n",
       "    } else if (typeof vegaEmbed === \"function\") {\n",
       "      displayChart(vegaEmbed);\n",
       "    } else {\n",
       "      loadScript(\"vega\")\n",
       "        .then(() => loadScript(\"vega-lite\"))\n",
       "        .then(() => loadScript(\"vega-embed\"))\n",
       "        .catch(showError)\n",
       "        .then(() => displayChart(vegaEmbed));\n",
       "    }\n",
       "  })({\"config\": {\"view\": {\"continuousWidth\": 400, \"continuousHeight\": 300, \"strokeWidth\": 0}}, \"data\": {\"name\": \"data-235d74cff4151e7f691ed260b343d78b\"}, \"mark\": {\"type\": \"circle\", \"opacity\": 0.75}, \"background\": \"#F0F0F0\", \"encoding\": {\"color\": {\"type\": \"nominal\", \"field\": \"response\", \"legend\": {\"orient\": \"top\", \"title\": \"\"}, \"scale\": {\"domain\": [\"Not wrong\", \"Wrong-ish\", \"Wrong\"], \"range\": [\"#39a9db\", \"#f39237\", \"#d63230\"]}}, \"x\": {\"type\": \"quantitative\", \"axis\": {\"format\": \"%\", \"title\": \"\", \"values\": [0, 0.25, 0.5, 0.75, 1]}, \"field\": \"pct\"}, \"y\": {\"type\": \"nominal\", \"axis\": {\"grid\": true, \"title\": \"\"}, \"field\": \"age\", \"scale\": {\"domain\": [\"70+\", \"60-69\", \"50-59\", \"40-49\", \"30-39\", \"25-29\", \"18-24\"]}}}, \"height\": 250, \"title\": \"Sex Before Marriage\", \"width\": 250, \"$schema\": \"https://vega.github.io/schema/vega-lite/v4.0.2.json\", \"datasets\": {\"data-235d74cff4151e7f691ed260b343d78b\": [{\"age\": \"18-24\", \"religion\": \"No religion\", \"response\": \"Not wrong\", \"n\": 1147, \"pct\": 0.762}, {\"age\": \"18-24\", \"religion\": \"No religion\", \"response\": \"Wrong\", \"n\": 161, \"pct\": 0.107}, {\"age\": \"18-24\", \"religion\": \"No religion\", \"response\": \"Wrong-ish\", \"n\": 197, \"pct\": 0.131}, {\"age\": \"25-29\", \"religion\": \"No religion\", \"response\": \"Not wrong\", \"n\": 887, \"pct\": 0.755}, {\"age\": \"25-29\", \"religion\": \"No religion\", \"response\": \"Wrong\", \"n\": 116, \"pct\": 0.099}, {\"age\": \"25-29\", \"religion\": \"No religion\", \"response\": \"Wrong-ish\", \"n\": 172, \"pct\": 0.146}, {\"age\": \"30-39\", \"religion\": \"No religion\", \"response\": \"Not wrong\", \"n\": 1853, \"pct\": 0.763}, {\"age\": \"30-39\", \"religion\": \"No religion\", \"response\": \"Wrong\", \"n\": 205, \"pct\": 0.084}, {\"age\": \"30-39\", \"religion\": \"No religion\", \"response\": \"Wrong-ish\", \"n\": 370, \"pct\": 0.152}, {\"age\": \"40-49\", \"religion\": \"No religion\", \"response\": \"Not wrong\", \"n\": 1818, \"pct\": 0.7440000000000001}, {\"age\": \"40-49\", \"religion\": \"No religion\", \"response\": \"Wrong\", \"n\": 251, \"pct\": 0.10300000000000001}, {\"age\": \"40-49\", \"religion\": \"No religion\", \"response\": \"Wrong-ish\", \"n\": 375, \"pct\": 0.153}, {\"age\": \"50-59\", \"religion\": \"No religion\", \"response\": \"Not wrong\", \"n\": 1591, \"pct\": 0.75}, {\"age\": \"50-59\", \"religion\": \"No religion\", \"response\": \"Wrong\", \"n\": 211, \"pct\": 0.1}, {\"age\": \"50-59\", \"religion\": \"No religion\", \"response\": \"Wrong-ish\", \"n\": 318, \"pct\": 0.15}, {\"age\": \"60-69\", \"religion\": \"No religion\", \"response\": \"Not wrong\", \"n\": 970, \"pct\": 0.6629999999999999}, {\"age\": \"60-69\", \"religion\": \"No religion\", \"response\": \"Wrong\", \"n\": 211, \"pct\": 0.14400000000000002}, {\"age\": \"60-69\", \"religion\": \"No religion\", \"response\": \"Wrong-ish\", \"n\": 282, \"pct\": 0.193}, {\"age\": \"70+\", \"religion\": \"No religion\", \"response\": \"Not wrong\", \"n\": 469, \"pct\": 0.521}, {\"age\": \"70+\", \"religion\": \"No religion\", \"response\": \"Wrong\", \"n\": 236, \"pct\": 0.262}, {\"age\": \"70+\", \"religion\": \"No religion\", \"response\": \"Wrong-ish\", \"n\": 195, \"pct\": 0.217}]}}, {\"mode\": \"vega-lite\"});\n",
       "</script>"
      ],
      "text/plain": [
       "alt.Chart(...)"
      ]
     },
     "execution_count": 25,
     "metadata": {},
     "output_type": "execute_result"
    }
   ],
   "source": [
    "chart = (\n",
    "    alt.Chart(no)\n",
    "    .mark_circle(opacity=3/4)\n",
    "    .encode(\n",
    "        x=alt.X('pct:Q',\n",
    "            axis=alt.Axis(\n",
    "                title='', \n",
    "                format='%', \n",
    "                values=[0, 0.25, 0.5, 0.75, 1]\n",
    "            ),\n",
    "        ), \n",
    "        y=alt.Y('age', \n",
    "            axis=alt.Axis(title='', grid=True),\n",
    "            scale=alt.Scale(domain=['70+','60-69', '50-59', '40-49', '30-39', '25-29', '18-24']),\n",
    "        ), \n",
    "        color=alt.Color('response', \n",
    "            scale=alt.Scale(\n",
    "                domain=['Not wrong', 'Wrong-ish', 'Wrong'], \n",
    "                range=[\"#39a9db\", \"#f39237\", \"#d63230\"]\n",
    "            ),\n",
    "            legend=alt.Legend(title='', orient='top')\n",
    "        )\n",
    "    )\n",
    "    .configure_view(strokeWidth=0)\n",
    "    .properties(\n",
    "        width=250, \n",
    "        height=250,\n",
    "        background='#F0F0F0',\n",
    "        title='Sex Before Marriage'\n",
    "    )\n",
    ")\n",
    "\n",
    "chart"
   ]
  },
  {
   "cell_type": "code",
   "execution_count": null,
   "metadata": {},
   "outputs": [],
   "source": []
  },
  {
   "cell_type": "code",
   "execution_count": null,
   "metadata": {},
   "outputs": [],
   "source": []
  },
  {
   "cell_type": "code",
   "execution_count": null,
   "metadata": {},
   "outputs": [],
   "source": []
  },
  {
   "cell_type": "code",
   "execution_count": 1,
   "metadata": {},
   "outputs": [
    {
     "data": {
      "text/html": [
       "\n",
       "<div id=\"altair-viz-76f8de0500f043b081ead644859987fd\"></div>\n",
       "<script type=\"text/javascript\">\n",
       "  (function(spec, embedOpt){\n",
       "    const outputDiv = document.getElementById(\"altair-viz-76f8de0500f043b081ead644859987fd\");\n",
       "    const paths = {\n",
       "      \"vega\": \"https://cdn.jsdelivr.net/npm//vega@5?noext\",\n",
       "      \"vega-lib\": \"https://cdn.jsdelivr.net/npm//vega-lib?noext\",\n",
       "      \"vega-lite\": \"https://cdn.jsdelivr.net/npm//vega-lite@4.0.2?noext\",\n",
       "      \"vega-embed\": \"https://cdn.jsdelivr.net/npm//vega-embed@6?noext\",\n",
       "    };\n",
       "\n",
       "    function loadScript(lib) {\n",
       "      return new Promise(function(resolve, reject) {\n",
       "        var s = document.createElement('script');\n",
       "        s.src = paths[lib];\n",
       "        s.async = true;\n",
       "        s.onload = () => resolve(paths[lib]);\n",
       "        s.onerror = () => reject(`Error loading script: ${paths[lib]}`);\n",
       "        document.getElementsByTagName(\"head\")[0].appendChild(s);\n",
       "      });\n",
       "    }\n",
       "\n",
       "    function showError(err) {\n",
       "      outputDiv.innerHTML = `<div class=\"error\" style=\"color:red;\">${err}</div>`;\n",
       "      throw err;\n",
       "    }\n",
       "\n",
       "    function displayChart(vegaEmbed) {\n",
       "      vegaEmbed(outputDiv, spec, embedOpt)\n",
       "        .catch(err => showError(`Javascript Error: ${err.message}<br>This usually means there's a typo in your chart specification. See the javascript console for the full traceback.`));\n",
       "    }\n",
       "\n",
       "    if(typeof define === \"function\" && define.amd) {\n",
       "      requirejs.config({paths});\n",
       "      require([\"vega-embed\"], displayChart, err => showError(`Error loading script: ${err.message}`));\n",
       "    } else if (typeof vegaEmbed === \"function\") {\n",
       "      displayChart(vegaEmbed);\n",
       "    } else {\n",
       "      loadScript(\"vega\")\n",
       "        .then(() => loadScript(\"vega-lite\"))\n",
       "        .then(() => loadScript(\"vega-embed\"))\n",
       "        .catch(showError)\n",
       "        .then(() => displayChart(vegaEmbed));\n",
       "    }\n",
       "  })({\"config\": {\"view\": {\"continuousWidth\": 400, \"continuousHeight\": 300}}, \"data\": {\"name\": \"data-09e84392f6ff26bfe3899931b7cd3663\"}, \"mark\": {\"type\": \"line\", \"point\": true}, \"encoding\": {\"color\": {\"type\": \"nominal\", \"field\": \"symbol\"}, \"opacity\": {\"condition\": {\"value\": 1, \"selection\": \"selector001\"}, \"value\": 0}, \"x\": {\"type\": \"temporal\", \"field\": \"date\"}, \"y\": {\"type\": \"quantitative\", \"field\": \"price\"}}, \"selection\": {\"selector001\": {\"type\": \"single\", \"fields\": [\"symbol\"], \"empty\": \"all\", \"init\": {\"symbol\": \"AAPL\"}, \"bind\": \"legend\"}}, \"$schema\": \"https://vega.github.io/schema/vega-lite/v4.0.2.json\", \"datasets\": {\"data-09e84392f6ff26bfe3899931b7cd3663\": [{\"symbol\": \"MSFT\", \"date\": \"2000-01-01T00:00:00\", \"price\": 39.81, \"pe\": 3.9810000000000003}, {\"symbol\": \"MSFT\", \"date\": \"2000-02-01T00:00:00\", \"price\": 36.35, \"pe\": 3.6350000000000002}, {\"symbol\": \"MSFT\", \"date\": \"2000-03-01T00:00:00\", \"price\": 43.22, \"pe\": 4.322}, {\"symbol\": \"MSFT\", \"date\": \"2000-04-01T00:00:00\", \"price\": 28.37, \"pe\": 2.837}, {\"symbol\": \"MSFT\", \"date\": \"2000-05-01T00:00:00\", \"price\": 25.45, \"pe\": 2.545}, {\"symbol\": \"MSFT\", \"date\": \"2000-06-01T00:00:00\", \"price\": 32.54, \"pe\": 3.254}, {\"symbol\": \"MSFT\", \"date\": \"2000-07-01T00:00:00\", \"price\": 28.4, \"pe\": 2.84}, {\"symbol\": \"MSFT\", \"date\": \"2000-08-01T00:00:00\", \"price\": 28.4, \"pe\": 2.84}, {\"symbol\": \"MSFT\", \"date\": \"2000-09-01T00:00:00\", \"price\": 24.53, \"pe\": 2.4530000000000003}, {\"symbol\": \"MSFT\", \"date\": \"2000-10-01T00:00:00\", \"price\": 28.02, \"pe\": 2.802}, {\"symbol\": \"MSFT\", \"date\": \"2000-11-01T00:00:00\", \"price\": 23.34, \"pe\": 2.334}, {\"symbol\": \"MSFT\", \"date\": \"2000-12-01T00:00:00\", \"price\": 17.65, \"pe\": 1.765}, {\"symbol\": \"MSFT\", \"date\": \"2001-01-01T00:00:00\", \"price\": 24.84, \"pe\": 2.484}, {\"symbol\": \"MSFT\", \"date\": \"2001-02-01T00:00:00\", \"price\": 24.0, \"pe\": 2.4}, {\"symbol\": \"MSFT\", \"date\": \"2001-03-01T00:00:00\", \"price\": 22.25, \"pe\": 2.225}, {\"symbol\": \"MSFT\", \"date\": \"2001-04-01T00:00:00\", \"price\": 27.56, \"pe\": 2.756}, {\"symbol\": \"MSFT\", \"date\": \"2001-05-01T00:00:00\", \"price\": 28.14, \"pe\": 2.814}, {\"symbol\": \"MSFT\", \"date\": \"2001-06-01T00:00:00\", \"price\": 29.7, \"pe\": 2.9699999999999998}, {\"symbol\": \"MSFT\", \"date\": \"2001-07-01T00:00:00\", \"price\": 26.93, \"pe\": 2.693}, {\"symbol\": \"MSFT\", \"date\": \"2001-08-01T00:00:00\", \"price\": 23.21, \"pe\": 2.321}, {\"symbol\": \"MSFT\", \"date\": \"2001-09-01T00:00:00\", \"price\": 20.82, \"pe\": 2.082}, {\"symbol\": \"MSFT\", \"date\": \"2001-10-01T00:00:00\", \"price\": 23.65, \"pe\": 2.3649999999999998}, {\"symbol\": \"MSFT\", \"date\": \"2001-11-01T00:00:00\", \"price\": 26.12, \"pe\": 2.612}, {\"symbol\": \"MSFT\", \"date\": \"2001-12-01T00:00:00\", \"price\": 26.95, \"pe\": 2.695}, {\"symbol\": \"MSFT\", \"date\": \"2002-01-01T00:00:00\", \"price\": 25.92, \"pe\": 2.592}, {\"symbol\": \"MSFT\", \"date\": \"2002-02-01T00:00:00\", \"price\": 23.73, \"pe\": 2.373}, {\"symbol\": \"MSFT\", \"date\": \"2002-03-01T00:00:00\", \"price\": 24.53, \"pe\": 2.4530000000000003}, {\"symbol\": \"MSFT\", \"date\": \"2002-04-01T00:00:00\", \"price\": 21.26, \"pe\": 2.1260000000000003}, {\"symbol\": \"MSFT\", \"date\": \"2002-05-01T00:00:00\", \"price\": 20.71, \"pe\": 2.071}, {\"symbol\": \"MSFT\", \"date\": \"2002-06-01T00:00:00\", \"price\": 22.25, \"pe\": 2.225}, {\"symbol\": \"MSFT\", \"date\": \"2002-07-01T00:00:00\", \"price\": 19.52, \"pe\": 1.952}, {\"symbol\": \"MSFT\", \"date\": \"2002-08-01T00:00:00\", \"price\": 19.97, \"pe\": 1.9969999999999999}, {\"symbol\": \"MSFT\", \"date\": \"2002-09-01T00:00:00\", \"price\": 17.79, \"pe\": 1.779}, {\"symbol\": \"MSFT\", \"date\": \"2002-10-01T00:00:00\", \"price\": 21.75, \"pe\": 2.175}, {\"symbol\": \"MSFT\", \"date\": \"2002-11-01T00:00:00\", \"price\": 23.46, \"pe\": 2.346}, {\"symbol\": \"MSFT\", \"date\": \"2002-12-01T00:00:00\", \"price\": 21.03, \"pe\": 2.103}, {\"symbol\": \"MSFT\", \"date\": \"2003-01-01T00:00:00\", \"price\": 19.31, \"pe\": 1.9309999999999998}, {\"symbol\": \"MSFT\", \"date\": \"2003-02-01T00:00:00\", \"price\": 19.34, \"pe\": 1.934}, {\"symbol\": \"MSFT\", \"date\": \"2003-03-01T00:00:00\", \"price\": 19.76, \"pe\": 1.9760000000000002}, {\"symbol\": \"MSFT\", \"date\": \"2003-04-01T00:00:00\", \"price\": 20.87, \"pe\": 2.087}, {\"symbol\": \"MSFT\", \"date\": \"2003-05-01T00:00:00\", \"price\": 20.09, \"pe\": 2.009}, {\"symbol\": \"MSFT\", \"date\": \"2003-06-01T00:00:00\", \"price\": 20.93, \"pe\": 2.093}, {\"symbol\": \"MSFT\", \"date\": \"2003-07-01T00:00:00\", \"price\": 21.56, \"pe\": 2.1559999999999997}, {\"symbol\": \"MSFT\", \"date\": \"2003-08-01T00:00:00\", \"price\": 21.65, \"pe\": 2.165}, {\"symbol\": \"MSFT\", \"date\": \"2003-09-01T00:00:00\", \"price\": 22.69, \"pe\": 2.269}, {\"symbol\": \"MSFT\", \"date\": \"2003-10-01T00:00:00\", \"price\": 21.45, \"pe\": 2.145}, {\"symbol\": \"MSFT\", \"date\": \"2003-11-01T00:00:00\", \"price\": 21.1, \"pe\": 2.1100000000000003}, {\"symbol\": \"MSFT\", \"date\": \"2003-12-01T00:00:00\", \"price\": 22.46, \"pe\": 2.246}, {\"symbol\": \"MSFT\", \"date\": \"2004-01-01T00:00:00\", \"price\": 22.69, \"pe\": 2.269}, {\"symbol\": \"MSFT\", \"date\": \"2004-02-01T00:00:00\", \"price\": 21.77, \"pe\": 2.177}, {\"symbol\": \"MSFT\", \"date\": \"2004-03-01T00:00:00\", \"price\": 20.46, \"pe\": 2.0460000000000003}, {\"symbol\": \"MSFT\", \"date\": \"2004-04-01T00:00:00\", \"price\": 21.45, \"pe\": 2.145}, {\"symbol\": \"MSFT\", \"date\": \"2004-05-01T00:00:00\", \"price\": 21.53, \"pe\": 2.153}, {\"symbol\": \"MSFT\", \"date\": \"2004-06-01T00:00:00\", \"price\": 23.44, \"pe\": 2.3440000000000003}, {\"symbol\": \"MSFT\", \"date\": \"2004-07-01T00:00:00\", \"price\": 23.38, \"pe\": 2.338}, {\"symbol\": \"MSFT\", \"date\": \"2004-08-01T00:00:00\", \"price\": 22.47, \"pe\": 2.247}, {\"symbol\": \"MSFT\", \"date\": \"2004-09-01T00:00:00\", \"price\": 22.76, \"pe\": 2.2760000000000002}, {\"symbol\": \"MSFT\", \"date\": \"2004-10-01T00:00:00\", \"price\": 23.02, \"pe\": 2.302}, {\"symbol\": \"MSFT\", \"date\": \"2004-11-01T00:00:00\", \"price\": 24.6, \"pe\": 2.46}, {\"symbol\": \"MSFT\", \"date\": \"2004-12-01T00:00:00\", \"price\": 24.52, \"pe\": 2.452}, {\"symbol\": \"MSFT\", \"date\": \"2005-01-01T00:00:00\", \"price\": 24.11, \"pe\": 2.411}, {\"symbol\": \"MSFT\", \"date\": \"2005-02-01T00:00:00\", \"price\": 23.15, \"pe\": 2.315}, {\"symbol\": \"MSFT\", \"date\": \"2005-03-01T00:00:00\", \"price\": 22.24, \"pe\": 2.2239999999999998}, {\"symbol\": \"MSFT\", \"date\": \"2005-04-01T00:00:00\", \"price\": 23.28, \"pe\": 2.3280000000000003}, {\"symbol\": \"MSFT\", \"date\": \"2005-05-01T00:00:00\", \"price\": 23.82, \"pe\": 2.382}, {\"symbol\": \"MSFT\", \"date\": \"2005-06-01T00:00:00\", \"price\": 22.93, \"pe\": 2.293}, {\"symbol\": \"MSFT\", \"date\": \"2005-07-01T00:00:00\", \"price\": 23.64, \"pe\": 2.364}, {\"symbol\": \"MSFT\", \"date\": \"2005-08-01T00:00:00\", \"price\": 25.35, \"pe\": 2.535}, {\"symbol\": \"MSFT\", \"date\": \"2005-09-01T00:00:00\", \"price\": 23.83, \"pe\": 2.383}, {\"symbol\": \"MSFT\", \"date\": \"2005-10-01T00:00:00\", \"price\": 23.8, \"pe\": 2.38}, {\"symbol\": \"MSFT\", \"date\": \"2005-11-01T00:00:00\", \"price\": 25.71, \"pe\": 2.571}, {\"symbol\": \"MSFT\", \"date\": \"2005-12-01T00:00:00\", \"price\": 24.29, \"pe\": 2.429}, {\"symbol\": \"MSFT\", \"date\": \"2006-01-01T00:00:00\", \"price\": 26.14, \"pe\": 2.614}, {\"symbol\": \"MSFT\", \"date\": \"2006-02-01T00:00:00\", \"price\": 25.04, \"pe\": 2.504}, {\"symbol\": \"MSFT\", \"date\": \"2006-03-01T00:00:00\", \"price\": 25.36, \"pe\": 2.536}, {\"symbol\": \"MSFT\", \"date\": \"2006-04-01T00:00:00\", \"price\": 22.5, \"pe\": 2.25}, {\"symbol\": \"MSFT\", \"date\": \"2006-05-01T00:00:00\", \"price\": 21.19, \"pe\": 2.119}, {\"symbol\": \"MSFT\", \"date\": \"2006-06-01T00:00:00\", \"price\": 21.8, \"pe\": 2.18}, {\"symbol\": \"MSFT\", \"date\": \"2006-07-01T00:00:00\", \"price\": 22.51, \"pe\": 2.2510000000000003}, {\"symbol\": \"MSFT\", \"date\": \"2006-08-01T00:00:00\", \"price\": 24.13, \"pe\": 2.413}, {\"symbol\": \"MSFT\", \"date\": \"2006-09-01T00:00:00\", \"price\": 25.68, \"pe\": 2.568}, {\"symbol\": \"MSFT\", \"date\": \"2006-10-01T00:00:00\", \"price\": 26.96, \"pe\": 2.696}, {\"symbol\": \"MSFT\", \"date\": \"2006-11-01T00:00:00\", \"price\": 27.66, \"pe\": 2.766}, {\"symbol\": \"MSFT\", \"date\": \"2006-12-01T00:00:00\", \"price\": 28.13, \"pe\": 2.8129999999999997}, {\"symbol\": \"MSFT\", \"date\": \"2007-01-01T00:00:00\", \"price\": 29.07, \"pe\": 2.907}, {\"symbol\": \"MSFT\", \"date\": \"2007-02-01T00:00:00\", \"price\": 26.63, \"pe\": 2.663}, {\"symbol\": \"MSFT\", \"date\": \"2007-03-01T00:00:00\", \"price\": 26.35, \"pe\": 2.6350000000000002}, {\"symbol\": \"MSFT\", \"date\": \"2007-04-01T00:00:00\", \"price\": 28.3, \"pe\": 2.83}, {\"symbol\": \"MSFT\", \"date\": \"2007-05-01T00:00:00\", \"price\": 29.11, \"pe\": 2.911}, {\"symbol\": \"MSFT\", \"date\": \"2007-06-01T00:00:00\", \"price\": 27.95, \"pe\": 2.795}, {\"symbol\": \"MSFT\", \"date\": \"2007-07-01T00:00:00\", \"price\": 27.5, \"pe\": 2.75}, {\"symbol\": \"MSFT\", \"date\": \"2007-08-01T00:00:00\", \"price\": 27.34, \"pe\": 2.734}, {\"symbol\": \"MSFT\", \"date\": \"2007-09-01T00:00:00\", \"price\": 28.04, \"pe\": 2.804}, {\"symbol\": \"MSFT\", \"date\": \"2007-10-01T00:00:00\", \"price\": 35.03, \"pe\": 3.503}, {\"symbol\": \"MSFT\", \"date\": \"2007-11-01T00:00:00\", \"price\": 32.09, \"pe\": 3.2090000000000005}, {\"symbol\": \"MSFT\", \"date\": \"2007-12-01T00:00:00\", \"price\": 34.0, \"pe\": 3.4}, {\"symbol\": \"MSFT\", \"date\": \"2008-01-01T00:00:00\", \"price\": 31.13, \"pe\": 3.113}, {\"symbol\": \"MSFT\", \"date\": \"2008-02-01T00:00:00\", \"price\": 26.07, \"pe\": 2.607}, {\"symbol\": \"MSFT\", \"date\": \"2008-03-01T00:00:00\", \"price\": 27.21, \"pe\": 2.721}, {\"symbol\": \"MSFT\", \"date\": \"2008-04-01T00:00:00\", \"price\": 27.34, \"pe\": 2.734}, {\"symbol\": \"MSFT\", \"date\": \"2008-05-01T00:00:00\", \"price\": 27.25, \"pe\": 2.725}, {\"symbol\": \"MSFT\", \"date\": \"2008-06-01T00:00:00\", \"price\": 26.47, \"pe\": 2.647}, {\"symbol\": \"MSFT\", \"date\": \"2008-07-01T00:00:00\", \"price\": 24.75, \"pe\": 2.475}, {\"symbol\": \"MSFT\", \"date\": \"2008-08-01T00:00:00\", \"price\": 26.36, \"pe\": 2.636}, {\"symbol\": \"MSFT\", \"date\": \"2008-09-01T00:00:00\", \"price\": 25.78, \"pe\": 2.5780000000000003}, {\"symbol\": \"MSFT\", \"date\": \"2008-10-01T00:00:00\", \"price\": 21.57, \"pe\": 2.157}, {\"symbol\": \"MSFT\", \"date\": \"2008-11-01T00:00:00\", \"price\": 19.66, \"pe\": 1.966}, {\"symbol\": \"MSFT\", \"date\": \"2008-12-01T00:00:00\", \"price\": 18.91, \"pe\": 1.891}, {\"symbol\": \"MSFT\", \"date\": \"2009-01-01T00:00:00\", \"price\": 16.63, \"pe\": 1.6629999999999998}, {\"symbol\": \"MSFT\", \"date\": \"2009-02-01T00:00:00\", \"price\": 15.81, \"pe\": 1.581}, {\"symbol\": \"MSFT\", \"date\": \"2009-03-01T00:00:00\", \"price\": 17.99, \"pe\": 1.799}, {\"symbol\": \"MSFT\", \"date\": \"2009-04-01T00:00:00\", \"price\": 19.84, \"pe\": 1.984}, {\"symbol\": \"MSFT\", \"date\": \"2009-05-01T00:00:00\", \"price\": 20.59, \"pe\": 2.059}, {\"symbol\": \"MSFT\", \"date\": \"2009-06-01T00:00:00\", \"price\": 23.42, \"pe\": 2.342}, {\"symbol\": \"MSFT\", \"date\": \"2009-07-01T00:00:00\", \"price\": 23.18, \"pe\": 2.318}, {\"symbol\": \"MSFT\", \"date\": \"2009-08-01T00:00:00\", \"price\": 24.43, \"pe\": 2.443}, {\"symbol\": \"MSFT\", \"date\": \"2009-09-01T00:00:00\", \"price\": 25.49, \"pe\": 2.549}, {\"symbol\": \"MSFT\", \"date\": \"2009-10-01T00:00:00\", \"price\": 27.48, \"pe\": 2.748}, {\"symbol\": \"MSFT\", \"date\": \"2009-11-01T00:00:00\", \"price\": 29.27, \"pe\": 2.927}, {\"symbol\": \"MSFT\", \"date\": \"2009-12-01T00:00:00\", \"price\": 30.34, \"pe\": 3.034}, {\"symbol\": \"MSFT\", \"date\": \"2010-01-01T00:00:00\", \"price\": 28.05, \"pe\": 2.805}, {\"symbol\": \"MSFT\", \"date\": \"2010-02-01T00:00:00\", \"price\": 28.67, \"pe\": 2.867}, {\"symbol\": \"MSFT\", \"date\": \"2010-03-01T00:00:00\", \"price\": 28.8, \"pe\": 2.88}, {\"symbol\": \"AMZN\", \"date\": \"2000-01-01T00:00:00\", \"price\": 64.56, \"pe\": 6.456}, {\"symbol\": \"AMZN\", \"date\": \"2000-02-01T00:00:00\", \"price\": 68.87, \"pe\": 6.8870000000000005}, {\"symbol\": \"AMZN\", \"date\": \"2000-03-01T00:00:00\", \"price\": 67.0, \"pe\": 6.7}, {\"symbol\": \"AMZN\", \"date\": \"2000-04-01T00:00:00\", \"price\": 55.19, \"pe\": 5.519}, {\"symbol\": \"AMZN\", \"date\": \"2000-05-01T00:00:00\", \"price\": 48.31, \"pe\": 4.831}, {\"symbol\": \"AMZN\", \"date\": \"2000-06-01T00:00:00\", \"price\": 36.31, \"pe\": 3.6310000000000002}, {\"symbol\": \"AMZN\", \"date\": \"2000-07-01T00:00:00\", \"price\": 30.12, \"pe\": 3.012}, {\"symbol\": \"AMZN\", \"date\": \"2000-08-01T00:00:00\", \"price\": 41.5, \"pe\": 4.15}, {\"symbol\": \"AMZN\", \"date\": \"2000-09-01T00:00:00\", \"price\": 38.44, \"pe\": 3.844}, {\"symbol\": \"AMZN\", \"date\": \"2000-10-01T00:00:00\", \"price\": 36.62, \"pe\": 3.662}, {\"symbol\": \"AMZN\", \"date\": \"2000-11-01T00:00:00\", \"price\": 24.69, \"pe\": 2.4690000000000003}, {\"symbol\": \"AMZN\", \"date\": \"2000-12-01T00:00:00\", \"price\": 15.56, \"pe\": 1.556}, {\"symbol\": \"AMZN\", \"date\": \"2001-01-01T00:00:00\", \"price\": 17.31, \"pe\": 1.7309999999999999}, {\"symbol\": \"AMZN\", \"date\": \"2001-02-01T00:00:00\", \"price\": 10.19, \"pe\": 1.019}, {\"symbol\": \"AMZN\", \"date\": \"2001-03-01T00:00:00\", \"price\": 10.23, \"pe\": 1.0230000000000001}, {\"symbol\": \"AMZN\", \"date\": \"2001-04-01T00:00:00\", \"price\": 15.78, \"pe\": 1.5779999999999998}, {\"symbol\": \"AMZN\", \"date\": \"2001-05-01T00:00:00\", \"price\": 16.69, \"pe\": 1.669}, {\"symbol\": \"AMZN\", \"date\": \"2001-06-01T00:00:00\", \"price\": 14.15, \"pe\": 1.415}, {\"symbol\": \"AMZN\", \"date\": \"2001-07-01T00:00:00\", \"price\": 12.49, \"pe\": 1.249}, {\"symbol\": \"AMZN\", \"date\": \"2001-08-01T00:00:00\", \"price\": 8.94, \"pe\": 0.8939999999999999}, {\"symbol\": \"AMZN\", \"date\": \"2001-09-01T00:00:00\", \"price\": 5.97, \"pe\": 0.597}, {\"symbol\": \"AMZN\", \"date\": \"2001-10-01T00:00:00\", \"price\": 6.98, \"pe\": 0.6980000000000001}, {\"symbol\": \"AMZN\", \"date\": \"2001-11-01T00:00:00\", \"price\": 11.32, \"pe\": 1.1320000000000001}, {\"symbol\": \"AMZN\", \"date\": \"2001-12-01T00:00:00\", \"price\": 10.82, \"pe\": 1.082}, {\"symbol\": \"AMZN\", \"date\": \"2002-01-01T00:00:00\", \"price\": 14.19, \"pe\": 1.419}, {\"symbol\": \"AMZN\", \"date\": \"2002-02-01T00:00:00\", \"price\": 14.1, \"pe\": 1.41}, {\"symbol\": \"AMZN\", \"date\": \"2002-03-01T00:00:00\", \"price\": 14.3, \"pe\": 1.4300000000000002}, {\"symbol\": \"AMZN\", \"date\": \"2002-04-01T00:00:00\", \"price\": 16.69, \"pe\": 1.669}, {\"symbol\": \"AMZN\", \"date\": \"2002-05-01T00:00:00\", \"price\": 18.23, \"pe\": 1.823}, {\"symbol\": \"AMZN\", \"date\": \"2002-06-01T00:00:00\", \"price\": 16.25, \"pe\": 1.625}, {\"symbol\": \"AMZN\", \"date\": \"2002-07-01T00:00:00\", \"price\": 14.45, \"pe\": 1.4449999999999998}, {\"symbol\": \"AMZN\", \"date\": \"2002-08-01T00:00:00\", \"price\": 14.94, \"pe\": 1.494}, {\"symbol\": \"AMZN\", \"date\": \"2002-09-01T00:00:00\", \"price\": 15.93, \"pe\": 1.593}, {\"symbol\": \"AMZN\", \"date\": \"2002-10-01T00:00:00\", \"price\": 19.36, \"pe\": 1.936}, {\"symbol\": \"AMZN\", \"date\": \"2002-11-01T00:00:00\", \"price\": 23.35, \"pe\": 2.335}, {\"symbol\": \"AMZN\", \"date\": \"2002-12-01T00:00:00\", \"price\": 18.89, \"pe\": 1.889}, {\"symbol\": \"AMZN\", \"date\": \"2003-01-01T00:00:00\", \"price\": 21.85, \"pe\": 2.185}, {\"symbol\": \"AMZN\", \"date\": \"2003-02-01T00:00:00\", \"price\": 22.01, \"pe\": 2.201}, {\"symbol\": \"AMZN\", \"date\": \"2003-03-01T00:00:00\", \"price\": 26.03, \"pe\": 2.603}, {\"symbol\": \"AMZN\", \"date\": \"2003-04-01T00:00:00\", \"price\": 28.69, \"pe\": 2.869}, {\"symbol\": \"AMZN\", \"date\": \"2003-05-01T00:00:00\", \"price\": 35.89, \"pe\": 3.589}, {\"symbol\": \"AMZN\", \"date\": \"2003-06-01T00:00:00\", \"price\": 36.32, \"pe\": 3.632}, {\"symbol\": \"AMZN\", \"date\": \"2003-07-01T00:00:00\", \"price\": 41.64, \"pe\": 4.164}, {\"symbol\": \"AMZN\", \"date\": \"2003-08-01T00:00:00\", \"price\": 46.32, \"pe\": 4.632}, {\"symbol\": \"AMZN\", \"date\": \"2003-09-01T00:00:00\", \"price\": 48.43, \"pe\": 4.843}, {\"symbol\": \"AMZN\", \"date\": \"2003-10-01T00:00:00\", \"price\": 54.43, \"pe\": 5.443}, {\"symbol\": \"AMZN\", \"date\": \"2003-11-01T00:00:00\", \"price\": 53.97, \"pe\": 5.397}, {\"symbol\": \"AMZN\", \"date\": \"2003-12-01T00:00:00\", \"price\": 52.62, \"pe\": 5.262}, {\"symbol\": \"AMZN\", \"date\": \"2004-01-01T00:00:00\", \"price\": 50.4, \"pe\": 5.04}, {\"symbol\": \"AMZN\", \"date\": \"2004-02-01T00:00:00\", \"price\": 43.01, \"pe\": 4.301}, {\"symbol\": \"AMZN\", \"date\": \"2004-03-01T00:00:00\", \"price\": 43.28, \"pe\": 4.328}, {\"symbol\": \"AMZN\", \"date\": \"2004-04-01T00:00:00\", \"price\": 43.6, \"pe\": 4.36}, {\"symbol\": \"AMZN\", \"date\": \"2004-05-01T00:00:00\", \"price\": 48.5, \"pe\": 4.85}, {\"symbol\": \"AMZN\", \"date\": \"2004-06-01T00:00:00\", \"price\": 54.4, \"pe\": 5.4399999999999995}, {\"symbol\": \"AMZN\", \"date\": \"2004-07-01T00:00:00\", \"price\": 38.92, \"pe\": 3.8920000000000003}, {\"symbol\": \"AMZN\", \"date\": \"2004-08-01T00:00:00\", \"price\": 38.14, \"pe\": 3.814}, {\"symbol\": \"AMZN\", \"date\": \"2004-09-01T00:00:00\", \"price\": 40.86, \"pe\": 4.086}, {\"symbol\": \"AMZN\", \"date\": \"2004-10-01T00:00:00\", \"price\": 34.13, \"pe\": 3.4130000000000003}, {\"symbol\": \"AMZN\", \"date\": \"2004-11-01T00:00:00\", \"price\": 39.68, \"pe\": 3.968}, {\"symbol\": \"AMZN\", \"date\": \"2004-12-01T00:00:00\", \"price\": 44.29, \"pe\": 4.429}, {\"symbol\": \"AMZN\", \"date\": \"2005-01-01T00:00:00\", \"price\": 43.22, \"pe\": 4.322}, {\"symbol\": \"AMZN\", \"date\": \"2005-02-01T00:00:00\", \"price\": 35.18, \"pe\": 3.518}, {\"symbol\": \"AMZN\", \"date\": \"2005-03-01T00:00:00\", \"price\": 34.27, \"pe\": 3.4270000000000005}, {\"symbol\": \"AMZN\", \"date\": \"2005-04-01T00:00:00\", \"price\": 32.36, \"pe\": 3.2359999999999998}, {\"symbol\": \"AMZN\", \"date\": \"2005-05-01T00:00:00\", \"price\": 35.51, \"pe\": 3.5509999999999997}, {\"symbol\": \"AMZN\", \"date\": \"2005-06-01T00:00:00\", \"price\": 33.09, \"pe\": 3.309}, {\"symbol\": \"AMZN\", \"date\": \"2005-07-01T00:00:00\", \"price\": 45.15, \"pe\": 4.515}, {\"symbol\": \"AMZN\", \"date\": \"2005-08-01T00:00:00\", \"price\": 42.7, \"pe\": 4.2700000000000005}, {\"symbol\": \"AMZN\", \"date\": \"2005-09-01T00:00:00\", \"price\": 45.3, \"pe\": 4.529999999999999}, {\"symbol\": \"AMZN\", \"date\": \"2005-10-01T00:00:00\", \"price\": 39.86, \"pe\": 3.9859999999999998}, {\"symbol\": \"AMZN\", \"date\": \"2005-11-01T00:00:00\", \"price\": 48.46, \"pe\": 4.846}, {\"symbol\": \"AMZN\", \"date\": \"2005-12-01T00:00:00\", \"price\": 47.15, \"pe\": 4.715}, {\"symbol\": \"AMZN\", \"date\": \"2006-01-01T00:00:00\", \"price\": 44.82, \"pe\": 4.482}, {\"symbol\": \"AMZN\", \"date\": \"2006-02-01T00:00:00\", \"price\": 37.44, \"pe\": 3.7439999999999998}, {\"symbol\": \"AMZN\", \"date\": \"2006-03-01T00:00:00\", \"price\": 36.53, \"pe\": 3.653}, {\"symbol\": \"AMZN\", \"date\": \"2006-04-01T00:00:00\", \"price\": 35.21, \"pe\": 3.521}, {\"symbol\": \"AMZN\", \"date\": \"2006-05-01T00:00:00\", \"price\": 34.61, \"pe\": 3.461}, {\"symbol\": \"AMZN\", \"date\": \"2006-06-01T00:00:00\", \"price\": 38.68, \"pe\": 3.868}, {\"symbol\": \"AMZN\", \"date\": \"2006-07-01T00:00:00\", \"price\": 26.89, \"pe\": 2.689}, {\"symbol\": \"AMZN\", \"date\": \"2006-08-01T00:00:00\", \"price\": 30.83, \"pe\": 3.0829999999999997}, {\"symbol\": \"AMZN\", \"date\": \"2006-09-01T00:00:00\", \"price\": 32.12, \"pe\": 3.2119999999999997}, {\"symbol\": \"AMZN\", \"date\": \"2006-10-01T00:00:00\", \"price\": 38.09, \"pe\": 3.809}, {\"symbol\": \"AMZN\", \"date\": \"2006-11-01T00:00:00\", \"price\": 40.34, \"pe\": 4.034000000000001}, {\"symbol\": \"AMZN\", \"date\": \"2006-12-01T00:00:00\", \"price\": 39.46, \"pe\": 3.946}, {\"symbol\": \"AMZN\", \"date\": \"2007-01-01T00:00:00\", \"price\": 37.67, \"pe\": 3.7670000000000003}, {\"symbol\": \"AMZN\", \"date\": \"2007-02-01T00:00:00\", \"price\": 39.14, \"pe\": 3.914}, {\"symbol\": \"AMZN\", \"date\": \"2007-03-01T00:00:00\", \"price\": 39.79, \"pe\": 3.979}, {\"symbol\": \"AMZN\", \"date\": \"2007-04-01T00:00:00\", \"price\": 61.33, \"pe\": 6.133}, {\"symbol\": \"AMZN\", \"date\": \"2007-05-01T00:00:00\", \"price\": 69.14, \"pe\": 6.914}, {\"symbol\": \"AMZN\", \"date\": \"2007-06-01T00:00:00\", \"price\": 68.41, \"pe\": 6.840999999999999}, {\"symbol\": \"AMZN\", \"date\": \"2007-07-01T00:00:00\", \"price\": 78.54, \"pe\": 7.854000000000001}, {\"symbol\": \"AMZN\", \"date\": \"2007-08-01T00:00:00\", \"price\": 79.91, \"pe\": 7.991}, {\"symbol\": \"AMZN\", \"date\": \"2007-09-01T00:00:00\", \"price\": 93.15, \"pe\": 9.315000000000001}, {\"symbol\": \"AMZN\", \"date\": \"2007-10-01T00:00:00\", \"price\": 89.15, \"pe\": 8.915000000000001}, {\"symbol\": \"AMZN\", \"date\": \"2007-11-01T00:00:00\", \"price\": 90.56, \"pe\": 9.056000000000001}, {\"symbol\": \"AMZN\", \"date\": \"2007-12-01T00:00:00\", \"price\": 92.64, \"pe\": 9.264}, {\"symbol\": \"AMZN\", \"date\": \"2008-01-01T00:00:00\", \"price\": 77.7, \"pe\": 7.7700000000000005}, {\"symbol\": \"AMZN\", \"date\": \"2008-02-01T00:00:00\", \"price\": 64.47, \"pe\": 6.447}, {\"symbol\": \"AMZN\", \"date\": \"2008-03-01T00:00:00\", \"price\": 71.3, \"pe\": 7.13}, {\"symbol\": \"AMZN\", \"date\": \"2008-04-01T00:00:00\", \"price\": 78.63, \"pe\": 7.8629999999999995}, {\"symbol\": \"AMZN\", \"date\": \"2008-05-01T00:00:00\", \"price\": 81.62, \"pe\": 8.162}, {\"symbol\": \"AMZN\", \"date\": \"2008-06-01T00:00:00\", \"price\": 73.33, \"pe\": 7.333}, {\"symbol\": \"AMZN\", \"date\": \"2008-07-01T00:00:00\", \"price\": 76.34, \"pe\": 7.634}, {\"symbol\": \"AMZN\", \"date\": \"2008-08-01T00:00:00\", \"price\": 80.81, \"pe\": 8.081}, {\"symbol\": \"AMZN\", \"date\": \"2008-09-01T00:00:00\", \"price\": 72.76, \"pe\": 7.276000000000001}, {\"symbol\": \"AMZN\", \"date\": \"2008-10-01T00:00:00\", \"price\": 57.24, \"pe\": 5.724}, {\"symbol\": \"AMZN\", \"date\": \"2008-11-01T00:00:00\", \"price\": 42.7, \"pe\": 4.2700000000000005}, {\"symbol\": \"AMZN\", \"date\": \"2008-12-01T00:00:00\", \"price\": 51.28, \"pe\": 5.128}, {\"symbol\": \"AMZN\", \"date\": \"2009-01-01T00:00:00\", \"price\": 58.82, \"pe\": 5.882}, {\"symbol\": \"AMZN\", \"date\": \"2009-02-01T00:00:00\", \"price\": 64.79, \"pe\": 6.479000000000001}, {\"symbol\": \"AMZN\", \"date\": \"2009-03-01T00:00:00\", \"price\": 73.44, \"pe\": 7.343999999999999}, {\"symbol\": \"AMZN\", \"date\": \"2009-04-01T00:00:00\", \"price\": 80.52, \"pe\": 8.052}, {\"symbol\": \"AMZN\", \"date\": \"2009-05-01T00:00:00\", \"price\": 77.99, \"pe\": 7.7989999999999995}, {\"symbol\": \"AMZN\", \"date\": \"2009-06-01T00:00:00\", \"price\": 83.66, \"pe\": 8.366}, {\"symbol\": \"AMZN\", \"date\": \"2009-07-01T00:00:00\", \"price\": 85.76, \"pe\": 8.576}, {\"symbol\": \"AMZN\", \"date\": \"2009-08-01T00:00:00\", \"price\": 81.19, \"pe\": 8.119}, {\"symbol\": \"AMZN\", \"date\": \"2009-09-01T00:00:00\", \"price\": 93.36, \"pe\": 9.336}, {\"symbol\": \"AMZN\", \"date\": \"2009-10-01T00:00:00\", \"price\": 118.81, \"pe\": 11.881}, {\"symbol\": \"AMZN\", \"date\": \"2009-11-01T00:00:00\", \"price\": 135.91, \"pe\": 13.591}, {\"symbol\": \"AMZN\", \"date\": \"2009-12-01T00:00:00\", \"price\": 134.52, \"pe\": 13.452000000000002}, {\"symbol\": \"AMZN\", \"date\": \"2010-01-01T00:00:00\", \"price\": 125.41, \"pe\": 12.541}, {\"symbol\": \"AMZN\", \"date\": \"2010-02-01T00:00:00\", \"price\": 118.4, \"pe\": 11.84}, {\"symbol\": \"AMZN\", \"date\": \"2010-03-01T00:00:00\", \"price\": 128.82, \"pe\": 12.882}, {\"symbol\": \"IBM\", \"date\": \"2000-01-01T00:00:00\", \"price\": 100.52, \"pe\": 10.052}, {\"symbol\": \"IBM\", \"date\": \"2000-02-01T00:00:00\", \"price\": 92.11, \"pe\": 9.211}, {\"symbol\": \"IBM\", \"date\": \"2000-03-01T00:00:00\", \"price\": 106.11, \"pe\": 10.611}, {\"symbol\": \"IBM\", \"date\": \"2000-04-01T00:00:00\", \"price\": 99.95, \"pe\": 9.995000000000001}, {\"symbol\": \"IBM\", \"date\": \"2000-05-01T00:00:00\", \"price\": 96.31, \"pe\": 9.631}, {\"symbol\": \"IBM\", \"date\": \"2000-06-01T00:00:00\", \"price\": 98.33, \"pe\": 9.833}, {\"symbol\": \"IBM\", \"date\": \"2000-07-01T00:00:00\", \"price\": 100.74, \"pe\": 10.074}, {\"symbol\": \"IBM\", \"date\": \"2000-08-01T00:00:00\", \"price\": 118.62, \"pe\": 11.862}, {\"symbol\": \"IBM\", \"date\": \"2000-09-01T00:00:00\", \"price\": 101.19, \"pe\": 10.119}, {\"symbol\": \"IBM\", \"date\": \"2000-10-01T00:00:00\", \"price\": 88.5, \"pe\": 8.85}, {\"symbol\": \"IBM\", \"date\": \"2000-11-01T00:00:00\", \"price\": 84.12, \"pe\": 8.412}, {\"symbol\": \"IBM\", \"date\": \"2000-12-01T00:00:00\", \"price\": 76.47, \"pe\": 7.647}, {\"symbol\": \"IBM\", \"date\": \"2001-01-01T00:00:00\", \"price\": 100.76, \"pe\": 10.076}, {\"symbol\": \"IBM\", \"date\": \"2001-02-01T00:00:00\", \"price\": 89.98, \"pe\": 8.998000000000001}, {\"symbol\": \"IBM\", \"date\": \"2001-03-01T00:00:00\", \"price\": 86.63, \"pe\": 8.663}, {\"symbol\": \"IBM\", \"date\": \"2001-04-01T00:00:00\", \"price\": 103.7, \"pe\": 10.370000000000001}, {\"symbol\": \"IBM\", \"date\": \"2001-05-01T00:00:00\", \"price\": 100.82, \"pe\": 10.081999999999999}, {\"symbol\": \"IBM\", \"date\": \"2001-06-01T00:00:00\", \"price\": 102.35, \"pe\": 10.235}, {\"symbol\": \"IBM\", \"date\": \"2001-07-01T00:00:00\", \"price\": 94.87, \"pe\": 9.487}, {\"symbol\": \"IBM\", \"date\": \"2001-08-01T00:00:00\", \"price\": 90.25, \"pe\": 9.025}, {\"symbol\": \"IBM\", \"date\": \"2001-09-01T00:00:00\", \"price\": 82.82, \"pe\": 8.282}, {\"symbol\": \"IBM\", \"date\": \"2001-10-01T00:00:00\", \"price\": 97.58, \"pe\": 9.758}, {\"symbol\": \"IBM\", \"date\": \"2001-11-01T00:00:00\", \"price\": 104.5, \"pe\": 10.45}, {\"symbol\": \"IBM\", \"date\": \"2001-12-01T00:00:00\", \"price\": 109.36, \"pe\": 10.936}, {\"symbol\": \"IBM\", \"date\": \"2002-01-01T00:00:00\", \"price\": 97.54, \"pe\": 9.754000000000001}, {\"symbol\": \"IBM\", \"date\": \"2002-02-01T00:00:00\", \"price\": 88.82, \"pe\": 8.882}, {\"symbol\": \"IBM\", \"date\": \"2002-03-01T00:00:00\", \"price\": 94.15, \"pe\": 9.415000000000001}, {\"symbol\": \"IBM\", \"date\": \"2002-04-01T00:00:00\", \"price\": 75.82, \"pe\": 7.581999999999999}, {\"symbol\": \"IBM\", \"date\": \"2002-05-01T00:00:00\", \"price\": 72.97, \"pe\": 7.297}, {\"symbol\": \"IBM\", \"date\": \"2002-06-01T00:00:00\", \"price\": 65.31, \"pe\": 6.531000000000001}, {\"symbol\": \"IBM\", \"date\": \"2002-07-01T00:00:00\", \"price\": 63.86, \"pe\": 6.386}, {\"symbol\": \"IBM\", \"date\": \"2002-08-01T00:00:00\", \"price\": 68.52, \"pe\": 6.851999999999999}, {\"symbol\": \"IBM\", \"date\": \"2002-09-01T00:00:00\", \"price\": 53.01, \"pe\": 5.301}, {\"symbol\": \"IBM\", \"date\": \"2002-10-01T00:00:00\", \"price\": 71.76, \"pe\": 7.176}, {\"symbol\": \"IBM\", \"date\": \"2002-11-01T00:00:00\", \"price\": 79.16, \"pe\": 7.9159999999999995}, {\"symbol\": \"IBM\", \"date\": \"2002-12-01T00:00:00\", \"price\": 70.58, \"pe\": 7.058}, {\"symbol\": \"IBM\", \"date\": \"2003-01-01T00:00:00\", \"price\": 71.22, \"pe\": 7.122}, {\"symbol\": \"IBM\", \"date\": \"2003-02-01T00:00:00\", \"price\": 71.13, \"pe\": 7.1129999999999995}, {\"symbol\": \"IBM\", \"date\": \"2003-03-01T00:00:00\", \"price\": 71.57, \"pe\": 7.156999999999999}, {\"symbol\": \"IBM\", \"date\": \"2003-04-01T00:00:00\", \"price\": 77.47, \"pe\": 7.747}, {\"symbol\": \"IBM\", \"date\": \"2003-05-01T00:00:00\", \"price\": 80.48, \"pe\": 8.048}, {\"symbol\": \"IBM\", \"date\": \"2003-06-01T00:00:00\", \"price\": 75.42, \"pe\": 7.542}, {\"symbol\": \"IBM\", \"date\": \"2003-07-01T00:00:00\", \"price\": 74.28, \"pe\": 7.428}, {\"symbol\": \"IBM\", \"date\": \"2003-08-01T00:00:00\", \"price\": 75.12, \"pe\": 7.5120000000000005}, {\"symbol\": \"IBM\", \"date\": \"2003-09-01T00:00:00\", \"price\": 80.91, \"pe\": 8.091}, {\"symbol\": \"IBM\", \"date\": \"2003-10-01T00:00:00\", \"price\": 81.96, \"pe\": 8.196}, {\"symbol\": \"IBM\", \"date\": \"2003-11-01T00:00:00\", \"price\": 83.08, \"pe\": 8.308}, {\"symbol\": \"IBM\", \"date\": \"2003-12-01T00:00:00\", \"price\": 85.05, \"pe\": 8.504999999999999}, {\"symbol\": \"IBM\", \"date\": \"2004-01-01T00:00:00\", \"price\": 91.06, \"pe\": 9.106}, {\"symbol\": \"IBM\", \"date\": \"2004-02-01T00:00:00\", \"price\": 88.7, \"pe\": 8.870000000000001}, {\"symbol\": \"IBM\", \"date\": \"2004-03-01T00:00:00\", \"price\": 84.41, \"pe\": 8.440999999999999}, {\"symbol\": \"IBM\", \"date\": \"2004-04-01T00:00:00\", \"price\": 81.04, \"pe\": 8.104000000000001}, {\"symbol\": \"IBM\", \"date\": \"2004-05-01T00:00:00\", \"price\": 81.59, \"pe\": 8.159}, {\"symbol\": \"IBM\", \"date\": \"2004-06-01T00:00:00\", \"price\": 81.19, \"pe\": 8.119}, {\"symbol\": \"IBM\", \"date\": \"2004-07-01T00:00:00\", \"price\": 80.19, \"pe\": 8.019}, {\"symbol\": \"IBM\", \"date\": \"2004-08-01T00:00:00\", \"price\": 78.17, \"pe\": 7.817}, {\"symbol\": \"IBM\", \"date\": \"2004-09-01T00:00:00\", \"price\": 79.13, \"pe\": 7.912999999999999}, {\"symbol\": \"IBM\", \"date\": \"2004-10-01T00:00:00\", \"price\": 82.84, \"pe\": 8.284}, {\"symbol\": \"IBM\", \"date\": \"2004-11-01T00:00:00\", \"price\": 87.15, \"pe\": 8.715}, {\"symbol\": \"IBM\", \"date\": \"2004-12-01T00:00:00\", \"price\": 91.16, \"pe\": 9.116}, {\"symbol\": \"IBM\", \"date\": \"2005-01-01T00:00:00\", \"price\": 86.39, \"pe\": 8.639}, {\"symbol\": \"IBM\", \"date\": \"2005-02-01T00:00:00\", \"price\": 85.78, \"pe\": 8.578}, {\"symbol\": \"IBM\", \"date\": \"2005-03-01T00:00:00\", \"price\": 84.66, \"pe\": 8.466}, {\"symbol\": \"IBM\", \"date\": \"2005-04-01T00:00:00\", \"price\": 70.77, \"pe\": 7.077}, {\"symbol\": \"IBM\", \"date\": \"2005-05-01T00:00:00\", \"price\": 70.18, \"pe\": 7.018000000000001}, {\"symbol\": \"IBM\", \"date\": \"2005-06-01T00:00:00\", \"price\": 68.93, \"pe\": 6.893000000000001}, {\"symbol\": \"IBM\", \"date\": \"2005-07-01T00:00:00\", \"price\": 77.53, \"pe\": 7.753}, {\"symbol\": \"IBM\", \"date\": \"2005-08-01T00:00:00\", \"price\": 75.07, \"pe\": 7.507}, {\"symbol\": \"IBM\", \"date\": \"2005-09-01T00:00:00\", \"price\": 74.7, \"pe\": 7.470000000000001}, {\"symbol\": \"IBM\", \"date\": \"2005-10-01T00:00:00\", \"price\": 76.25, \"pe\": 7.625}, {\"symbol\": \"IBM\", \"date\": \"2005-11-01T00:00:00\", \"price\": 82.98, \"pe\": 8.298}, {\"symbol\": \"IBM\", \"date\": \"2005-12-01T00:00:00\", \"price\": 76.73, \"pe\": 7.673}, {\"symbol\": \"IBM\", \"date\": \"2006-01-01T00:00:00\", \"price\": 75.89, \"pe\": 7.589}, {\"symbol\": \"IBM\", \"date\": \"2006-02-01T00:00:00\", \"price\": 75.09, \"pe\": 7.509}, {\"symbol\": \"IBM\", \"date\": \"2006-03-01T00:00:00\", \"price\": 77.17, \"pe\": 7.7170000000000005}, {\"symbol\": \"IBM\", \"date\": \"2006-04-01T00:00:00\", \"price\": 77.05, \"pe\": 7.705}, {\"symbol\": \"IBM\", \"date\": \"2006-05-01T00:00:00\", \"price\": 75.04, \"pe\": 7.5040000000000004}, {\"symbol\": \"IBM\", \"date\": \"2006-06-01T00:00:00\", \"price\": 72.15, \"pe\": 7.215000000000001}, {\"symbol\": \"IBM\", \"date\": \"2006-07-01T00:00:00\", \"price\": 72.7, \"pe\": 7.2700000000000005}, {\"symbol\": \"IBM\", \"date\": \"2006-08-01T00:00:00\", \"price\": 76.35, \"pe\": 7.635}, {\"symbol\": \"IBM\", \"date\": \"2006-09-01T00:00:00\", \"price\": 77.26, \"pe\": 7.726000000000001}, {\"symbol\": \"IBM\", \"date\": \"2006-10-01T00:00:00\", \"price\": 87.06, \"pe\": 8.706}, {\"symbol\": \"IBM\", \"date\": \"2006-11-01T00:00:00\", \"price\": 86.95, \"pe\": 8.695}, {\"symbol\": \"IBM\", \"date\": \"2006-12-01T00:00:00\", \"price\": 91.9, \"pe\": 9.190000000000001}, {\"symbol\": \"IBM\", \"date\": \"2007-01-01T00:00:00\", \"price\": 93.79, \"pe\": 9.379000000000001}, {\"symbol\": \"IBM\", \"date\": \"2007-02-01T00:00:00\", \"price\": 88.18, \"pe\": 8.818000000000001}, {\"symbol\": \"IBM\", \"date\": \"2007-03-01T00:00:00\", \"price\": 89.44, \"pe\": 8.943999999999999}, {\"symbol\": \"IBM\", \"date\": \"2007-04-01T00:00:00\", \"price\": 96.98, \"pe\": 9.698}, {\"symbol\": \"IBM\", \"date\": \"2007-05-01T00:00:00\", \"price\": 101.54, \"pe\": 10.154}, {\"symbol\": \"IBM\", \"date\": \"2007-06-01T00:00:00\", \"price\": 100.25, \"pe\": 10.025}, {\"symbol\": \"IBM\", \"date\": \"2007-07-01T00:00:00\", \"price\": 105.4, \"pe\": 10.540000000000001}, {\"symbol\": \"IBM\", \"date\": \"2007-08-01T00:00:00\", \"price\": 111.54, \"pe\": 11.154}, {\"symbol\": \"IBM\", \"date\": \"2007-09-01T00:00:00\", \"price\": 112.6, \"pe\": 11.26}, {\"symbol\": \"IBM\", \"date\": \"2007-10-01T00:00:00\", \"price\": 111.0, \"pe\": 11.1}, {\"symbol\": \"IBM\", \"date\": \"2007-11-01T00:00:00\", \"price\": 100.9, \"pe\": 10.09}, {\"symbol\": \"IBM\", \"date\": \"2007-12-01T00:00:00\", \"price\": 103.7, \"pe\": 10.370000000000001}, {\"symbol\": \"IBM\", \"date\": \"2008-01-01T00:00:00\", \"price\": 102.75, \"pe\": 10.275}, {\"symbol\": \"IBM\", \"date\": \"2008-02-01T00:00:00\", \"price\": 109.64, \"pe\": 10.964}, {\"symbol\": \"IBM\", \"date\": \"2008-03-01T00:00:00\", \"price\": 110.87, \"pe\": 11.087}, {\"symbol\": \"IBM\", \"date\": \"2008-04-01T00:00:00\", \"price\": 116.23, \"pe\": 11.623000000000001}, {\"symbol\": \"IBM\", \"date\": \"2008-05-01T00:00:00\", \"price\": 125.14, \"pe\": 12.514}, {\"symbol\": \"IBM\", \"date\": \"2008-06-01T00:00:00\", \"price\": 114.6, \"pe\": 11.459999999999999}, {\"symbol\": \"IBM\", \"date\": \"2008-07-01T00:00:00\", \"price\": 123.74, \"pe\": 12.373999999999999}, {\"symbol\": \"IBM\", \"date\": \"2008-08-01T00:00:00\", \"price\": 118.16, \"pe\": 11.815999999999999}, {\"symbol\": \"IBM\", \"date\": \"2008-09-01T00:00:00\", \"price\": 113.53, \"pe\": 11.353}, {\"symbol\": \"IBM\", \"date\": \"2008-10-01T00:00:00\", \"price\": 90.24, \"pe\": 9.024}, {\"symbol\": \"IBM\", \"date\": \"2008-11-01T00:00:00\", \"price\": 79.65, \"pe\": 7.965000000000001}, {\"symbol\": \"IBM\", \"date\": \"2008-12-01T00:00:00\", \"price\": 82.15, \"pe\": 8.215}, {\"symbol\": \"IBM\", \"date\": \"2009-01-01T00:00:00\", \"price\": 89.46, \"pe\": 8.946}, {\"symbol\": \"IBM\", \"date\": \"2009-02-01T00:00:00\", \"price\": 90.32, \"pe\": 9.032}, {\"symbol\": \"IBM\", \"date\": \"2009-03-01T00:00:00\", \"price\": 95.09, \"pe\": 9.509}, {\"symbol\": \"IBM\", \"date\": \"2009-04-01T00:00:00\", \"price\": 101.29, \"pe\": 10.129000000000001}, {\"symbol\": \"IBM\", \"date\": \"2009-05-01T00:00:00\", \"price\": 104.85, \"pe\": 10.485}, {\"symbol\": \"IBM\", \"date\": \"2009-06-01T00:00:00\", \"price\": 103.01, \"pe\": 10.301}, {\"symbol\": \"IBM\", \"date\": \"2009-07-01T00:00:00\", \"price\": 116.34, \"pe\": 11.634}, {\"symbol\": \"IBM\", \"date\": \"2009-08-01T00:00:00\", \"price\": 117.0, \"pe\": 11.7}, {\"symbol\": \"IBM\", \"date\": \"2009-09-01T00:00:00\", \"price\": 118.55, \"pe\": 11.855}, {\"symbol\": \"IBM\", \"date\": \"2009-10-01T00:00:00\", \"price\": 119.54, \"pe\": 11.954}, {\"symbol\": \"IBM\", \"date\": \"2009-11-01T00:00:00\", \"price\": 125.79, \"pe\": 12.579}, {\"symbol\": \"IBM\", \"date\": \"2009-12-01T00:00:00\", \"price\": 130.32, \"pe\": 13.032}, {\"symbol\": \"IBM\", \"date\": \"2010-01-01T00:00:00\", \"price\": 121.85, \"pe\": 12.184999999999999}, {\"symbol\": \"IBM\", \"date\": \"2010-02-01T00:00:00\", \"price\": 127.16, \"pe\": 12.716}, {\"symbol\": \"IBM\", \"date\": \"2010-03-01T00:00:00\", \"price\": 125.55, \"pe\": 12.555}, {\"symbol\": \"GOOG\", \"date\": \"2004-08-01T00:00:00\", \"price\": 102.37, \"pe\": 10.237}, {\"symbol\": \"GOOG\", \"date\": \"2004-09-01T00:00:00\", \"price\": 129.6, \"pe\": 12.959999999999999}, {\"symbol\": \"GOOG\", \"date\": \"2004-10-01T00:00:00\", \"price\": 190.64, \"pe\": 19.064}, {\"symbol\": \"GOOG\", \"date\": \"2004-11-01T00:00:00\", \"price\": 181.98, \"pe\": 18.198}, {\"symbol\": \"GOOG\", \"date\": \"2004-12-01T00:00:00\", \"price\": 192.79, \"pe\": 19.279}, {\"symbol\": \"GOOG\", \"date\": \"2005-01-01T00:00:00\", \"price\": 195.62, \"pe\": 19.562}, {\"symbol\": \"GOOG\", \"date\": \"2005-02-01T00:00:00\", \"price\": 187.99, \"pe\": 18.799}, {\"symbol\": \"GOOG\", \"date\": \"2005-03-01T00:00:00\", \"price\": 180.51, \"pe\": 18.051}, {\"symbol\": \"GOOG\", \"date\": \"2005-04-01T00:00:00\", \"price\": 220.0, \"pe\": 22.0}, {\"symbol\": \"GOOG\", \"date\": \"2005-05-01T00:00:00\", \"price\": 277.27, \"pe\": 27.726999999999997}, {\"symbol\": \"GOOG\", \"date\": \"2005-06-01T00:00:00\", \"price\": 294.15, \"pe\": 29.415}, {\"symbol\": \"GOOG\", \"date\": \"2005-07-01T00:00:00\", \"price\": 287.76, \"pe\": 28.776}, {\"symbol\": \"GOOG\", \"date\": \"2005-08-01T00:00:00\", \"price\": 286.0, \"pe\": 28.6}, {\"symbol\": \"GOOG\", \"date\": \"2005-09-01T00:00:00\", \"price\": 316.46, \"pe\": 31.645999999999997}, {\"symbol\": \"GOOG\", \"date\": \"2005-10-01T00:00:00\", \"price\": 372.14, \"pe\": 37.214}, {\"symbol\": \"GOOG\", \"date\": \"2005-11-01T00:00:00\", \"price\": 404.91, \"pe\": 40.491}, {\"symbol\": \"GOOG\", \"date\": \"2005-12-01T00:00:00\", \"price\": 414.86, \"pe\": 41.486000000000004}, {\"symbol\": \"GOOG\", \"date\": \"2006-01-01T00:00:00\", \"price\": 432.66, \"pe\": 43.266000000000005}, {\"symbol\": \"GOOG\", \"date\": \"2006-02-01T00:00:00\", \"price\": 362.62, \"pe\": 36.262}, {\"symbol\": \"GOOG\", \"date\": \"2006-03-01T00:00:00\", \"price\": 390.0, \"pe\": 39.0}, {\"symbol\": \"GOOG\", \"date\": \"2006-04-01T00:00:00\", \"price\": 417.94, \"pe\": 41.794}, {\"symbol\": \"GOOG\", \"date\": \"2006-05-01T00:00:00\", \"price\": 371.82, \"pe\": 37.182}, {\"symbol\": \"GOOG\", \"date\": \"2006-06-01T00:00:00\", \"price\": 419.33, \"pe\": 41.933}, {\"symbol\": \"GOOG\", \"date\": \"2006-07-01T00:00:00\", \"price\": 386.6, \"pe\": 38.660000000000004}, {\"symbol\": \"GOOG\", \"date\": \"2006-08-01T00:00:00\", \"price\": 378.53, \"pe\": 37.852999999999994}, {\"symbol\": \"GOOG\", \"date\": \"2006-09-01T00:00:00\", \"price\": 401.9, \"pe\": 40.19}, {\"symbol\": \"GOOG\", \"date\": \"2006-10-01T00:00:00\", \"price\": 476.39, \"pe\": 47.638999999999996}, {\"symbol\": \"GOOG\", \"date\": \"2006-11-01T00:00:00\", \"price\": 484.81, \"pe\": 48.481}, {\"symbol\": \"GOOG\", \"date\": \"2006-12-01T00:00:00\", \"price\": 460.48, \"pe\": 46.048}, {\"symbol\": \"GOOG\", \"date\": \"2007-01-01T00:00:00\", \"price\": 501.5, \"pe\": 50.15}, {\"symbol\": \"GOOG\", \"date\": \"2007-02-01T00:00:00\", \"price\": 449.45, \"pe\": 44.945}, {\"symbol\": \"GOOG\", \"date\": \"2007-03-01T00:00:00\", \"price\": 458.16, \"pe\": 45.816}, {\"symbol\": \"GOOG\", \"date\": \"2007-04-01T00:00:00\", \"price\": 471.38, \"pe\": 47.138}, {\"symbol\": \"GOOG\", \"date\": \"2007-05-01T00:00:00\", \"price\": 497.91, \"pe\": 49.791000000000004}, {\"symbol\": \"GOOG\", \"date\": \"2007-06-01T00:00:00\", \"price\": 522.7, \"pe\": 52.27}, {\"symbol\": \"GOOG\", \"date\": \"2007-07-01T00:00:00\", \"price\": 510.0, \"pe\": 51.0}, {\"symbol\": \"GOOG\", \"date\": \"2007-08-01T00:00:00\", \"price\": 515.25, \"pe\": 51.525}, {\"symbol\": \"GOOG\", \"date\": \"2007-09-01T00:00:00\", \"price\": 567.27, \"pe\": 56.727}, {\"symbol\": \"GOOG\", \"date\": \"2007-10-01T00:00:00\", \"price\": 707.0, \"pe\": 70.7}, {\"symbol\": \"GOOG\", \"date\": \"2007-11-01T00:00:00\", \"price\": 693.0, \"pe\": 69.3}, {\"symbol\": \"GOOG\", \"date\": \"2007-12-01T00:00:00\", \"price\": 691.48, \"pe\": 69.148}, {\"symbol\": \"GOOG\", \"date\": \"2008-01-01T00:00:00\", \"price\": 564.3, \"pe\": 56.42999999999999}, {\"symbol\": \"GOOG\", \"date\": \"2008-02-01T00:00:00\", \"price\": 471.18, \"pe\": 47.118}, {\"symbol\": \"GOOG\", \"date\": \"2008-03-01T00:00:00\", \"price\": 440.47, \"pe\": 44.047000000000004}, {\"symbol\": \"GOOG\", \"date\": \"2008-04-01T00:00:00\", \"price\": 574.29, \"pe\": 57.428999999999995}, {\"symbol\": \"GOOG\", \"date\": \"2008-05-01T00:00:00\", \"price\": 585.8, \"pe\": 58.58}, {\"symbol\": \"GOOG\", \"date\": \"2008-06-01T00:00:00\", \"price\": 526.42, \"pe\": 52.641999999999996}, {\"symbol\": \"GOOG\", \"date\": \"2008-07-01T00:00:00\", \"price\": 473.75, \"pe\": 47.375}, {\"symbol\": \"GOOG\", \"date\": \"2008-08-01T00:00:00\", \"price\": 463.29, \"pe\": 46.329}, {\"symbol\": \"GOOG\", \"date\": \"2008-09-01T00:00:00\", \"price\": 400.52, \"pe\": 40.052}, {\"symbol\": \"GOOG\", \"date\": \"2008-10-01T00:00:00\", \"price\": 359.36, \"pe\": 35.936}, {\"symbol\": \"GOOG\", \"date\": \"2008-11-01T00:00:00\", \"price\": 292.96, \"pe\": 29.296}, {\"symbol\": \"GOOG\", \"date\": \"2008-12-01T00:00:00\", \"price\": 307.65, \"pe\": 30.764999999999997}, {\"symbol\": \"GOOG\", \"date\": \"2009-01-01T00:00:00\", \"price\": 338.53, \"pe\": 33.852999999999994}, {\"symbol\": \"GOOG\", \"date\": \"2009-02-01T00:00:00\", \"price\": 337.99, \"pe\": 33.799}, {\"symbol\": \"GOOG\", \"date\": \"2009-03-01T00:00:00\", \"price\": 348.06, \"pe\": 34.806}, {\"symbol\": \"GOOG\", \"date\": \"2009-04-01T00:00:00\", \"price\": 395.97, \"pe\": 39.597}, {\"symbol\": \"GOOG\", \"date\": \"2009-05-01T00:00:00\", \"price\": 417.23, \"pe\": 41.723}, {\"symbol\": \"GOOG\", \"date\": \"2009-06-01T00:00:00\", \"price\": 421.59, \"pe\": 42.159}, {\"symbol\": \"GOOG\", \"date\": \"2009-07-01T00:00:00\", \"price\": 443.05, \"pe\": 44.305}, {\"symbol\": \"GOOG\", \"date\": \"2009-08-01T00:00:00\", \"price\": 461.67, \"pe\": 46.167}, {\"symbol\": \"GOOG\", \"date\": \"2009-09-01T00:00:00\", \"price\": 495.85, \"pe\": 49.585}, {\"symbol\": \"GOOG\", \"date\": \"2009-10-01T00:00:00\", \"price\": 536.12, \"pe\": 53.612}, {\"symbol\": \"GOOG\", \"date\": \"2009-11-01T00:00:00\", \"price\": 583.0, \"pe\": 58.3}, {\"symbol\": \"GOOG\", \"date\": \"2009-12-01T00:00:00\", \"price\": 619.98, \"pe\": 61.998000000000005}, {\"symbol\": \"GOOG\", \"date\": \"2010-01-01T00:00:00\", \"price\": 529.94, \"pe\": 52.99400000000001}, {\"symbol\": \"GOOG\", \"date\": \"2010-02-01T00:00:00\", \"price\": 526.8, \"pe\": 52.67999999999999}, {\"symbol\": \"GOOG\", \"date\": \"2010-03-01T00:00:00\", \"price\": 560.19, \"pe\": 56.019000000000005}, {\"symbol\": \"AAPL\", \"date\": \"2000-01-01T00:00:00\", \"price\": 25.94, \"pe\": 2.5940000000000003}, {\"symbol\": \"AAPL\", \"date\": \"2000-02-01T00:00:00\", \"price\": 28.66, \"pe\": 2.866}, {\"symbol\": \"AAPL\", \"date\": \"2000-03-01T00:00:00\", \"price\": 33.95, \"pe\": 3.3950000000000005}, {\"symbol\": \"AAPL\", \"date\": \"2000-04-01T00:00:00\", \"price\": 31.01, \"pe\": 3.101}, {\"symbol\": \"AAPL\", \"date\": \"2000-05-01T00:00:00\", \"price\": 21.0, \"pe\": 2.1}, {\"symbol\": \"AAPL\", \"date\": \"2000-06-01T00:00:00\", \"price\": 26.19, \"pe\": 2.619}, {\"symbol\": \"AAPL\", \"date\": \"2000-07-01T00:00:00\", \"price\": 25.41, \"pe\": 2.541}, {\"symbol\": \"AAPL\", \"date\": \"2000-08-01T00:00:00\", \"price\": 30.47, \"pe\": 3.0469999999999997}, {\"symbol\": \"AAPL\", \"date\": \"2000-09-01T00:00:00\", \"price\": 12.88, \"pe\": 1.288}, {\"symbol\": \"AAPL\", \"date\": \"2000-10-01T00:00:00\", \"price\": 9.78, \"pe\": 0.978}, {\"symbol\": \"AAPL\", \"date\": \"2000-11-01T00:00:00\", \"price\": 8.25, \"pe\": 0.825}, {\"symbol\": \"AAPL\", \"date\": \"2000-12-01T00:00:00\", \"price\": 7.44, \"pe\": 0.744}, {\"symbol\": \"AAPL\", \"date\": \"2001-01-01T00:00:00\", \"price\": 10.81, \"pe\": 1.081}, {\"symbol\": \"AAPL\", \"date\": \"2001-02-01T00:00:00\", \"price\": 9.12, \"pe\": 0.9119999999999999}, {\"symbol\": \"AAPL\", \"date\": \"2001-03-01T00:00:00\", \"price\": 11.03, \"pe\": 1.103}, {\"symbol\": \"AAPL\", \"date\": \"2001-04-01T00:00:00\", \"price\": 12.74, \"pe\": 1.274}, {\"symbol\": \"AAPL\", \"date\": \"2001-05-01T00:00:00\", \"price\": 9.98, \"pe\": 0.998}, {\"symbol\": \"AAPL\", \"date\": \"2001-06-01T00:00:00\", \"price\": 11.62, \"pe\": 1.162}, {\"symbol\": \"AAPL\", \"date\": \"2001-07-01T00:00:00\", \"price\": 9.4, \"pe\": 0.9400000000000001}, {\"symbol\": \"AAPL\", \"date\": \"2001-08-01T00:00:00\", \"price\": 9.27, \"pe\": 0.9269999999999999}, {\"symbol\": \"AAPL\", \"date\": \"2001-09-01T00:00:00\", \"price\": 7.76, \"pe\": 0.776}, {\"symbol\": \"AAPL\", \"date\": \"2001-10-01T00:00:00\", \"price\": 8.78, \"pe\": 0.8779999999999999}, {\"symbol\": \"AAPL\", \"date\": \"2001-11-01T00:00:00\", \"price\": 10.65, \"pe\": 1.065}, {\"symbol\": \"AAPL\", \"date\": \"2001-12-01T00:00:00\", \"price\": 10.95, \"pe\": 1.095}, {\"symbol\": \"AAPL\", \"date\": \"2002-01-01T00:00:00\", \"price\": 12.36, \"pe\": 1.236}, {\"symbol\": \"AAPL\", \"date\": \"2002-02-01T00:00:00\", \"price\": 10.85, \"pe\": 1.085}, {\"symbol\": \"AAPL\", \"date\": \"2002-03-01T00:00:00\", \"price\": 11.84, \"pe\": 1.184}, {\"symbol\": \"AAPL\", \"date\": \"2002-04-01T00:00:00\", \"price\": 12.14, \"pe\": 1.214}, {\"symbol\": \"AAPL\", \"date\": \"2002-05-01T00:00:00\", \"price\": 11.65, \"pe\": 1.165}, {\"symbol\": \"AAPL\", \"date\": \"2002-06-01T00:00:00\", \"price\": 8.86, \"pe\": 0.8859999999999999}, {\"symbol\": \"AAPL\", \"date\": \"2002-07-01T00:00:00\", \"price\": 7.63, \"pe\": 0.763}, {\"symbol\": \"AAPL\", \"date\": \"2002-08-01T00:00:00\", \"price\": 7.38, \"pe\": 0.738}, {\"symbol\": \"AAPL\", \"date\": \"2002-09-01T00:00:00\", \"price\": 7.25, \"pe\": 0.725}, {\"symbol\": \"AAPL\", \"date\": \"2002-10-01T00:00:00\", \"price\": 8.03, \"pe\": 0.8029999999999999}, {\"symbol\": \"AAPL\", \"date\": \"2002-11-01T00:00:00\", \"price\": 7.75, \"pe\": 0.775}, {\"symbol\": \"AAPL\", \"date\": \"2002-12-01T00:00:00\", \"price\": 7.16, \"pe\": 0.716}, {\"symbol\": \"AAPL\", \"date\": \"2003-01-01T00:00:00\", \"price\": 7.18, \"pe\": 0.718}, {\"symbol\": \"AAPL\", \"date\": \"2003-02-01T00:00:00\", \"price\": 7.51, \"pe\": 0.751}, {\"symbol\": \"AAPL\", \"date\": \"2003-03-01T00:00:00\", \"price\": 7.07, \"pe\": 0.7070000000000001}, {\"symbol\": \"AAPL\", \"date\": \"2003-04-01T00:00:00\", \"price\": 7.11, \"pe\": 0.7110000000000001}, {\"symbol\": \"AAPL\", \"date\": \"2003-05-01T00:00:00\", \"price\": 8.98, \"pe\": 0.898}, {\"symbol\": \"AAPL\", \"date\": \"2003-06-01T00:00:00\", \"price\": 9.53, \"pe\": 0.953}, {\"symbol\": \"AAPL\", \"date\": \"2003-07-01T00:00:00\", \"price\": 10.54, \"pe\": 1.0539999999999998}, {\"symbol\": \"AAPL\", \"date\": \"2003-08-01T00:00:00\", \"price\": 11.31, \"pe\": 1.131}, {\"symbol\": \"AAPL\", \"date\": \"2003-09-01T00:00:00\", \"price\": 10.36, \"pe\": 1.036}, {\"symbol\": \"AAPL\", \"date\": \"2003-10-01T00:00:00\", \"price\": 11.44, \"pe\": 1.144}, {\"symbol\": \"AAPL\", \"date\": \"2003-11-01T00:00:00\", \"price\": 10.45, \"pe\": 1.045}, {\"symbol\": \"AAPL\", \"date\": \"2003-12-01T00:00:00\", \"price\": 10.69, \"pe\": 1.069}, {\"symbol\": \"AAPL\", \"date\": \"2004-01-01T00:00:00\", \"price\": 11.28, \"pe\": 1.128}, {\"symbol\": \"AAPL\", \"date\": \"2004-02-01T00:00:00\", \"price\": 11.96, \"pe\": 1.1960000000000002}, {\"symbol\": \"AAPL\", \"date\": \"2004-03-01T00:00:00\", \"price\": 13.52, \"pe\": 1.3519999999999999}, {\"symbol\": \"AAPL\", \"date\": \"2004-04-01T00:00:00\", \"price\": 12.89, \"pe\": 1.2890000000000001}, {\"symbol\": \"AAPL\", \"date\": \"2004-05-01T00:00:00\", \"price\": 14.03, \"pe\": 1.403}, {\"symbol\": \"AAPL\", \"date\": \"2004-06-01T00:00:00\", \"price\": 16.27, \"pe\": 1.627}, {\"symbol\": \"AAPL\", \"date\": \"2004-07-01T00:00:00\", \"price\": 16.17, \"pe\": 1.6170000000000002}, {\"symbol\": \"AAPL\", \"date\": \"2004-08-01T00:00:00\", \"price\": 17.25, \"pe\": 1.725}, {\"symbol\": \"AAPL\", \"date\": \"2004-09-01T00:00:00\", \"price\": 19.38, \"pe\": 1.938}, {\"symbol\": \"AAPL\", \"date\": \"2004-10-01T00:00:00\", \"price\": 26.2, \"pe\": 2.62}, {\"symbol\": \"AAPL\", \"date\": \"2004-11-01T00:00:00\", \"price\": 33.53, \"pe\": 3.353}, {\"symbol\": \"AAPL\", \"date\": \"2004-12-01T00:00:00\", \"price\": 32.2, \"pe\": 3.22}, {\"symbol\": \"AAPL\", \"date\": \"2005-01-01T00:00:00\", \"price\": 38.45, \"pe\": 3.845}, {\"symbol\": \"AAPL\", \"date\": \"2005-02-01T00:00:00\", \"price\": 44.86, \"pe\": 4.486}, {\"symbol\": \"AAPL\", \"date\": \"2005-03-01T00:00:00\", \"price\": 41.67, \"pe\": 4.167}, {\"symbol\": \"AAPL\", \"date\": \"2005-04-01T00:00:00\", \"price\": 36.06, \"pe\": 3.6060000000000003}, {\"symbol\": \"AAPL\", \"date\": \"2005-05-01T00:00:00\", \"price\": 39.76, \"pe\": 3.976}, {\"symbol\": \"AAPL\", \"date\": \"2005-06-01T00:00:00\", \"price\": 36.81, \"pe\": 3.681}, {\"symbol\": \"AAPL\", \"date\": \"2005-07-01T00:00:00\", \"price\": 42.65, \"pe\": 4.265}, {\"symbol\": \"AAPL\", \"date\": \"2005-08-01T00:00:00\", \"price\": 46.89, \"pe\": 4.689}, {\"symbol\": \"AAPL\", \"date\": \"2005-09-01T00:00:00\", \"price\": 53.61, \"pe\": 5.361}, {\"symbol\": \"AAPL\", \"date\": \"2005-10-01T00:00:00\", \"price\": 57.59, \"pe\": 5.759}, {\"symbol\": \"AAPL\", \"date\": \"2005-11-01T00:00:00\", \"price\": 67.82, \"pe\": 6.781999999999999}, {\"symbol\": \"AAPL\", \"date\": \"2005-12-01T00:00:00\", \"price\": 71.89, \"pe\": 7.189}, {\"symbol\": \"AAPL\", \"date\": \"2006-01-01T00:00:00\", \"price\": 75.51, \"pe\": 7.551}, {\"symbol\": \"AAPL\", \"date\": \"2006-02-01T00:00:00\", \"price\": 68.49, \"pe\": 6.848999999999999}, {\"symbol\": \"AAPL\", \"date\": \"2006-03-01T00:00:00\", \"price\": 62.72, \"pe\": 6.272}, {\"symbol\": \"AAPL\", \"date\": \"2006-04-01T00:00:00\", \"price\": 70.39, \"pe\": 7.039}, {\"symbol\": \"AAPL\", \"date\": \"2006-05-01T00:00:00\", \"price\": 59.77, \"pe\": 5.977}, {\"symbol\": \"AAPL\", \"date\": \"2006-06-01T00:00:00\", \"price\": 57.27, \"pe\": 5.727}, {\"symbol\": \"AAPL\", \"date\": \"2006-07-01T00:00:00\", \"price\": 67.96, \"pe\": 6.795999999999999}, {\"symbol\": \"AAPL\", \"date\": \"2006-08-01T00:00:00\", \"price\": 67.85, \"pe\": 6.784999999999999}, {\"symbol\": \"AAPL\", \"date\": \"2006-09-01T00:00:00\", \"price\": 76.98, \"pe\": 7.698}, {\"symbol\": \"AAPL\", \"date\": \"2006-10-01T00:00:00\", \"price\": 81.08, \"pe\": 8.108}, {\"symbol\": \"AAPL\", \"date\": \"2006-11-01T00:00:00\", \"price\": 91.66, \"pe\": 9.166}, {\"symbol\": \"AAPL\", \"date\": \"2006-12-01T00:00:00\", \"price\": 84.84, \"pe\": 8.484}, {\"symbol\": \"AAPL\", \"date\": \"2007-01-01T00:00:00\", \"price\": 85.73, \"pe\": 8.573}, {\"symbol\": \"AAPL\", \"date\": \"2007-02-01T00:00:00\", \"price\": 84.61, \"pe\": 8.461}, {\"symbol\": \"AAPL\", \"date\": \"2007-03-01T00:00:00\", \"price\": 92.91, \"pe\": 9.291}, {\"symbol\": \"AAPL\", \"date\": \"2007-04-01T00:00:00\", \"price\": 99.8, \"pe\": 9.98}, {\"symbol\": \"AAPL\", \"date\": \"2007-05-01T00:00:00\", \"price\": 121.19, \"pe\": 12.119}, {\"symbol\": \"AAPL\", \"date\": \"2007-06-01T00:00:00\", \"price\": 122.04, \"pe\": 12.204}, {\"symbol\": \"AAPL\", \"date\": \"2007-07-01T00:00:00\", \"price\": 131.76, \"pe\": 13.175999999999998}, {\"symbol\": \"AAPL\", \"date\": \"2007-08-01T00:00:00\", \"price\": 138.48, \"pe\": 13.847999999999999}, {\"symbol\": \"AAPL\", \"date\": \"2007-09-01T00:00:00\", \"price\": 153.47, \"pe\": 15.347}, {\"symbol\": \"AAPL\", \"date\": \"2007-10-01T00:00:00\", \"price\": 189.95, \"pe\": 18.994999999999997}, {\"symbol\": \"AAPL\", \"date\": \"2007-11-01T00:00:00\", \"price\": 182.22, \"pe\": 18.222}, {\"symbol\": \"AAPL\", \"date\": \"2007-12-01T00:00:00\", \"price\": 198.08, \"pe\": 19.808}, {\"symbol\": \"AAPL\", \"date\": \"2008-01-01T00:00:00\", \"price\": 135.36, \"pe\": 13.536000000000001}, {\"symbol\": \"AAPL\", \"date\": \"2008-02-01T00:00:00\", \"price\": 125.02, \"pe\": 12.501999999999999}, {\"symbol\": \"AAPL\", \"date\": \"2008-03-01T00:00:00\", \"price\": 143.5, \"pe\": 14.35}, {\"symbol\": \"AAPL\", \"date\": \"2008-04-01T00:00:00\", \"price\": 173.95, \"pe\": 17.395}, {\"symbol\": \"AAPL\", \"date\": \"2008-05-01T00:00:00\", \"price\": 188.75, \"pe\": 18.875}, {\"symbol\": \"AAPL\", \"date\": \"2008-06-01T00:00:00\", \"price\": 167.44, \"pe\": 16.744}, {\"symbol\": \"AAPL\", \"date\": \"2008-07-01T00:00:00\", \"price\": 158.95, \"pe\": 15.895}, {\"symbol\": \"AAPL\", \"date\": \"2008-08-01T00:00:00\", \"price\": 169.53, \"pe\": 16.953}, {\"symbol\": \"AAPL\", \"date\": \"2008-09-01T00:00:00\", \"price\": 113.66, \"pe\": 11.366}, {\"symbol\": \"AAPL\", \"date\": \"2008-10-01T00:00:00\", \"price\": 107.59, \"pe\": 10.759}, {\"symbol\": \"AAPL\", \"date\": \"2008-11-01T00:00:00\", \"price\": 92.67, \"pe\": 9.267}, {\"symbol\": \"AAPL\", \"date\": \"2008-12-01T00:00:00\", \"price\": 85.35, \"pe\": 8.535}, {\"symbol\": \"AAPL\", \"date\": \"2009-01-01T00:00:00\", \"price\": 90.13, \"pe\": 9.013}, {\"symbol\": \"AAPL\", \"date\": \"2009-02-01T00:00:00\", \"price\": 89.31, \"pe\": 8.931000000000001}, {\"symbol\": \"AAPL\", \"date\": \"2009-03-01T00:00:00\", \"price\": 105.12, \"pe\": 10.512}, {\"symbol\": \"AAPL\", \"date\": \"2009-04-01T00:00:00\", \"price\": 125.83, \"pe\": 12.583}, {\"symbol\": \"AAPL\", \"date\": \"2009-05-01T00:00:00\", \"price\": 135.81, \"pe\": 13.581}, {\"symbol\": \"AAPL\", \"date\": \"2009-06-01T00:00:00\", \"price\": 142.43, \"pe\": 14.243}, {\"symbol\": \"AAPL\", \"date\": \"2009-07-01T00:00:00\", \"price\": 163.39, \"pe\": 16.339}, {\"symbol\": \"AAPL\", \"date\": \"2009-08-01T00:00:00\", \"price\": 168.21, \"pe\": 16.821}, {\"symbol\": \"AAPL\", \"date\": \"2009-09-01T00:00:00\", \"price\": 185.35, \"pe\": 18.535}, {\"symbol\": \"AAPL\", \"date\": \"2009-10-01T00:00:00\", \"price\": 188.5, \"pe\": 18.85}, {\"symbol\": \"AAPL\", \"date\": \"2009-11-01T00:00:00\", \"price\": 199.91, \"pe\": 19.991}, {\"symbol\": \"AAPL\", \"date\": \"2009-12-01T00:00:00\", \"price\": 210.73, \"pe\": 21.073}, {\"symbol\": \"AAPL\", \"date\": \"2010-01-01T00:00:00\", \"price\": 192.06, \"pe\": 19.206}, {\"symbol\": \"AAPL\", \"date\": \"2010-02-01T00:00:00\", \"price\": 204.62, \"pe\": 20.462}, {\"symbol\": \"AAPL\", \"date\": \"2010-03-01T00:00:00\", \"price\": 223.02, \"pe\": 22.302}]}}, {\"mode\": \"vega-lite\"});\n",
       "</script>"
      ],
      "text/plain": [
       "alt.Chart(...)"
      ]
     },
     "execution_count": 1,
     "metadata": {},
     "output_type": "execute_result"
    }
   ],
   "source": [
    "# https://github.com/altair-viz/altair/issues/984\n",
    "\n",
    "import altair as alt\n",
    "from vega_datasets import data\n",
    "\n",
    "stockdata = data.stocks()\n",
    "stockdata['pe'] = stockdata['price'] / 10\n",
    "\n",
    "selector = alt.selection_single(\n",
    "    fields=['symbol'], \n",
    "    empty='all',\n",
    "    init={'symbol': 'AAPL'},\n",
    "    bind='legend'\n",
    ")\n",
    "\n",
    "price = alt.Chart(stockdata).mark_line(point=True).encode(\n",
    "    x='date:T',\n",
    "    y='price:Q',\n",
    "    color='symbol:N',\n",
    "    opacity=alt.condition(selector, alt.value(1), alt.value(0))\n",
    ").add_selection(\n",
    "    selector\n",
    ")\n",
    "\n",
    "price"
   ]
  }
 ],
 "metadata": {
  "kernelspec": {
   "display_name": "Python 3",
   "language": "python",
   "name": "python3"
  },
  "language_info": {
   "codemirror_mode": {
    "name": "ipython",
    "version": 3
   },
   "file_extension": ".py",
   "mimetype": "text/x-python",
   "name": "python",
   "nbconvert_exporter": "python",
   "pygments_lexer": "ipython3",
   "version": "3.7.4"
  }
 },
 "nbformat": 4,
 "nbformat_minor": 2
}
