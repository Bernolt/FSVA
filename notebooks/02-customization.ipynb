{
 "cells": [
  {
   "cell_type": "code",
   "execution_count": 1,
   "metadata": {},
   "outputs": [],
   "source": [
    "import altair as alt\n",
    "import pandas as pd"
   ]
  },
  {
   "cell_type": "code",
   "execution_count": 4,
   "metadata": {},
   "outputs": [],
   "source": [
    "# https://www.youtube.com/watch?v=dwSe2imUyvg"
   ]
  },
  {
   "cell_type": "code",
   "execution_count": 2,
   "metadata": {},
   "outputs": [],
   "source": [
    "owl = pd.read_csv('../data/owl.csv')"
   ]
  },
  {
   "cell_type": "code",
   "execution_count": 3,
   "metadata": {},
   "outputs": [
    {
     "data": {
      "text/html": [
       "\n",
       "<div id=\"altair-viz-c71067b251074730bb7302e9f0132fb9\"></div>\n",
       "<script type=\"text/javascript\">\n",
       "  (function(spec, embedOpt){\n",
       "    const outputDiv = document.getElementById(\"altair-viz-c71067b251074730bb7302e9f0132fb9\");\n",
       "    const paths = {\n",
       "      \"vega\": \"https://cdn.jsdelivr.net/npm//vega@5?noext\",\n",
       "      \"vega-lib\": \"https://cdn.jsdelivr.net/npm//vega-lib?noext\",\n",
       "      \"vega-lite\": \"https://cdn.jsdelivr.net/npm//vega-lite@4.0.2?noext\",\n",
       "      \"vega-embed\": \"https://cdn.jsdelivr.net/npm//vega-embed@6?noext\",\n",
       "    };\n",
       "\n",
       "    function loadScript(lib) {\n",
       "      return new Promise(function(resolve, reject) {\n",
       "        var s = document.createElement('script');\n",
       "        s.src = paths[lib];\n",
       "        s.async = true;\n",
       "        s.onload = () => resolve(paths[lib]);\n",
       "        s.onerror = () => reject(`Error loading script: ${paths[lib]}`);\n",
       "        document.getElementsByTagName(\"head\")[0].appendChild(s);\n",
       "      });\n",
       "    }\n",
       "\n",
       "    function showError(err) {\n",
       "      outputDiv.innerHTML = `<div class=\"error\" style=\"color:red;\">${err}</div>`;\n",
       "      throw err;\n",
       "    }\n",
       "\n",
       "    function displayChart(vegaEmbed) {\n",
       "      vegaEmbed(outputDiv, spec, embedOpt)\n",
       "        .catch(err => showError(`Javascript Error: ${err.message}<br>This usually means there's a typo in your chart specification. See the javascript console for the full traceback.`));\n",
       "    }\n",
       "\n",
       "    if(typeof define === \"function\" && define.amd) {\n",
       "      requirejs.config({paths});\n",
       "      require([\"vega-embed\"], displayChart, err => showError(`Error loading script: ${err.message}`));\n",
       "    } else if (typeof vegaEmbed === \"function\") {\n",
       "      displayChart(vegaEmbed);\n",
       "    } else {\n",
       "      loadScript(\"vega\")\n",
       "        .then(() => loadScript(\"vega-lite\"))\n",
       "        .then(() => loadScript(\"vega-embed\"))\n",
       "        .catch(showError)\n",
       "        .then(() => displayChart(vegaEmbed));\n",
       "    }\n",
       "  })({\"config\": {\"view\": {\"continuousWidth\": 400, \"continuousHeight\": 300}}, \"data\": {\"name\": \"data-2a6700b88613219c0348f5ad71778108\"}, \"mark\": \"rect\", \"encoding\": {\"color\": {\"type\": \"nominal\", \"field\": \"Colour\"}, \"x\": {\"type\": \"ordinal\", \"field\": \"X\"}, \"y\": {\"type\": \"ordinal\", \"field\": \"Y\"}}, \"$schema\": \"https://vega.github.io/schema/vega-lite/v4.0.2.json\", \"datasets\": {\"data-2a6700b88613219c0348f5ad71778108\": [{\"X\": 1, \"Y\": 1, \"Colour\": \"Blue\"}, {\"X\": 1, \"Y\": 2, \"Colour\": \"Blue\"}, {\"X\": 1, \"Y\": 3, \"Colour\": \"Blue\"}, {\"X\": 1, \"Y\": 4, \"Colour\": \"Blue\"}, {\"X\": 1, \"Y\": 5, \"Colour\": \"Blue\"}, {\"X\": 1, \"Y\": 6, \"Colour\": \"Blue\"}, {\"X\": 1, \"Y\": 7, \"Colour\": \"Blue\"}, {\"X\": 1, \"Y\": 8, \"Colour\": \"Blue\"}, {\"X\": 1, \"Y\": 9, \"Colour\": \"Blue\"}, {\"X\": 1, \"Y\": 10, \"Colour\": \"Blue\"}, {\"X\": 1, \"Y\": 11, \"Colour\": \"Blue\"}, {\"X\": 2, \"Y\": 1, \"Colour\": \"Dark Brown\"}, {\"X\": 2, \"Y\": 2, \"Colour\": \"Dark Brown\"}, {\"X\": 2, \"Y\": 3, \"Colour\": \"Dark Brown\"}, {\"X\": 2, \"Y\": 4, \"Colour\": \"Brown\"}, {\"X\": 2, \"Y\": 5, \"Colour\": \"Light Blue\"}, {\"X\": 2, \"Y\": 6, \"Colour\": \"Light Blue\"}, {\"X\": 2, \"Y\": 7, \"Colour\": \"Light Blue\"}, {\"X\": 2, \"Y\": 8, \"Colour\": \"Light Blue\"}, {\"X\": 2, \"Y\": 9, \"Colour\": \"Light Blue\"}, {\"X\": 2, \"Y\": 10, \"Colour\": \"Light Blue\"}, {\"X\": 2, \"Y\": 11, \"Colour\": \"Blue\"}, {\"X\": 3, \"Y\": 1, \"Colour\": \"Brown\"}, {\"X\": 3, \"Y\": 2, \"Colour\": \"Brown\"}, {\"X\": 3, \"Y\": 3, \"Colour\": \"Brown\"}, {\"X\": 3, \"Y\": 4, \"Colour\": \"Dark Brown\"}, {\"X\": 3, \"Y\": 5, \"Colour\": \"Dark Brown\"}, {\"X\": 3, \"Y\": 6, \"Colour\": \"Dark Brown\"}, {\"X\": 3, \"Y\": 7, \"Colour\": \"Dark Brown\"}, {\"X\": 3, \"Y\": 8, \"Colour\": \"Dark Brown\"}, {\"X\": 3, \"Y\": 9, \"Colour\": \"Dark Brown\"}, {\"X\": 3, \"Y\": 10, \"Colour\": \"Light Blue\"}, {\"X\": 3, \"Y\": 11, \"Colour\": \"Blue\"}, {\"X\": 4, \"Y\": 1, \"Colour\": \"Brown\"}, {\"X\": 4, \"Y\": 2, \"Colour\": \"Brown\"}, {\"X\": 4, \"Y\": 3, \"Colour\": \"Brown\"}, {\"X\": 4, \"Y\": 4, \"Colour\": \"Brown\"}, {\"X\": 4, \"Y\": 5, \"Colour\": \"Brown\"}, {\"X\": 4, \"Y\": 6, \"Colour\": \"White\"}, {\"X\": 4, \"Y\": 7, \"Colour\": \"White\"}, {\"X\": 4, \"Y\": 8, \"Colour\": \"Brown\"}, {\"X\": 4, \"Y\": 9, \"Colour\": \"Brown\"}, {\"X\": 4, \"Y\": 10, \"Colour\": \"Dark Brown\"}, {\"X\": 4, \"Y\": 11, \"Colour\": \"Blue\"}, {\"X\": 5, \"Y\": 1, \"Colour\": \"Brown\"}, {\"X\": 5, \"Y\": 2, \"Colour\": \"Brown\"}, {\"X\": 5, \"Y\": 3, \"Colour\": \"Brown\"}, {\"X\": 5, \"Y\": 4, \"Colour\": \"Brown\"}, {\"X\": 5, \"Y\": 5, \"Colour\": \"Brown\"}, {\"X\": 5, \"Y\": 6, \"Colour\": \"Black\"}, {\"X\": 5, \"Y\": 7, \"Colour\": \"White\"}, {\"X\": 5, \"Y\": 8, \"Colour\": \"Brown\"}, {\"X\": 5, \"Y\": 9, \"Colour\": \"Dark Brown\"}, {\"X\": 5, \"Y\": 10, \"Colour\": \"Light Blue\"}, {\"X\": 5, \"Y\": 11, \"Colour\": \"Blue\"}, {\"X\": 6, \"Y\": 1, \"Colour\": \"Brown\"}, {\"X\": 6, \"Y\": 2, \"Colour\": \"Brown\"}, {\"X\": 6, \"Y\": 3, \"Colour\": \"Brown\"}, {\"X\": 6, \"Y\": 4, \"Colour\": \"Yellow\"}, {\"X\": 6, \"Y\": 5, \"Colour\": \"Yellow\"}, {\"X\": 6, \"Y\": 6, \"Colour\": \"Brown\"}, {\"X\": 6, \"Y\": 7, \"Colour\": \"Brown\"}, {\"X\": 6, \"Y\": 8, \"Colour\": \"Dark Brown\"}, {\"X\": 6, \"Y\": 9, \"Colour\": \"Brown\"}, {\"X\": 6, \"Y\": 10, \"Colour\": \"Light Blue\"}, {\"X\": 6, \"Y\": 11, \"Colour\": \"Blue\"}, {\"X\": 7, \"Y\": 1, \"Colour\": \"Brown\"}, {\"X\": 7, \"Y\": 2, \"Colour\": \"Brown\"}, {\"X\": 7, \"Y\": 3, \"Colour\": \"Brown\"}, {\"X\": 7, \"Y\": 4, \"Colour\": \"Brown\"}, {\"X\": 7, \"Y\": 5, \"Colour\": \"Brown\"}, {\"X\": 7, \"Y\": 6, \"Colour\": \"Black\"}, {\"X\": 7, \"Y\": 7, \"Colour\": \"White\"}, {\"X\": 7, \"Y\": 8, \"Colour\": \"Brown\"}, {\"X\": 7, \"Y\": 9, \"Colour\": \"Dark Brown\"}, {\"X\": 7, \"Y\": 10, \"Colour\": \"Light Blue\"}, {\"X\": 7, \"Y\": 11, \"Colour\": \"Blue\"}, {\"X\": 8, \"Y\": 1, \"Colour\": \"Brown\"}, {\"X\": 8, \"Y\": 2, \"Colour\": \"Brown\"}, {\"X\": 8, \"Y\": 3, \"Colour\": \"Brown\"}, {\"X\": 8, \"Y\": 4, \"Colour\": \"Brown\"}, {\"X\": 8, \"Y\": 5, \"Colour\": \"Brown\"}, {\"X\": 8, \"Y\": 6, \"Colour\": \"White\"}, {\"X\": 8, \"Y\": 7, \"Colour\": \"White\"}, {\"X\": 8, \"Y\": 8, \"Colour\": \"Brown\"}, {\"X\": 8, \"Y\": 9, \"Colour\": \"Brown\"}, {\"X\": 8, \"Y\": 10, \"Colour\": \"Dark Brown\"}, {\"X\": 8, \"Y\": 11, \"Colour\": \"Blue\"}, {\"X\": 9, \"Y\": 1, \"Colour\": \"Brown\"}, {\"X\": 9, \"Y\": 2, \"Colour\": \"Brown\"}, {\"X\": 9, \"Y\": 3, \"Colour\": \"Brown\"}, {\"X\": 9, \"Y\": 4, \"Colour\": \"Dark Brown\"}, {\"X\": 9, \"Y\": 5, \"Colour\": \"Dark Brown\"}, {\"X\": 9, \"Y\": 6, \"Colour\": \"Dark Brown\"}, {\"X\": 9, \"Y\": 7, \"Colour\": \"Dark Brown\"}, {\"X\": 9, \"Y\": 8, \"Colour\": \"Dark Brown\"}, {\"X\": 9, \"Y\": 9, \"Colour\": \"Dark Brown\"}, {\"X\": 9, \"Y\": 10, \"Colour\": \"Light Blue\"}, {\"X\": 9, \"Y\": 11, \"Colour\": \"Blue\"}, {\"X\": 10, \"Y\": 1, \"Colour\": \"Dark Brown\"}, {\"X\": 10, \"Y\": 2, \"Colour\": \"Dark Brown\"}, {\"X\": 10, \"Y\": 3, \"Colour\": \"Dark Brown\"}, {\"X\": 10, \"Y\": 4, \"Colour\": \"Brown\"}, {\"X\": 10, \"Y\": 5, \"Colour\": \"Light Blue\"}, {\"X\": 10, \"Y\": 6, \"Colour\": \"Light Blue\"}, {\"X\": 10, \"Y\": 7, \"Colour\": \"Light Blue\"}, {\"X\": 10, \"Y\": 8, \"Colour\": \"Light Blue\"}, {\"X\": 10, \"Y\": 9, \"Colour\": \"Light Blue\"}, {\"X\": 10, \"Y\": 10, \"Colour\": \"Light Blue\"}, {\"X\": 10, \"Y\": 11, \"Colour\": \"Blue\"}, {\"X\": 11, \"Y\": 1, \"Colour\": \"Blue\"}, {\"X\": 11, \"Y\": 2, \"Colour\": \"Blue\"}, {\"X\": 11, \"Y\": 3, \"Colour\": \"Blue\"}, {\"X\": 11, \"Y\": 4, \"Colour\": \"Blue\"}, {\"X\": 11, \"Y\": 5, \"Colour\": \"Blue\"}, {\"X\": 11, \"Y\": 6, \"Colour\": \"Blue\"}, {\"X\": 11, \"Y\": 7, \"Colour\": \"Blue\"}, {\"X\": 11, \"Y\": 8, \"Colour\": \"Blue\"}, {\"X\": 11, \"Y\": 9, \"Colour\": \"Blue\"}, {\"X\": 11, \"Y\": 10, \"Colour\": \"Blue\"}, {\"X\": 11, \"Y\": 11, \"Colour\": \"Blue\"}]}}, {\"mode\": \"vega-lite\"});\n",
       "</script>"
      ],
      "text/plain": [
       "alt.Chart(...)"
      ]
     },
     "execution_count": 3,
     "metadata": {},
     "output_type": "execute_result"
    }
   ],
   "source": [
    "alt.Chart(owl).mark_rect().encode(\n",
    "    x='X:O',\n",
    "    y='Y:O',\n",
    "    color='Colour:N'\n",
    ")"
   ]
  },
  {
   "cell_type": "code",
   "execution_count": 6,
   "metadata": {},
   "outputs": [
    {
     "data": {
      "text/html": [
       "\n",
       "<div id=\"altair-viz-c38acab2b1384965ba15a6bcf11b5ca8\"></div>\n",
       "<script type=\"text/javascript\">\n",
       "  (function(spec, embedOpt){\n",
       "    const outputDiv = document.getElementById(\"altair-viz-c38acab2b1384965ba15a6bcf11b5ca8\");\n",
       "    const paths = {\n",
       "      \"vega\": \"https://cdn.jsdelivr.net/npm//vega@5?noext\",\n",
       "      \"vega-lib\": \"https://cdn.jsdelivr.net/npm//vega-lib?noext\",\n",
       "      \"vega-lite\": \"https://cdn.jsdelivr.net/npm//vega-lite@4.0.2?noext\",\n",
       "      \"vega-embed\": \"https://cdn.jsdelivr.net/npm//vega-embed@6?noext\",\n",
       "    };\n",
       "\n",
       "    function loadScript(lib) {\n",
       "      return new Promise(function(resolve, reject) {\n",
       "        var s = document.createElement('script');\n",
       "        s.src = paths[lib];\n",
       "        s.async = true;\n",
       "        s.onload = () => resolve(paths[lib]);\n",
       "        s.onerror = () => reject(`Error loading script: ${paths[lib]}`);\n",
       "        document.getElementsByTagName(\"head\")[0].appendChild(s);\n",
       "      });\n",
       "    }\n",
       "\n",
       "    function showError(err) {\n",
       "      outputDiv.innerHTML = `<div class=\"error\" style=\"color:red;\">${err}</div>`;\n",
       "      throw err;\n",
       "    }\n",
       "\n",
       "    function displayChart(vegaEmbed) {\n",
       "      vegaEmbed(outputDiv, spec, embedOpt)\n",
       "        .catch(err => showError(`Javascript Error: ${err.message}<br>This usually means there's a typo in your chart specification. See the javascript console for the full traceback.`));\n",
       "    }\n",
       "\n",
       "    if(typeof define === \"function\" && define.amd) {\n",
       "      requirejs.config({paths});\n",
       "      require([\"vega-embed\"], displayChart, err => showError(`Error loading script: ${err.message}`));\n",
       "    } else if (typeof vegaEmbed === \"function\") {\n",
       "      displayChart(vegaEmbed);\n",
       "    } else {\n",
       "      loadScript(\"vega\")\n",
       "        .then(() => loadScript(\"vega-lite\"))\n",
       "        .then(() => loadScript(\"vega-embed\"))\n",
       "        .catch(showError)\n",
       "        .then(() => displayChart(vegaEmbed));\n",
       "    }\n",
       "  })({\"config\": {\"view\": {\"continuousWidth\": 400, \"continuousHeight\": 300}}, \"data\": {\"name\": \"data-2a6700b88613219c0348f5ad71778108\"}, \"mark\": \"rect\", \"encoding\": {\"color\": {\"type\": \"nominal\", \"field\": \"Colour\", \"legend\": null, \"scale\": {\"domain\": [\"Black\", \"Dark Blue\", \"Brown\", \"Dark Brown\", \"Light Blue\", \"White\", \"Yellow\"], \"range\": [\"#000000\", \"#088DA5\", \"#753A10\", \"#48240A\", \"#21CDF2\", \"#FFFFFF\", \"#FFBA3F\"]}}, \"x\": {\"type\": \"ordinal\", \"field\": \"X\"}, \"y\": {\"type\": \"ordinal\", \"field\": \"Y\"}}, \"$schema\": \"https://vega.github.io/schema/vega-lite/v4.0.2.json\", \"datasets\": {\"data-2a6700b88613219c0348f5ad71778108\": [{\"X\": 1, \"Y\": 1, \"Colour\": \"Blue\"}, {\"X\": 1, \"Y\": 2, \"Colour\": \"Blue\"}, {\"X\": 1, \"Y\": 3, \"Colour\": \"Blue\"}, {\"X\": 1, \"Y\": 4, \"Colour\": \"Blue\"}, {\"X\": 1, \"Y\": 5, \"Colour\": \"Blue\"}, {\"X\": 1, \"Y\": 6, \"Colour\": \"Blue\"}, {\"X\": 1, \"Y\": 7, \"Colour\": \"Blue\"}, {\"X\": 1, \"Y\": 8, \"Colour\": \"Blue\"}, {\"X\": 1, \"Y\": 9, \"Colour\": \"Blue\"}, {\"X\": 1, \"Y\": 10, \"Colour\": \"Blue\"}, {\"X\": 1, \"Y\": 11, \"Colour\": \"Blue\"}, {\"X\": 2, \"Y\": 1, \"Colour\": \"Dark Brown\"}, {\"X\": 2, \"Y\": 2, \"Colour\": \"Dark Brown\"}, {\"X\": 2, \"Y\": 3, \"Colour\": \"Dark Brown\"}, {\"X\": 2, \"Y\": 4, \"Colour\": \"Brown\"}, {\"X\": 2, \"Y\": 5, \"Colour\": \"Light Blue\"}, {\"X\": 2, \"Y\": 6, \"Colour\": \"Light Blue\"}, {\"X\": 2, \"Y\": 7, \"Colour\": \"Light Blue\"}, {\"X\": 2, \"Y\": 8, \"Colour\": \"Light Blue\"}, {\"X\": 2, \"Y\": 9, \"Colour\": \"Light Blue\"}, {\"X\": 2, \"Y\": 10, \"Colour\": \"Light Blue\"}, {\"X\": 2, \"Y\": 11, \"Colour\": \"Blue\"}, {\"X\": 3, \"Y\": 1, \"Colour\": \"Brown\"}, {\"X\": 3, \"Y\": 2, \"Colour\": \"Brown\"}, {\"X\": 3, \"Y\": 3, \"Colour\": \"Brown\"}, {\"X\": 3, \"Y\": 4, \"Colour\": \"Dark Brown\"}, {\"X\": 3, \"Y\": 5, \"Colour\": \"Dark Brown\"}, {\"X\": 3, \"Y\": 6, \"Colour\": \"Dark Brown\"}, {\"X\": 3, \"Y\": 7, \"Colour\": \"Dark Brown\"}, {\"X\": 3, \"Y\": 8, \"Colour\": \"Dark Brown\"}, {\"X\": 3, \"Y\": 9, \"Colour\": \"Dark Brown\"}, {\"X\": 3, \"Y\": 10, \"Colour\": \"Light Blue\"}, {\"X\": 3, \"Y\": 11, \"Colour\": \"Blue\"}, {\"X\": 4, \"Y\": 1, \"Colour\": \"Brown\"}, {\"X\": 4, \"Y\": 2, \"Colour\": \"Brown\"}, {\"X\": 4, \"Y\": 3, \"Colour\": \"Brown\"}, {\"X\": 4, \"Y\": 4, \"Colour\": \"Brown\"}, {\"X\": 4, \"Y\": 5, \"Colour\": \"Brown\"}, {\"X\": 4, \"Y\": 6, \"Colour\": \"White\"}, {\"X\": 4, \"Y\": 7, \"Colour\": \"White\"}, {\"X\": 4, \"Y\": 8, \"Colour\": \"Brown\"}, {\"X\": 4, \"Y\": 9, \"Colour\": \"Brown\"}, {\"X\": 4, \"Y\": 10, \"Colour\": \"Dark Brown\"}, {\"X\": 4, \"Y\": 11, \"Colour\": \"Blue\"}, {\"X\": 5, \"Y\": 1, \"Colour\": \"Brown\"}, {\"X\": 5, \"Y\": 2, \"Colour\": \"Brown\"}, {\"X\": 5, \"Y\": 3, \"Colour\": \"Brown\"}, {\"X\": 5, \"Y\": 4, \"Colour\": \"Brown\"}, {\"X\": 5, \"Y\": 5, \"Colour\": \"Brown\"}, {\"X\": 5, \"Y\": 6, \"Colour\": \"Black\"}, {\"X\": 5, \"Y\": 7, \"Colour\": \"White\"}, {\"X\": 5, \"Y\": 8, \"Colour\": \"Brown\"}, {\"X\": 5, \"Y\": 9, \"Colour\": \"Dark Brown\"}, {\"X\": 5, \"Y\": 10, \"Colour\": \"Light Blue\"}, {\"X\": 5, \"Y\": 11, \"Colour\": \"Blue\"}, {\"X\": 6, \"Y\": 1, \"Colour\": \"Brown\"}, {\"X\": 6, \"Y\": 2, \"Colour\": \"Brown\"}, {\"X\": 6, \"Y\": 3, \"Colour\": \"Brown\"}, {\"X\": 6, \"Y\": 4, \"Colour\": \"Yellow\"}, {\"X\": 6, \"Y\": 5, \"Colour\": \"Yellow\"}, {\"X\": 6, \"Y\": 6, \"Colour\": \"Brown\"}, {\"X\": 6, \"Y\": 7, \"Colour\": \"Brown\"}, {\"X\": 6, \"Y\": 8, \"Colour\": \"Dark Brown\"}, {\"X\": 6, \"Y\": 9, \"Colour\": \"Brown\"}, {\"X\": 6, \"Y\": 10, \"Colour\": \"Light Blue\"}, {\"X\": 6, \"Y\": 11, \"Colour\": \"Blue\"}, {\"X\": 7, \"Y\": 1, \"Colour\": \"Brown\"}, {\"X\": 7, \"Y\": 2, \"Colour\": \"Brown\"}, {\"X\": 7, \"Y\": 3, \"Colour\": \"Brown\"}, {\"X\": 7, \"Y\": 4, \"Colour\": \"Brown\"}, {\"X\": 7, \"Y\": 5, \"Colour\": \"Brown\"}, {\"X\": 7, \"Y\": 6, \"Colour\": \"Black\"}, {\"X\": 7, \"Y\": 7, \"Colour\": \"White\"}, {\"X\": 7, \"Y\": 8, \"Colour\": \"Brown\"}, {\"X\": 7, \"Y\": 9, \"Colour\": \"Dark Brown\"}, {\"X\": 7, \"Y\": 10, \"Colour\": \"Light Blue\"}, {\"X\": 7, \"Y\": 11, \"Colour\": \"Blue\"}, {\"X\": 8, \"Y\": 1, \"Colour\": \"Brown\"}, {\"X\": 8, \"Y\": 2, \"Colour\": \"Brown\"}, {\"X\": 8, \"Y\": 3, \"Colour\": \"Brown\"}, {\"X\": 8, \"Y\": 4, \"Colour\": \"Brown\"}, {\"X\": 8, \"Y\": 5, \"Colour\": \"Brown\"}, {\"X\": 8, \"Y\": 6, \"Colour\": \"White\"}, {\"X\": 8, \"Y\": 7, \"Colour\": \"White\"}, {\"X\": 8, \"Y\": 8, \"Colour\": \"Brown\"}, {\"X\": 8, \"Y\": 9, \"Colour\": \"Brown\"}, {\"X\": 8, \"Y\": 10, \"Colour\": \"Dark Brown\"}, {\"X\": 8, \"Y\": 11, \"Colour\": \"Blue\"}, {\"X\": 9, \"Y\": 1, \"Colour\": \"Brown\"}, {\"X\": 9, \"Y\": 2, \"Colour\": \"Brown\"}, {\"X\": 9, \"Y\": 3, \"Colour\": \"Brown\"}, {\"X\": 9, \"Y\": 4, \"Colour\": \"Dark Brown\"}, {\"X\": 9, \"Y\": 5, \"Colour\": \"Dark Brown\"}, {\"X\": 9, \"Y\": 6, \"Colour\": \"Dark Brown\"}, {\"X\": 9, \"Y\": 7, \"Colour\": \"Dark Brown\"}, {\"X\": 9, \"Y\": 8, \"Colour\": \"Dark Brown\"}, {\"X\": 9, \"Y\": 9, \"Colour\": \"Dark Brown\"}, {\"X\": 9, \"Y\": 10, \"Colour\": \"Light Blue\"}, {\"X\": 9, \"Y\": 11, \"Colour\": \"Blue\"}, {\"X\": 10, \"Y\": 1, \"Colour\": \"Dark Brown\"}, {\"X\": 10, \"Y\": 2, \"Colour\": \"Dark Brown\"}, {\"X\": 10, \"Y\": 3, \"Colour\": \"Dark Brown\"}, {\"X\": 10, \"Y\": 4, \"Colour\": \"Brown\"}, {\"X\": 10, \"Y\": 5, \"Colour\": \"Light Blue\"}, {\"X\": 10, \"Y\": 6, \"Colour\": \"Light Blue\"}, {\"X\": 10, \"Y\": 7, \"Colour\": \"Light Blue\"}, {\"X\": 10, \"Y\": 8, \"Colour\": \"Light Blue\"}, {\"X\": 10, \"Y\": 9, \"Colour\": \"Light Blue\"}, {\"X\": 10, \"Y\": 10, \"Colour\": \"Light Blue\"}, {\"X\": 10, \"Y\": 11, \"Colour\": \"Blue\"}, {\"X\": 11, \"Y\": 1, \"Colour\": \"Blue\"}, {\"X\": 11, \"Y\": 2, \"Colour\": \"Blue\"}, {\"X\": 11, \"Y\": 3, \"Colour\": \"Blue\"}, {\"X\": 11, \"Y\": 4, \"Colour\": \"Blue\"}, {\"X\": 11, \"Y\": 5, \"Colour\": \"Blue\"}, {\"X\": 11, \"Y\": 6, \"Colour\": \"Blue\"}, {\"X\": 11, \"Y\": 7, \"Colour\": \"Blue\"}, {\"X\": 11, \"Y\": 8, \"Colour\": \"Blue\"}, {\"X\": 11, \"Y\": 9, \"Colour\": \"Blue\"}, {\"X\": 11, \"Y\": 10, \"Colour\": \"Blue\"}, {\"X\": 11, \"Y\": 11, \"Colour\": \"Blue\"}]}}, {\"mode\": \"vega-lite\"});\n",
       "</script>"
      ],
      "text/plain": [
       "alt.Chart(...)"
      ]
     },
     "execution_count": 6,
     "metadata": {},
     "output_type": "execute_result"
    }
   ],
   "source": [
    "alt.Chart(owl).mark_rect().encode(\n",
    "    x='X:O',\n",
    "    y='Y:O',\n",
    "    color=alt.Color('Colour', \n",
    "        scale=alt.Scale(\n",
    "        domain=['Black', 'Dark Blue', 'Brown', 'Dark Brown', 'Light Blue', 'White', 'Yellow'], \n",
    "        range=[\"#000000\", \"#088DA5\", \"#753A10\", \"#48240A\", \"#21CDF2\", \"#FFFFFF\", \"#FFBA3F\"]\n",
    "    ),\n",
    "    legend=None)\n",
    ")"
   ]
  },
  {
   "cell_type": "code",
   "execution_count": 7,
   "metadata": {},
   "outputs": [
    {
     "data": {
      "text/html": [
       "\n",
       "<div id=\"altair-viz-003a28ef2ae44264bc512dc15fcd2efb\"></div>\n",
       "<script type=\"text/javascript\">\n",
       "  (function(spec, embedOpt){\n",
       "    const outputDiv = document.getElementById(\"altair-viz-003a28ef2ae44264bc512dc15fcd2efb\");\n",
       "    const paths = {\n",
       "      \"vega\": \"https://cdn.jsdelivr.net/npm//vega@5?noext\",\n",
       "      \"vega-lib\": \"https://cdn.jsdelivr.net/npm//vega-lib?noext\",\n",
       "      \"vega-lite\": \"https://cdn.jsdelivr.net/npm//vega-lite@4.0.2?noext\",\n",
       "      \"vega-embed\": \"https://cdn.jsdelivr.net/npm//vega-embed@6?noext\",\n",
       "    };\n",
       "\n",
       "    function loadScript(lib) {\n",
       "      return new Promise(function(resolve, reject) {\n",
       "        var s = document.createElement('script');\n",
       "        s.src = paths[lib];\n",
       "        s.async = true;\n",
       "        s.onload = () => resolve(paths[lib]);\n",
       "        s.onerror = () => reject(`Error loading script: ${paths[lib]}`);\n",
       "        document.getElementsByTagName(\"head\")[0].appendChild(s);\n",
       "      });\n",
       "    }\n",
       "\n",
       "    function showError(err) {\n",
       "      outputDiv.innerHTML = `<div class=\"error\" style=\"color:red;\">${err}</div>`;\n",
       "      throw err;\n",
       "    }\n",
       "\n",
       "    function displayChart(vegaEmbed) {\n",
       "      vegaEmbed(outputDiv, spec, embedOpt)\n",
       "        .catch(err => showError(`Javascript Error: ${err.message}<br>This usually means there's a typo in your chart specification. See the javascript console for the full traceback.`));\n",
       "    }\n",
       "\n",
       "    if(typeof define === \"function\" && define.amd) {\n",
       "      requirejs.config({paths});\n",
       "      require([\"vega-embed\"], displayChart, err => showError(`Error loading script: ${err.message}`));\n",
       "    } else if (typeof vegaEmbed === \"function\") {\n",
       "      displayChart(vegaEmbed);\n",
       "    } else {\n",
       "      loadScript(\"vega\")\n",
       "        .then(() => loadScript(\"vega-lite\"))\n",
       "        .then(() => loadScript(\"vega-embed\"))\n",
       "        .catch(showError)\n",
       "        .then(() => displayChart(vegaEmbed));\n",
       "    }\n",
       "  })({\"config\": {\"view\": {\"continuousWidth\": 400, \"continuousHeight\": 300}}, \"data\": {\"name\": \"data-2a6700b88613219c0348f5ad71778108\"}, \"mark\": \"rect\", \"encoding\": {\"color\": {\"type\": \"nominal\", \"field\": \"Colour\", \"legend\": null, \"scale\": {\"domain\": [\"Black\", \"Dark Blue\", \"Brown\", \"Dark Brown\", \"Light Blue\", \"White\", \"Yellow\"], \"range\": [\"#000000\", \"#088DA5\", \"#753A10\", \"#48240A\", \"#21CDF2\", \"#FFFFFF\", \"#FFBA3F\"]}}, \"x\": {\"type\": \"ordinal\", \"field\": \"X\"}, \"y\": {\"type\": \"ordinal\", \"field\": \"Y\", \"sort\": \"descending\"}}, \"$schema\": \"https://vega.github.io/schema/vega-lite/v4.0.2.json\", \"datasets\": {\"data-2a6700b88613219c0348f5ad71778108\": [{\"X\": 1, \"Y\": 1, \"Colour\": \"Blue\"}, {\"X\": 1, \"Y\": 2, \"Colour\": \"Blue\"}, {\"X\": 1, \"Y\": 3, \"Colour\": \"Blue\"}, {\"X\": 1, \"Y\": 4, \"Colour\": \"Blue\"}, {\"X\": 1, \"Y\": 5, \"Colour\": \"Blue\"}, {\"X\": 1, \"Y\": 6, \"Colour\": \"Blue\"}, {\"X\": 1, \"Y\": 7, \"Colour\": \"Blue\"}, {\"X\": 1, \"Y\": 8, \"Colour\": \"Blue\"}, {\"X\": 1, \"Y\": 9, \"Colour\": \"Blue\"}, {\"X\": 1, \"Y\": 10, \"Colour\": \"Blue\"}, {\"X\": 1, \"Y\": 11, \"Colour\": \"Blue\"}, {\"X\": 2, \"Y\": 1, \"Colour\": \"Dark Brown\"}, {\"X\": 2, \"Y\": 2, \"Colour\": \"Dark Brown\"}, {\"X\": 2, \"Y\": 3, \"Colour\": \"Dark Brown\"}, {\"X\": 2, \"Y\": 4, \"Colour\": \"Brown\"}, {\"X\": 2, \"Y\": 5, \"Colour\": \"Light Blue\"}, {\"X\": 2, \"Y\": 6, \"Colour\": \"Light Blue\"}, {\"X\": 2, \"Y\": 7, \"Colour\": \"Light Blue\"}, {\"X\": 2, \"Y\": 8, \"Colour\": \"Light Blue\"}, {\"X\": 2, \"Y\": 9, \"Colour\": \"Light Blue\"}, {\"X\": 2, \"Y\": 10, \"Colour\": \"Light Blue\"}, {\"X\": 2, \"Y\": 11, \"Colour\": \"Blue\"}, {\"X\": 3, \"Y\": 1, \"Colour\": \"Brown\"}, {\"X\": 3, \"Y\": 2, \"Colour\": \"Brown\"}, {\"X\": 3, \"Y\": 3, \"Colour\": \"Brown\"}, {\"X\": 3, \"Y\": 4, \"Colour\": \"Dark Brown\"}, {\"X\": 3, \"Y\": 5, \"Colour\": \"Dark Brown\"}, {\"X\": 3, \"Y\": 6, \"Colour\": \"Dark Brown\"}, {\"X\": 3, \"Y\": 7, \"Colour\": \"Dark Brown\"}, {\"X\": 3, \"Y\": 8, \"Colour\": \"Dark Brown\"}, {\"X\": 3, \"Y\": 9, \"Colour\": \"Dark Brown\"}, {\"X\": 3, \"Y\": 10, \"Colour\": \"Light Blue\"}, {\"X\": 3, \"Y\": 11, \"Colour\": \"Blue\"}, {\"X\": 4, \"Y\": 1, \"Colour\": \"Brown\"}, {\"X\": 4, \"Y\": 2, \"Colour\": \"Brown\"}, {\"X\": 4, \"Y\": 3, \"Colour\": \"Brown\"}, {\"X\": 4, \"Y\": 4, \"Colour\": \"Brown\"}, {\"X\": 4, \"Y\": 5, \"Colour\": \"Brown\"}, {\"X\": 4, \"Y\": 6, \"Colour\": \"White\"}, {\"X\": 4, \"Y\": 7, \"Colour\": \"White\"}, {\"X\": 4, \"Y\": 8, \"Colour\": \"Brown\"}, {\"X\": 4, \"Y\": 9, \"Colour\": \"Brown\"}, {\"X\": 4, \"Y\": 10, \"Colour\": \"Dark Brown\"}, {\"X\": 4, \"Y\": 11, \"Colour\": \"Blue\"}, {\"X\": 5, \"Y\": 1, \"Colour\": \"Brown\"}, {\"X\": 5, \"Y\": 2, \"Colour\": \"Brown\"}, {\"X\": 5, \"Y\": 3, \"Colour\": \"Brown\"}, {\"X\": 5, \"Y\": 4, \"Colour\": \"Brown\"}, {\"X\": 5, \"Y\": 5, \"Colour\": \"Brown\"}, {\"X\": 5, \"Y\": 6, \"Colour\": \"Black\"}, {\"X\": 5, \"Y\": 7, \"Colour\": \"White\"}, {\"X\": 5, \"Y\": 8, \"Colour\": \"Brown\"}, {\"X\": 5, \"Y\": 9, \"Colour\": \"Dark Brown\"}, {\"X\": 5, \"Y\": 10, \"Colour\": \"Light Blue\"}, {\"X\": 5, \"Y\": 11, \"Colour\": \"Blue\"}, {\"X\": 6, \"Y\": 1, \"Colour\": \"Brown\"}, {\"X\": 6, \"Y\": 2, \"Colour\": \"Brown\"}, {\"X\": 6, \"Y\": 3, \"Colour\": \"Brown\"}, {\"X\": 6, \"Y\": 4, \"Colour\": \"Yellow\"}, {\"X\": 6, \"Y\": 5, \"Colour\": \"Yellow\"}, {\"X\": 6, \"Y\": 6, \"Colour\": \"Brown\"}, {\"X\": 6, \"Y\": 7, \"Colour\": \"Brown\"}, {\"X\": 6, \"Y\": 8, \"Colour\": \"Dark Brown\"}, {\"X\": 6, \"Y\": 9, \"Colour\": \"Brown\"}, {\"X\": 6, \"Y\": 10, \"Colour\": \"Light Blue\"}, {\"X\": 6, \"Y\": 11, \"Colour\": \"Blue\"}, {\"X\": 7, \"Y\": 1, \"Colour\": \"Brown\"}, {\"X\": 7, \"Y\": 2, \"Colour\": \"Brown\"}, {\"X\": 7, \"Y\": 3, \"Colour\": \"Brown\"}, {\"X\": 7, \"Y\": 4, \"Colour\": \"Brown\"}, {\"X\": 7, \"Y\": 5, \"Colour\": \"Brown\"}, {\"X\": 7, \"Y\": 6, \"Colour\": \"Black\"}, {\"X\": 7, \"Y\": 7, \"Colour\": \"White\"}, {\"X\": 7, \"Y\": 8, \"Colour\": \"Brown\"}, {\"X\": 7, \"Y\": 9, \"Colour\": \"Dark Brown\"}, {\"X\": 7, \"Y\": 10, \"Colour\": \"Light Blue\"}, {\"X\": 7, \"Y\": 11, \"Colour\": \"Blue\"}, {\"X\": 8, \"Y\": 1, \"Colour\": \"Brown\"}, {\"X\": 8, \"Y\": 2, \"Colour\": \"Brown\"}, {\"X\": 8, \"Y\": 3, \"Colour\": \"Brown\"}, {\"X\": 8, \"Y\": 4, \"Colour\": \"Brown\"}, {\"X\": 8, \"Y\": 5, \"Colour\": \"Brown\"}, {\"X\": 8, \"Y\": 6, \"Colour\": \"White\"}, {\"X\": 8, \"Y\": 7, \"Colour\": \"White\"}, {\"X\": 8, \"Y\": 8, \"Colour\": \"Brown\"}, {\"X\": 8, \"Y\": 9, \"Colour\": \"Brown\"}, {\"X\": 8, \"Y\": 10, \"Colour\": \"Dark Brown\"}, {\"X\": 8, \"Y\": 11, \"Colour\": \"Blue\"}, {\"X\": 9, \"Y\": 1, \"Colour\": \"Brown\"}, {\"X\": 9, \"Y\": 2, \"Colour\": \"Brown\"}, {\"X\": 9, \"Y\": 3, \"Colour\": \"Brown\"}, {\"X\": 9, \"Y\": 4, \"Colour\": \"Dark Brown\"}, {\"X\": 9, \"Y\": 5, \"Colour\": \"Dark Brown\"}, {\"X\": 9, \"Y\": 6, \"Colour\": \"Dark Brown\"}, {\"X\": 9, \"Y\": 7, \"Colour\": \"Dark Brown\"}, {\"X\": 9, \"Y\": 8, \"Colour\": \"Dark Brown\"}, {\"X\": 9, \"Y\": 9, \"Colour\": \"Dark Brown\"}, {\"X\": 9, \"Y\": 10, \"Colour\": \"Light Blue\"}, {\"X\": 9, \"Y\": 11, \"Colour\": \"Blue\"}, {\"X\": 10, \"Y\": 1, \"Colour\": \"Dark Brown\"}, {\"X\": 10, \"Y\": 2, \"Colour\": \"Dark Brown\"}, {\"X\": 10, \"Y\": 3, \"Colour\": \"Dark Brown\"}, {\"X\": 10, \"Y\": 4, \"Colour\": \"Brown\"}, {\"X\": 10, \"Y\": 5, \"Colour\": \"Light Blue\"}, {\"X\": 10, \"Y\": 6, \"Colour\": \"Light Blue\"}, {\"X\": 10, \"Y\": 7, \"Colour\": \"Light Blue\"}, {\"X\": 10, \"Y\": 8, \"Colour\": \"Light Blue\"}, {\"X\": 10, \"Y\": 9, \"Colour\": \"Light Blue\"}, {\"X\": 10, \"Y\": 10, \"Colour\": \"Light Blue\"}, {\"X\": 10, \"Y\": 11, \"Colour\": \"Blue\"}, {\"X\": 11, \"Y\": 1, \"Colour\": \"Blue\"}, {\"X\": 11, \"Y\": 2, \"Colour\": \"Blue\"}, {\"X\": 11, \"Y\": 3, \"Colour\": \"Blue\"}, {\"X\": 11, \"Y\": 4, \"Colour\": \"Blue\"}, {\"X\": 11, \"Y\": 5, \"Colour\": \"Blue\"}, {\"X\": 11, \"Y\": 6, \"Colour\": \"Blue\"}, {\"X\": 11, \"Y\": 7, \"Colour\": \"Blue\"}, {\"X\": 11, \"Y\": 8, \"Colour\": \"Blue\"}, {\"X\": 11, \"Y\": 9, \"Colour\": \"Blue\"}, {\"X\": 11, \"Y\": 10, \"Colour\": \"Blue\"}, {\"X\": 11, \"Y\": 11, \"Colour\": \"Blue\"}]}}, {\"mode\": \"vega-lite\"});\n",
       "</script>"
      ],
      "text/plain": [
       "alt.Chart(...)"
      ]
     },
     "execution_count": 7,
     "metadata": {},
     "output_type": "execute_result"
    }
   ],
   "source": [
    "alt.Chart(owl).mark_rect().encode(\n",
    "    x='X:O',\n",
    "    y=alt.Y('Y:O', sort='descending'),\n",
    "    color=alt.Color('Colour', \n",
    "        scale=alt.Scale(\n",
    "        domain=['Black', 'Dark Blue', 'Brown', 'Dark Brown', 'Light Blue', 'White', 'Yellow'], \n",
    "        range=[\"#000000\", \"#088DA5\", \"#753A10\", \"#48240A\", \"#21CDF2\", \"#FFFFFF\", \"#FFBA3F\"]\n",
    "    ),\n",
    "    legend=None)\n",
    ")"
   ]
  },
  {
   "cell_type": "code",
   "execution_count": 10,
   "metadata": {},
   "outputs": [
    {
     "data": {
      "text/html": [
       "\n",
       "<div id=\"altair-viz-3c4e5072517949ab99ddbcc0dd9e44b8\"></div>\n",
       "<script type=\"text/javascript\">\n",
       "  (function(spec, embedOpt){\n",
       "    const outputDiv = document.getElementById(\"altair-viz-3c4e5072517949ab99ddbcc0dd9e44b8\");\n",
       "    const paths = {\n",
       "      \"vega\": \"https://cdn.jsdelivr.net/npm//vega@5?noext\",\n",
       "      \"vega-lib\": \"https://cdn.jsdelivr.net/npm//vega-lib?noext\",\n",
       "      \"vega-lite\": \"https://cdn.jsdelivr.net/npm//vega-lite@4.0.2?noext\",\n",
       "      \"vega-embed\": \"https://cdn.jsdelivr.net/npm//vega-embed@6?noext\",\n",
       "    };\n",
       "\n",
       "    function loadScript(lib) {\n",
       "      return new Promise(function(resolve, reject) {\n",
       "        var s = document.createElement('script');\n",
       "        s.src = paths[lib];\n",
       "        s.async = true;\n",
       "        s.onload = () => resolve(paths[lib]);\n",
       "        s.onerror = () => reject(`Error loading script: ${paths[lib]}`);\n",
       "        document.getElementsByTagName(\"head\")[0].appendChild(s);\n",
       "      });\n",
       "    }\n",
       "\n",
       "    function showError(err) {\n",
       "      outputDiv.innerHTML = `<div class=\"error\" style=\"color:red;\">${err}</div>`;\n",
       "      throw err;\n",
       "    }\n",
       "\n",
       "    function displayChart(vegaEmbed) {\n",
       "      vegaEmbed(outputDiv, spec, embedOpt)\n",
       "        .catch(err => showError(`Javascript Error: ${err.message}<br>This usually means there's a typo in your chart specification. See the javascript console for the full traceback.`));\n",
       "    }\n",
       "\n",
       "    if(typeof define === \"function\" && define.amd) {\n",
       "      requirejs.config({paths});\n",
       "      require([\"vega-embed\"], displayChart, err => showError(`Error loading script: ${err.message}`));\n",
       "    } else if (typeof vegaEmbed === \"function\") {\n",
       "      displayChart(vegaEmbed);\n",
       "    } else {\n",
       "      loadScript(\"vega\")\n",
       "        .then(() => loadScript(\"vega-lite\"))\n",
       "        .then(() => loadScript(\"vega-embed\"))\n",
       "        .catch(showError)\n",
       "        .then(() => displayChart(vegaEmbed));\n",
       "    }\n",
       "  })({\"config\": {\"view\": {\"continuousWidth\": 400, \"continuousHeight\": 300, \"strokeWidth\": 0}, \"axis\": {\"grid\": false}}, \"data\": {\"name\": \"data-2a6700b88613219c0348f5ad71778108\"}, \"mark\": \"rect\", \"encoding\": {\"color\": {\"type\": \"nominal\", \"field\": \"Colour\", \"legend\": null, \"scale\": {\"domain\": [\"Black\", \"Dark Blue\", \"Brown\", \"Dark Brown\", \"Light Blue\", \"White\", \"Yellow\"], \"range\": [\"#000000\", \"#088DA5\", \"#753A10\", \"#48240A\", \"#21CDF2\", \"#FFFFFF\", \"#FFBA3F\"]}}, \"x\": {\"type\": \"ordinal\", \"axis\": null, \"field\": \"X\"}, \"y\": {\"type\": \"ordinal\", \"axis\": null, \"field\": \"Y\", \"sort\": \"descending\"}}, \"$schema\": \"https://vega.github.io/schema/vega-lite/v4.0.2.json\", \"datasets\": {\"data-2a6700b88613219c0348f5ad71778108\": [{\"X\": 1, \"Y\": 1, \"Colour\": \"Blue\"}, {\"X\": 1, \"Y\": 2, \"Colour\": \"Blue\"}, {\"X\": 1, \"Y\": 3, \"Colour\": \"Blue\"}, {\"X\": 1, \"Y\": 4, \"Colour\": \"Blue\"}, {\"X\": 1, \"Y\": 5, \"Colour\": \"Blue\"}, {\"X\": 1, \"Y\": 6, \"Colour\": \"Blue\"}, {\"X\": 1, \"Y\": 7, \"Colour\": \"Blue\"}, {\"X\": 1, \"Y\": 8, \"Colour\": \"Blue\"}, {\"X\": 1, \"Y\": 9, \"Colour\": \"Blue\"}, {\"X\": 1, \"Y\": 10, \"Colour\": \"Blue\"}, {\"X\": 1, \"Y\": 11, \"Colour\": \"Blue\"}, {\"X\": 2, \"Y\": 1, \"Colour\": \"Dark Brown\"}, {\"X\": 2, \"Y\": 2, \"Colour\": \"Dark Brown\"}, {\"X\": 2, \"Y\": 3, \"Colour\": \"Dark Brown\"}, {\"X\": 2, \"Y\": 4, \"Colour\": \"Brown\"}, {\"X\": 2, \"Y\": 5, \"Colour\": \"Light Blue\"}, {\"X\": 2, \"Y\": 6, \"Colour\": \"Light Blue\"}, {\"X\": 2, \"Y\": 7, \"Colour\": \"Light Blue\"}, {\"X\": 2, \"Y\": 8, \"Colour\": \"Light Blue\"}, {\"X\": 2, \"Y\": 9, \"Colour\": \"Light Blue\"}, {\"X\": 2, \"Y\": 10, \"Colour\": \"Light Blue\"}, {\"X\": 2, \"Y\": 11, \"Colour\": \"Blue\"}, {\"X\": 3, \"Y\": 1, \"Colour\": \"Brown\"}, {\"X\": 3, \"Y\": 2, \"Colour\": \"Brown\"}, {\"X\": 3, \"Y\": 3, \"Colour\": \"Brown\"}, {\"X\": 3, \"Y\": 4, \"Colour\": \"Dark Brown\"}, {\"X\": 3, \"Y\": 5, \"Colour\": \"Dark Brown\"}, {\"X\": 3, \"Y\": 6, \"Colour\": \"Dark Brown\"}, {\"X\": 3, \"Y\": 7, \"Colour\": \"Dark Brown\"}, {\"X\": 3, \"Y\": 8, \"Colour\": \"Dark Brown\"}, {\"X\": 3, \"Y\": 9, \"Colour\": \"Dark Brown\"}, {\"X\": 3, \"Y\": 10, \"Colour\": \"Light Blue\"}, {\"X\": 3, \"Y\": 11, \"Colour\": \"Blue\"}, {\"X\": 4, \"Y\": 1, \"Colour\": \"Brown\"}, {\"X\": 4, \"Y\": 2, \"Colour\": \"Brown\"}, {\"X\": 4, \"Y\": 3, \"Colour\": \"Brown\"}, {\"X\": 4, \"Y\": 4, \"Colour\": \"Brown\"}, {\"X\": 4, \"Y\": 5, \"Colour\": \"Brown\"}, {\"X\": 4, \"Y\": 6, \"Colour\": \"White\"}, {\"X\": 4, \"Y\": 7, \"Colour\": \"White\"}, {\"X\": 4, \"Y\": 8, \"Colour\": \"Brown\"}, {\"X\": 4, \"Y\": 9, \"Colour\": \"Brown\"}, {\"X\": 4, \"Y\": 10, \"Colour\": \"Dark Brown\"}, {\"X\": 4, \"Y\": 11, \"Colour\": \"Blue\"}, {\"X\": 5, \"Y\": 1, \"Colour\": \"Brown\"}, {\"X\": 5, \"Y\": 2, \"Colour\": \"Brown\"}, {\"X\": 5, \"Y\": 3, \"Colour\": \"Brown\"}, {\"X\": 5, \"Y\": 4, \"Colour\": \"Brown\"}, {\"X\": 5, \"Y\": 5, \"Colour\": \"Brown\"}, {\"X\": 5, \"Y\": 6, \"Colour\": \"Black\"}, {\"X\": 5, \"Y\": 7, \"Colour\": \"White\"}, {\"X\": 5, \"Y\": 8, \"Colour\": \"Brown\"}, {\"X\": 5, \"Y\": 9, \"Colour\": \"Dark Brown\"}, {\"X\": 5, \"Y\": 10, \"Colour\": \"Light Blue\"}, {\"X\": 5, \"Y\": 11, \"Colour\": \"Blue\"}, {\"X\": 6, \"Y\": 1, \"Colour\": \"Brown\"}, {\"X\": 6, \"Y\": 2, \"Colour\": \"Brown\"}, {\"X\": 6, \"Y\": 3, \"Colour\": \"Brown\"}, {\"X\": 6, \"Y\": 4, \"Colour\": \"Yellow\"}, {\"X\": 6, \"Y\": 5, \"Colour\": \"Yellow\"}, {\"X\": 6, \"Y\": 6, \"Colour\": \"Brown\"}, {\"X\": 6, \"Y\": 7, \"Colour\": \"Brown\"}, {\"X\": 6, \"Y\": 8, \"Colour\": \"Dark Brown\"}, {\"X\": 6, \"Y\": 9, \"Colour\": \"Brown\"}, {\"X\": 6, \"Y\": 10, \"Colour\": \"Light Blue\"}, {\"X\": 6, \"Y\": 11, \"Colour\": \"Blue\"}, {\"X\": 7, \"Y\": 1, \"Colour\": \"Brown\"}, {\"X\": 7, \"Y\": 2, \"Colour\": \"Brown\"}, {\"X\": 7, \"Y\": 3, \"Colour\": \"Brown\"}, {\"X\": 7, \"Y\": 4, \"Colour\": \"Brown\"}, {\"X\": 7, \"Y\": 5, \"Colour\": \"Brown\"}, {\"X\": 7, \"Y\": 6, \"Colour\": \"Black\"}, {\"X\": 7, \"Y\": 7, \"Colour\": \"White\"}, {\"X\": 7, \"Y\": 8, \"Colour\": \"Brown\"}, {\"X\": 7, \"Y\": 9, \"Colour\": \"Dark Brown\"}, {\"X\": 7, \"Y\": 10, \"Colour\": \"Light Blue\"}, {\"X\": 7, \"Y\": 11, \"Colour\": \"Blue\"}, {\"X\": 8, \"Y\": 1, \"Colour\": \"Brown\"}, {\"X\": 8, \"Y\": 2, \"Colour\": \"Brown\"}, {\"X\": 8, \"Y\": 3, \"Colour\": \"Brown\"}, {\"X\": 8, \"Y\": 4, \"Colour\": \"Brown\"}, {\"X\": 8, \"Y\": 5, \"Colour\": \"Brown\"}, {\"X\": 8, \"Y\": 6, \"Colour\": \"White\"}, {\"X\": 8, \"Y\": 7, \"Colour\": \"White\"}, {\"X\": 8, \"Y\": 8, \"Colour\": \"Brown\"}, {\"X\": 8, \"Y\": 9, \"Colour\": \"Brown\"}, {\"X\": 8, \"Y\": 10, \"Colour\": \"Dark Brown\"}, {\"X\": 8, \"Y\": 11, \"Colour\": \"Blue\"}, {\"X\": 9, \"Y\": 1, \"Colour\": \"Brown\"}, {\"X\": 9, \"Y\": 2, \"Colour\": \"Brown\"}, {\"X\": 9, \"Y\": 3, \"Colour\": \"Brown\"}, {\"X\": 9, \"Y\": 4, \"Colour\": \"Dark Brown\"}, {\"X\": 9, \"Y\": 5, \"Colour\": \"Dark Brown\"}, {\"X\": 9, \"Y\": 6, \"Colour\": \"Dark Brown\"}, {\"X\": 9, \"Y\": 7, \"Colour\": \"Dark Brown\"}, {\"X\": 9, \"Y\": 8, \"Colour\": \"Dark Brown\"}, {\"X\": 9, \"Y\": 9, \"Colour\": \"Dark Brown\"}, {\"X\": 9, \"Y\": 10, \"Colour\": \"Light Blue\"}, {\"X\": 9, \"Y\": 11, \"Colour\": \"Blue\"}, {\"X\": 10, \"Y\": 1, \"Colour\": \"Dark Brown\"}, {\"X\": 10, \"Y\": 2, \"Colour\": \"Dark Brown\"}, {\"X\": 10, \"Y\": 3, \"Colour\": \"Dark Brown\"}, {\"X\": 10, \"Y\": 4, \"Colour\": \"Brown\"}, {\"X\": 10, \"Y\": 5, \"Colour\": \"Light Blue\"}, {\"X\": 10, \"Y\": 6, \"Colour\": \"Light Blue\"}, {\"X\": 10, \"Y\": 7, \"Colour\": \"Light Blue\"}, {\"X\": 10, \"Y\": 8, \"Colour\": \"Light Blue\"}, {\"X\": 10, \"Y\": 9, \"Colour\": \"Light Blue\"}, {\"X\": 10, \"Y\": 10, \"Colour\": \"Light Blue\"}, {\"X\": 10, \"Y\": 11, \"Colour\": \"Blue\"}, {\"X\": 11, \"Y\": 1, \"Colour\": \"Blue\"}, {\"X\": 11, \"Y\": 2, \"Colour\": \"Blue\"}, {\"X\": 11, \"Y\": 3, \"Colour\": \"Blue\"}, {\"X\": 11, \"Y\": 4, \"Colour\": \"Blue\"}, {\"X\": 11, \"Y\": 5, \"Colour\": \"Blue\"}, {\"X\": 11, \"Y\": 6, \"Colour\": \"Blue\"}, {\"X\": 11, \"Y\": 7, \"Colour\": \"Blue\"}, {\"X\": 11, \"Y\": 8, \"Colour\": \"Blue\"}, {\"X\": 11, \"Y\": 9, \"Colour\": \"Blue\"}, {\"X\": 11, \"Y\": 10, \"Colour\": \"Blue\"}, {\"X\": 11, \"Y\": 11, \"Colour\": \"Blue\"}]}}, {\"mode\": \"vega-lite\"});\n",
       "</script>"
      ],
      "text/plain": [
       "alt.Chart(...)"
      ]
     },
     "execution_count": 10,
     "metadata": {},
     "output_type": "execute_result"
    }
   ],
   "source": [
    "owl_chart = (\n",
    "    alt.Chart(owl)\n",
    "    .mark_rect()\n",
    "    .encode(\n",
    "        x=alt.X('X:O', axis=None),\n",
    "        y=alt.Y('Y:O', sort='descending', axis=None),\n",
    "        color=alt.Color('Colour', \n",
    "            scale=alt.Scale(\n",
    "                domain=['Black', 'Dark Blue', 'Brown', 'Dark Brown', 'Light Blue', 'White', 'Yellow'], \n",
    "                range=[\"#000000\", \"#088DA5\", \"#753A10\", \"#48240A\", \"#21CDF2\", \"#FFFFFF\", \"#FFBA3F\"]\n",
    "            ),\n",
    "        legend=None\n",
    "        )\n",
    "    )\n",
    "    .configure_axis(grid=False)\n",
    "    .configure_view(strokeWidth=0)\n",
    ")\n",
    "\n",
    "owl_chart"
   ]
  },
  {
   "cell_type": "code",
   "execution_count": null,
   "metadata": {},
   "outputs": [],
   "source": []
  },
  {
   "cell_type": "code",
   "execution_count": null,
   "metadata": {},
   "outputs": [],
   "source": []
  },
  {
   "cell_type": "code",
   "execution_count": null,
   "metadata": {},
   "outputs": [],
   "source": [
    "df = pd.read_csv('../data/issp_sex.csv')"
   ]
  },
  {
   "cell_type": "code",
   "execution_count": null,
   "metadata": {},
   "outputs": [],
   "source": [
    "df = df.rename(columns={'age2': 'age'})\n",
    "df['pct'] /= 100"
   ]
  },
  {
   "cell_type": "code",
   "execution_count": null,
   "metadata": {},
   "outputs": [],
   "source": [
    "df.sample(3)"
   ]
  },
  {
   "cell_type": "code",
   "execution_count": null,
   "metadata": {},
   "outputs": [],
   "source": [
    "df['religion'].value_counts()"
   ]
  },
  {
   "cell_type": "code",
   "execution_count": null,
   "metadata": {},
   "outputs": [],
   "source": [
    "no = df[df['religion'] == 'No religion']"
   ]
  },
  {
   "cell_type": "code",
   "execution_count": null,
   "metadata": {},
   "outputs": [],
   "source": [
    "alt.Chart(no).encode(x='age', y='pct').mark_circle()"
   ]
  },
  {
   "cell_type": "code",
   "execution_count": null,
   "metadata": {},
   "outputs": [],
   "source": [
    "alt.Chart(no).encode(x='age', y='pct', color='response').mark_circle()"
   ]
  },
  {
   "cell_type": "code",
   "execution_count": null,
   "metadata": {},
   "outputs": [],
   "source": [
    "alt.Chart(no).encode(y='age', x='pct', color='response').mark_circle()"
   ]
  },
  {
   "cell_type": "code",
   "execution_count": null,
   "metadata": {},
   "outputs": [],
   "source": [
    "no['response'].values"
   ]
  },
  {
   "cell_type": "code",
   "execution_count": null,
   "metadata": {},
   "outputs": [],
   "source": [
    "mapping = {\n",
    "    'Not wrong': 'green',\n",
    "    'Wrong': 'yellow',\n",
    "    'Wrong-ish': 'red'\n",
    "}"
   ]
  },
  {
   "cell_type": "code",
   "execution_count": null,
   "metadata": {},
   "outputs": [],
   "source": [
    "_domain = list(mapping.keys())\n",
    "_range = list(mapping.values())\n",
    "\n",
    "alt.Chart(no).encode(\n",
    "    y='age', \n",
    "    x='pct', \n",
    "    color=alt.Color('response', scale=alt.Scale(domain=_domain, range=_range))\n",
    ").mark_circle()"
   ]
  },
  {
   "cell_type": "code",
   "execution_count": null,
   "metadata": {},
   "outputs": [],
   "source": [
    "mapping = {\n",
    "    'Not wrong': \"#8EA604\",\n",
    "    'Wrong': \"#F5BB00\",\n",
    "    'Wrong-ish': \"#DE1A1A\"\n",
    "}\n",
    "\n",
    "_domain = list(mapping.keys())\n",
    "_range = list(mapping.values())\n",
    "\n",
    "alt.Chart(no).encode(\n",
    "    y=alt.Y('age', scale=alt.Scale(domain=['70+','60-69', '50-59', '40-49', '30-39', '25-29', '18-24'])), \n",
    "    x='pct', \n",
    "    color=alt.Color('response', scale=alt.Scale(domain=_domain, range=_range))\n",
    ").mark_circle()"
   ]
  },
  {
   "cell_type": "code",
   "execution_count": null,
   "metadata": {},
   "outputs": [],
   "source": [
    "no"
   ]
  },
  {
   "cell_type": "code",
   "execution_count": null,
   "metadata": {},
   "outputs": [],
   "source": [
    "mapping = {\n",
    "    'Not wrong': \"#8EA604\",\n",
    "    'Wrong': \"#F5BB00\",\n",
    "    'Wrong-ish': \"#DE1A1A\"\n",
    "}\n",
    "\n",
    "chart = (\n",
    "    alt.Chart(no).encode(\n",
    "        y=alt.Y(\n",
    "            shorthand='age', \n",
    "            scale=alt.Scale(\n",
    "                domain=['70+','60-69', '50-59', '40-49', '30-39', '25-29', '18-24']\n",
    "            )\n",
    "        ), \n",
    "        x='pct', \n",
    "        color=alt.Color(\n",
    "            shorthand='response', \n",
    "            scale=alt.Scale(\n",
    "                domain=list(mapping.keys()), \n",
    "                range=list(mapping.values())\n",
    "            )\n",
    "        )\n",
    "    )\n",
    "    .mark_circle()\n",
    ")\n",
    "\n",
    "chart"
   ]
  },
  {
   "cell_type": "code",
   "execution_count": null,
   "metadata": {},
   "outputs": [],
   "source": [
    "chart = (\n",
    "    alt.Chart(no)\n",
    "    .mark_circle(opacity=3/4)\n",
    "    .encode(\n",
    "        x=alt.X('pct:Q',\n",
    "            axis=alt.Axis(\n",
    "                title='', \n",
    "                format='%', \n",
    "                values=[0, 0.25, 0.5, 0.75, 1]\n",
    "            ),\n",
    "            # scale=alt.Scale(domain=[0, 0.25, 0.5, 0.75, 1], range=[0, 0.25, 0.5, 0.75, 1])\n",
    "        ), \n",
    "        y=alt.Y('age', \n",
    "            axis=alt.Axis(title='', grid=True),\n",
    "            scale=alt.Scale(domain=['70+','60-69', '50-59', '40-49', '30-39', '25-29', '18-24']),\n",
    "        ), \n",
    "        color=alt.Color('response', \n",
    "            scale=alt.Scale(\n",
    "                domain=['Not wrong', 'Wrong-ish', 'Wrong'], \n",
    "                range=[\"#39a9db\", \"#f39237\", \"#d63230\"]\n",
    "            ),\n",
    "            legend=alt.Legend(title='', orient='top')\n",
    "        )\n",
    "    )\n",
    "    .configure_view(strokeWidth=0)\n",
    "    .properties(\n",
    "        width=250, \n",
    "        height=250,\n",
    "        background='#F0F0F0',\n",
    "        title='Sex Before Marriage'\n",
    "    )\n",
    ")\n",
    "\n",
    "chart"
   ]
  },
  {
   "cell_type": "code",
   "execution_count": null,
   "metadata": {},
   "outputs": [],
   "source": []
  },
  {
   "cell_type": "code",
   "execution_count": null,
   "metadata": {},
   "outputs": [],
   "source": []
  },
  {
   "cell_type": "code",
   "execution_count": null,
   "metadata": {},
   "outputs": [],
   "source": []
  },
  {
   "cell_type": "code",
   "execution_count": null,
   "metadata": {},
   "outputs": [],
   "source": [
    "# https://github.com/altair-viz/altair/issues/984\n",
    "\n",
    "import altair as alt\n",
    "from vega_datasets import data\n",
    "\n",
    "stockdata = data.stocks()\n",
    "stockdata['pe'] = stockdata['price'] / 10\n",
    "\n",
    "selector = alt.selection_single(\n",
    "    fields=['symbol'], \n",
    "    empty='all',\n",
    "    init={'symbol': 'AAPL'},\n",
    "    bind='legend'\n",
    ")\n",
    "\n",
    "price = alt.Chart(stockdata).mark_line(point=True).encode(\n",
    "    x='date:T',\n",
    "    y='price:Q',\n",
    "    color='symbol:N',\n",
    "    opacity=alt.condition(selector, alt.value(1), alt.value(0))\n",
    ").add_selection(\n",
    "    selector\n",
    ")\n",
    "\n",
    "price"
   ]
  }
 ],
 "metadata": {
  "kernelspec": {
   "display_name": "Python 3",
   "language": "python",
   "name": "python3"
  },
  "language_info": {
   "codemirror_mode": {
    "name": "ipython",
    "version": 3
   },
   "file_extension": ".py",
   "mimetype": "text/x-python",
   "name": "python",
   "nbconvert_exporter": "python",
   "pygments_lexer": "ipython3",
   "version": "3.7.4"
  }
 },
 "nbformat": 4,
 "nbformat_minor": 2
}
