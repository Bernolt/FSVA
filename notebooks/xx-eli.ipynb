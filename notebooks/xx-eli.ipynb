{
 "cells": [
  {
   "cell_type": "markdown",
   "metadata": {},
   "source": [
    "### Data As Art"
   ]
  },
  {
   "cell_type": "code",
   "execution_count": 1,
   "metadata": {},
   "outputs": [],
   "source": [
    "import altair as alt\n",
    "import pandas as pd"
   ]
  },
  {
   "cell_type": "code",
   "execution_count": 2,
   "metadata": {},
   "outputs": [],
   "source": [
    "eli = pd.read_csv('../data/skydiving.csv')"
   ]
  },
  {
   "cell_type": "code",
   "execution_count": 3,
   "metadata": {},
   "outputs": [
    {
     "data": {
      "text/html": [
       "<div>\n",
       "<style scoped>\n",
       "    .dataframe tbody tr th:only-of-type {\n",
       "        vertical-align: middle;\n",
       "    }\n",
       "\n",
       "    .dataframe tbody tr th {\n",
       "        vertical-align: top;\n",
       "    }\n",
       "\n",
       "    .dataframe thead th {\n",
       "        text-align: right;\n",
       "    }\n",
       "</style>\n",
       "<table border=\"1\" class=\"dataframe\">\n",
       "  <thead>\n",
       "    <tr style=\"text-align: right;\">\n",
       "      <th></th>\n",
       "      <th>jump</th>\n",
       "      <th>exit_alt</th>\n",
       "      <th>deploy_alt</th>\n",
       "      <th>freefall</th>\n",
       "    </tr>\n",
       "  </thead>\n",
       "  <tbody>\n",
       "    <tr>\n",
       "      <td>0</td>\n",
       "      <td>1</td>\n",
       "      <td>13500</td>\n",
       "      <td>6000</td>\n",
       "      <td>7500</td>\n",
       "    </tr>\n",
       "    <tr>\n",
       "      <td>1</td>\n",
       "      <td>2</td>\n",
       "      <td>13500</td>\n",
       "      <td>6000</td>\n",
       "      <td>7500</td>\n",
       "    </tr>\n",
       "    <tr>\n",
       "      <td>2</td>\n",
       "      <td>3</td>\n",
       "      <td>14000</td>\n",
       "      <td>6000</td>\n",
       "      <td>8000</td>\n",
       "    </tr>\n",
       "    <tr>\n",
       "      <td>3</td>\n",
       "      <td>4</td>\n",
       "      <td>13500</td>\n",
       "      <td>6000</td>\n",
       "      <td>7500</td>\n",
       "    </tr>\n",
       "    <tr>\n",
       "      <td>4</td>\n",
       "      <td>5</td>\n",
       "      <td>11000</td>\n",
       "      <td>6000</td>\n",
       "      <td>5000</td>\n",
       "    </tr>\n",
       "  </tbody>\n",
       "</table>\n",
       "</div>"
      ],
      "text/plain": [
       "   jump  exit_alt  deploy_alt  freefall\n",
       "0     1     13500        6000      7500\n",
       "1     2     13500        6000      7500\n",
       "2     3     14000        6000      8000\n",
       "3     4     13500        6000      7500\n",
       "4     5     11000        6000      5000"
      ]
     },
     "execution_count": 3,
     "metadata": {},
     "output_type": "execute_result"
    }
   ],
   "source": [
    "eli.head()"
   ]
  },
  {
   "cell_type": "code",
   "execution_count": 4,
   "metadata": {},
   "outputs": [],
   "source": [
    "eli['cut'] = eli['jump'] // 50\n",
    "eli['jump_in_cut'] = eli['jump'] % 50\n",
    "eli['ground'] = 0"
   ]
  },
  {
   "cell_type": "code",
   "execution_count": null,
   "metadata": {
    "scrolled": true
   },
   "outputs": [],
   "source": [
    "top = alt.Chart(eli).mark_rule(size=3).encode(\n",
    "    x=alt.X('jump_in_cut', axis=None),\n",
    "    y=alt.Y('deploy_alt', axis=None),\n",
    "    y2=alt.Y2('exit_alt'),\n",
    "    tooltip=['jump']\n",
    ").properties(height=80)\n",
    "\n",
    "bottom = alt.Chart(eli).mark_rule(size=1).encode(\n",
    "    x=alt.X('jump_in_cut', axis=None),\n",
    "    y=alt.Y('deploy_alt', axis=None),\n",
    "    y2=alt.Y2('ground'),\n",
    "    tooltip=['jump']\n",
    ").properties(height=80)\n",
    "\n",
    "alt.layer(top, bottom).facet(row='cut').configure_axis(\n",
    "    grid=False\n",
    ").configure_view(\n",
    "    strokeWidth=0\n",
    ").interactive()"
   ]
  },
  {
   "cell_type": "code",
   "execution_count": null,
   "metadata": {},
   "outputs": [],
   "source": [
    "top = alt.Chart(eli).mark_rule(size=3).encode(\n",
    "    x=alt.X('jump_in_cut', axis=None),\n",
    "    y=alt.Y('deploy_alt', axis=None),\n",
    "    y2=alt.Y2('exit_alt'),\n",
    ").properties(height=80)\n",
    "\n",
    "bottom = alt.Chart(eli).mark_rule(size=1).encode(\n",
    "    x=alt.X('jump_in_cut', axis=None),\n",
    "    y=alt.Y('deploy_alt', axis=None),\n",
    "    y2=alt.Y2('ground'),\n",
    ").properties(height=80)\n",
    "\n",
    "chart = (\n",
    "    alt.layer(top, bottom)\n",
    "    .facet(row = alt.Row(\"cut\", title=None))\n",
    "    .configure_axis(grid=False)\n",
    "    .configure_view(strokeWidth=0)\n",
    ")\n",
    "\n",
    "chart"
   ]
  }
 ],
 "metadata": {
  "kernelspec": {
   "display_name": "Python 3",
   "language": "python",
   "name": "python3"
  },
  "language_info": {
   "codemirror_mode": {
    "name": "ipython",
    "version": 3
   },
   "file_extension": ".py",
   "mimetype": "text/x-python",
   "name": "python",
   "nbconvert_exporter": "python",
   "pygments_lexer": "ipython3",
   "version": "3.7.4"
  }
 },
 "nbformat": 4,
 "nbformat_minor": 2
}
