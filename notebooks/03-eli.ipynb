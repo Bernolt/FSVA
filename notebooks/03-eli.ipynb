{
 "cells": [
  {
   "cell_type": "code",
   "execution_count": 1,
   "metadata": {},
   "outputs": [],
   "source": [
    "import altair as alt\n",
    "import pandas as pd"
   ]
  },
  {
   "cell_type": "code",
   "execution_count": 2,
   "metadata": {},
   "outputs": [],
   "source": [
    "eli = pd.read_csv('../data/skydiving.csv')"
   ]
  },
  {
   "cell_type": "code",
   "execution_count": 3,
   "metadata": {},
   "outputs": [
    {
     "data": {
      "text/html": [
       "<div>\n",
       "<style scoped>\n",
       "    .dataframe tbody tr th:only-of-type {\n",
       "        vertical-align: middle;\n",
       "    }\n",
       "\n",
       "    .dataframe tbody tr th {\n",
       "        vertical-align: top;\n",
       "    }\n",
       "\n",
       "    .dataframe thead th {\n",
       "        text-align: right;\n",
       "    }\n",
       "</style>\n",
       "<table border=\"1\" class=\"dataframe\">\n",
       "  <thead>\n",
       "    <tr style=\"text-align: right;\">\n",
       "      <th></th>\n",
       "      <th>jump</th>\n",
       "      <th>exit_alt</th>\n",
       "      <th>deploy_alt</th>\n",
       "      <th>freefall</th>\n",
       "    </tr>\n",
       "  </thead>\n",
       "  <tbody>\n",
       "    <tr>\n",
       "      <td>0</td>\n",
       "      <td>1</td>\n",
       "      <td>13500</td>\n",
       "      <td>6000</td>\n",
       "      <td>7500</td>\n",
       "    </tr>\n",
       "    <tr>\n",
       "      <td>1</td>\n",
       "      <td>2</td>\n",
       "      <td>13500</td>\n",
       "      <td>6000</td>\n",
       "      <td>7500</td>\n",
       "    </tr>\n",
       "    <tr>\n",
       "      <td>2</td>\n",
       "      <td>3</td>\n",
       "      <td>14000</td>\n",
       "      <td>6000</td>\n",
       "      <td>8000</td>\n",
       "    </tr>\n",
       "    <tr>\n",
       "      <td>3</td>\n",
       "      <td>4</td>\n",
       "      <td>13500</td>\n",
       "      <td>6000</td>\n",
       "      <td>7500</td>\n",
       "    </tr>\n",
       "    <tr>\n",
       "      <td>4</td>\n",
       "      <td>5</td>\n",
       "      <td>11000</td>\n",
       "      <td>6000</td>\n",
       "      <td>5000</td>\n",
       "    </tr>\n",
       "  </tbody>\n",
       "</table>\n",
       "</div>"
      ],
      "text/plain": [
       "   jump  exit_alt  deploy_alt  freefall\n",
       "0     1     13500        6000      7500\n",
       "1     2     13500        6000      7500\n",
       "2     3     14000        6000      8000\n",
       "3     4     13500        6000      7500\n",
       "4     5     11000        6000      5000"
      ]
     },
     "execution_count": 3,
     "metadata": {},
     "output_type": "execute_result"
    }
   ],
   "source": [
    "eli.head()"
   ]
  },
  {
   "cell_type": "code",
   "execution_count": 4,
   "metadata": {},
   "outputs": [],
   "source": [
    "eli['cut'] = eli['jump'] // 50\n",
    "eli['jump_in_cut'] = eli['jump'] % 50\n",
    "eli['ground'] = 0"
   ]
  },
  {
   "cell_type": "code",
   "execution_count": 5,
   "metadata": {},
   "outputs": [
    {
     "name": "stdout",
     "output_type": "stream",
     "text": [
      "<class 'pandas.core.frame.DataFrame'>\n",
      "RangeIndex: 221 entries, 0 to 220\n",
      "Data columns (total 7 columns):\n",
      "jump           221 non-null int64\n",
      "exit_alt       221 non-null int64\n",
      "deploy_alt     221 non-null int64\n",
      "freefall       221 non-null int64\n",
      "cut            221 non-null int64\n",
      "jump_in_cut    221 non-null int64\n",
      "ground         221 non-null int64\n",
      "dtypes: int64(7)\n",
      "memory usage: 12.2 KB\n"
     ]
    }
   ],
   "source": [
    "eli.info()"
   ]
  },
  {
   "cell_type": "code",
   "execution_count": 6,
   "metadata": {
    "scrolled": true
   },
   "outputs": [
    {
     "data": {
      "text/html": [
       "\n",
       "<div id=\"altair-viz-46b2863b31434260bfeaf354061f6d2a\"></div>\n",
       "<script type=\"text/javascript\">\n",
       "  (function(spec, embedOpt){\n",
       "    const outputDiv = document.getElementById(\"altair-viz-46b2863b31434260bfeaf354061f6d2a\");\n",
       "    const paths = {\n",
       "      \"vega\": \"https://cdn.jsdelivr.net/npm//vega@5?noext\",\n",
       "      \"vega-lib\": \"https://cdn.jsdelivr.net/npm//vega-lib?noext\",\n",
       "      \"vega-lite\": \"https://cdn.jsdelivr.net/npm//vega-lite@4.0.2?noext\",\n",
       "      \"vega-embed\": \"https://cdn.jsdelivr.net/npm//vega-embed@6?noext\",\n",
       "    };\n",
       "\n",
       "    function loadScript(lib) {\n",
       "      return new Promise(function(resolve, reject) {\n",
       "        var s = document.createElement('script');\n",
       "        s.src = paths[lib];\n",
       "        s.async = true;\n",
       "        s.onload = () => resolve(paths[lib]);\n",
       "        s.onerror = () => reject(`Error loading script: ${paths[lib]}`);\n",
       "        document.getElementsByTagName(\"head\")[0].appendChild(s);\n",
       "      });\n",
       "    }\n",
       "\n",
       "    function showError(err) {\n",
       "      outputDiv.innerHTML = `<div class=\"error\" style=\"color:red;\">${err}</div>`;\n",
       "      throw err;\n",
       "    }\n",
       "\n",
       "    function displayChart(vegaEmbed) {\n",
       "      vegaEmbed(outputDiv, spec, embedOpt)\n",
       "        .catch(err => showError(`Javascript Error: ${err.message}<br>This usually means there's a typo in your chart specification. See the javascript console for the full traceback.`));\n",
       "    }\n",
       "\n",
       "    if(typeof define === \"function\" && define.amd) {\n",
       "      requirejs.config({paths});\n",
       "      require([\"vega-embed\"], displayChart, err => showError(`Error loading script: ${err.message}`));\n",
       "    } else if (typeof vegaEmbed === \"function\") {\n",
       "      displayChart(vegaEmbed);\n",
       "    } else {\n",
       "      loadScript(\"vega\")\n",
       "        .then(() => loadScript(\"vega-lite\"))\n",
       "        .then(() => loadScript(\"vega-embed\"))\n",
       "        .catch(showError)\n",
       "        .then(() => displayChart(vegaEmbed));\n",
       "    }\n",
       "  })({\"config\": {\"view\": {\"continuousWidth\": 400, \"continuousHeight\": 300, \"strokeWidth\": 0}, \"axis\": {\"grid\": false}}, \"data\": {\"name\": \"data-dbba8783d0ca695423e2772ce7e396e7\"}, \"facet\": {\"row\": {\"type\": \"quantitative\", \"field\": \"cut\"}}, \"spec\": {\"layer\": [{\"mark\": {\"type\": \"rule\", \"size\": 3}, \"encoding\": {\"tooltip\": [{\"type\": \"quantitative\", \"field\": \"jump\"}], \"x\": {\"type\": \"quantitative\", \"axis\": null, \"field\": \"jump_in_cut\"}, \"y\": {\"type\": \"quantitative\", \"axis\": null, \"field\": \"deploy_alt\"}, \"y2\": {\"field\": \"exit_alt\"}}, \"height\": 80, \"selection\": {\"selector001\": {\"type\": \"interval\", \"bind\": \"scales\", \"encodings\": [\"x\", \"y\"]}}}, {\"mark\": {\"type\": \"rule\", \"size\": 1}, \"encoding\": {\"tooltip\": [{\"type\": \"quantitative\", \"field\": \"jump\"}], \"x\": {\"type\": \"quantitative\", \"axis\": null, \"field\": \"jump_in_cut\"}, \"y\": {\"type\": \"quantitative\", \"axis\": null, \"field\": \"deploy_alt\"}, \"y2\": {\"field\": \"ground\"}}, \"height\": 80}]}, \"$schema\": \"https://vega.github.io/schema/vega-lite/v4.0.2.json\", \"datasets\": {\"data-dbba8783d0ca695423e2772ce7e396e7\": [{\"jump\": 1, \"exit_alt\": 13500, \"deploy_alt\": 6000, \"freefall\": 7500, \"cut\": 0, \"jump_in_cut\": 1, \"ground\": 0}, {\"jump\": 2, \"exit_alt\": 13500, \"deploy_alt\": 6000, \"freefall\": 7500, \"cut\": 0, \"jump_in_cut\": 2, \"ground\": 0}, {\"jump\": 3, \"exit_alt\": 14000, \"deploy_alt\": 6000, \"freefall\": 8000, \"cut\": 0, \"jump_in_cut\": 3, \"ground\": 0}, {\"jump\": 4, \"exit_alt\": 13500, \"deploy_alt\": 6000, \"freefall\": 7500, \"cut\": 0, \"jump_in_cut\": 4, \"ground\": 0}, {\"jump\": 5, \"exit_alt\": 11000, \"deploy_alt\": 6000, \"freefall\": 5000, \"cut\": 0, \"jump_in_cut\": 5, \"ground\": 0}, {\"jump\": 6, \"exit_alt\": 12500, \"deploy_alt\": 4500, \"freefall\": 8000, \"cut\": 0, \"jump_in_cut\": 6, \"ground\": 0}, {\"jump\": 7, \"exit_alt\": 13000, \"deploy_alt\": 5000, \"freefall\": 8000, \"cut\": 0, \"jump_in_cut\": 7, \"ground\": 0}, {\"jump\": 8, \"exit_alt\": 13500, \"deploy_alt\": 6000, \"freefall\": 7500, \"cut\": 0, \"jump_in_cut\": 8, \"ground\": 0}, {\"jump\": 9, \"exit_alt\": 13500, \"deploy_alt\": 4000, \"freefall\": 9500, \"cut\": 0, \"jump_in_cut\": 9, \"ground\": 0}, {\"jump\": 10, \"exit_alt\": 13500, \"deploy_alt\": 4000, \"freefall\": 9500, \"cut\": 0, \"jump_in_cut\": 10, \"ground\": 0}, {\"jump\": 11, \"exit_alt\": 13500, \"deploy_alt\": 4000, \"freefall\": 9500, \"cut\": 0, \"jump_in_cut\": 11, \"ground\": 0}, {\"jump\": 12, \"exit_alt\": 5500, \"deploy_alt\": 5000, \"freefall\": 500, \"cut\": 0, \"jump_in_cut\": 12, \"ground\": 0}, {\"jump\": 13, \"exit_alt\": 3500, \"deploy_alt\": 3000, \"freefall\": 500, \"cut\": 0, \"jump_in_cut\": 13, \"ground\": 0}, {\"jump\": 14, \"exit_alt\": 13500, \"deploy_alt\": 5500, \"freefall\": 8000, \"cut\": 0, \"jump_in_cut\": 14, \"ground\": 0}, {\"jump\": 15, \"exit_alt\": 14000, \"deploy_alt\": 4500, \"freefall\": 9500, \"cut\": 0, \"jump_in_cut\": 15, \"ground\": 0}, {\"jump\": 16, \"exit_alt\": 14000, \"deploy_alt\": 4500, \"freefall\": 9500, \"cut\": 0, \"jump_in_cut\": 16, \"ground\": 0}, {\"jump\": 17, \"exit_alt\": 14000, \"deploy_alt\": 4500, \"freefall\": 9500, \"cut\": 0, \"jump_in_cut\": 17, \"ground\": 0}, {\"jump\": 18, \"exit_alt\": 13500, \"deploy_alt\": 4000, \"freefall\": 9500, \"cut\": 0, \"jump_in_cut\": 18, \"ground\": 0}, {\"jump\": 19, \"exit_alt\": 13500, \"deploy_alt\": 4000, \"freefall\": 9500, \"cut\": 0, \"jump_in_cut\": 19, \"ground\": 0}, {\"jump\": 20, \"exit_alt\": 13500, \"deploy_alt\": 4000, \"freefall\": 9500, \"cut\": 0, \"jump_in_cut\": 20, \"ground\": 0}, {\"jump\": 21, \"exit_alt\": 13500, \"deploy_alt\": 4000, \"freefall\": 9500, \"cut\": 0, \"jump_in_cut\": 21, \"ground\": 0}, {\"jump\": 22, \"exit_alt\": 14000, \"deploy_alt\": 4500, \"freefall\": 9500, \"cut\": 0, \"jump_in_cut\": 22, \"ground\": 0}, {\"jump\": 23, \"exit_alt\": 13500, \"deploy_alt\": 4000, \"freefall\": 9500, \"cut\": 0, \"jump_in_cut\": 23, \"ground\": 0}, {\"jump\": 24, \"exit_alt\": 13500, \"deploy_alt\": 5500, \"freefall\": 8000, \"cut\": 0, \"jump_in_cut\": 24, \"ground\": 0}, {\"jump\": 25, \"exit_alt\": 13500, \"deploy_alt\": 4000, \"freefall\": 9500, \"cut\": 0, \"jump_in_cut\": 25, \"ground\": 0}, {\"jump\": 26, \"exit_alt\": 7000, \"deploy_alt\": 4000, \"freefall\": 3000, \"cut\": 0, \"jump_in_cut\": 26, \"ground\": 0}, {\"jump\": 27, \"exit_alt\": 14000, \"deploy_alt\": 4000, \"freefall\": 10000, \"cut\": 0, \"jump_in_cut\": 27, \"ground\": 0}, {\"jump\": 28, \"exit_alt\": 13500, \"deploy_alt\": 5000, \"freefall\": 8500, \"cut\": 0, \"jump_in_cut\": 28, \"ground\": 0}, {\"jump\": 29, \"exit_alt\": 13500, \"deploy_alt\": 4500, \"freefall\": 9000, \"cut\": 0, \"jump_in_cut\": 29, \"ground\": 0}, {\"jump\": 30, \"exit_alt\": 13500, \"deploy_alt\": 4500, \"freefall\": 9000, \"cut\": 0, \"jump_in_cut\": 30, \"ground\": 0}, {\"jump\": 31, \"exit_alt\": 14000, \"deploy_alt\": 4500, \"freefall\": 9500, \"cut\": 0, \"jump_in_cut\": 31, \"ground\": 0}, {\"jump\": 32, \"exit_alt\": 14000, \"deploy_alt\": 4500, \"freefall\": 9500, \"cut\": 0, \"jump_in_cut\": 32, \"ground\": 0}, {\"jump\": 33, \"exit_alt\": 7000, \"deploy_alt\": 4500, \"freefall\": 2500, \"cut\": 0, \"jump_in_cut\": 33, \"ground\": 0}, {\"jump\": 34, \"exit_alt\": 6000, \"deploy_alt\": 4000, \"freefall\": 2000, \"cut\": 0, \"jump_in_cut\": 34, \"ground\": 0}, {\"jump\": 35, \"exit_alt\": 14000, \"deploy_alt\": 5000, \"freefall\": 9000, \"cut\": 0, \"jump_in_cut\": 35, \"ground\": 0}, {\"jump\": 36, \"exit_alt\": 14000, \"deploy_alt\": 5000, \"freefall\": 9000, \"cut\": 0, \"jump_in_cut\": 36, \"ground\": 0}, {\"jump\": 37, \"exit_alt\": 5500, \"deploy_alt\": 4000, \"freefall\": 1500, \"cut\": 0, \"jump_in_cut\": 37, \"ground\": 0}, {\"jump\": 38, \"exit_alt\": 14000, \"deploy_alt\": 4000, \"freefall\": 10000, \"cut\": 0, \"jump_in_cut\": 38, \"ground\": 0}, {\"jump\": 39, \"exit_alt\": 14000, \"deploy_alt\": 3500, \"freefall\": 10500, \"cut\": 0, \"jump_in_cut\": 39, \"ground\": 0}, {\"jump\": 40, \"exit_alt\": 5000, \"deploy_alt\": 3000, \"freefall\": 2000, \"cut\": 0, \"jump_in_cut\": 40, \"ground\": 0}, {\"jump\": 41, \"exit_alt\": 13500, \"deploy_alt\": 3000, \"freefall\": 10500, \"cut\": 0, \"jump_in_cut\": 41, \"ground\": 0}, {\"jump\": 42, \"exit_alt\": 13500, \"deploy_alt\": 3500, \"freefall\": 10000, \"cut\": 0, \"jump_in_cut\": 42, \"ground\": 0}, {\"jump\": 43, \"exit_alt\": 13500, \"deploy_alt\": 3500, \"freefall\": 10000, \"cut\": 0, \"jump_in_cut\": 43, \"ground\": 0}, {\"jump\": 44, \"exit_alt\": 13500, \"deploy_alt\": 3500, \"freefall\": 10000, \"cut\": 0, \"jump_in_cut\": 44, \"ground\": 0}, {\"jump\": 45, \"exit_alt\": 13500, \"deploy_alt\": 3000, \"freefall\": 10500, \"cut\": 0, \"jump_in_cut\": 45, \"ground\": 0}, {\"jump\": 46, \"exit_alt\": 13000, \"deploy_alt\": 4000, \"freefall\": 9000, \"cut\": 0, \"jump_in_cut\": 46, \"ground\": 0}, {\"jump\": 47, \"exit_alt\": 13500, \"deploy_alt\": 6000, \"freefall\": 7500, \"cut\": 0, \"jump_in_cut\": 47, \"ground\": 0}, {\"jump\": 48, \"exit_alt\": 15000, \"deploy_alt\": 3500, \"freefall\": 11500, \"cut\": 0, \"jump_in_cut\": 48, \"ground\": 0}, {\"jump\": 49, \"exit_alt\": 14000, \"deploy_alt\": 4000, \"freefall\": 10000, \"cut\": 0, \"jump_in_cut\": 49, \"ground\": 0}, {\"jump\": 50, \"exit_alt\": 14000, \"deploy_alt\": 3500, \"freefall\": 10500, \"cut\": 1, \"jump_in_cut\": 0, \"ground\": 0}, {\"jump\": 51, \"exit_alt\": 13500, \"deploy_alt\": 3500, \"freefall\": 10000, \"cut\": 1, \"jump_in_cut\": 1, \"ground\": 0}, {\"jump\": 52, \"exit_alt\": 13500, \"deploy_alt\": 4000, \"freefall\": 9500, \"cut\": 1, \"jump_in_cut\": 2, \"ground\": 0}, {\"jump\": 53, \"exit_alt\": 13500, \"deploy_alt\": 4000, \"freefall\": 9500, \"cut\": 1, \"jump_in_cut\": 3, \"ground\": 0}, {\"jump\": 54, \"exit_alt\": 13500, \"deploy_alt\": 4000, \"freefall\": 9500, \"cut\": 1, \"jump_in_cut\": 4, \"ground\": 0}, {\"jump\": 55, \"exit_alt\": 13500, \"deploy_alt\": 4000, \"freefall\": 9500, \"cut\": 1, \"jump_in_cut\": 5, \"ground\": 0}, {\"jump\": 56, \"exit_alt\": 13500, \"deploy_alt\": 4000, \"freefall\": 9500, \"cut\": 1, \"jump_in_cut\": 6, \"ground\": 0}, {\"jump\": 57, \"exit_alt\": 14500, \"deploy_alt\": 4500, \"freefall\": 10000, \"cut\": 1, \"jump_in_cut\": 7, \"ground\": 0}, {\"jump\": 58, \"exit_alt\": 13500, \"deploy_alt\": 4500, \"freefall\": 9000, \"cut\": 1, \"jump_in_cut\": 8, \"ground\": 0}, {\"jump\": 59, \"exit_alt\": 13500, \"deploy_alt\": 4500, \"freefall\": 9000, \"cut\": 1, \"jump_in_cut\": 9, \"ground\": 0}, {\"jump\": 60, \"exit_alt\": 13500, \"deploy_alt\": 5000, \"freefall\": 8500, \"cut\": 1, \"jump_in_cut\": 10, \"ground\": 0}, {\"jump\": 61, \"exit_alt\": 13500, \"deploy_alt\": 3500, \"freefall\": 10000, \"cut\": 1, \"jump_in_cut\": 11, \"ground\": 0}, {\"jump\": 62, \"exit_alt\": 13500, \"deploy_alt\": 3500, \"freefall\": 10000, \"cut\": 1, \"jump_in_cut\": 12, \"ground\": 0}, {\"jump\": 63, \"exit_alt\": 13500, \"deploy_alt\": 3500, \"freefall\": 10000, \"cut\": 1, \"jump_in_cut\": 13, \"ground\": 0}, {\"jump\": 64, \"exit_alt\": 13500, \"deploy_alt\": 3500, \"freefall\": 10000, \"cut\": 1, \"jump_in_cut\": 14, \"ground\": 0}, {\"jump\": 65, \"exit_alt\": 13500, \"deploy_alt\": 3500, \"freefall\": 10000, \"cut\": 1, \"jump_in_cut\": 15, \"ground\": 0}, {\"jump\": 66, \"exit_alt\": 13500, \"deploy_alt\": 3500, \"freefall\": 10000, \"cut\": 1, \"jump_in_cut\": 16, \"ground\": 0}, {\"jump\": 67, \"exit_alt\": 5000, \"deploy_alt\": 4500, \"freefall\": 500, \"cut\": 1, \"jump_in_cut\": 17, \"ground\": 0}, {\"jump\": 68, \"exit_alt\": 5000, \"deploy_alt\": 4500, \"freefall\": 500, \"cut\": 1, \"jump_in_cut\": 18, \"ground\": 0}, {\"jump\": 69, \"exit_alt\": 13500, \"deploy_alt\": 6000, \"freefall\": 7500, \"cut\": 1, \"jump_in_cut\": 19, \"ground\": 0}, {\"jump\": 70, \"exit_alt\": 13500, \"deploy_alt\": 4000, \"freefall\": 9500, \"cut\": 1, \"jump_in_cut\": 20, \"ground\": 0}, {\"jump\": 71, \"exit_alt\": 14000, \"deploy_alt\": 4000, \"freefall\": 10000, \"cut\": 1, \"jump_in_cut\": 21, \"ground\": 0}, {\"jump\": 72, \"exit_alt\": 14000, \"deploy_alt\": 3500, \"freefall\": 10500, \"cut\": 1, \"jump_in_cut\": 22, \"ground\": 0}, {\"jump\": 73, \"exit_alt\": 5000, \"deploy_alt\": 4000, \"freefall\": 1000, \"cut\": 1, \"jump_in_cut\": 23, \"ground\": 0}, {\"jump\": 74, \"exit_alt\": 13500, \"deploy_alt\": 3500, \"freefall\": 10000, \"cut\": 1, \"jump_in_cut\": 24, \"ground\": 0}, {\"jump\": 75, \"exit_alt\": 13500, \"deploy_alt\": 3500, \"freefall\": 10000, \"cut\": 1, \"jump_in_cut\": 25, \"ground\": 0}, {\"jump\": 76, \"exit_alt\": 13500, \"deploy_alt\": 3500, \"freefall\": 10000, \"cut\": 1, \"jump_in_cut\": 26, \"ground\": 0}, {\"jump\": 77, \"exit_alt\": 13500, \"deploy_alt\": 3000, \"freefall\": 10500, \"cut\": 1, \"jump_in_cut\": 27, \"ground\": 0}, {\"jump\": 78, \"exit_alt\": 13500, \"deploy_alt\": 6000, \"freefall\": 7500, \"cut\": 1, \"jump_in_cut\": 28, \"ground\": 0}, {\"jump\": 79, \"exit_alt\": 9500, \"deploy_alt\": 4000, \"freefall\": 5500, \"cut\": 1, \"jump_in_cut\": 29, \"ground\": 0}, {\"jump\": 80, \"exit_alt\": 9500, \"deploy_alt\": 4000, \"freefall\": 5500, \"cut\": 1, \"jump_in_cut\": 30, \"ground\": 0}, {\"jump\": 81, \"exit_alt\": 10500, \"deploy_alt\": 4000, \"freefall\": 6500, \"cut\": 1, \"jump_in_cut\": 31, \"ground\": 0}, {\"jump\": 82, \"exit_alt\": 9500, \"deploy_alt\": 4000, \"freefall\": 5500, \"cut\": 1, \"jump_in_cut\": 32, \"ground\": 0}, {\"jump\": 83, \"exit_alt\": 13500, \"deploy_alt\": 3500, \"freefall\": 10000, \"cut\": 1, \"jump_in_cut\": 33, \"ground\": 0}, {\"jump\": 84, \"exit_alt\": 13500, \"deploy_alt\": 3500, \"freefall\": 10000, \"cut\": 1, \"jump_in_cut\": 34, \"ground\": 0}, {\"jump\": 85, \"exit_alt\": 13500, \"deploy_alt\": 3500, \"freefall\": 10000, \"cut\": 1, \"jump_in_cut\": 35, \"ground\": 0}, {\"jump\": 86, \"exit_alt\": 13500, \"deploy_alt\": 3500, \"freefall\": 10000, \"cut\": 1, \"jump_in_cut\": 36, \"ground\": 0}, {\"jump\": 87, \"exit_alt\": 13500, \"deploy_alt\": 3500, \"freefall\": 10000, \"cut\": 1, \"jump_in_cut\": 37, \"ground\": 0}, {\"jump\": 88, \"exit_alt\": 13500, \"deploy_alt\": 3500, \"freefall\": 10000, \"cut\": 1, \"jump_in_cut\": 38, \"ground\": 0}, {\"jump\": 89, \"exit_alt\": 10500, \"deploy_alt\": 3500, \"freefall\": 7000, \"cut\": 1, \"jump_in_cut\": 39, \"ground\": 0}, {\"jump\": 90, \"exit_alt\": 10500, \"deploy_alt\": 1000, \"freefall\": 9500, \"cut\": 1, \"jump_in_cut\": 40, \"ground\": 0}, {\"jump\": 91, \"exit_alt\": 13500, \"deploy_alt\": 8000, \"freefall\": 5500, \"cut\": 1, \"jump_in_cut\": 41, \"ground\": 0}, {\"jump\": 92, \"exit_alt\": 13500, \"deploy_alt\": 3500, \"freefall\": 10000, \"cut\": 1, \"jump_in_cut\": 42, \"ground\": 0}, {\"jump\": 93, \"exit_alt\": 15000, \"deploy_alt\": 3500, \"freefall\": 11500, \"cut\": 1, \"jump_in_cut\": 43, \"ground\": 0}, {\"jump\": 94, \"exit_alt\": 10500, \"deploy_alt\": 3500, \"freefall\": 7000, \"cut\": 1, \"jump_in_cut\": 44, \"ground\": 0}, {\"jump\": 95, \"exit_alt\": 10500, \"deploy_alt\": 3500, \"freefall\": 7000, \"cut\": 1, \"jump_in_cut\": 45, \"ground\": 0}, {\"jump\": 96, \"exit_alt\": 10500, \"deploy_alt\": 3500, \"freefall\": 7000, \"cut\": 1, \"jump_in_cut\": 46, \"ground\": 0}, {\"jump\": 97, \"exit_alt\": 8500, \"deploy_alt\": 4000, \"freefall\": 4500, \"cut\": 1, \"jump_in_cut\": 47, \"ground\": 0}, {\"jump\": 98, \"exit_alt\": 8500, \"deploy_alt\": 3500, \"freefall\": 5000, \"cut\": 1, \"jump_in_cut\": 48, \"ground\": 0}, {\"jump\": 99, \"exit_alt\": 10500, \"deploy_alt\": 3500, \"freefall\": 7000, \"cut\": 1, \"jump_in_cut\": 49, \"ground\": 0}, {\"jump\": 100, \"exit_alt\": 10500, \"deploy_alt\": 3500, \"freefall\": 7000, \"cut\": 2, \"jump_in_cut\": 0, \"ground\": 0}, {\"jump\": 101, \"exit_alt\": 10500, \"deploy_alt\": 3500, \"freefall\": 7000, \"cut\": 2, \"jump_in_cut\": 1, \"ground\": 0}, {\"jump\": 102, \"exit_alt\": 9500, \"deploy_alt\": 3500, \"freefall\": 6000, \"cut\": 2, \"jump_in_cut\": 2, \"ground\": 0}, {\"jump\": 103, \"exit_alt\": 10000, \"deploy_alt\": 3000, \"freefall\": 7000, \"cut\": 2, \"jump_in_cut\": 3, \"ground\": 0}, {\"jump\": 104, \"exit_alt\": 9500, \"deploy_alt\": 3500, \"freefall\": 6000, \"cut\": 2, \"jump_in_cut\": 4, \"ground\": 0}, {\"jump\": 105, \"exit_alt\": 10000, \"deploy_alt\": 3000, \"freefall\": 7000, \"cut\": 2, \"jump_in_cut\": 5, \"ground\": 0}, {\"jump\": 106, \"exit_alt\": 10000, \"deploy_alt\": 2500, \"freefall\": 7500, \"cut\": 2, \"jump_in_cut\": 6, \"ground\": 0}, {\"jump\": 107, \"exit_alt\": 9750, \"deploy_alt\": 3000, \"freefall\": 6750, \"cut\": 2, \"jump_in_cut\": 7, \"ground\": 0}, {\"jump\": 108, \"exit_alt\": 9940, \"deploy_alt\": 2400, \"freefall\": 7540, \"cut\": 2, \"jump_in_cut\": 8, \"ground\": 0}, {\"jump\": 109, \"exit_alt\": 10700, \"deploy_alt\": 2520, \"freefall\": 8180, \"cut\": 2, \"jump_in_cut\": 9, \"ground\": 0}, {\"jump\": 110, \"exit_alt\": 11000, \"deploy_alt\": 2680, \"freefall\": 8320, \"cut\": 2, \"jump_in_cut\": 10, \"ground\": 0}, {\"jump\": 111, \"exit_alt\": 9610, \"deploy_alt\": 2550, \"freefall\": 7060, \"cut\": 2, \"jump_in_cut\": 11, \"ground\": 0}, {\"jump\": 112, \"exit_alt\": 9590, \"deploy_alt\": 3040, \"freefall\": 6550, \"cut\": 2, \"jump_in_cut\": 12, \"ground\": 0}, {\"jump\": 113, \"exit_alt\": 10700, \"deploy_alt\": 2470, \"freefall\": 8230, \"cut\": 2, \"jump_in_cut\": 13, \"ground\": 0}, {\"jump\": 114, \"exit_alt\": 10500, \"deploy_alt\": 2220, \"freefall\": 8280, \"cut\": 2, \"jump_in_cut\": 14, \"ground\": 0}, {\"jump\": 115, \"exit_alt\": 10200, \"deploy_alt\": 2490, \"freefall\": 7710, \"cut\": 2, \"jump_in_cut\": 15, \"ground\": 0}, {\"jump\": 116, \"exit_alt\": 10700, \"deploy_alt\": 2730, \"freefall\": 7970, \"cut\": 2, \"jump_in_cut\": 16, \"ground\": 0}, {\"jump\": 117, \"exit_alt\": 4590, \"deploy_alt\": 3790, \"freefall\": 800, \"cut\": 2, \"jump_in_cut\": 17, \"ground\": 0}, {\"jump\": 118, \"exit_alt\": 4670, \"deploy_alt\": 3740, \"freefall\": 930, \"cut\": 2, \"jump_in_cut\": 18, \"ground\": 0}, {\"jump\": 119, \"exit_alt\": 10400, \"deploy_alt\": 2640, \"freefall\": 7760, \"cut\": 2, \"jump_in_cut\": 19, \"ground\": 0}, {\"jump\": 120, \"exit_alt\": 11300, \"deploy_alt\": 2650, \"freefall\": 8650, \"cut\": 2, \"jump_in_cut\": 20, \"ground\": 0}, {\"jump\": 121, \"exit_alt\": 11200, \"deploy_alt\": 2510, \"freefall\": 8690, \"cut\": 2, \"jump_in_cut\": 21, \"ground\": 0}, {\"jump\": 122, \"exit_alt\": 10800, \"deploy_alt\": 2900, \"freefall\": 7900, \"cut\": 2, \"jump_in_cut\": 22, \"ground\": 0}, {\"jump\": 123, \"exit_alt\": 9880, \"deploy_alt\": 3380, \"freefall\": 6500, \"cut\": 2, \"jump_in_cut\": 23, \"ground\": 0}, {\"jump\": 124, \"exit_alt\": 8610, \"deploy_alt\": 3040, \"freefall\": 5570, \"cut\": 2, \"jump_in_cut\": 24, \"ground\": 0}, {\"jump\": 125, \"exit_alt\": 9100, \"deploy_alt\": 2830, \"freefall\": 6270, \"cut\": 2, \"jump_in_cut\": 25, \"ground\": 0}, {\"jump\": 126, \"exit_alt\": 9230, \"deploy_alt\": 2610, \"freefall\": 6620, \"cut\": 2, \"jump_in_cut\": 26, \"ground\": 0}, {\"jump\": 127, \"exit_alt\": 11300, \"deploy_alt\": 3430, \"freefall\": 7870, \"cut\": 2, \"jump_in_cut\": 27, \"ground\": 0}, {\"jump\": 128, \"exit_alt\": 12400, \"deploy_alt\": 2960, \"freefall\": 9440, \"cut\": 2, \"jump_in_cut\": 28, \"ground\": 0}, {\"jump\": 129, \"exit_alt\": 11400, \"deploy_alt\": 2810, \"freefall\": 8590, \"cut\": 2, \"jump_in_cut\": 29, \"ground\": 0}, {\"jump\": 130, \"exit_alt\": 11100, \"deploy_alt\": 2810, \"freefall\": 8290, \"cut\": 2, \"jump_in_cut\": 30, \"ground\": 0}, {\"jump\": 131, \"exit_alt\": 10500, \"deploy_alt\": 2540, \"freefall\": 7960, \"cut\": 2, \"jump_in_cut\": 31, \"ground\": 0}, {\"jump\": 132, \"exit_alt\": 7000, \"deploy_alt\": 6500, \"freefall\": 500, \"cut\": 2, \"jump_in_cut\": 32, \"ground\": 0}, {\"jump\": 133, \"exit_alt\": 7000, \"deploy_alt\": 6500, \"freefall\": 500, \"cut\": 2, \"jump_in_cut\": 33, \"ground\": 0}, {\"jump\": 134, \"exit_alt\": 7000, \"deploy_alt\": 6500, \"freefall\": 500, \"cut\": 2, \"jump_in_cut\": 34, \"ground\": 0}, {\"jump\": 135, \"exit_alt\": 7000, \"deploy_alt\": 6500, \"freefall\": 500, \"cut\": 2, \"jump_in_cut\": 35, \"ground\": 0}, {\"jump\": 136, \"exit_alt\": 7000, \"deploy_alt\": 6500, \"freefall\": 500, \"cut\": 2, \"jump_in_cut\": 36, \"ground\": 0}, {\"jump\": 137, \"exit_alt\": 13100, \"deploy_alt\": 6140, \"freefall\": 6960, \"cut\": 2, \"jump_in_cut\": 37, \"ground\": 0}, {\"jump\": 138, \"exit_alt\": 11200, \"deploy_alt\": 3050, \"freefall\": 8150, \"cut\": 2, \"jump_in_cut\": 38, \"ground\": 0}, {\"jump\": 139, \"exit_alt\": 11200, \"deploy_alt\": 3150, \"freefall\": 8050, \"cut\": 2, \"jump_in_cut\": 39, \"ground\": 0}, {\"jump\": 140, \"exit_alt\": 11300, \"deploy_alt\": 2570, \"freefall\": 8730, \"cut\": 2, \"jump_in_cut\": 40, \"ground\": 0}, {\"jump\": 141, \"exit_alt\": 10800, \"deploy_alt\": 3230, \"freefall\": 7570, \"cut\": 2, \"jump_in_cut\": 41, \"ground\": 0}, {\"jump\": 142, \"exit_alt\": 11500, \"deploy_alt\": 2390, \"freefall\": 9110, \"cut\": 2, \"jump_in_cut\": 42, \"ground\": 0}, {\"jump\": 143, \"exit_alt\": 11000, \"deploy_alt\": 2210, \"freefall\": 8790, \"cut\": 2, \"jump_in_cut\": 43, \"ground\": 0}, {\"jump\": 144, \"exit_alt\": 8460, \"deploy_alt\": 2800, \"freefall\": 5660, \"cut\": 2, \"jump_in_cut\": 44, \"ground\": 0}, {\"jump\": 145, \"exit_alt\": 10400, \"deploy_alt\": 2580, \"freefall\": 7820, \"cut\": 2, \"jump_in_cut\": 45, \"ground\": 0}, {\"jump\": 146, \"exit_alt\": 10500, \"deploy_alt\": 2670, \"freefall\": 7830, \"cut\": 2, \"jump_in_cut\": 46, \"ground\": 0}, {\"jump\": 147, \"exit_alt\": 10400, \"deploy_alt\": 2660, \"freefall\": 7740, \"cut\": 2, \"jump_in_cut\": 47, \"ground\": 0}, {\"jump\": 148, \"exit_alt\": 10100, \"deploy_alt\": 2500, \"freefall\": 7600, \"cut\": 2, \"jump_in_cut\": 48, \"ground\": 0}, {\"jump\": 149, \"exit_alt\": 9690, \"deploy_alt\": 5930, \"freefall\": 3760, \"cut\": 2, \"jump_in_cut\": 49, \"ground\": 0}, {\"jump\": 150, \"exit_alt\": 14100, \"deploy_alt\": 2980, \"freefall\": 11120, \"cut\": 3, \"jump_in_cut\": 0, \"ground\": 0}, {\"jump\": 151, \"exit_alt\": 13700, \"deploy_alt\": 3030, \"freefall\": 10670, \"cut\": 3, \"jump_in_cut\": 1, \"ground\": 0}, {\"jump\": 152, \"exit_alt\": 13700, \"deploy_alt\": 2680, \"freefall\": 11020, \"cut\": 3, \"jump_in_cut\": 2, \"ground\": 0}, {\"jump\": 153, \"exit_alt\": 13400, \"deploy_alt\": 2460, \"freefall\": 10940, \"cut\": 3, \"jump_in_cut\": 3, \"ground\": 0}, {\"jump\": 154, \"exit_alt\": 13800, \"deploy_alt\": 2590, \"freefall\": 11210, \"cut\": 3, \"jump_in_cut\": 4, \"ground\": 0}, {\"jump\": 155, \"exit_alt\": 13700, \"deploy_alt\": 2190, \"freefall\": 11510, \"cut\": 3, \"jump_in_cut\": 5, \"ground\": 0}, {\"jump\": 156, \"exit_alt\": 11000, \"deploy_alt\": 2440, \"freefall\": 8560, \"cut\": 3, \"jump_in_cut\": 6, \"ground\": 0}, {\"jump\": 157, \"exit_alt\": 11500, \"deploy_alt\": 2410, \"freefall\": 9090, \"cut\": 3, \"jump_in_cut\": 7, \"ground\": 0}, {\"jump\": 158, \"exit_alt\": 10700, \"deploy_alt\": 2390, \"freefall\": 8310, \"cut\": 3, \"jump_in_cut\": 8, \"ground\": 0}, {\"jump\": 159, \"exit_alt\": 10600, \"deploy_alt\": 2220, \"freefall\": 8380, \"cut\": 3, \"jump_in_cut\": 9, \"ground\": 0}, {\"jump\": 160, \"exit_alt\": 11600, \"deploy_alt\": 3780, \"freefall\": 7820, \"cut\": 3, \"jump_in_cut\": 10, \"ground\": 0}, {\"jump\": 161, \"exit_alt\": 11000, \"deploy_alt\": 10500, \"freefall\": 500, \"cut\": 3, \"jump_in_cut\": 11, \"ground\": 0}, {\"jump\": 162, \"exit_alt\": 14000, \"deploy_alt\": 2340, \"freefall\": 11660, \"cut\": 3, \"jump_in_cut\": 12, \"ground\": 0}, {\"jump\": 163, \"exit_alt\": 13800, \"deploy_alt\": 2420, \"freefall\": 11380, \"cut\": 3, \"jump_in_cut\": 13, \"ground\": 0}, {\"jump\": 164, \"exit_alt\": 10900, \"deploy_alt\": 2410, \"freefall\": 8490, \"cut\": 3, \"jump_in_cut\": 14, \"ground\": 0}, {\"jump\": 165, \"exit_alt\": 11400, \"deploy_alt\": 2490, \"freefall\": 8910, \"cut\": 3, \"jump_in_cut\": 15, \"ground\": 0}, {\"jump\": 166, \"exit_alt\": 10700, \"deploy_alt\": 2060, \"freefall\": 8640, \"cut\": 3, \"jump_in_cut\": 16, \"ground\": 0}, {\"jump\": 167, \"exit_alt\": 10700, \"deploy_alt\": 2630, \"freefall\": 8070, \"cut\": 3, \"jump_in_cut\": 17, \"ground\": 0}, {\"jump\": 168, \"exit_alt\": 10900, \"deploy_alt\": 2660, \"freefall\": 8240, \"cut\": 3, \"jump_in_cut\": 18, \"ground\": 0}, {\"jump\": 169, \"exit_alt\": 10700, \"deploy_alt\": 2530, \"freefall\": 8170, \"cut\": 3, \"jump_in_cut\": 19, \"ground\": 0}, {\"jump\": 170, \"exit_alt\": 8370, \"deploy_alt\": 3440, \"freefall\": 4930, \"cut\": 3, \"jump_in_cut\": 20, \"ground\": 0}, {\"jump\": 171, \"exit_alt\": 11400, \"deploy_alt\": 2320, \"freefall\": 9080, \"cut\": 3, \"jump_in_cut\": 21, \"ground\": 0}, {\"jump\": 172, \"exit_alt\": 13900, \"deploy_alt\": 2370, \"freefall\": 11530, \"cut\": 3, \"jump_in_cut\": 22, \"ground\": 0}, {\"jump\": 173, \"exit_alt\": 13700, \"deploy_alt\": 2160, \"freefall\": 11540, \"cut\": 3, \"jump_in_cut\": 23, \"ground\": 0}, {\"jump\": 174, \"exit_alt\": 13900, \"deploy_alt\": 2010, \"freefall\": 11890, \"cut\": 3, \"jump_in_cut\": 24, \"ground\": 0}, {\"jump\": 175, \"exit_alt\": 14000, \"deploy_alt\": 2130, \"freefall\": 11870, \"cut\": 3, \"jump_in_cut\": 25, \"ground\": 0}, {\"jump\": 176, \"exit_alt\": 13800, \"deploy_alt\": 2070, \"freefall\": 11730, \"cut\": 3, \"jump_in_cut\": 26, \"ground\": 0}, {\"jump\": 177, \"exit_alt\": 11200, \"deploy_alt\": 2140, \"freefall\": 9060, \"cut\": 3, \"jump_in_cut\": 27, \"ground\": 0}, {\"jump\": 178, \"exit_alt\": 11100, \"deploy_alt\": 2350, \"freefall\": 8750, \"cut\": 3, \"jump_in_cut\": 28, \"ground\": 0}, {\"jump\": 179, \"exit_alt\": 11500, \"deploy_alt\": 3700, \"freefall\": 7800, \"cut\": 3, \"jump_in_cut\": 29, \"ground\": 0}, {\"jump\": 180, \"exit_alt\": 8610, \"deploy_alt\": 2670, \"freefall\": 5940, \"cut\": 3, \"jump_in_cut\": 30, \"ground\": 0}, {\"jump\": 181, \"exit_alt\": 8210, \"deploy_alt\": 3130, \"freefall\": 5080, \"cut\": 3, \"jump_in_cut\": 31, \"ground\": 0}, {\"jump\": 182, \"exit_alt\": 8220, \"deploy_alt\": 3150, \"freefall\": 5070, \"cut\": 3, \"jump_in_cut\": 32, \"ground\": 0}, {\"jump\": 183, \"exit_alt\": 13700, \"deploy_alt\": 2400, \"freefall\": 11300, \"cut\": 3, \"jump_in_cut\": 33, \"ground\": 0}, {\"jump\": 184, \"exit_alt\": 13900, \"deploy_alt\": 2040, \"freefall\": 11860, \"cut\": 3, \"jump_in_cut\": 34, \"ground\": 0}, {\"jump\": 185, \"exit_alt\": 10900, \"deploy_alt\": 2740, \"freefall\": 8160, \"cut\": 3, \"jump_in_cut\": 35, \"ground\": 0}, {\"jump\": 186, \"exit_alt\": 10600, \"deploy_alt\": 2560, \"freefall\": 8040, \"cut\": 3, \"jump_in_cut\": 36, \"ground\": 0}, {\"jump\": 187, \"exit_alt\": 8600, \"deploy_alt\": 3680, \"freefall\": 4920, \"cut\": 3, \"jump_in_cut\": 37, \"ground\": 0}, {\"jump\": 188, \"exit_alt\": 13700, \"deploy_alt\": 2390, \"freefall\": 11310, \"cut\": 3, \"jump_in_cut\": 38, \"ground\": 0}, {\"jump\": 189, \"exit_alt\": 13700, \"deploy_alt\": 2220, \"freefall\": 11480, \"cut\": 3, \"jump_in_cut\": 39, \"ground\": 0}, {\"jump\": 190, \"exit_alt\": 13400, \"deploy_alt\": 2650, \"freefall\": 10750, \"cut\": 3, \"jump_in_cut\": 40, \"ground\": 0}, {\"jump\": 191, \"exit_alt\": 13700, \"deploy_alt\": 2310, \"freefall\": 11390, \"cut\": 3, \"jump_in_cut\": 41, \"ground\": 0}, {\"jump\": 192, \"exit_alt\": 13300, \"deploy_alt\": 2260, \"freefall\": 11040, \"cut\": 3, \"jump_in_cut\": 42, \"ground\": 0}, {\"jump\": 193, \"exit_alt\": 13800, \"deploy_alt\": 2130, \"freefall\": 11670, \"cut\": 3, \"jump_in_cut\": 43, \"ground\": 0}, {\"jump\": 194, \"exit_alt\": 13400, \"deploy_alt\": 2570, \"freefall\": 10830, \"cut\": 3, \"jump_in_cut\": 44, \"ground\": 0}, {\"jump\": 195, \"exit_alt\": 13200, \"deploy_alt\": 2070, \"freefall\": 11130, \"cut\": 3, \"jump_in_cut\": 45, \"ground\": 0}, {\"jump\": 196, \"exit_alt\": 13700, \"deploy_alt\": 3090, \"freefall\": 10610, \"cut\": 3, \"jump_in_cut\": 46, \"ground\": 0}, {\"jump\": 197, \"exit_alt\": 13400, \"deploy_alt\": 2560, \"freefall\": 10840, \"cut\": 3, \"jump_in_cut\": 47, \"ground\": 0}, {\"jump\": 198, \"exit_alt\": 13300, \"deploy_alt\": 2430, \"freefall\": 10870, \"cut\": 3, \"jump_in_cut\": 48, \"ground\": 0}, {\"jump\": 199, \"exit_alt\": 13400, \"deploy_alt\": 2080, \"freefall\": 11320, \"cut\": 3, \"jump_in_cut\": 49, \"ground\": 0}, {\"jump\": 200, \"exit_alt\": 13100, \"deploy_alt\": 2370, \"freefall\": 10730, \"cut\": 4, \"jump_in_cut\": 0, \"ground\": 0}, {\"jump\": 201, \"exit_alt\": 10300, \"deploy_alt\": 2470, \"freefall\": 7830, \"cut\": 4, \"jump_in_cut\": 1, \"ground\": 0}, {\"jump\": 202, \"exit_alt\": 11700, \"deploy_alt\": 2100, \"freefall\": 9600, \"cut\": 4, \"jump_in_cut\": 2, \"ground\": 0}, {\"jump\": 203, \"exit_alt\": 10700, \"deploy_alt\": 2770, \"freefall\": 7930, \"cut\": 4, \"jump_in_cut\": 3, \"ground\": 0}, {\"jump\": 204, \"exit_alt\": 11600, \"deploy_alt\": 3660, \"freefall\": 7940, \"cut\": 4, \"jump_in_cut\": 4, \"ground\": 0}, {\"jump\": 205, \"exit_alt\": 11800, \"deploy_alt\": 2580, \"freefall\": 9220, \"cut\": 4, \"jump_in_cut\": 5, \"ground\": 0}, {\"jump\": 206, \"exit_alt\": 11500, \"deploy_alt\": 2710, \"freefall\": 8790, \"cut\": 4, \"jump_in_cut\": 6, \"ground\": 0}, {\"jump\": 207, \"exit_alt\": 11600, \"deploy_alt\": 2340, \"freefall\": 9260, \"cut\": 4, \"jump_in_cut\": 7, \"ground\": 0}, {\"jump\": 208, \"exit_alt\": 10600, \"deploy_alt\": 2730, \"freefall\": 7870, \"cut\": 4, \"jump_in_cut\": 8, \"ground\": 0}, {\"jump\": 209, \"exit_alt\": 10400, \"deploy_alt\": 2220, \"freefall\": 8180, \"cut\": 4, \"jump_in_cut\": 9, \"ground\": 0}, {\"jump\": 210, \"exit_alt\": 11800, \"deploy_alt\": 2350, \"freefall\": 9450, \"cut\": 4, \"jump_in_cut\": 10, \"ground\": 0}, {\"jump\": 211, \"exit_alt\": 11600, \"deploy_alt\": 2500, \"freefall\": 9100, \"cut\": 4, \"jump_in_cut\": 11, \"ground\": 0}, {\"jump\": 212, \"exit_alt\": 10600, \"deploy_alt\": 1490, \"freefall\": 9110, \"cut\": 4, \"jump_in_cut\": 12, \"ground\": 0}, {\"jump\": 213, \"exit_alt\": 10500, \"deploy_alt\": 3850, \"freefall\": 6650, \"cut\": 4, \"jump_in_cut\": 13, \"ground\": 0}, {\"jump\": 214, \"exit_alt\": 10400, \"deploy_alt\": 2690, \"freefall\": 7710, \"cut\": 4, \"jump_in_cut\": 14, \"ground\": 0}, {\"jump\": 215, \"exit_alt\": 10600, \"deploy_alt\": 1680, \"freefall\": 8920, \"cut\": 4, \"jump_in_cut\": 15, \"ground\": 0}, {\"jump\": 216, \"exit_alt\": 10600, \"deploy_alt\": 2940, \"freefall\": 7660, \"cut\": 4, \"jump_in_cut\": 16, \"ground\": 0}, {\"jump\": 217, \"exit_alt\": 10500, \"deploy_alt\": 2330, \"freefall\": 8170, \"cut\": 4, \"jump_in_cut\": 17, \"ground\": 0}, {\"jump\": 218, \"exit_alt\": 10600, \"deploy_alt\": 2540, \"freefall\": 8060, \"cut\": 4, \"jump_in_cut\": 18, \"ground\": 0}, {\"jump\": 219, \"exit_alt\": 10500, \"deploy_alt\": 2560, \"freefall\": 7940, \"cut\": 4, \"jump_in_cut\": 19, \"ground\": 0}, {\"jump\": 220, \"exit_alt\": 11000, \"deploy_alt\": 2350, \"freefall\": 8650, \"cut\": 4, \"jump_in_cut\": 20, \"ground\": 0}, {\"jump\": 221, \"exit_alt\": 10900, \"deploy_alt\": 2390, \"freefall\": 8510, \"cut\": 4, \"jump_in_cut\": 21, \"ground\": 0}]}}, {\"mode\": \"vega-lite\"});\n",
       "</script>"
      ],
      "text/plain": [
       "alt.FacetChart(...)"
      ]
     },
     "execution_count": 6,
     "metadata": {},
     "output_type": "execute_result"
    }
   ],
   "source": [
    "top = alt.Chart(eli).mark_rule(size=3).encode(\n",
    "    x=alt.X('jump_in_cut', axis=None),\n",
    "    y=alt.Y('deploy_alt', axis=None),\n",
    "    y2=alt.Y2('exit_alt'),\n",
    "    tooltip=['jump']\n",
    ").properties(height=80)\n",
    "\n",
    "bottom = alt.Chart(eli).mark_rule(size=1).encode(\n",
    "    x=alt.X('jump_in_cut', axis=None),\n",
    "    y=alt.Y('deploy_alt', axis=None),\n",
    "    y2=alt.Y2('ground'),\n",
    "    tooltip=['jump']\n",
    ").properties(height=80)\n",
    "\n",
    "alt.layer(top, bottom).facet(row='cut').configure_axis(\n",
    "    grid=False\n",
    ").configure_view(\n",
    "    strokeWidth=0\n",
    ").interactive()"
   ]
  },
  {
   "cell_type": "code",
   "execution_count": 14,
   "metadata": {},
   "outputs": [
    {
     "data": {
      "text/html": [
       "\n",
       "<div id=\"altair-viz-ef1cf6d0a37545f882aac474013f5f0b\"></div>\n",
       "<script type=\"text/javascript\">\n",
       "  (function(spec, embedOpt){\n",
       "    const outputDiv = document.getElementById(\"altair-viz-ef1cf6d0a37545f882aac474013f5f0b\");\n",
       "    const paths = {\n",
       "      \"vega\": \"https://cdn.jsdelivr.net/npm//vega@5?noext\",\n",
       "      \"vega-lib\": \"https://cdn.jsdelivr.net/npm//vega-lib?noext\",\n",
       "      \"vega-lite\": \"https://cdn.jsdelivr.net/npm//vega-lite@4.0.2?noext\",\n",
       "      \"vega-embed\": \"https://cdn.jsdelivr.net/npm//vega-embed@6?noext\",\n",
       "    };\n",
       "\n",
       "    function loadScript(lib) {\n",
       "      return new Promise(function(resolve, reject) {\n",
       "        var s = document.createElement('script');\n",
       "        s.src = paths[lib];\n",
       "        s.async = true;\n",
       "        s.onload = () => resolve(paths[lib]);\n",
       "        s.onerror = () => reject(`Error loading script: ${paths[lib]}`);\n",
       "        document.getElementsByTagName(\"head\")[0].appendChild(s);\n",
       "      });\n",
       "    }\n",
       "\n",
       "    function showError(err) {\n",
       "      outputDiv.innerHTML = `<div class=\"error\" style=\"color:red;\">${err}</div>`;\n",
       "      throw err;\n",
       "    }\n",
       "\n",
       "    function displayChart(vegaEmbed) {\n",
       "      vegaEmbed(outputDiv, spec, embedOpt)\n",
       "        .catch(err => showError(`Javascript Error: ${err.message}<br>This usually means there's a typo in your chart specification. See the javascript console for the full traceback.`));\n",
       "    }\n",
       "\n",
       "    if(typeof define === \"function\" && define.amd) {\n",
       "      requirejs.config({paths});\n",
       "      require([\"vega-embed\"], displayChart, err => showError(`Error loading script: ${err.message}`));\n",
       "    } else if (typeof vegaEmbed === \"function\") {\n",
       "      displayChart(vegaEmbed);\n",
       "    } else {\n",
       "      loadScript(\"vega\")\n",
       "        .then(() => loadScript(\"vega-lite\"))\n",
       "        .then(() => loadScript(\"vega-embed\"))\n",
       "        .catch(showError)\n",
       "        .then(() => displayChart(vegaEmbed));\n",
       "    }\n",
       "  })({\"config\": {\"view\": {\"continuousWidth\": 400, \"continuousHeight\": 300, \"strokeWidth\": 0}, \"axis\": {\"grid\": false}}, \"data\": {\"name\": \"data-dbba8783d0ca695423e2772ce7e396e7\"}, \"facet\": {\"row\": {\"type\": \"quantitative\", \"field\": \"cut\", \"title\": null}}, \"spec\": {\"layer\": [{\"mark\": {\"type\": \"rule\", \"size\": 3}, \"encoding\": {\"x\": {\"type\": \"quantitative\", \"axis\": null, \"field\": \"jump_in_cut\"}, \"y\": {\"type\": \"quantitative\", \"axis\": null, \"field\": \"deploy_alt\"}, \"y2\": {\"field\": \"exit_alt\"}}, \"height\": 80}, {\"mark\": {\"type\": \"rule\", \"size\": 1}, \"encoding\": {\"x\": {\"type\": \"quantitative\", \"axis\": null, \"field\": \"jump_in_cut\"}, \"y\": {\"type\": \"quantitative\", \"axis\": null, \"field\": \"deploy_alt\"}, \"y2\": {\"field\": \"ground\"}}, \"height\": 80}]}, \"$schema\": \"https://vega.github.io/schema/vega-lite/v4.0.2.json\", \"datasets\": {\"data-dbba8783d0ca695423e2772ce7e396e7\": [{\"jump\": 1, \"exit_alt\": 13500, \"deploy_alt\": 6000, \"freefall\": 7500, \"cut\": 0, \"jump_in_cut\": 1, \"ground\": 0}, {\"jump\": 2, \"exit_alt\": 13500, \"deploy_alt\": 6000, \"freefall\": 7500, \"cut\": 0, \"jump_in_cut\": 2, \"ground\": 0}, {\"jump\": 3, \"exit_alt\": 14000, \"deploy_alt\": 6000, \"freefall\": 8000, \"cut\": 0, \"jump_in_cut\": 3, \"ground\": 0}, {\"jump\": 4, \"exit_alt\": 13500, \"deploy_alt\": 6000, \"freefall\": 7500, \"cut\": 0, \"jump_in_cut\": 4, \"ground\": 0}, {\"jump\": 5, \"exit_alt\": 11000, \"deploy_alt\": 6000, \"freefall\": 5000, \"cut\": 0, \"jump_in_cut\": 5, \"ground\": 0}, {\"jump\": 6, \"exit_alt\": 12500, \"deploy_alt\": 4500, \"freefall\": 8000, \"cut\": 0, \"jump_in_cut\": 6, \"ground\": 0}, {\"jump\": 7, \"exit_alt\": 13000, \"deploy_alt\": 5000, \"freefall\": 8000, \"cut\": 0, \"jump_in_cut\": 7, \"ground\": 0}, {\"jump\": 8, \"exit_alt\": 13500, \"deploy_alt\": 6000, \"freefall\": 7500, \"cut\": 0, \"jump_in_cut\": 8, \"ground\": 0}, {\"jump\": 9, \"exit_alt\": 13500, \"deploy_alt\": 4000, \"freefall\": 9500, \"cut\": 0, \"jump_in_cut\": 9, \"ground\": 0}, {\"jump\": 10, \"exit_alt\": 13500, \"deploy_alt\": 4000, \"freefall\": 9500, \"cut\": 0, \"jump_in_cut\": 10, \"ground\": 0}, {\"jump\": 11, \"exit_alt\": 13500, \"deploy_alt\": 4000, \"freefall\": 9500, \"cut\": 0, \"jump_in_cut\": 11, \"ground\": 0}, {\"jump\": 12, \"exit_alt\": 5500, \"deploy_alt\": 5000, \"freefall\": 500, \"cut\": 0, \"jump_in_cut\": 12, \"ground\": 0}, {\"jump\": 13, \"exit_alt\": 3500, \"deploy_alt\": 3000, \"freefall\": 500, \"cut\": 0, \"jump_in_cut\": 13, \"ground\": 0}, {\"jump\": 14, \"exit_alt\": 13500, \"deploy_alt\": 5500, \"freefall\": 8000, \"cut\": 0, \"jump_in_cut\": 14, \"ground\": 0}, {\"jump\": 15, \"exit_alt\": 14000, \"deploy_alt\": 4500, \"freefall\": 9500, \"cut\": 0, \"jump_in_cut\": 15, \"ground\": 0}, {\"jump\": 16, \"exit_alt\": 14000, \"deploy_alt\": 4500, \"freefall\": 9500, \"cut\": 0, \"jump_in_cut\": 16, \"ground\": 0}, {\"jump\": 17, \"exit_alt\": 14000, \"deploy_alt\": 4500, \"freefall\": 9500, \"cut\": 0, \"jump_in_cut\": 17, \"ground\": 0}, {\"jump\": 18, \"exit_alt\": 13500, \"deploy_alt\": 4000, \"freefall\": 9500, \"cut\": 0, \"jump_in_cut\": 18, \"ground\": 0}, {\"jump\": 19, \"exit_alt\": 13500, \"deploy_alt\": 4000, \"freefall\": 9500, \"cut\": 0, \"jump_in_cut\": 19, \"ground\": 0}, {\"jump\": 20, \"exit_alt\": 13500, \"deploy_alt\": 4000, \"freefall\": 9500, \"cut\": 0, \"jump_in_cut\": 20, \"ground\": 0}, {\"jump\": 21, \"exit_alt\": 13500, \"deploy_alt\": 4000, \"freefall\": 9500, \"cut\": 0, \"jump_in_cut\": 21, \"ground\": 0}, {\"jump\": 22, \"exit_alt\": 14000, \"deploy_alt\": 4500, \"freefall\": 9500, \"cut\": 0, \"jump_in_cut\": 22, \"ground\": 0}, {\"jump\": 23, \"exit_alt\": 13500, \"deploy_alt\": 4000, \"freefall\": 9500, \"cut\": 0, \"jump_in_cut\": 23, \"ground\": 0}, {\"jump\": 24, \"exit_alt\": 13500, \"deploy_alt\": 5500, \"freefall\": 8000, \"cut\": 0, \"jump_in_cut\": 24, \"ground\": 0}, {\"jump\": 25, \"exit_alt\": 13500, \"deploy_alt\": 4000, \"freefall\": 9500, \"cut\": 0, \"jump_in_cut\": 25, \"ground\": 0}, {\"jump\": 26, \"exit_alt\": 7000, \"deploy_alt\": 4000, \"freefall\": 3000, \"cut\": 0, \"jump_in_cut\": 26, \"ground\": 0}, {\"jump\": 27, \"exit_alt\": 14000, \"deploy_alt\": 4000, \"freefall\": 10000, \"cut\": 0, \"jump_in_cut\": 27, \"ground\": 0}, {\"jump\": 28, \"exit_alt\": 13500, \"deploy_alt\": 5000, \"freefall\": 8500, \"cut\": 0, \"jump_in_cut\": 28, \"ground\": 0}, {\"jump\": 29, \"exit_alt\": 13500, \"deploy_alt\": 4500, \"freefall\": 9000, \"cut\": 0, \"jump_in_cut\": 29, \"ground\": 0}, {\"jump\": 30, \"exit_alt\": 13500, \"deploy_alt\": 4500, \"freefall\": 9000, \"cut\": 0, \"jump_in_cut\": 30, \"ground\": 0}, {\"jump\": 31, \"exit_alt\": 14000, \"deploy_alt\": 4500, \"freefall\": 9500, \"cut\": 0, \"jump_in_cut\": 31, \"ground\": 0}, {\"jump\": 32, \"exit_alt\": 14000, \"deploy_alt\": 4500, \"freefall\": 9500, \"cut\": 0, \"jump_in_cut\": 32, \"ground\": 0}, {\"jump\": 33, \"exit_alt\": 7000, \"deploy_alt\": 4500, \"freefall\": 2500, \"cut\": 0, \"jump_in_cut\": 33, \"ground\": 0}, {\"jump\": 34, \"exit_alt\": 6000, \"deploy_alt\": 4000, \"freefall\": 2000, \"cut\": 0, \"jump_in_cut\": 34, \"ground\": 0}, {\"jump\": 35, \"exit_alt\": 14000, \"deploy_alt\": 5000, \"freefall\": 9000, \"cut\": 0, \"jump_in_cut\": 35, \"ground\": 0}, {\"jump\": 36, \"exit_alt\": 14000, \"deploy_alt\": 5000, \"freefall\": 9000, \"cut\": 0, \"jump_in_cut\": 36, \"ground\": 0}, {\"jump\": 37, \"exit_alt\": 5500, \"deploy_alt\": 4000, \"freefall\": 1500, \"cut\": 0, \"jump_in_cut\": 37, \"ground\": 0}, {\"jump\": 38, \"exit_alt\": 14000, \"deploy_alt\": 4000, \"freefall\": 10000, \"cut\": 0, \"jump_in_cut\": 38, \"ground\": 0}, {\"jump\": 39, \"exit_alt\": 14000, \"deploy_alt\": 3500, \"freefall\": 10500, \"cut\": 0, \"jump_in_cut\": 39, \"ground\": 0}, {\"jump\": 40, \"exit_alt\": 5000, \"deploy_alt\": 3000, \"freefall\": 2000, \"cut\": 0, \"jump_in_cut\": 40, \"ground\": 0}, {\"jump\": 41, \"exit_alt\": 13500, \"deploy_alt\": 3000, \"freefall\": 10500, \"cut\": 0, \"jump_in_cut\": 41, \"ground\": 0}, {\"jump\": 42, \"exit_alt\": 13500, \"deploy_alt\": 3500, \"freefall\": 10000, \"cut\": 0, \"jump_in_cut\": 42, \"ground\": 0}, {\"jump\": 43, \"exit_alt\": 13500, \"deploy_alt\": 3500, \"freefall\": 10000, \"cut\": 0, \"jump_in_cut\": 43, \"ground\": 0}, {\"jump\": 44, \"exit_alt\": 13500, \"deploy_alt\": 3500, \"freefall\": 10000, \"cut\": 0, \"jump_in_cut\": 44, \"ground\": 0}, {\"jump\": 45, \"exit_alt\": 13500, \"deploy_alt\": 3000, \"freefall\": 10500, \"cut\": 0, \"jump_in_cut\": 45, \"ground\": 0}, {\"jump\": 46, \"exit_alt\": 13000, \"deploy_alt\": 4000, \"freefall\": 9000, \"cut\": 0, \"jump_in_cut\": 46, \"ground\": 0}, {\"jump\": 47, \"exit_alt\": 13500, \"deploy_alt\": 6000, \"freefall\": 7500, \"cut\": 0, \"jump_in_cut\": 47, \"ground\": 0}, {\"jump\": 48, \"exit_alt\": 15000, \"deploy_alt\": 3500, \"freefall\": 11500, \"cut\": 0, \"jump_in_cut\": 48, \"ground\": 0}, {\"jump\": 49, \"exit_alt\": 14000, \"deploy_alt\": 4000, \"freefall\": 10000, \"cut\": 0, \"jump_in_cut\": 49, \"ground\": 0}, {\"jump\": 50, \"exit_alt\": 14000, \"deploy_alt\": 3500, \"freefall\": 10500, \"cut\": 1, \"jump_in_cut\": 0, \"ground\": 0}, {\"jump\": 51, \"exit_alt\": 13500, \"deploy_alt\": 3500, \"freefall\": 10000, \"cut\": 1, \"jump_in_cut\": 1, \"ground\": 0}, {\"jump\": 52, \"exit_alt\": 13500, \"deploy_alt\": 4000, \"freefall\": 9500, \"cut\": 1, \"jump_in_cut\": 2, \"ground\": 0}, {\"jump\": 53, \"exit_alt\": 13500, \"deploy_alt\": 4000, \"freefall\": 9500, \"cut\": 1, \"jump_in_cut\": 3, \"ground\": 0}, {\"jump\": 54, \"exit_alt\": 13500, \"deploy_alt\": 4000, \"freefall\": 9500, \"cut\": 1, \"jump_in_cut\": 4, \"ground\": 0}, {\"jump\": 55, \"exit_alt\": 13500, \"deploy_alt\": 4000, \"freefall\": 9500, \"cut\": 1, \"jump_in_cut\": 5, \"ground\": 0}, {\"jump\": 56, \"exit_alt\": 13500, \"deploy_alt\": 4000, \"freefall\": 9500, \"cut\": 1, \"jump_in_cut\": 6, \"ground\": 0}, {\"jump\": 57, \"exit_alt\": 14500, \"deploy_alt\": 4500, \"freefall\": 10000, \"cut\": 1, \"jump_in_cut\": 7, \"ground\": 0}, {\"jump\": 58, \"exit_alt\": 13500, \"deploy_alt\": 4500, \"freefall\": 9000, \"cut\": 1, \"jump_in_cut\": 8, \"ground\": 0}, {\"jump\": 59, \"exit_alt\": 13500, \"deploy_alt\": 4500, \"freefall\": 9000, \"cut\": 1, \"jump_in_cut\": 9, \"ground\": 0}, {\"jump\": 60, \"exit_alt\": 13500, \"deploy_alt\": 5000, \"freefall\": 8500, \"cut\": 1, \"jump_in_cut\": 10, \"ground\": 0}, {\"jump\": 61, \"exit_alt\": 13500, \"deploy_alt\": 3500, \"freefall\": 10000, \"cut\": 1, \"jump_in_cut\": 11, \"ground\": 0}, {\"jump\": 62, \"exit_alt\": 13500, \"deploy_alt\": 3500, \"freefall\": 10000, \"cut\": 1, \"jump_in_cut\": 12, \"ground\": 0}, {\"jump\": 63, \"exit_alt\": 13500, \"deploy_alt\": 3500, \"freefall\": 10000, \"cut\": 1, \"jump_in_cut\": 13, \"ground\": 0}, {\"jump\": 64, \"exit_alt\": 13500, \"deploy_alt\": 3500, \"freefall\": 10000, \"cut\": 1, \"jump_in_cut\": 14, \"ground\": 0}, {\"jump\": 65, \"exit_alt\": 13500, \"deploy_alt\": 3500, \"freefall\": 10000, \"cut\": 1, \"jump_in_cut\": 15, \"ground\": 0}, {\"jump\": 66, \"exit_alt\": 13500, \"deploy_alt\": 3500, \"freefall\": 10000, \"cut\": 1, \"jump_in_cut\": 16, \"ground\": 0}, {\"jump\": 67, \"exit_alt\": 5000, \"deploy_alt\": 4500, \"freefall\": 500, \"cut\": 1, \"jump_in_cut\": 17, \"ground\": 0}, {\"jump\": 68, \"exit_alt\": 5000, \"deploy_alt\": 4500, \"freefall\": 500, \"cut\": 1, \"jump_in_cut\": 18, \"ground\": 0}, {\"jump\": 69, \"exit_alt\": 13500, \"deploy_alt\": 6000, \"freefall\": 7500, \"cut\": 1, \"jump_in_cut\": 19, \"ground\": 0}, {\"jump\": 70, \"exit_alt\": 13500, \"deploy_alt\": 4000, \"freefall\": 9500, \"cut\": 1, \"jump_in_cut\": 20, \"ground\": 0}, {\"jump\": 71, \"exit_alt\": 14000, \"deploy_alt\": 4000, \"freefall\": 10000, \"cut\": 1, \"jump_in_cut\": 21, \"ground\": 0}, {\"jump\": 72, \"exit_alt\": 14000, \"deploy_alt\": 3500, \"freefall\": 10500, \"cut\": 1, \"jump_in_cut\": 22, \"ground\": 0}, {\"jump\": 73, \"exit_alt\": 5000, \"deploy_alt\": 4000, \"freefall\": 1000, \"cut\": 1, \"jump_in_cut\": 23, \"ground\": 0}, {\"jump\": 74, \"exit_alt\": 13500, \"deploy_alt\": 3500, \"freefall\": 10000, \"cut\": 1, \"jump_in_cut\": 24, \"ground\": 0}, {\"jump\": 75, \"exit_alt\": 13500, \"deploy_alt\": 3500, \"freefall\": 10000, \"cut\": 1, \"jump_in_cut\": 25, \"ground\": 0}, {\"jump\": 76, \"exit_alt\": 13500, \"deploy_alt\": 3500, \"freefall\": 10000, \"cut\": 1, \"jump_in_cut\": 26, \"ground\": 0}, {\"jump\": 77, \"exit_alt\": 13500, \"deploy_alt\": 3000, \"freefall\": 10500, \"cut\": 1, \"jump_in_cut\": 27, \"ground\": 0}, {\"jump\": 78, \"exit_alt\": 13500, \"deploy_alt\": 6000, \"freefall\": 7500, \"cut\": 1, \"jump_in_cut\": 28, \"ground\": 0}, {\"jump\": 79, \"exit_alt\": 9500, \"deploy_alt\": 4000, \"freefall\": 5500, \"cut\": 1, \"jump_in_cut\": 29, \"ground\": 0}, {\"jump\": 80, \"exit_alt\": 9500, \"deploy_alt\": 4000, \"freefall\": 5500, \"cut\": 1, \"jump_in_cut\": 30, \"ground\": 0}, {\"jump\": 81, \"exit_alt\": 10500, \"deploy_alt\": 4000, \"freefall\": 6500, \"cut\": 1, \"jump_in_cut\": 31, \"ground\": 0}, {\"jump\": 82, \"exit_alt\": 9500, \"deploy_alt\": 4000, \"freefall\": 5500, \"cut\": 1, \"jump_in_cut\": 32, \"ground\": 0}, {\"jump\": 83, \"exit_alt\": 13500, \"deploy_alt\": 3500, \"freefall\": 10000, \"cut\": 1, \"jump_in_cut\": 33, \"ground\": 0}, {\"jump\": 84, \"exit_alt\": 13500, \"deploy_alt\": 3500, \"freefall\": 10000, \"cut\": 1, \"jump_in_cut\": 34, \"ground\": 0}, {\"jump\": 85, \"exit_alt\": 13500, \"deploy_alt\": 3500, \"freefall\": 10000, \"cut\": 1, \"jump_in_cut\": 35, \"ground\": 0}, {\"jump\": 86, \"exit_alt\": 13500, \"deploy_alt\": 3500, \"freefall\": 10000, \"cut\": 1, \"jump_in_cut\": 36, \"ground\": 0}, {\"jump\": 87, \"exit_alt\": 13500, \"deploy_alt\": 3500, \"freefall\": 10000, \"cut\": 1, \"jump_in_cut\": 37, \"ground\": 0}, {\"jump\": 88, \"exit_alt\": 13500, \"deploy_alt\": 3500, \"freefall\": 10000, \"cut\": 1, \"jump_in_cut\": 38, \"ground\": 0}, {\"jump\": 89, \"exit_alt\": 10500, \"deploy_alt\": 3500, \"freefall\": 7000, \"cut\": 1, \"jump_in_cut\": 39, \"ground\": 0}, {\"jump\": 90, \"exit_alt\": 10500, \"deploy_alt\": 1000, \"freefall\": 9500, \"cut\": 1, \"jump_in_cut\": 40, \"ground\": 0}, {\"jump\": 91, \"exit_alt\": 13500, \"deploy_alt\": 8000, \"freefall\": 5500, \"cut\": 1, \"jump_in_cut\": 41, \"ground\": 0}, {\"jump\": 92, \"exit_alt\": 13500, \"deploy_alt\": 3500, \"freefall\": 10000, \"cut\": 1, \"jump_in_cut\": 42, \"ground\": 0}, {\"jump\": 93, \"exit_alt\": 15000, \"deploy_alt\": 3500, \"freefall\": 11500, \"cut\": 1, \"jump_in_cut\": 43, \"ground\": 0}, {\"jump\": 94, \"exit_alt\": 10500, \"deploy_alt\": 3500, \"freefall\": 7000, \"cut\": 1, \"jump_in_cut\": 44, \"ground\": 0}, {\"jump\": 95, \"exit_alt\": 10500, \"deploy_alt\": 3500, \"freefall\": 7000, \"cut\": 1, \"jump_in_cut\": 45, \"ground\": 0}, {\"jump\": 96, \"exit_alt\": 10500, \"deploy_alt\": 3500, \"freefall\": 7000, \"cut\": 1, \"jump_in_cut\": 46, \"ground\": 0}, {\"jump\": 97, \"exit_alt\": 8500, \"deploy_alt\": 4000, \"freefall\": 4500, \"cut\": 1, \"jump_in_cut\": 47, \"ground\": 0}, {\"jump\": 98, \"exit_alt\": 8500, \"deploy_alt\": 3500, \"freefall\": 5000, \"cut\": 1, \"jump_in_cut\": 48, \"ground\": 0}, {\"jump\": 99, \"exit_alt\": 10500, \"deploy_alt\": 3500, \"freefall\": 7000, \"cut\": 1, \"jump_in_cut\": 49, \"ground\": 0}, {\"jump\": 100, \"exit_alt\": 10500, \"deploy_alt\": 3500, \"freefall\": 7000, \"cut\": 2, \"jump_in_cut\": 0, \"ground\": 0}, {\"jump\": 101, \"exit_alt\": 10500, \"deploy_alt\": 3500, \"freefall\": 7000, \"cut\": 2, \"jump_in_cut\": 1, \"ground\": 0}, {\"jump\": 102, \"exit_alt\": 9500, \"deploy_alt\": 3500, \"freefall\": 6000, \"cut\": 2, \"jump_in_cut\": 2, \"ground\": 0}, {\"jump\": 103, \"exit_alt\": 10000, \"deploy_alt\": 3000, \"freefall\": 7000, \"cut\": 2, \"jump_in_cut\": 3, \"ground\": 0}, {\"jump\": 104, \"exit_alt\": 9500, \"deploy_alt\": 3500, \"freefall\": 6000, \"cut\": 2, \"jump_in_cut\": 4, \"ground\": 0}, {\"jump\": 105, \"exit_alt\": 10000, \"deploy_alt\": 3000, \"freefall\": 7000, \"cut\": 2, \"jump_in_cut\": 5, \"ground\": 0}, {\"jump\": 106, \"exit_alt\": 10000, \"deploy_alt\": 2500, \"freefall\": 7500, \"cut\": 2, \"jump_in_cut\": 6, \"ground\": 0}, {\"jump\": 107, \"exit_alt\": 9750, \"deploy_alt\": 3000, \"freefall\": 6750, \"cut\": 2, \"jump_in_cut\": 7, \"ground\": 0}, {\"jump\": 108, \"exit_alt\": 9940, \"deploy_alt\": 2400, \"freefall\": 7540, \"cut\": 2, \"jump_in_cut\": 8, \"ground\": 0}, {\"jump\": 109, \"exit_alt\": 10700, \"deploy_alt\": 2520, \"freefall\": 8180, \"cut\": 2, \"jump_in_cut\": 9, \"ground\": 0}, {\"jump\": 110, \"exit_alt\": 11000, \"deploy_alt\": 2680, \"freefall\": 8320, \"cut\": 2, \"jump_in_cut\": 10, \"ground\": 0}, {\"jump\": 111, \"exit_alt\": 9610, \"deploy_alt\": 2550, \"freefall\": 7060, \"cut\": 2, \"jump_in_cut\": 11, \"ground\": 0}, {\"jump\": 112, \"exit_alt\": 9590, \"deploy_alt\": 3040, \"freefall\": 6550, \"cut\": 2, \"jump_in_cut\": 12, \"ground\": 0}, {\"jump\": 113, \"exit_alt\": 10700, \"deploy_alt\": 2470, \"freefall\": 8230, \"cut\": 2, \"jump_in_cut\": 13, \"ground\": 0}, {\"jump\": 114, \"exit_alt\": 10500, \"deploy_alt\": 2220, \"freefall\": 8280, \"cut\": 2, \"jump_in_cut\": 14, \"ground\": 0}, {\"jump\": 115, \"exit_alt\": 10200, \"deploy_alt\": 2490, \"freefall\": 7710, \"cut\": 2, \"jump_in_cut\": 15, \"ground\": 0}, {\"jump\": 116, \"exit_alt\": 10700, \"deploy_alt\": 2730, \"freefall\": 7970, \"cut\": 2, \"jump_in_cut\": 16, \"ground\": 0}, {\"jump\": 117, \"exit_alt\": 4590, \"deploy_alt\": 3790, \"freefall\": 800, \"cut\": 2, \"jump_in_cut\": 17, \"ground\": 0}, {\"jump\": 118, \"exit_alt\": 4670, \"deploy_alt\": 3740, \"freefall\": 930, \"cut\": 2, \"jump_in_cut\": 18, \"ground\": 0}, {\"jump\": 119, \"exit_alt\": 10400, \"deploy_alt\": 2640, \"freefall\": 7760, \"cut\": 2, \"jump_in_cut\": 19, \"ground\": 0}, {\"jump\": 120, \"exit_alt\": 11300, \"deploy_alt\": 2650, \"freefall\": 8650, \"cut\": 2, \"jump_in_cut\": 20, \"ground\": 0}, {\"jump\": 121, \"exit_alt\": 11200, \"deploy_alt\": 2510, \"freefall\": 8690, \"cut\": 2, \"jump_in_cut\": 21, \"ground\": 0}, {\"jump\": 122, \"exit_alt\": 10800, \"deploy_alt\": 2900, \"freefall\": 7900, \"cut\": 2, \"jump_in_cut\": 22, \"ground\": 0}, {\"jump\": 123, \"exit_alt\": 9880, \"deploy_alt\": 3380, \"freefall\": 6500, \"cut\": 2, \"jump_in_cut\": 23, \"ground\": 0}, {\"jump\": 124, \"exit_alt\": 8610, \"deploy_alt\": 3040, \"freefall\": 5570, \"cut\": 2, \"jump_in_cut\": 24, \"ground\": 0}, {\"jump\": 125, \"exit_alt\": 9100, \"deploy_alt\": 2830, \"freefall\": 6270, \"cut\": 2, \"jump_in_cut\": 25, \"ground\": 0}, {\"jump\": 126, \"exit_alt\": 9230, \"deploy_alt\": 2610, \"freefall\": 6620, \"cut\": 2, \"jump_in_cut\": 26, \"ground\": 0}, {\"jump\": 127, \"exit_alt\": 11300, \"deploy_alt\": 3430, \"freefall\": 7870, \"cut\": 2, \"jump_in_cut\": 27, \"ground\": 0}, {\"jump\": 128, \"exit_alt\": 12400, \"deploy_alt\": 2960, \"freefall\": 9440, \"cut\": 2, \"jump_in_cut\": 28, \"ground\": 0}, {\"jump\": 129, \"exit_alt\": 11400, \"deploy_alt\": 2810, \"freefall\": 8590, \"cut\": 2, \"jump_in_cut\": 29, \"ground\": 0}, {\"jump\": 130, \"exit_alt\": 11100, \"deploy_alt\": 2810, \"freefall\": 8290, \"cut\": 2, \"jump_in_cut\": 30, \"ground\": 0}, {\"jump\": 131, \"exit_alt\": 10500, \"deploy_alt\": 2540, \"freefall\": 7960, \"cut\": 2, \"jump_in_cut\": 31, \"ground\": 0}, {\"jump\": 132, \"exit_alt\": 7000, \"deploy_alt\": 6500, \"freefall\": 500, \"cut\": 2, \"jump_in_cut\": 32, \"ground\": 0}, {\"jump\": 133, \"exit_alt\": 7000, \"deploy_alt\": 6500, \"freefall\": 500, \"cut\": 2, \"jump_in_cut\": 33, \"ground\": 0}, {\"jump\": 134, \"exit_alt\": 7000, \"deploy_alt\": 6500, \"freefall\": 500, \"cut\": 2, \"jump_in_cut\": 34, \"ground\": 0}, {\"jump\": 135, \"exit_alt\": 7000, \"deploy_alt\": 6500, \"freefall\": 500, \"cut\": 2, \"jump_in_cut\": 35, \"ground\": 0}, {\"jump\": 136, \"exit_alt\": 7000, \"deploy_alt\": 6500, \"freefall\": 500, \"cut\": 2, \"jump_in_cut\": 36, \"ground\": 0}, {\"jump\": 137, \"exit_alt\": 13100, \"deploy_alt\": 6140, \"freefall\": 6960, \"cut\": 2, \"jump_in_cut\": 37, \"ground\": 0}, {\"jump\": 138, \"exit_alt\": 11200, \"deploy_alt\": 3050, \"freefall\": 8150, \"cut\": 2, \"jump_in_cut\": 38, \"ground\": 0}, {\"jump\": 139, \"exit_alt\": 11200, \"deploy_alt\": 3150, \"freefall\": 8050, \"cut\": 2, \"jump_in_cut\": 39, \"ground\": 0}, {\"jump\": 140, \"exit_alt\": 11300, \"deploy_alt\": 2570, \"freefall\": 8730, \"cut\": 2, \"jump_in_cut\": 40, \"ground\": 0}, {\"jump\": 141, \"exit_alt\": 10800, \"deploy_alt\": 3230, \"freefall\": 7570, \"cut\": 2, \"jump_in_cut\": 41, \"ground\": 0}, {\"jump\": 142, \"exit_alt\": 11500, \"deploy_alt\": 2390, \"freefall\": 9110, \"cut\": 2, \"jump_in_cut\": 42, \"ground\": 0}, {\"jump\": 143, \"exit_alt\": 11000, \"deploy_alt\": 2210, \"freefall\": 8790, \"cut\": 2, \"jump_in_cut\": 43, \"ground\": 0}, {\"jump\": 144, \"exit_alt\": 8460, \"deploy_alt\": 2800, \"freefall\": 5660, \"cut\": 2, \"jump_in_cut\": 44, \"ground\": 0}, {\"jump\": 145, \"exit_alt\": 10400, \"deploy_alt\": 2580, \"freefall\": 7820, \"cut\": 2, \"jump_in_cut\": 45, \"ground\": 0}, {\"jump\": 146, \"exit_alt\": 10500, \"deploy_alt\": 2670, \"freefall\": 7830, \"cut\": 2, \"jump_in_cut\": 46, \"ground\": 0}, {\"jump\": 147, \"exit_alt\": 10400, \"deploy_alt\": 2660, \"freefall\": 7740, \"cut\": 2, \"jump_in_cut\": 47, \"ground\": 0}, {\"jump\": 148, \"exit_alt\": 10100, \"deploy_alt\": 2500, \"freefall\": 7600, \"cut\": 2, \"jump_in_cut\": 48, \"ground\": 0}, {\"jump\": 149, \"exit_alt\": 9690, \"deploy_alt\": 5930, \"freefall\": 3760, \"cut\": 2, \"jump_in_cut\": 49, \"ground\": 0}, {\"jump\": 150, \"exit_alt\": 14100, \"deploy_alt\": 2980, \"freefall\": 11120, \"cut\": 3, \"jump_in_cut\": 0, \"ground\": 0}, {\"jump\": 151, \"exit_alt\": 13700, \"deploy_alt\": 3030, \"freefall\": 10670, \"cut\": 3, \"jump_in_cut\": 1, \"ground\": 0}, {\"jump\": 152, \"exit_alt\": 13700, \"deploy_alt\": 2680, \"freefall\": 11020, \"cut\": 3, \"jump_in_cut\": 2, \"ground\": 0}, {\"jump\": 153, \"exit_alt\": 13400, \"deploy_alt\": 2460, \"freefall\": 10940, \"cut\": 3, \"jump_in_cut\": 3, \"ground\": 0}, {\"jump\": 154, \"exit_alt\": 13800, \"deploy_alt\": 2590, \"freefall\": 11210, \"cut\": 3, \"jump_in_cut\": 4, \"ground\": 0}, {\"jump\": 155, \"exit_alt\": 13700, \"deploy_alt\": 2190, \"freefall\": 11510, \"cut\": 3, \"jump_in_cut\": 5, \"ground\": 0}, {\"jump\": 156, \"exit_alt\": 11000, \"deploy_alt\": 2440, \"freefall\": 8560, \"cut\": 3, \"jump_in_cut\": 6, \"ground\": 0}, {\"jump\": 157, \"exit_alt\": 11500, \"deploy_alt\": 2410, \"freefall\": 9090, \"cut\": 3, \"jump_in_cut\": 7, \"ground\": 0}, {\"jump\": 158, \"exit_alt\": 10700, \"deploy_alt\": 2390, \"freefall\": 8310, \"cut\": 3, \"jump_in_cut\": 8, \"ground\": 0}, {\"jump\": 159, \"exit_alt\": 10600, \"deploy_alt\": 2220, \"freefall\": 8380, \"cut\": 3, \"jump_in_cut\": 9, \"ground\": 0}, {\"jump\": 160, \"exit_alt\": 11600, \"deploy_alt\": 3780, \"freefall\": 7820, \"cut\": 3, \"jump_in_cut\": 10, \"ground\": 0}, {\"jump\": 161, \"exit_alt\": 11000, \"deploy_alt\": 10500, \"freefall\": 500, \"cut\": 3, \"jump_in_cut\": 11, \"ground\": 0}, {\"jump\": 162, \"exit_alt\": 14000, \"deploy_alt\": 2340, \"freefall\": 11660, \"cut\": 3, \"jump_in_cut\": 12, \"ground\": 0}, {\"jump\": 163, \"exit_alt\": 13800, \"deploy_alt\": 2420, \"freefall\": 11380, \"cut\": 3, \"jump_in_cut\": 13, \"ground\": 0}, {\"jump\": 164, \"exit_alt\": 10900, \"deploy_alt\": 2410, \"freefall\": 8490, \"cut\": 3, \"jump_in_cut\": 14, \"ground\": 0}, {\"jump\": 165, \"exit_alt\": 11400, \"deploy_alt\": 2490, \"freefall\": 8910, \"cut\": 3, \"jump_in_cut\": 15, \"ground\": 0}, {\"jump\": 166, \"exit_alt\": 10700, \"deploy_alt\": 2060, \"freefall\": 8640, \"cut\": 3, \"jump_in_cut\": 16, \"ground\": 0}, {\"jump\": 167, \"exit_alt\": 10700, \"deploy_alt\": 2630, \"freefall\": 8070, \"cut\": 3, \"jump_in_cut\": 17, \"ground\": 0}, {\"jump\": 168, \"exit_alt\": 10900, \"deploy_alt\": 2660, \"freefall\": 8240, \"cut\": 3, \"jump_in_cut\": 18, \"ground\": 0}, {\"jump\": 169, \"exit_alt\": 10700, \"deploy_alt\": 2530, \"freefall\": 8170, \"cut\": 3, \"jump_in_cut\": 19, \"ground\": 0}, {\"jump\": 170, \"exit_alt\": 8370, \"deploy_alt\": 3440, \"freefall\": 4930, \"cut\": 3, \"jump_in_cut\": 20, \"ground\": 0}, {\"jump\": 171, \"exit_alt\": 11400, \"deploy_alt\": 2320, \"freefall\": 9080, \"cut\": 3, \"jump_in_cut\": 21, \"ground\": 0}, {\"jump\": 172, \"exit_alt\": 13900, \"deploy_alt\": 2370, \"freefall\": 11530, \"cut\": 3, \"jump_in_cut\": 22, \"ground\": 0}, {\"jump\": 173, \"exit_alt\": 13700, \"deploy_alt\": 2160, \"freefall\": 11540, \"cut\": 3, \"jump_in_cut\": 23, \"ground\": 0}, {\"jump\": 174, \"exit_alt\": 13900, \"deploy_alt\": 2010, \"freefall\": 11890, \"cut\": 3, \"jump_in_cut\": 24, \"ground\": 0}, {\"jump\": 175, \"exit_alt\": 14000, \"deploy_alt\": 2130, \"freefall\": 11870, \"cut\": 3, \"jump_in_cut\": 25, \"ground\": 0}, {\"jump\": 176, \"exit_alt\": 13800, \"deploy_alt\": 2070, \"freefall\": 11730, \"cut\": 3, \"jump_in_cut\": 26, \"ground\": 0}, {\"jump\": 177, \"exit_alt\": 11200, \"deploy_alt\": 2140, \"freefall\": 9060, \"cut\": 3, \"jump_in_cut\": 27, \"ground\": 0}, {\"jump\": 178, \"exit_alt\": 11100, \"deploy_alt\": 2350, \"freefall\": 8750, \"cut\": 3, \"jump_in_cut\": 28, \"ground\": 0}, {\"jump\": 179, \"exit_alt\": 11500, \"deploy_alt\": 3700, \"freefall\": 7800, \"cut\": 3, \"jump_in_cut\": 29, \"ground\": 0}, {\"jump\": 180, \"exit_alt\": 8610, \"deploy_alt\": 2670, \"freefall\": 5940, \"cut\": 3, \"jump_in_cut\": 30, \"ground\": 0}, {\"jump\": 181, \"exit_alt\": 8210, \"deploy_alt\": 3130, \"freefall\": 5080, \"cut\": 3, \"jump_in_cut\": 31, \"ground\": 0}, {\"jump\": 182, \"exit_alt\": 8220, \"deploy_alt\": 3150, \"freefall\": 5070, \"cut\": 3, \"jump_in_cut\": 32, \"ground\": 0}, {\"jump\": 183, \"exit_alt\": 13700, \"deploy_alt\": 2400, \"freefall\": 11300, \"cut\": 3, \"jump_in_cut\": 33, \"ground\": 0}, {\"jump\": 184, \"exit_alt\": 13900, \"deploy_alt\": 2040, \"freefall\": 11860, \"cut\": 3, \"jump_in_cut\": 34, \"ground\": 0}, {\"jump\": 185, \"exit_alt\": 10900, \"deploy_alt\": 2740, \"freefall\": 8160, \"cut\": 3, \"jump_in_cut\": 35, \"ground\": 0}, {\"jump\": 186, \"exit_alt\": 10600, \"deploy_alt\": 2560, \"freefall\": 8040, \"cut\": 3, \"jump_in_cut\": 36, \"ground\": 0}, {\"jump\": 187, \"exit_alt\": 8600, \"deploy_alt\": 3680, \"freefall\": 4920, \"cut\": 3, \"jump_in_cut\": 37, \"ground\": 0}, {\"jump\": 188, \"exit_alt\": 13700, \"deploy_alt\": 2390, \"freefall\": 11310, \"cut\": 3, \"jump_in_cut\": 38, \"ground\": 0}, {\"jump\": 189, \"exit_alt\": 13700, \"deploy_alt\": 2220, \"freefall\": 11480, \"cut\": 3, \"jump_in_cut\": 39, \"ground\": 0}, {\"jump\": 190, \"exit_alt\": 13400, \"deploy_alt\": 2650, \"freefall\": 10750, \"cut\": 3, \"jump_in_cut\": 40, \"ground\": 0}, {\"jump\": 191, \"exit_alt\": 13700, \"deploy_alt\": 2310, \"freefall\": 11390, \"cut\": 3, \"jump_in_cut\": 41, \"ground\": 0}, {\"jump\": 192, \"exit_alt\": 13300, \"deploy_alt\": 2260, \"freefall\": 11040, \"cut\": 3, \"jump_in_cut\": 42, \"ground\": 0}, {\"jump\": 193, \"exit_alt\": 13800, \"deploy_alt\": 2130, \"freefall\": 11670, \"cut\": 3, \"jump_in_cut\": 43, \"ground\": 0}, {\"jump\": 194, \"exit_alt\": 13400, \"deploy_alt\": 2570, \"freefall\": 10830, \"cut\": 3, \"jump_in_cut\": 44, \"ground\": 0}, {\"jump\": 195, \"exit_alt\": 13200, \"deploy_alt\": 2070, \"freefall\": 11130, \"cut\": 3, \"jump_in_cut\": 45, \"ground\": 0}, {\"jump\": 196, \"exit_alt\": 13700, \"deploy_alt\": 3090, \"freefall\": 10610, \"cut\": 3, \"jump_in_cut\": 46, \"ground\": 0}, {\"jump\": 197, \"exit_alt\": 13400, \"deploy_alt\": 2560, \"freefall\": 10840, \"cut\": 3, \"jump_in_cut\": 47, \"ground\": 0}, {\"jump\": 198, \"exit_alt\": 13300, \"deploy_alt\": 2430, \"freefall\": 10870, \"cut\": 3, \"jump_in_cut\": 48, \"ground\": 0}, {\"jump\": 199, \"exit_alt\": 13400, \"deploy_alt\": 2080, \"freefall\": 11320, \"cut\": 3, \"jump_in_cut\": 49, \"ground\": 0}, {\"jump\": 200, \"exit_alt\": 13100, \"deploy_alt\": 2370, \"freefall\": 10730, \"cut\": 4, \"jump_in_cut\": 0, \"ground\": 0}, {\"jump\": 201, \"exit_alt\": 10300, \"deploy_alt\": 2470, \"freefall\": 7830, \"cut\": 4, \"jump_in_cut\": 1, \"ground\": 0}, {\"jump\": 202, \"exit_alt\": 11700, \"deploy_alt\": 2100, \"freefall\": 9600, \"cut\": 4, \"jump_in_cut\": 2, \"ground\": 0}, {\"jump\": 203, \"exit_alt\": 10700, \"deploy_alt\": 2770, \"freefall\": 7930, \"cut\": 4, \"jump_in_cut\": 3, \"ground\": 0}, {\"jump\": 204, \"exit_alt\": 11600, \"deploy_alt\": 3660, \"freefall\": 7940, \"cut\": 4, \"jump_in_cut\": 4, \"ground\": 0}, {\"jump\": 205, \"exit_alt\": 11800, \"deploy_alt\": 2580, \"freefall\": 9220, \"cut\": 4, \"jump_in_cut\": 5, \"ground\": 0}, {\"jump\": 206, \"exit_alt\": 11500, \"deploy_alt\": 2710, \"freefall\": 8790, \"cut\": 4, \"jump_in_cut\": 6, \"ground\": 0}, {\"jump\": 207, \"exit_alt\": 11600, \"deploy_alt\": 2340, \"freefall\": 9260, \"cut\": 4, \"jump_in_cut\": 7, \"ground\": 0}, {\"jump\": 208, \"exit_alt\": 10600, \"deploy_alt\": 2730, \"freefall\": 7870, \"cut\": 4, \"jump_in_cut\": 8, \"ground\": 0}, {\"jump\": 209, \"exit_alt\": 10400, \"deploy_alt\": 2220, \"freefall\": 8180, \"cut\": 4, \"jump_in_cut\": 9, \"ground\": 0}, {\"jump\": 210, \"exit_alt\": 11800, \"deploy_alt\": 2350, \"freefall\": 9450, \"cut\": 4, \"jump_in_cut\": 10, \"ground\": 0}, {\"jump\": 211, \"exit_alt\": 11600, \"deploy_alt\": 2500, \"freefall\": 9100, \"cut\": 4, \"jump_in_cut\": 11, \"ground\": 0}, {\"jump\": 212, \"exit_alt\": 10600, \"deploy_alt\": 1490, \"freefall\": 9110, \"cut\": 4, \"jump_in_cut\": 12, \"ground\": 0}, {\"jump\": 213, \"exit_alt\": 10500, \"deploy_alt\": 3850, \"freefall\": 6650, \"cut\": 4, \"jump_in_cut\": 13, \"ground\": 0}, {\"jump\": 214, \"exit_alt\": 10400, \"deploy_alt\": 2690, \"freefall\": 7710, \"cut\": 4, \"jump_in_cut\": 14, \"ground\": 0}, {\"jump\": 215, \"exit_alt\": 10600, \"deploy_alt\": 1680, \"freefall\": 8920, \"cut\": 4, \"jump_in_cut\": 15, \"ground\": 0}, {\"jump\": 216, \"exit_alt\": 10600, \"deploy_alt\": 2940, \"freefall\": 7660, \"cut\": 4, \"jump_in_cut\": 16, \"ground\": 0}, {\"jump\": 217, \"exit_alt\": 10500, \"deploy_alt\": 2330, \"freefall\": 8170, \"cut\": 4, \"jump_in_cut\": 17, \"ground\": 0}, {\"jump\": 218, \"exit_alt\": 10600, \"deploy_alt\": 2540, \"freefall\": 8060, \"cut\": 4, \"jump_in_cut\": 18, \"ground\": 0}, {\"jump\": 219, \"exit_alt\": 10500, \"deploy_alt\": 2560, \"freefall\": 7940, \"cut\": 4, \"jump_in_cut\": 19, \"ground\": 0}, {\"jump\": 220, \"exit_alt\": 11000, \"deploy_alt\": 2350, \"freefall\": 8650, \"cut\": 4, \"jump_in_cut\": 20, \"ground\": 0}, {\"jump\": 221, \"exit_alt\": 10900, \"deploy_alt\": 2390, \"freefall\": 8510, \"cut\": 4, \"jump_in_cut\": 21, \"ground\": 0}]}}, {\"mode\": \"vega-lite\"});\n",
       "</script>"
      ],
      "text/plain": [
       "alt.FacetChart(...)"
      ]
     },
     "execution_count": 14,
     "metadata": {},
     "output_type": "execute_result"
    }
   ],
   "source": [
    "top = alt.Chart(eli).mark_rule(size=3).encode(\n",
    "    x=alt.X('jump_in_cut', axis=None),\n",
    "    y=alt.Y('deploy_alt', axis=None),\n",
    "    y2=alt.Y2('exit_alt'),\n",
    ").properties(height=80)\n",
    "\n",
    "bottom = alt.Chart(eli).mark_rule(size=1).encode(\n",
    "    x=alt.X('jump_in_cut', axis=None),\n",
    "    y=alt.Y('deploy_alt', axis=None),\n",
    "    y2=alt.Y2('ground'),\n",
    ").properties(height=80)\n",
    "\n",
    "chart = (\n",
    "    alt.layer(top, bottom)\n",
    "    .facet(row = alt.Row(\"cut\", title=None))\n",
    "    .configure_axis(grid=False)\n",
    "    .configure_view(strokeWidth=0)\n",
    ")\n",
    "\n",
    "chart"
   ]
  }
 ],
 "metadata": {
  "kernelspec": {
   "display_name": "Python 3",
   "language": "python",
   "name": "python3"
  },
  "language_info": {
   "codemirror_mode": {
    "name": "ipython",
    "version": 3
   },
   "file_extension": ".py",
   "mimetype": "text/x-python",
   "name": "python",
   "nbconvert_exporter": "python",
   "pygments_lexer": "ipython3",
   "version": "3.7.4"
  }
 },
 "nbformat": 4,
 "nbformat_minor": 2
}
