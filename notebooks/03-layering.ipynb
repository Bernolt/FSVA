{
 "cells": [
  {
   "cell_type": "markdown",
   "metadata": {},
   "source": [
    "### Layering"
   ]
  },
  {
   "cell_type": "markdown",
   "metadata": {},
   "source": [
    "<img src=\"../images/candlestick.png\" alt=\"choose\" width=\"400\">\n",
    "\n",
    "[Source](https://altair-viz.github.io/gallery/candlestick_chart.html)"
   ]
  },
  {
   "cell_type": "code",
   "execution_count": 2,
   "metadata": {},
   "outputs": [],
   "source": [
    "import altair as alt\n",
    "import pandas as pd"
   ]
  },
  {
   "cell_type": "code",
   "execution_count": 3,
   "metadata": {},
   "outputs": [],
   "source": [
    "eli = pd.read_csv('../data/skydiving.csv')"
   ]
  },
  {
   "cell_type": "code",
   "execution_count": 4,
   "metadata": {},
   "outputs": [
    {
     "data": {
      "text/html": [
       "<div>\n",
       "<style scoped>\n",
       "    .dataframe tbody tr th:only-of-type {\n",
       "        vertical-align: middle;\n",
       "    }\n",
       "\n",
       "    .dataframe tbody tr th {\n",
       "        vertical-align: top;\n",
       "    }\n",
       "\n",
       "    .dataframe thead th {\n",
       "        text-align: right;\n",
       "    }\n",
       "</style>\n",
       "<table border=\"1\" class=\"dataframe\">\n",
       "  <thead>\n",
       "    <tr style=\"text-align: right;\">\n",
       "      <th></th>\n",
       "      <th>jump</th>\n",
       "      <th>exit_alt</th>\n",
       "      <th>deploy_alt</th>\n",
       "      <th>freefall</th>\n",
       "    </tr>\n",
       "  </thead>\n",
       "  <tbody>\n",
       "    <tr>\n",
       "      <td>0</td>\n",
       "      <td>1</td>\n",
       "      <td>13500</td>\n",
       "      <td>6000</td>\n",
       "      <td>7500</td>\n",
       "    </tr>\n",
       "    <tr>\n",
       "      <td>1</td>\n",
       "      <td>2</td>\n",
       "      <td>13500</td>\n",
       "      <td>6000</td>\n",
       "      <td>7500</td>\n",
       "    </tr>\n",
       "    <tr>\n",
       "      <td>2</td>\n",
       "      <td>3</td>\n",
       "      <td>14000</td>\n",
       "      <td>6000</td>\n",
       "      <td>8000</td>\n",
       "    </tr>\n",
       "    <tr>\n",
       "      <td>3</td>\n",
       "      <td>4</td>\n",
       "      <td>13500</td>\n",
       "      <td>6000</td>\n",
       "      <td>7500</td>\n",
       "    </tr>\n",
       "    <tr>\n",
       "      <td>4</td>\n",
       "      <td>5</td>\n",
       "      <td>11000</td>\n",
       "      <td>6000</td>\n",
       "      <td>5000</td>\n",
       "    </tr>\n",
       "  </tbody>\n",
       "</table>\n",
       "</div>"
      ],
      "text/plain": [
       "   jump  exit_alt  deploy_alt  freefall\n",
       "0     1     13500        6000      7500\n",
       "1     2     13500        6000      7500\n",
       "2     3     14000        6000      8000\n",
       "3     4     13500        6000      7500\n",
       "4     5     11000        6000      5000"
      ]
     },
     "execution_count": 4,
     "metadata": {},
     "output_type": "execute_result"
    }
   ],
   "source": [
    "eli.head()"
   ]
  },
  {
   "cell_type": "code",
   "execution_count": 7,
   "metadata": {},
   "outputs": [
    {
     "data": {
      "text/html": [
       "\n",
       "<div id=\"altair-viz-b5235922b2834472b128c57ee5fd430a\"></div>\n",
       "<script type=\"text/javascript\">\n",
       "  (function(spec, embedOpt){\n",
       "    const outputDiv = document.getElementById(\"altair-viz-b5235922b2834472b128c57ee5fd430a\");\n",
       "    const paths = {\n",
       "      \"vega\": \"https://cdn.jsdelivr.net/npm//vega@5?noext\",\n",
       "      \"vega-lib\": \"https://cdn.jsdelivr.net/npm//vega-lib?noext\",\n",
       "      \"vega-lite\": \"https://cdn.jsdelivr.net/npm//vega-lite@4.0.2?noext\",\n",
       "      \"vega-embed\": \"https://cdn.jsdelivr.net/npm//vega-embed@6?noext\",\n",
       "    };\n",
       "\n",
       "    function loadScript(lib) {\n",
       "      return new Promise(function(resolve, reject) {\n",
       "        var s = document.createElement('script');\n",
       "        s.src = paths[lib];\n",
       "        s.async = true;\n",
       "        s.onload = () => resolve(paths[lib]);\n",
       "        s.onerror = () => reject(`Error loading script: ${paths[lib]}`);\n",
       "        document.getElementsByTagName(\"head\")[0].appendChild(s);\n",
       "      });\n",
       "    }\n",
       "\n",
       "    function showError(err) {\n",
       "      outputDiv.innerHTML = `<div class=\"error\" style=\"color:red;\">${err}</div>`;\n",
       "      throw err;\n",
       "    }\n",
       "\n",
       "    function displayChart(vegaEmbed) {\n",
       "      vegaEmbed(outputDiv, spec, embedOpt)\n",
       "        .catch(err => showError(`Javascript Error: ${err.message}<br>This usually means there's a typo in your chart specification. See the javascript console for the full traceback.`));\n",
       "    }\n",
       "\n",
       "    if(typeof define === \"function\" && define.amd) {\n",
       "      requirejs.config({paths});\n",
       "      require([\"vega-embed\"], displayChart, err => showError(`Error loading script: ${err.message}`));\n",
       "    } else if (typeof vegaEmbed === \"function\") {\n",
       "      displayChart(vegaEmbed);\n",
       "    } else {\n",
       "      loadScript(\"vega\")\n",
       "        .then(() => loadScript(\"vega-lite\"))\n",
       "        .then(() => loadScript(\"vega-embed\"))\n",
       "        .catch(showError)\n",
       "        .then(() => displayChart(vegaEmbed));\n",
       "    }\n",
       "  })({\"config\": {\"view\": {\"continuousWidth\": 400, \"continuousHeight\": 300}}, \"data\": {\"name\": \"data-dbba8783d0ca695423e2772ce7e396e7\"}, \"mark\": \"rule\", \"encoding\": {\"x\": {\"type\": \"quantitative\", \"field\": \"jump\"}, \"y\": {\"type\": \"quantitative\", \"field\": \"deploy_alt\"}, \"y2\": {\"field\": \"exit_alt\"}}, \"$schema\": \"https://vega.github.io/schema/vega-lite/v4.0.2.json\", \"datasets\": {\"data-dbba8783d0ca695423e2772ce7e396e7\": [{\"jump\": 1, \"exit_alt\": 13500, \"deploy_alt\": 6000, \"freefall\": 7500, \"cut\": 0, \"jump_in_cut\": 1, \"ground\": 0}, {\"jump\": 2, \"exit_alt\": 13500, \"deploy_alt\": 6000, \"freefall\": 7500, \"cut\": 0, \"jump_in_cut\": 2, \"ground\": 0}, {\"jump\": 3, \"exit_alt\": 14000, \"deploy_alt\": 6000, \"freefall\": 8000, \"cut\": 0, \"jump_in_cut\": 3, \"ground\": 0}, {\"jump\": 4, \"exit_alt\": 13500, \"deploy_alt\": 6000, \"freefall\": 7500, \"cut\": 0, \"jump_in_cut\": 4, \"ground\": 0}, {\"jump\": 5, \"exit_alt\": 11000, \"deploy_alt\": 6000, \"freefall\": 5000, \"cut\": 0, \"jump_in_cut\": 5, \"ground\": 0}, {\"jump\": 6, \"exit_alt\": 12500, \"deploy_alt\": 4500, \"freefall\": 8000, \"cut\": 0, \"jump_in_cut\": 6, \"ground\": 0}, {\"jump\": 7, \"exit_alt\": 13000, \"deploy_alt\": 5000, \"freefall\": 8000, \"cut\": 0, \"jump_in_cut\": 7, \"ground\": 0}, {\"jump\": 8, \"exit_alt\": 13500, \"deploy_alt\": 6000, \"freefall\": 7500, \"cut\": 0, \"jump_in_cut\": 8, \"ground\": 0}, {\"jump\": 9, \"exit_alt\": 13500, \"deploy_alt\": 4000, \"freefall\": 9500, \"cut\": 0, \"jump_in_cut\": 9, \"ground\": 0}, {\"jump\": 10, \"exit_alt\": 13500, \"deploy_alt\": 4000, \"freefall\": 9500, \"cut\": 0, \"jump_in_cut\": 10, \"ground\": 0}, {\"jump\": 11, \"exit_alt\": 13500, \"deploy_alt\": 4000, \"freefall\": 9500, \"cut\": 0, \"jump_in_cut\": 11, \"ground\": 0}, {\"jump\": 12, \"exit_alt\": 5500, \"deploy_alt\": 5000, \"freefall\": 500, \"cut\": 0, \"jump_in_cut\": 12, \"ground\": 0}, {\"jump\": 13, \"exit_alt\": 3500, \"deploy_alt\": 3000, \"freefall\": 500, \"cut\": 0, \"jump_in_cut\": 13, \"ground\": 0}, {\"jump\": 14, \"exit_alt\": 13500, \"deploy_alt\": 5500, \"freefall\": 8000, \"cut\": 0, \"jump_in_cut\": 14, \"ground\": 0}, {\"jump\": 15, \"exit_alt\": 14000, \"deploy_alt\": 4500, \"freefall\": 9500, \"cut\": 0, \"jump_in_cut\": 15, \"ground\": 0}, {\"jump\": 16, \"exit_alt\": 14000, \"deploy_alt\": 4500, \"freefall\": 9500, \"cut\": 0, \"jump_in_cut\": 16, \"ground\": 0}, {\"jump\": 17, \"exit_alt\": 14000, \"deploy_alt\": 4500, \"freefall\": 9500, \"cut\": 0, \"jump_in_cut\": 17, \"ground\": 0}, {\"jump\": 18, \"exit_alt\": 13500, \"deploy_alt\": 4000, \"freefall\": 9500, \"cut\": 0, \"jump_in_cut\": 18, \"ground\": 0}, {\"jump\": 19, \"exit_alt\": 13500, \"deploy_alt\": 4000, \"freefall\": 9500, \"cut\": 0, \"jump_in_cut\": 19, \"ground\": 0}, {\"jump\": 20, \"exit_alt\": 13500, \"deploy_alt\": 4000, \"freefall\": 9500, \"cut\": 0, \"jump_in_cut\": 20, \"ground\": 0}, {\"jump\": 21, \"exit_alt\": 13500, \"deploy_alt\": 4000, \"freefall\": 9500, \"cut\": 0, \"jump_in_cut\": 21, \"ground\": 0}, {\"jump\": 22, \"exit_alt\": 14000, \"deploy_alt\": 4500, \"freefall\": 9500, \"cut\": 0, \"jump_in_cut\": 22, \"ground\": 0}, {\"jump\": 23, \"exit_alt\": 13500, \"deploy_alt\": 4000, \"freefall\": 9500, \"cut\": 0, \"jump_in_cut\": 23, \"ground\": 0}, {\"jump\": 24, \"exit_alt\": 13500, \"deploy_alt\": 5500, \"freefall\": 8000, \"cut\": 0, \"jump_in_cut\": 24, \"ground\": 0}, {\"jump\": 25, \"exit_alt\": 13500, \"deploy_alt\": 4000, \"freefall\": 9500, \"cut\": 0, \"jump_in_cut\": 25, \"ground\": 0}, {\"jump\": 26, \"exit_alt\": 7000, \"deploy_alt\": 4000, \"freefall\": 3000, \"cut\": 0, \"jump_in_cut\": 26, \"ground\": 0}, {\"jump\": 27, \"exit_alt\": 14000, \"deploy_alt\": 4000, \"freefall\": 10000, \"cut\": 0, \"jump_in_cut\": 27, \"ground\": 0}, {\"jump\": 28, \"exit_alt\": 13500, \"deploy_alt\": 5000, \"freefall\": 8500, \"cut\": 0, \"jump_in_cut\": 28, \"ground\": 0}, {\"jump\": 29, \"exit_alt\": 13500, \"deploy_alt\": 4500, \"freefall\": 9000, \"cut\": 0, \"jump_in_cut\": 29, \"ground\": 0}, {\"jump\": 30, \"exit_alt\": 13500, \"deploy_alt\": 4500, \"freefall\": 9000, \"cut\": 0, \"jump_in_cut\": 30, \"ground\": 0}, {\"jump\": 31, \"exit_alt\": 14000, \"deploy_alt\": 4500, \"freefall\": 9500, \"cut\": 0, \"jump_in_cut\": 31, \"ground\": 0}, {\"jump\": 32, \"exit_alt\": 14000, \"deploy_alt\": 4500, \"freefall\": 9500, \"cut\": 0, \"jump_in_cut\": 32, \"ground\": 0}, {\"jump\": 33, \"exit_alt\": 7000, \"deploy_alt\": 4500, \"freefall\": 2500, \"cut\": 0, \"jump_in_cut\": 33, \"ground\": 0}, {\"jump\": 34, \"exit_alt\": 6000, \"deploy_alt\": 4000, \"freefall\": 2000, \"cut\": 0, \"jump_in_cut\": 34, \"ground\": 0}, {\"jump\": 35, \"exit_alt\": 14000, \"deploy_alt\": 5000, \"freefall\": 9000, \"cut\": 0, \"jump_in_cut\": 35, \"ground\": 0}, {\"jump\": 36, \"exit_alt\": 14000, \"deploy_alt\": 5000, \"freefall\": 9000, \"cut\": 0, \"jump_in_cut\": 36, \"ground\": 0}, {\"jump\": 37, \"exit_alt\": 5500, \"deploy_alt\": 4000, \"freefall\": 1500, \"cut\": 0, \"jump_in_cut\": 37, \"ground\": 0}, {\"jump\": 38, \"exit_alt\": 14000, \"deploy_alt\": 4000, \"freefall\": 10000, \"cut\": 0, \"jump_in_cut\": 38, \"ground\": 0}, {\"jump\": 39, \"exit_alt\": 14000, \"deploy_alt\": 3500, \"freefall\": 10500, \"cut\": 0, \"jump_in_cut\": 39, \"ground\": 0}, {\"jump\": 40, \"exit_alt\": 5000, \"deploy_alt\": 3000, \"freefall\": 2000, \"cut\": 0, \"jump_in_cut\": 40, \"ground\": 0}, {\"jump\": 41, \"exit_alt\": 13500, \"deploy_alt\": 3000, \"freefall\": 10500, \"cut\": 0, \"jump_in_cut\": 41, \"ground\": 0}, {\"jump\": 42, \"exit_alt\": 13500, \"deploy_alt\": 3500, \"freefall\": 10000, \"cut\": 0, \"jump_in_cut\": 42, \"ground\": 0}, {\"jump\": 43, \"exit_alt\": 13500, \"deploy_alt\": 3500, \"freefall\": 10000, \"cut\": 0, \"jump_in_cut\": 43, \"ground\": 0}, {\"jump\": 44, \"exit_alt\": 13500, \"deploy_alt\": 3500, \"freefall\": 10000, \"cut\": 0, \"jump_in_cut\": 44, \"ground\": 0}, {\"jump\": 45, \"exit_alt\": 13500, \"deploy_alt\": 3000, \"freefall\": 10500, \"cut\": 0, \"jump_in_cut\": 45, \"ground\": 0}, {\"jump\": 46, \"exit_alt\": 13000, \"deploy_alt\": 4000, \"freefall\": 9000, \"cut\": 0, \"jump_in_cut\": 46, \"ground\": 0}, {\"jump\": 47, \"exit_alt\": 13500, \"deploy_alt\": 6000, \"freefall\": 7500, \"cut\": 0, \"jump_in_cut\": 47, \"ground\": 0}, {\"jump\": 48, \"exit_alt\": 15000, \"deploy_alt\": 3500, \"freefall\": 11500, \"cut\": 0, \"jump_in_cut\": 48, \"ground\": 0}, {\"jump\": 49, \"exit_alt\": 14000, \"deploy_alt\": 4000, \"freefall\": 10000, \"cut\": 0, \"jump_in_cut\": 49, \"ground\": 0}, {\"jump\": 50, \"exit_alt\": 14000, \"deploy_alt\": 3500, \"freefall\": 10500, \"cut\": 1, \"jump_in_cut\": 0, \"ground\": 0}, {\"jump\": 51, \"exit_alt\": 13500, \"deploy_alt\": 3500, \"freefall\": 10000, \"cut\": 1, \"jump_in_cut\": 1, \"ground\": 0}, {\"jump\": 52, \"exit_alt\": 13500, \"deploy_alt\": 4000, \"freefall\": 9500, \"cut\": 1, \"jump_in_cut\": 2, \"ground\": 0}, {\"jump\": 53, \"exit_alt\": 13500, \"deploy_alt\": 4000, \"freefall\": 9500, \"cut\": 1, \"jump_in_cut\": 3, \"ground\": 0}, {\"jump\": 54, \"exit_alt\": 13500, \"deploy_alt\": 4000, \"freefall\": 9500, \"cut\": 1, \"jump_in_cut\": 4, \"ground\": 0}, {\"jump\": 55, \"exit_alt\": 13500, \"deploy_alt\": 4000, \"freefall\": 9500, \"cut\": 1, \"jump_in_cut\": 5, \"ground\": 0}, {\"jump\": 56, \"exit_alt\": 13500, \"deploy_alt\": 4000, \"freefall\": 9500, \"cut\": 1, \"jump_in_cut\": 6, \"ground\": 0}, {\"jump\": 57, \"exit_alt\": 14500, \"deploy_alt\": 4500, \"freefall\": 10000, \"cut\": 1, \"jump_in_cut\": 7, \"ground\": 0}, {\"jump\": 58, \"exit_alt\": 13500, \"deploy_alt\": 4500, \"freefall\": 9000, \"cut\": 1, \"jump_in_cut\": 8, \"ground\": 0}, {\"jump\": 59, \"exit_alt\": 13500, \"deploy_alt\": 4500, \"freefall\": 9000, \"cut\": 1, \"jump_in_cut\": 9, \"ground\": 0}, {\"jump\": 60, \"exit_alt\": 13500, \"deploy_alt\": 5000, \"freefall\": 8500, \"cut\": 1, \"jump_in_cut\": 10, \"ground\": 0}, {\"jump\": 61, \"exit_alt\": 13500, \"deploy_alt\": 3500, \"freefall\": 10000, \"cut\": 1, \"jump_in_cut\": 11, \"ground\": 0}, {\"jump\": 62, \"exit_alt\": 13500, \"deploy_alt\": 3500, \"freefall\": 10000, \"cut\": 1, \"jump_in_cut\": 12, \"ground\": 0}, {\"jump\": 63, \"exit_alt\": 13500, \"deploy_alt\": 3500, \"freefall\": 10000, \"cut\": 1, \"jump_in_cut\": 13, \"ground\": 0}, {\"jump\": 64, \"exit_alt\": 13500, \"deploy_alt\": 3500, \"freefall\": 10000, \"cut\": 1, \"jump_in_cut\": 14, \"ground\": 0}, {\"jump\": 65, \"exit_alt\": 13500, \"deploy_alt\": 3500, \"freefall\": 10000, \"cut\": 1, \"jump_in_cut\": 15, \"ground\": 0}, {\"jump\": 66, \"exit_alt\": 13500, \"deploy_alt\": 3500, \"freefall\": 10000, \"cut\": 1, \"jump_in_cut\": 16, \"ground\": 0}, {\"jump\": 67, \"exit_alt\": 5000, \"deploy_alt\": 4500, \"freefall\": 500, \"cut\": 1, \"jump_in_cut\": 17, \"ground\": 0}, {\"jump\": 68, \"exit_alt\": 5000, \"deploy_alt\": 4500, \"freefall\": 500, \"cut\": 1, \"jump_in_cut\": 18, \"ground\": 0}, {\"jump\": 69, \"exit_alt\": 13500, \"deploy_alt\": 6000, \"freefall\": 7500, \"cut\": 1, \"jump_in_cut\": 19, \"ground\": 0}, {\"jump\": 70, \"exit_alt\": 13500, \"deploy_alt\": 4000, \"freefall\": 9500, \"cut\": 1, \"jump_in_cut\": 20, \"ground\": 0}, {\"jump\": 71, \"exit_alt\": 14000, \"deploy_alt\": 4000, \"freefall\": 10000, \"cut\": 1, \"jump_in_cut\": 21, \"ground\": 0}, {\"jump\": 72, \"exit_alt\": 14000, \"deploy_alt\": 3500, \"freefall\": 10500, \"cut\": 1, \"jump_in_cut\": 22, \"ground\": 0}, {\"jump\": 73, \"exit_alt\": 5000, \"deploy_alt\": 4000, \"freefall\": 1000, \"cut\": 1, \"jump_in_cut\": 23, \"ground\": 0}, {\"jump\": 74, \"exit_alt\": 13500, \"deploy_alt\": 3500, \"freefall\": 10000, \"cut\": 1, \"jump_in_cut\": 24, \"ground\": 0}, {\"jump\": 75, \"exit_alt\": 13500, \"deploy_alt\": 3500, \"freefall\": 10000, \"cut\": 1, \"jump_in_cut\": 25, \"ground\": 0}, {\"jump\": 76, \"exit_alt\": 13500, \"deploy_alt\": 3500, \"freefall\": 10000, \"cut\": 1, \"jump_in_cut\": 26, \"ground\": 0}, {\"jump\": 77, \"exit_alt\": 13500, \"deploy_alt\": 3000, \"freefall\": 10500, \"cut\": 1, \"jump_in_cut\": 27, \"ground\": 0}, {\"jump\": 78, \"exit_alt\": 13500, \"deploy_alt\": 6000, \"freefall\": 7500, \"cut\": 1, \"jump_in_cut\": 28, \"ground\": 0}, {\"jump\": 79, \"exit_alt\": 9500, \"deploy_alt\": 4000, \"freefall\": 5500, \"cut\": 1, \"jump_in_cut\": 29, \"ground\": 0}, {\"jump\": 80, \"exit_alt\": 9500, \"deploy_alt\": 4000, \"freefall\": 5500, \"cut\": 1, \"jump_in_cut\": 30, \"ground\": 0}, {\"jump\": 81, \"exit_alt\": 10500, \"deploy_alt\": 4000, \"freefall\": 6500, \"cut\": 1, \"jump_in_cut\": 31, \"ground\": 0}, {\"jump\": 82, \"exit_alt\": 9500, \"deploy_alt\": 4000, \"freefall\": 5500, \"cut\": 1, \"jump_in_cut\": 32, \"ground\": 0}, {\"jump\": 83, \"exit_alt\": 13500, \"deploy_alt\": 3500, \"freefall\": 10000, \"cut\": 1, \"jump_in_cut\": 33, \"ground\": 0}, {\"jump\": 84, \"exit_alt\": 13500, \"deploy_alt\": 3500, \"freefall\": 10000, \"cut\": 1, \"jump_in_cut\": 34, \"ground\": 0}, {\"jump\": 85, \"exit_alt\": 13500, \"deploy_alt\": 3500, \"freefall\": 10000, \"cut\": 1, \"jump_in_cut\": 35, \"ground\": 0}, {\"jump\": 86, \"exit_alt\": 13500, \"deploy_alt\": 3500, \"freefall\": 10000, \"cut\": 1, \"jump_in_cut\": 36, \"ground\": 0}, {\"jump\": 87, \"exit_alt\": 13500, \"deploy_alt\": 3500, \"freefall\": 10000, \"cut\": 1, \"jump_in_cut\": 37, \"ground\": 0}, {\"jump\": 88, \"exit_alt\": 13500, \"deploy_alt\": 3500, \"freefall\": 10000, \"cut\": 1, \"jump_in_cut\": 38, \"ground\": 0}, {\"jump\": 89, \"exit_alt\": 10500, \"deploy_alt\": 3500, \"freefall\": 7000, \"cut\": 1, \"jump_in_cut\": 39, \"ground\": 0}, {\"jump\": 90, \"exit_alt\": 10500, \"deploy_alt\": 1000, \"freefall\": 9500, \"cut\": 1, \"jump_in_cut\": 40, \"ground\": 0}, {\"jump\": 91, \"exit_alt\": 13500, \"deploy_alt\": 8000, \"freefall\": 5500, \"cut\": 1, \"jump_in_cut\": 41, \"ground\": 0}, {\"jump\": 92, \"exit_alt\": 13500, \"deploy_alt\": 3500, \"freefall\": 10000, \"cut\": 1, \"jump_in_cut\": 42, \"ground\": 0}, {\"jump\": 93, \"exit_alt\": 15000, \"deploy_alt\": 3500, \"freefall\": 11500, \"cut\": 1, \"jump_in_cut\": 43, \"ground\": 0}, {\"jump\": 94, \"exit_alt\": 10500, \"deploy_alt\": 3500, \"freefall\": 7000, \"cut\": 1, \"jump_in_cut\": 44, \"ground\": 0}, {\"jump\": 95, \"exit_alt\": 10500, \"deploy_alt\": 3500, \"freefall\": 7000, \"cut\": 1, \"jump_in_cut\": 45, \"ground\": 0}, {\"jump\": 96, \"exit_alt\": 10500, \"deploy_alt\": 3500, \"freefall\": 7000, \"cut\": 1, \"jump_in_cut\": 46, \"ground\": 0}, {\"jump\": 97, \"exit_alt\": 8500, \"deploy_alt\": 4000, \"freefall\": 4500, \"cut\": 1, \"jump_in_cut\": 47, \"ground\": 0}, {\"jump\": 98, \"exit_alt\": 8500, \"deploy_alt\": 3500, \"freefall\": 5000, \"cut\": 1, \"jump_in_cut\": 48, \"ground\": 0}, {\"jump\": 99, \"exit_alt\": 10500, \"deploy_alt\": 3500, \"freefall\": 7000, \"cut\": 1, \"jump_in_cut\": 49, \"ground\": 0}, {\"jump\": 100, \"exit_alt\": 10500, \"deploy_alt\": 3500, \"freefall\": 7000, \"cut\": 2, \"jump_in_cut\": 0, \"ground\": 0}, {\"jump\": 101, \"exit_alt\": 10500, \"deploy_alt\": 3500, \"freefall\": 7000, \"cut\": 2, \"jump_in_cut\": 1, \"ground\": 0}, {\"jump\": 102, \"exit_alt\": 9500, \"deploy_alt\": 3500, \"freefall\": 6000, \"cut\": 2, \"jump_in_cut\": 2, \"ground\": 0}, {\"jump\": 103, \"exit_alt\": 10000, \"deploy_alt\": 3000, \"freefall\": 7000, \"cut\": 2, \"jump_in_cut\": 3, \"ground\": 0}, {\"jump\": 104, \"exit_alt\": 9500, \"deploy_alt\": 3500, \"freefall\": 6000, \"cut\": 2, \"jump_in_cut\": 4, \"ground\": 0}, {\"jump\": 105, \"exit_alt\": 10000, \"deploy_alt\": 3000, \"freefall\": 7000, \"cut\": 2, \"jump_in_cut\": 5, \"ground\": 0}, {\"jump\": 106, \"exit_alt\": 10000, \"deploy_alt\": 2500, \"freefall\": 7500, \"cut\": 2, \"jump_in_cut\": 6, \"ground\": 0}, {\"jump\": 107, \"exit_alt\": 9750, \"deploy_alt\": 3000, \"freefall\": 6750, \"cut\": 2, \"jump_in_cut\": 7, \"ground\": 0}, {\"jump\": 108, \"exit_alt\": 9940, \"deploy_alt\": 2400, \"freefall\": 7540, \"cut\": 2, \"jump_in_cut\": 8, \"ground\": 0}, {\"jump\": 109, \"exit_alt\": 10700, \"deploy_alt\": 2520, \"freefall\": 8180, \"cut\": 2, \"jump_in_cut\": 9, \"ground\": 0}, {\"jump\": 110, \"exit_alt\": 11000, \"deploy_alt\": 2680, \"freefall\": 8320, \"cut\": 2, \"jump_in_cut\": 10, \"ground\": 0}, {\"jump\": 111, \"exit_alt\": 9610, \"deploy_alt\": 2550, \"freefall\": 7060, \"cut\": 2, \"jump_in_cut\": 11, \"ground\": 0}, {\"jump\": 112, \"exit_alt\": 9590, \"deploy_alt\": 3040, \"freefall\": 6550, \"cut\": 2, \"jump_in_cut\": 12, \"ground\": 0}, {\"jump\": 113, \"exit_alt\": 10700, \"deploy_alt\": 2470, \"freefall\": 8230, \"cut\": 2, \"jump_in_cut\": 13, \"ground\": 0}, {\"jump\": 114, \"exit_alt\": 10500, \"deploy_alt\": 2220, \"freefall\": 8280, \"cut\": 2, \"jump_in_cut\": 14, \"ground\": 0}, {\"jump\": 115, \"exit_alt\": 10200, \"deploy_alt\": 2490, \"freefall\": 7710, \"cut\": 2, \"jump_in_cut\": 15, \"ground\": 0}, {\"jump\": 116, \"exit_alt\": 10700, \"deploy_alt\": 2730, \"freefall\": 7970, \"cut\": 2, \"jump_in_cut\": 16, \"ground\": 0}, {\"jump\": 117, \"exit_alt\": 4590, \"deploy_alt\": 3790, \"freefall\": 800, \"cut\": 2, \"jump_in_cut\": 17, \"ground\": 0}, {\"jump\": 118, \"exit_alt\": 4670, \"deploy_alt\": 3740, \"freefall\": 930, \"cut\": 2, \"jump_in_cut\": 18, \"ground\": 0}, {\"jump\": 119, \"exit_alt\": 10400, \"deploy_alt\": 2640, \"freefall\": 7760, \"cut\": 2, \"jump_in_cut\": 19, \"ground\": 0}, {\"jump\": 120, \"exit_alt\": 11300, \"deploy_alt\": 2650, \"freefall\": 8650, \"cut\": 2, \"jump_in_cut\": 20, \"ground\": 0}, {\"jump\": 121, \"exit_alt\": 11200, \"deploy_alt\": 2510, \"freefall\": 8690, \"cut\": 2, \"jump_in_cut\": 21, \"ground\": 0}, {\"jump\": 122, \"exit_alt\": 10800, \"deploy_alt\": 2900, \"freefall\": 7900, \"cut\": 2, \"jump_in_cut\": 22, \"ground\": 0}, {\"jump\": 123, \"exit_alt\": 9880, \"deploy_alt\": 3380, \"freefall\": 6500, \"cut\": 2, \"jump_in_cut\": 23, \"ground\": 0}, {\"jump\": 124, \"exit_alt\": 8610, \"deploy_alt\": 3040, \"freefall\": 5570, \"cut\": 2, \"jump_in_cut\": 24, \"ground\": 0}, {\"jump\": 125, \"exit_alt\": 9100, \"deploy_alt\": 2830, \"freefall\": 6270, \"cut\": 2, \"jump_in_cut\": 25, \"ground\": 0}, {\"jump\": 126, \"exit_alt\": 9230, \"deploy_alt\": 2610, \"freefall\": 6620, \"cut\": 2, \"jump_in_cut\": 26, \"ground\": 0}, {\"jump\": 127, \"exit_alt\": 11300, \"deploy_alt\": 3430, \"freefall\": 7870, \"cut\": 2, \"jump_in_cut\": 27, \"ground\": 0}, {\"jump\": 128, \"exit_alt\": 12400, \"deploy_alt\": 2960, \"freefall\": 9440, \"cut\": 2, \"jump_in_cut\": 28, \"ground\": 0}, {\"jump\": 129, \"exit_alt\": 11400, \"deploy_alt\": 2810, \"freefall\": 8590, \"cut\": 2, \"jump_in_cut\": 29, \"ground\": 0}, {\"jump\": 130, \"exit_alt\": 11100, \"deploy_alt\": 2810, \"freefall\": 8290, \"cut\": 2, \"jump_in_cut\": 30, \"ground\": 0}, {\"jump\": 131, \"exit_alt\": 10500, \"deploy_alt\": 2540, \"freefall\": 7960, \"cut\": 2, \"jump_in_cut\": 31, \"ground\": 0}, {\"jump\": 132, \"exit_alt\": 7000, \"deploy_alt\": 6500, \"freefall\": 500, \"cut\": 2, \"jump_in_cut\": 32, \"ground\": 0}, {\"jump\": 133, \"exit_alt\": 7000, \"deploy_alt\": 6500, \"freefall\": 500, \"cut\": 2, \"jump_in_cut\": 33, \"ground\": 0}, {\"jump\": 134, \"exit_alt\": 7000, \"deploy_alt\": 6500, \"freefall\": 500, \"cut\": 2, \"jump_in_cut\": 34, \"ground\": 0}, {\"jump\": 135, \"exit_alt\": 7000, \"deploy_alt\": 6500, \"freefall\": 500, \"cut\": 2, \"jump_in_cut\": 35, \"ground\": 0}, {\"jump\": 136, \"exit_alt\": 7000, \"deploy_alt\": 6500, \"freefall\": 500, \"cut\": 2, \"jump_in_cut\": 36, \"ground\": 0}, {\"jump\": 137, \"exit_alt\": 13100, \"deploy_alt\": 6140, \"freefall\": 6960, \"cut\": 2, \"jump_in_cut\": 37, \"ground\": 0}, {\"jump\": 138, \"exit_alt\": 11200, \"deploy_alt\": 3050, \"freefall\": 8150, \"cut\": 2, \"jump_in_cut\": 38, \"ground\": 0}, {\"jump\": 139, \"exit_alt\": 11200, \"deploy_alt\": 3150, \"freefall\": 8050, \"cut\": 2, \"jump_in_cut\": 39, \"ground\": 0}, {\"jump\": 140, \"exit_alt\": 11300, \"deploy_alt\": 2570, \"freefall\": 8730, \"cut\": 2, \"jump_in_cut\": 40, \"ground\": 0}, {\"jump\": 141, \"exit_alt\": 10800, \"deploy_alt\": 3230, \"freefall\": 7570, \"cut\": 2, \"jump_in_cut\": 41, \"ground\": 0}, {\"jump\": 142, \"exit_alt\": 11500, \"deploy_alt\": 2390, \"freefall\": 9110, \"cut\": 2, \"jump_in_cut\": 42, \"ground\": 0}, {\"jump\": 143, \"exit_alt\": 11000, \"deploy_alt\": 2210, \"freefall\": 8790, \"cut\": 2, \"jump_in_cut\": 43, \"ground\": 0}, {\"jump\": 144, \"exit_alt\": 8460, \"deploy_alt\": 2800, \"freefall\": 5660, \"cut\": 2, \"jump_in_cut\": 44, \"ground\": 0}, {\"jump\": 145, \"exit_alt\": 10400, \"deploy_alt\": 2580, \"freefall\": 7820, \"cut\": 2, \"jump_in_cut\": 45, \"ground\": 0}, {\"jump\": 146, \"exit_alt\": 10500, \"deploy_alt\": 2670, \"freefall\": 7830, \"cut\": 2, \"jump_in_cut\": 46, \"ground\": 0}, {\"jump\": 147, \"exit_alt\": 10400, \"deploy_alt\": 2660, \"freefall\": 7740, \"cut\": 2, \"jump_in_cut\": 47, \"ground\": 0}, {\"jump\": 148, \"exit_alt\": 10100, \"deploy_alt\": 2500, \"freefall\": 7600, \"cut\": 2, \"jump_in_cut\": 48, \"ground\": 0}, {\"jump\": 149, \"exit_alt\": 9690, \"deploy_alt\": 5930, \"freefall\": 3760, \"cut\": 2, \"jump_in_cut\": 49, \"ground\": 0}, {\"jump\": 150, \"exit_alt\": 14100, \"deploy_alt\": 2980, \"freefall\": 11120, \"cut\": 3, \"jump_in_cut\": 0, \"ground\": 0}, {\"jump\": 151, \"exit_alt\": 13700, \"deploy_alt\": 3030, \"freefall\": 10670, \"cut\": 3, \"jump_in_cut\": 1, \"ground\": 0}, {\"jump\": 152, \"exit_alt\": 13700, \"deploy_alt\": 2680, \"freefall\": 11020, \"cut\": 3, \"jump_in_cut\": 2, \"ground\": 0}, {\"jump\": 153, \"exit_alt\": 13400, \"deploy_alt\": 2460, \"freefall\": 10940, \"cut\": 3, \"jump_in_cut\": 3, \"ground\": 0}, {\"jump\": 154, \"exit_alt\": 13800, \"deploy_alt\": 2590, \"freefall\": 11210, \"cut\": 3, \"jump_in_cut\": 4, \"ground\": 0}, {\"jump\": 155, \"exit_alt\": 13700, \"deploy_alt\": 2190, \"freefall\": 11510, \"cut\": 3, \"jump_in_cut\": 5, \"ground\": 0}, {\"jump\": 156, \"exit_alt\": 11000, \"deploy_alt\": 2440, \"freefall\": 8560, \"cut\": 3, \"jump_in_cut\": 6, \"ground\": 0}, {\"jump\": 157, \"exit_alt\": 11500, \"deploy_alt\": 2410, \"freefall\": 9090, \"cut\": 3, \"jump_in_cut\": 7, \"ground\": 0}, {\"jump\": 158, \"exit_alt\": 10700, \"deploy_alt\": 2390, \"freefall\": 8310, \"cut\": 3, \"jump_in_cut\": 8, \"ground\": 0}, {\"jump\": 159, \"exit_alt\": 10600, \"deploy_alt\": 2220, \"freefall\": 8380, \"cut\": 3, \"jump_in_cut\": 9, \"ground\": 0}, {\"jump\": 160, \"exit_alt\": 11600, \"deploy_alt\": 3780, \"freefall\": 7820, \"cut\": 3, \"jump_in_cut\": 10, \"ground\": 0}, {\"jump\": 161, \"exit_alt\": 11000, \"deploy_alt\": 10500, \"freefall\": 500, \"cut\": 3, \"jump_in_cut\": 11, \"ground\": 0}, {\"jump\": 162, \"exit_alt\": 14000, \"deploy_alt\": 2340, \"freefall\": 11660, \"cut\": 3, \"jump_in_cut\": 12, \"ground\": 0}, {\"jump\": 163, \"exit_alt\": 13800, \"deploy_alt\": 2420, \"freefall\": 11380, \"cut\": 3, \"jump_in_cut\": 13, \"ground\": 0}, {\"jump\": 164, \"exit_alt\": 10900, \"deploy_alt\": 2410, \"freefall\": 8490, \"cut\": 3, \"jump_in_cut\": 14, \"ground\": 0}, {\"jump\": 165, \"exit_alt\": 11400, \"deploy_alt\": 2490, \"freefall\": 8910, \"cut\": 3, \"jump_in_cut\": 15, \"ground\": 0}, {\"jump\": 166, \"exit_alt\": 10700, \"deploy_alt\": 2060, \"freefall\": 8640, \"cut\": 3, \"jump_in_cut\": 16, \"ground\": 0}, {\"jump\": 167, \"exit_alt\": 10700, \"deploy_alt\": 2630, \"freefall\": 8070, \"cut\": 3, \"jump_in_cut\": 17, \"ground\": 0}, {\"jump\": 168, \"exit_alt\": 10900, \"deploy_alt\": 2660, \"freefall\": 8240, \"cut\": 3, \"jump_in_cut\": 18, \"ground\": 0}, {\"jump\": 169, \"exit_alt\": 10700, \"deploy_alt\": 2530, \"freefall\": 8170, \"cut\": 3, \"jump_in_cut\": 19, \"ground\": 0}, {\"jump\": 170, \"exit_alt\": 8370, \"deploy_alt\": 3440, \"freefall\": 4930, \"cut\": 3, \"jump_in_cut\": 20, \"ground\": 0}, {\"jump\": 171, \"exit_alt\": 11400, \"deploy_alt\": 2320, \"freefall\": 9080, \"cut\": 3, \"jump_in_cut\": 21, \"ground\": 0}, {\"jump\": 172, \"exit_alt\": 13900, \"deploy_alt\": 2370, \"freefall\": 11530, \"cut\": 3, \"jump_in_cut\": 22, \"ground\": 0}, {\"jump\": 173, \"exit_alt\": 13700, \"deploy_alt\": 2160, \"freefall\": 11540, \"cut\": 3, \"jump_in_cut\": 23, \"ground\": 0}, {\"jump\": 174, \"exit_alt\": 13900, \"deploy_alt\": 2010, \"freefall\": 11890, \"cut\": 3, \"jump_in_cut\": 24, \"ground\": 0}, {\"jump\": 175, \"exit_alt\": 14000, \"deploy_alt\": 2130, \"freefall\": 11870, \"cut\": 3, \"jump_in_cut\": 25, \"ground\": 0}, {\"jump\": 176, \"exit_alt\": 13800, \"deploy_alt\": 2070, \"freefall\": 11730, \"cut\": 3, \"jump_in_cut\": 26, \"ground\": 0}, {\"jump\": 177, \"exit_alt\": 11200, \"deploy_alt\": 2140, \"freefall\": 9060, \"cut\": 3, \"jump_in_cut\": 27, \"ground\": 0}, {\"jump\": 178, \"exit_alt\": 11100, \"deploy_alt\": 2350, \"freefall\": 8750, \"cut\": 3, \"jump_in_cut\": 28, \"ground\": 0}, {\"jump\": 179, \"exit_alt\": 11500, \"deploy_alt\": 3700, \"freefall\": 7800, \"cut\": 3, \"jump_in_cut\": 29, \"ground\": 0}, {\"jump\": 180, \"exit_alt\": 8610, \"deploy_alt\": 2670, \"freefall\": 5940, \"cut\": 3, \"jump_in_cut\": 30, \"ground\": 0}, {\"jump\": 181, \"exit_alt\": 8210, \"deploy_alt\": 3130, \"freefall\": 5080, \"cut\": 3, \"jump_in_cut\": 31, \"ground\": 0}, {\"jump\": 182, \"exit_alt\": 8220, \"deploy_alt\": 3150, \"freefall\": 5070, \"cut\": 3, \"jump_in_cut\": 32, \"ground\": 0}, {\"jump\": 183, \"exit_alt\": 13700, \"deploy_alt\": 2400, \"freefall\": 11300, \"cut\": 3, \"jump_in_cut\": 33, \"ground\": 0}, {\"jump\": 184, \"exit_alt\": 13900, \"deploy_alt\": 2040, \"freefall\": 11860, \"cut\": 3, \"jump_in_cut\": 34, \"ground\": 0}, {\"jump\": 185, \"exit_alt\": 10900, \"deploy_alt\": 2740, \"freefall\": 8160, \"cut\": 3, \"jump_in_cut\": 35, \"ground\": 0}, {\"jump\": 186, \"exit_alt\": 10600, \"deploy_alt\": 2560, \"freefall\": 8040, \"cut\": 3, \"jump_in_cut\": 36, \"ground\": 0}, {\"jump\": 187, \"exit_alt\": 8600, \"deploy_alt\": 3680, \"freefall\": 4920, \"cut\": 3, \"jump_in_cut\": 37, \"ground\": 0}, {\"jump\": 188, \"exit_alt\": 13700, \"deploy_alt\": 2390, \"freefall\": 11310, \"cut\": 3, \"jump_in_cut\": 38, \"ground\": 0}, {\"jump\": 189, \"exit_alt\": 13700, \"deploy_alt\": 2220, \"freefall\": 11480, \"cut\": 3, \"jump_in_cut\": 39, \"ground\": 0}, {\"jump\": 190, \"exit_alt\": 13400, \"deploy_alt\": 2650, \"freefall\": 10750, \"cut\": 3, \"jump_in_cut\": 40, \"ground\": 0}, {\"jump\": 191, \"exit_alt\": 13700, \"deploy_alt\": 2310, \"freefall\": 11390, \"cut\": 3, \"jump_in_cut\": 41, \"ground\": 0}, {\"jump\": 192, \"exit_alt\": 13300, \"deploy_alt\": 2260, \"freefall\": 11040, \"cut\": 3, \"jump_in_cut\": 42, \"ground\": 0}, {\"jump\": 193, \"exit_alt\": 13800, \"deploy_alt\": 2130, \"freefall\": 11670, \"cut\": 3, \"jump_in_cut\": 43, \"ground\": 0}, {\"jump\": 194, \"exit_alt\": 13400, \"deploy_alt\": 2570, \"freefall\": 10830, \"cut\": 3, \"jump_in_cut\": 44, \"ground\": 0}, {\"jump\": 195, \"exit_alt\": 13200, \"deploy_alt\": 2070, \"freefall\": 11130, \"cut\": 3, \"jump_in_cut\": 45, \"ground\": 0}, {\"jump\": 196, \"exit_alt\": 13700, \"deploy_alt\": 3090, \"freefall\": 10610, \"cut\": 3, \"jump_in_cut\": 46, \"ground\": 0}, {\"jump\": 197, \"exit_alt\": 13400, \"deploy_alt\": 2560, \"freefall\": 10840, \"cut\": 3, \"jump_in_cut\": 47, \"ground\": 0}, {\"jump\": 198, \"exit_alt\": 13300, \"deploy_alt\": 2430, \"freefall\": 10870, \"cut\": 3, \"jump_in_cut\": 48, \"ground\": 0}, {\"jump\": 199, \"exit_alt\": 13400, \"deploy_alt\": 2080, \"freefall\": 11320, \"cut\": 3, \"jump_in_cut\": 49, \"ground\": 0}, {\"jump\": 200, \"exit_alt\": 13100, \"deploy_alt\": 2370, \"freefall\": 10730, \"cut\": 4, \"jump_in_cut\": 0, \"ground\": 0}, {\"jump\": 201, \"exit_alt\": 10300, \"deploy_alt\": 2470, \"freefall\": 7830, \"cut\": 4, \"jump_in_cut\": 1, \"ground\": 0}, {\"jump\": 202, \"exit_alt\": 11700, \"deploy_alt\": 2100, \"freefall\": 9600, \"cut\": 4, \"jump_in_cut\": 2, \"ground\": 0}, {\"jump\": 203, \"exit_alt\": 10700, \"deploy_alt\": 2770, \"freefall\": 7930, \"cut\": 4, \"jump_in_cut\": 3, \"ground\": 0}, {\"jump\": 204, \"exit_alt\": 11600, \"deploy_alt\": 3660, \"freefall\": 7940, \"cut\": 4, \"jump_in_cut\": 4, \"ground\": 0}, {\"jump\": 205, \"exit_alt\": 11800, \"deploy_alt\": 2580, \"freefall\": 9220, \"cut\": 4, \"jump_in_cut\": 5, \"ground\": 0}, {\"jump\": 206, \"exit_alt\": 11500, \"deploy_alt\": 2710, \"freefall\": 8790, \"cut\": 4, \"jump_in_cut\": 6, \"ground\": 0}, {\"jump\": 207, \"exit_alt\": 11600, \"deploy_alt\": 2340, \"freefall\": 9260, \"cut\": 4, \"jump_in_cut\": 7, \"ground\": 0}, {\"jump\": 208, \"exit_alt\": 10600, \"deploy_alt\": 2730, \"freefall\": 7870, \"cut\": 4, \"jump_in_cut\": 8, \"ground\": 0}, {\"jump\": 209, \"exit_alt\": 10400, \"deploy_alt\": 2220, \"freefall\": 8180, \"cut\": 4, \"jump_in_cut\": 9, \"ground\": 0}, {\"jump\": 210, \"exit_alt\": 11800, \"deploy_alt\": 2350, \"freefall\": 9450, \"cut\": 4, \"jump_in_cut\": 10, \"ground\": 0}, {\"jump\": 211, \"exit_alt\": 11600, \"deploy_alt\": 2500, \"freefall\": 9100, \"cut\": 4, \"jump_in_cut\": 11, \"ground\": 0}, {\"jump\": 212, \"exit_alt\": 10600, \"deploy_alt\": 1490, \"freefall\": 9110, \"cut\": 4, \"jump_in_cut\": 12, \"ground\": 0}, {\"jump\": 213, \"exit_alt\": 10500, \"deploy_alt\": 3850, \"freefall\": 6650, \"cut\": 4, \"jump_in_cut\": 13, \"ground\": 0}, {\"jump\": 214, \"exit_alt\": 10400, \"deploy_alt\": 2690, \"freefall\": 7710, \"cut\": 4, \"jump_in_cut\": 14, \"ground\": 0}, {\"jump\": 215, \"exit_alt\": 10600, \"deploy_alt\": 1680, \"freefall\": 8920, \"cut\": 4, \"jump_in_cut\": 15, \"ground\": 0}, {\"jump\": 216, \"exit_alt\": 10600, \"deploy_alt\": 2940, \"freefall\": 7660, \"cut\": 4, \"jump_in_cut\": 16, \"ground\": 0}, {\"jump\": 217, \"exit_alt\": 10500, \"deploy_alt\": 2330, \"freefall\": 8170, \"cut\": 4, \"jump_in_cut\": 17, \"ground\": 0}, {\"jump\": 218, \"exit_alt\": 10600, \"deploy_alt\": 2540, \"freefall\": 8060, \"cut\": 4, \"jump_in_cut\": 18, \"ground\": 0}, {\"jump\": 219, \"exit_alt\": 10500, \"deploy_alt\": 2560, \"freefall\": 7940, \"cut\": 4, \"jump_in_cut\": 19, \"ground\": 0}, {\"jump\": 220, \"exit_alt\": 11000, \"deploy_alt\": 2350, \"freefall\": 8650, \"cut\": 4, \"jump_in_cut\": 20, \"ground\": 0}, {\"jump\": 221, \"exit_alt\": 10900, \"deploy_alt\": 2390, \"freefall\": 8510, \"cut\": 4, \"jump_in_cut\": 21, \"ground\": 0}]}}, {\"mode\": \"vega-lite\"});\n",
       "</script>"
      ],
      "text/plain": [
       "alt.Chart(...)"
      ]
     },
     "execution_count": 7,
     "metadata": {},
     "output_type": "execute_result"
    }
   ],
   "source": [
    "alt.Chart(eli).mark_rule().encode(\n",
    "    x='jump',\n",
    "    y='deploy_alt',\n",
    "    y2='exit_alt'\n",
    ")"
   ]
  },
  {
   "cell_type": "code",
   "execution_count": 8,
   "metadata": {},
   "outputs": [],
   "source": [
    "eli50 = eli.head(50)"
   ]
  },
  {
   "cell_type": "code",
   "execution_count": 14,
   "metadata": {},
   "outputs": [
    {
     "data": {
      "text/html": [
       "\n",
       "<div id=\"altair-viz-3ba65f0cfcd64410b987ba7694e9f1ab\"></div>\n",
       "<script type=\"text/javascript\">\n",
       "  (function(spec, embedOpt){\n",
       "    const outputDiv = document.getElementById(\"altair-viz-3ba65f0cfcd64410b987ba7694e9f1ab\");\n",
       "    const paths = {\n",
       "      \"vega\": \"https://cdn.jsdelivr.net/npm//vega@5?noext\",\n",
       "      \"vega-lib\": \"https://cdn.jsdelivr.net/npm//vega-lib?noext\",\n",
       "      \"vega-lite\": \"https://cdn.jsdelivr.net/npm//vega-lite@4.0.2?noext\",\n",
       "      \"vega-embed\": \"https://cdn.jsdelivr.net/npm//vega-embed@6?noext\",\n",
       "    };\n",
       "\n",
       "    function loadScript(lib) {\n",
       "      return new Promise(function(resolve, reject) {\n",
       "        var s = document.createElement('script');\n",
       "        s.src = paths[lib];\n",
       "        s.async = true;\n",
       "        s.onload = () => resolve(paths[lib]);\n",
       "        s.onerror = () => reject(`Error loading script: ${paths[lib]}`);\n",
       "        document.getElementsByTagName(\"head\")[0].appendChild(s);\n",
       "      });\n",
       "    }\n",
       "\n",
       "    function showError(err) {\n",
       "      outputDiv.innerHTML = `<div class=\"error\" style=\"color:red;\">${err}</div>`;\n",
       "      throw err;\n",
       "    }\n",
       "\n",
       "    function displayChart(vegaEmbed) {\n",
       "      vegaEmbed(outputDiv, spec, embedOpt)\n",
       "        .catch(err => showError(`Javascript Error: ${err.message}<br>This usually means there's a typo in your chart specification. See the javascript console for the full traceback.`));\n",
       "    }\n",
       "\n",
       "    if(typeof define === \"function\" && define.amd) {\n",
       "      requirejs.config({paths});\n",
       "      require([\"vega-embed\"], displayChart, err => showError(`Error loading script: ${err.message}`));\n",
       "    } else if (typeof vegaEmbed === \"function\") {\n",
       "      displayChart(vegaEmbed);\n",
       "    } else {\n",
       "      loadScript(\"vega\")\n",
       "        .then(() => loadScript(\"vega-lite\"))\n",
       "        .then(() => loadScript(\"vega-embed\"))\n",
       "        .catch(showError)\n",
       "        .then(() => displayChart(vegaEmbed));\n",
       "    }\n",
       "  })({\"config\": {\"view\": {\"continuousWidth\": 400, \"continuousHeight\": 300}}, \"layer\": [{\"mark\": {\"type\": \"rule\", \"size\": 3}, \"encoding\": {\"x\": {\"type\": \"quantitative\", \"field\": \"jump\"}, \"y\": {\"type\": \"quantitative\", \"field\": \"deploy_alt\"}, \"y2\": {\"field\": \"exit_alt\"}}}, {\"mark\": {\"type\": \"rule\", \"size\": 1}, \"encoding\": {\"x\": {\"type\": \"quantitative\", \"field\": \"jump\"}, \"y\": {\"type\": \"quantitative\", \"field\": \"deploy_alt\"}, \"y2\": {\"field\": \"ground\"}}}], \"data\": {\"name\": \"data-9b1c7acbb849adc132b64697ba9cab7e\"}, \"$schema\": \"https://vega.github.io/schema/vega-lite/v4.0.2.json\", \"datasets\": {\"data-9b1c7acbb849adc132b64697ba9cab7e\": [{\"jump\": 1, \"exit_alt\": 13500, \"deploy_alt\": 6000, \"freefall\": 7500, \"cut\": 0, \"jump_in_cut\": 1, \"ground\": 0}, {\"jump\": 2, \"exit_alt\": 13500, \"deploy_alt\": 6000, \"freefall\": 7500, \"cut\": 0, \"jump_in_cut\": 2, \"ground\": 0}, {\"jump\": 3, \"exit_alt\": 14000, \"deploy_alt\": 6000, \"freefall\": 8000, \"cut\": 0, \"jump_in_cut\": 3, \"ground\": 0}, {\"jump\": 4, \"exit_alt\": 13500, \"deploy_alt\": 6000, \"freefall\": 7500, \"cut\": 0, \"jump_in_cut\": 4, \"ground\": 0}, {\"jump\": 5, \"exit_alt\": 11000, \"deploy_alt\": 6000, \"freefall\": 5000, \"cut\": 0, \"jump_in_cut\": 5, \"ground\": 0}, {\"jump\": 6, \"exit_alt\": 12500, \"deploy_alt\": 4500, \"freefall\": 8000, \"cut\": 0, \"jump_in_cut\": 6, \"ground\": 0}, {\"jump\": 7, \"exit_alt\": 13000, \"deploy_alt\": 5000, \"freefall\": 8000, \"cut\": 0, \"jump_in_cut\": 7, \"ground\": 0}, {\"jump\": 8, \"exit_alt\": 13500, \"deploy_alt\": 6000, \"freefall\": 7500, \"cut\": 0, \"jump_in_cut\": 8, \"ground\": 0}, {\"jump\": 9, \"exit_alt\": 13500, \"deploy_alt\": 4000, \"freefall\": 9500, \"cut\": 0, \"jump_in_cut\": 9, \"ground\": 0}, {\"jump\": 10, \"exit_alt\": 13500, \"deploy_alt\": 4000, \"freefall\": 9500, \"cut\": 0, \"jump_in_cut\": 10, \"ground\": 0}, {\"jump\": 11, \"exit_alt\": 13500, \"deploy_alt\": 4000, \"freefall\": 9500, \"cut\": 0, \"jump_in_cut\": 11, \"ground\": 0}, {\"jump\": 12, \"exit_alt\": 5500, \"deploy_alt\": 5000, \"freefall\": 500, \"cut\": 0, \"jump_in_cut\": 12, \"ground\": 0}, {\"jump\": 13, \"exit_alt\": 3500, \"deploy_alt\": 3000, \"freefall\": 500, \"cut\": 0, \"jump_in_cut\": 13, \"ground\": 0}, {\"jump\": 14, \"exit_alt\": 13500, \"deploy_alt\": 5500, \"freefall\": 8000, \"cut\": 0, \"jump_in_cut\": 14, \"ground\": 0}, {\"jump\": 15, \"exit_alt\": 14000, \"deploy_alt\": 4500, \"freefall\": 9500, \"cut\": 0, \"jump_in_cut\": 15, \"ground\": 0}, {\"jump\": 16, \"exit_alt\": 14000, \"deploy_alt\": 4500, \"freefall\": 9500, \"cut\": 0, \"jump_in_cut\": 16, \"ground\": 0}, {\"jump\": 17, \"exit_alt\": 14000, \"deploy_alt\": 4500, \"freefall\": 9500, \"cut\": 0, \"jump_in_cut\": 17, \"ground\": 0}, {\"jump\": 18, \"exit_alt\": 13500, \"deploy_alt\": 4000, \"freefall\": 9500, \"cut\": 0, \"jump_in_cut\": 18, \"ground\": 0}, {\"jump\": 19, \"exit_alt\": 13500, \"deploy_alt\": 4000, \"freefall\": 9500, \"cut\": 0, \"jump_in_cut\": 19, \"ground\": 0}, {\"jump\": 20, \"exit_alt\": 13500, \"deploy_alt\": 4000, \"freefall\": 9500, \"cut\": 0, \"jump_in_cut\": 20, \"ground\": 0}, {\"jump\": 21, \"exit_alt\": 13500, \"deploy_alt\": 4000, \"freefall\": 9500, \"cut\": 0, \"jump_in_cut\": 21, \"ground\": 0}, {\"jump\": 22, \"exit_alt\": 14000, \"deploy_alt\": 4500, \"freefall\": 9500, \"cut\": 0, \"jump_in_cut\": 22, \"ground\": 0}, {\"jump\": 23, \"exit_alt\": 13500, \"deploy_alt\": 4000, \"freefall\": 9500, \"cut\": 0, \"jump_in_cut\": 23, \"ground\": 0}, {\"jump\": 24, \"exit_alt\": 13500, \"deploy_alt\": 5500, \"freefall\": 8000, \"cut\": 0, \"jump_in_cut\": 24, \"ground\": 0}, {\"jump\": 25, \"exit_alt\": 13500, \"deploy_alt\": 4000, \"freefall\": 9500, \"cut\": 0, \"jump_in_cut\": 25, \"ground\": 0}, {\"jump\": 26, \"exit_alt\": 7000, \"deploy_alt\": 4000, \"freefall\": 3000, \"cut\": 0, \"jump_in_cut\": 26, \"ground\": 0}, {\"jump\": 27, \"exit_alt\": 14000, \"deploy_alt\": 4000, \"freefall\": 10000, \"cut\": 0, \"jump_in_cut\": 27, \"ground\": 0}, {\"jump\": 28, \"exit_alt\": 13500, \"deploy_alt\": 5000, \"freefall\": 8500, \"cut\": 0, \"jump_in_cut\": 28, \"ground\": 0}, {\"jump\": 29, \"exit_alt\": 13500, \"deploy_alt\": 4500, \"freefall\": 9000, \"cut\": 0, \"jump_in_cut\": 29, \"ground\": 0}, {\"jump\": 30, \"exit_alt\": 13500, \"deploy_alt\": 4500, \"freefall\": 9000, \"cut\": 0, \"jump_in_cut\": 30, \"ground\": 0}, {\"jump\": 31, \"exit_alt\": 14000, \"deploy_alt\": 4500, \"freefall\": 9500, \"cut\": 0, \"jump_in_cut\": 31, \"ground\": 0}, {\"jump\": 32, \"exit_alt\": 14000, \"deploy_alt\": 4500, \"freefall\": 9500, \"cut\": 0, \"jump_in_cut\": 32, \"ground\": 0}, {\"jump\": 33, \"exit_alt\": 7000, \"deploy_alt\": 4500, \"freefall\": 2500, \"cut\": 0, \"jump_in_cut\": 33, \"ground\": 0}, {\"jump\": 34, \"exit_alt\": 6000, \"deploy_alt\": 4000, \"freefall\": 2000, \"cut\": 0, \"jump_in_cut\": 34, \"ground\": 0}, {\"jump\": 35, \"exit_alt\": 14000, \"deploy_alt\": 5000, \"freefall\": 9000, \"cut\": 0, \"jump_in_cut\": 35, \"ground\": 0}, {\"jump\": 36, \"exit_alt\": 14000, \"deploy_alt\": 5000, \"freefall\": 9000, \"cut\": 0, \"jump_in_cut\": 36, \"ground\": 0}, {\"jump\": 37, \"exit_alt\": 5500, \"deploy_alt\": 4000, \"freefall\": 1500, \"cut\": 0, \"jump_in_cut\": 37, \"ground\": 0}, {\"jump\": 38, \"exit_alt\": 14000, \"deploy_alt\": 4000, \"freefall\": 10000, \"cut\": 0, \"jump_in_cut\": 38, \"ground\": 0}, {\"jump\": 39, \"exit_alt\": 14000, \"deploy_alt\": 3500, \"freefall\": 10500, \"cut\": 0, \"jump_in_cut\": 39, \"ground\": 0}, {\"jump\": 40, \"exit_alt\": 5000, \"deploy_alt\": 3000, \"freefall\": 2000, \"cut\": 0, \"jump_in_cut\": 40, \"ground\": 0}, {\"jump\": 41, \"exit_alt\": 13500, \"deploy_alt\": 3000, \"freefall\": 10500, \"cut\": 0, \"jump_in_cut\": 41, \"ground\": 0}, {\"jump\": 42, \"exit_alt\": 13500, \"deploy_alt\": 3500, \"freefall\": 10000, \"cut\": 0, \"jump_in_cut\": 42, \"ground\": 0}, {\"jump\": 43, \"exit_alt\": 13500, \"deploy_alt\": 3500, \"freefall\": 10000, \"cut\": 0, \"jump_in_cut\": 43, \"ground\": 0}, {\"jump\": 44, \"exit_alt\": 13500, \"deploy_alt\": 3500, \"freefall\": 10000, \"cut\": 0, \"jump_in_cut\": 44, \"ground\": 0}, {\"jump\": 45, \"exit_alt\": 13500, \"deploy_alt\": 3000, \"freefall\": 10500, \"cut\": 0, \"jump_in_cut\": 45, \"ground\": 0}, {\"jump\": 46, \"exit_alt\": 13000, \"deploy_alt\": 4000, \"freefall\": 9000, \"cut\": 0, \"jump_in_cut\": 46, \"ground\": 0}, {\"jump\": 47, \"exit_alt\": 13500, \"deploy_alt\": 6000, \"freefall\": 7500, \"cut\": 0, \"jump_in_cut\": 47, \"ground\": 0}, {\"jump\": 48, \"exit_alt\": 15000, \"deploy_alt\": 3500, \"freefall\": 11500, \"cut\": 0, \"jump_in_cut\": 48, \"ground\": 0}, {\"jump\": 49, \"exit_alt\": 14000, \"deploy_alt\": 4000, \"freefall\": 10000, \"cut\": 0, \"jump_in_cut\": 49, \"ground\": 0}, {\"jump\": 50, \"exit_alt\": 14000, \"deploy_alt\": 3500, \"freefall\": 10500, \"cut\": 1, \"jump_in_cut\": 0, \"ground\": 0}]}}, {\"mode\": \"vega-lite\"});\n",
       "</script>"
      ],
      "text/plain": [
       "alt.LayerChart(...)"
      ]
     },
     "execution_count": 14,
     "metadata": {},
     "output_type": "execute_result"
    }
   ],
   "source": [
    "top = alt.Chart(eli50).mark_rule(size=3).encode(\n",
    "    x='jump',\n",
    "    y='deploy_alt',\n",
    "    y2='exit_alt'\n",
    ")\n",
    "\n",
    "bottom = alt.Chart(eli50).mark_rule(size=1).encode(\n",
    "    x='jump',\n",
    "    y='deploy_alt',\n",
    "    y2='ground'\n",
    ")\n",
    "\n",
    "top + bottom"
   ]
  },
  {
   "cell_type": "markdown",
   "metadata": {},
   "source": [
    "<img src=\"../images/less.gif\" alt=\"choose\" width=\"400\">"
   ]
  },
  {
   "cell_type": "code",
   "execution_count": 19,
   "metadata": {},
   "outputs": [
    {
     "data": {
      "text/html": [
       "\n",
       "<div id=\"altair-viz-2b588d89de624c2ba3c893a543465ef3\"></div>\n",
       "<script type=\"text/javascript\">\n",
       "  (function(spec, embedOpt){\n",
       "    const outputDiv = document.getElementById(\"altair-viz-2b588d89de624c2ba3c893a543465ef3\");\n",
       "    const paths = {\n",
       "      \"vega\": \"https://cdn.jsdelivr.net/npm//vega@5?noext\",\n",
       "      \"vega-lib\": \"https://cdn.jsdelivr.net/npm//vega-lib?noext\",\n",
       "      \"vega-lite\": \"https://cdn.jsdelivr.net/npm//vega-lite@4.0.2?noext\",\n",
       "      \"vega-embed\": \"https://cdn.jsdelivr.net/npm//vega-embed@6?noext\",\n",
       "    };\n",
       "\n",
       "    function loadScript(lib) {\n",
       "      return new Promise(function(resolve, reject) {\n",
       "        var s = document.createElement('script');\n",
       "        s.src = paths[lib];\n",
       "        s.async = true;\n",
       "        s.onload = () => resolve(paths[lib]);\n",
       "        s.onerror = () => reject(`Error loading script: ${paths[lib]}`);\n",
       "        document.getElementsByTagName(\"head\")[0].appendChild(s);\n",
       "      });\n",
       "    }\n",
       "\n",
       "    function showError(err) {\n",
       "      outputDiv.innerHTML = `<div class=\"error\" style=\"color:red;\">${err}</div>`;\n",
       "      throw err;\n",
       "    }\n",
       "\n",
       "    function displayChart(vegaEmbed) {\n",
       "      vegaEmbed(outputDiv, spec, embedOpt)\n",
       "        .catch(err => showError(`Javascript Error: ${err.message}<br>This usually means there's a typo in your chart specification. See the javascript console for the full traceback.`));\n",
       "    }\n",
       "\n",
       "    if(typeof define === \"function\" && define.amd) {\n",
       "      requirejs.config({paths});\n",
       "      require([\"vega-embed\"], displayChart, err => showError(`Error loading script: ${err.message}`));\n",
       "    } else if (typeof vegaEmbed === \"function\") {\n",
       "      displayChart(vegaEmbed);\n",
       "    } else {\n",
       "      loadScript(\"vega\")\n",
       "        .then(() => loadScript(\"vega-lite\"))\n",
       "        .then(() => loadScript(\"vega-embed\"))\n",
       "        .catch(showError)\n",
       "        .then(() => displayChart(vegaEmbed));\n",
       "    }\n",
       "  })({\"config\": {\"view\": {\"continuousWidth\": 400, \"continuousHeight\": 300, \"strokeWidth\": 0}, \"axis\": {\"grid\": false}}, \"layer\": [{\"mark\": {\"type\": \"rule\", \"size\": 3}, \"encoding\": {\"x\": {\"type\": \"quantitative\", \"axis\": null, \"field\": \"jump\"}, \"y\": {\"type\": \"quantitative\", \"axis\": null, \"field\": \"deploy_alt\"}, \"y2\": {\"field\": \"exit_alt\"}}}, {\"mark\": {\"type\": \"rule\", \"size\": 1}, \"encoding\": {\"x\": {\"type\": \"quantitative\", \"axis\": null, \"field\": \"jump_in_cut\"}, \"y\": {\"type\": \"quantitative\", \"axis\": null, \"field\": \"deploy_alt\"}, \"y2\": {\"field\": \"ground\"}}}], \"data\": {\"name\": \"data-9b1c7acbb849adc132b64697ba9cab7e\"}, \"height\": 80, \"$schema\": \"https://vega.github.io/schema/vega-lite/v4.0.2.json\", \"datasets\": {\"data-9b1c7acbb849adc132b64697ba9cab7e\": [{\"jump\": 1, \"exit_alt\": 13500, \"deploy_alt\": 6000, \"freefall\": 7500, \"cut\": 0, \"jump_in_cut\": 1, \"ground\": 0}, {\"jump\": 2, \"exit_alt\": 13500, \"deploy_alt\": 6000, \"freefall\": 7500, \"cut\": 0, \"jump_in_cut\": 2, \"ground\": 0}, {\"jump\": 3, \"exit_alt\": 14000, \"deploy_alt\": 6000, \"freefall\": 8000, \"cut\": 0, \"jump_in_cut\": 3, \"ground\": 0}, {\"jump\": 4, \"exit_alt\": 13500, \"deploy_alt\": 6000, \"freefall\": 7500, \"cut\": 0, \"jump_in_cut\": 4, \"ground\": 0}, {\"jump\": 5, \"exit_alt\": 11000, \"deploy_alt\": 6000, \"freefall\": 5000, \"cut\": 0, \"jump_in_cut\": 5, \"ground\": 0}, {\"jump\": 6, \"exit_alt\": 12500, \"deploy_alt\": 4500, \"freefall\": 8000, \"cut\": 0, \"jump_in_cut\": 6, \"ground\": 0}, {\"jump\": 7, \"exit_alt\": 13000, \"deploy_alt\": 5000, \"freefall\": 8000, \"cut\": 0, \"jump_in_cut\": 7, \"ground\": 0}, {\"jump\": 8, \"exit_alt\": 13500, \"deploy_alt\": 6000, \"freefall\": 7500, \"cut\": 0, \"jump_in_cut\": 8, \"ground\": 0}, {\"jump\": 9, \"exit_alt\": 13500, \"deploy_alt\": 4000, \"freefall\": 9500, \"cut\": 0, \"jump_in_cut\": 9, \"ground\": 0}, {\"jump\": 10, \"exit_alt\": 13500, \"deploy_alt\": 4000, \"freefall\": 9500, \"cut\": 0, \"jump_in_cut\": 10, \"ground\": 0}, {\"jump\": 11, \"exit_alt\": 13500, \"deploy_alt\": 4000, \"freefall\": 9500, \"cut\": 0, \"jump_in_cut\": 11, \"ground\": 0}, {\"jump\": 12, \"exit_alt\": 5500, \"deploy_alt\": 5000, \"freefall\": 500, \"cut\": 0, \"jump_in_cut\": 12, \"ground\": 0}, {\"jump\": 13, \"exit_alt\": 3500, \"deploy_alt\": 3000, \"freefall\": 500, \"cut\": 0, \"jump_in_cut\": 13, \"ground\": 0}, {\"jump\": 14, \"exit_alt\": 13500, \"deploy_alt\": 5500, \"freefall\": 8000, \"cut\": 0, \"jump_in_cut\": 14, \"ground\": 0}, {\"jump\": 15, \"exit_alt\": 14000, \"deploy_alt\": 4500, \"freefall\": 9500, \"cut\": 0, \"jump_in_cut\": 15, \"ground\": 0}, {\"jump\": 16, \"exit_alt\": 14000, \"deploy_alt\": 4500, \"freefall\": 9500, \"cut\": 0, \"jump_in_cut\": 16, \"ground\": 0}, {\"jump\": 17, \"exit_alt\": 14000, \"deploy_alt\": 4500, \"freefall\": 9500, \"cut\": 0, \"jump_in_cut\": 17, \"ground\": 0}, {\"jump\": 18, \"exit_alt\": 13500, \"deploy_alt\": 4000, \"freefall\": 9500, \"cut\": 0, \"jump_in_cut\": 18, \"ground\": 0}, {\"jump\": 19, \"exit_alt\": 13500, \"deploy_alt\": 4000, \"freefall\": 9500, \"cut\": 0, \"jump_in_cut\": 19, \"ground\": 0}, {\"jump\": 20, \"exit_alt\": 13500, \"deploy_alt\": 4000, \"freefall\": 9500, \"cut\": 0, \"jump_in_cut\": 20, \"ground\": 0}, {\"jump\": 21, \"exit_alt\": 13500, \"deploy_alt\": 4000, \"freefall\": 9500, \"cut\": 0, \"jump_in_cut\": 21, \"ground\": 0}, {\"jump\": 22, \"exit_alt\": 14000, \"deploy_alt\": 4500, \"freefall\": 9500, \"cut\": 0, \"jump_in_cut\": 22, \"ground\": 0}, {\"jump\": 23, \"exit_alt\": 13500, \"deploy_alt\": 4000, \"freefall\": 9500, \"cut\": 0, \"jump_in_cut\": 23, \"ground\": 0}, {\"jump\": 24, \"exit_alt\": 13500, \"deploy_alt\": 5500, \"freefall\": 8000, \"cut\": 0, \"jump_in_cut\": 24, \"ground\": 0}, {\"jump\": 25, \"exit_alt\": 13500, \"deploy_alt\": 4000, \"freefall\": 9500, \"cut\": 0, \"jump_in_cut\": 25, \"ground\": 0}, {\"jump\": 26, \"exit_alt\": 7000, \"deploy_alt\": 4000, \"freefall\": 3000, \"cut\": 0, \"jump_in_cut\": 26, \"ground\": 0}, {\"jump\": 27, \"exit_alt\": 14000, \"deploy_alt\": 4000, \"freefall\": 10000, \"cut\": 0, \"jump_in_cut\": 27, \"ground\": 0}, {\"jump\": 28, \"exit_alt\": 13500, \"deploy_alt\": 5000, \"freefall\": 8500, \"cut\": 0, \"jump_in_cut\": 28, \"ground\": 0}, {\"jump\": 29, \"exit_alt\": 13500, \"deploy_alt\": 4500, \"freefall\": 9000, \"cut\": 0, \"jump_in_cut\": 29, \"ground\": 0}, {\"jump\": 30, \"exit_alt\": 13500, \"deploy_alt\": 4500, \"freefall\": 9000, \"cut\": 0, \"jump_in_cut\": 30, \"ground\": 0}, {\"jump\": 31, \"exit_alt\": 14000, \"deploy_alt\": 4500, \"freefall\": 9500, \"cut\": 0, \"jump_in_cut\": 31, \"ground\": 0}, {\"jump\": 32, \"exit_alt\": 14000, \"deploy_alt\": 4500, \"freefall\": 9500, \"cut\": 0, \"jump_in_cut\": 32, \"ground\": 0}, {\"jump\": 33, \"exit_alt\": 7000, \"deploy_alt\": 4500, \"freefall\": 2500, \"cut\": 0, \"jump_in_cut\": 33, \"ground\": 0}, {\"jump\": 34, \"exit_alt\": 6000, \"deploy_alt\": 4000, \"freefall\": 2000, \"cut\": 0, \"jump_in_cut\": 34, \"ground\": 0}, {\"jump\": 35, \"exit_alt\": 14000, \"deploy_alt\": 5000, \"freefall\": 9000, \"cut\": 0, \"jump_in_cut\": 35, \"ground\": 0}, {\"jump\": 36, \"exit_alt\": 14000, \"deploy_alt\": 5000, \"freefall\": 9000, \"cut\": 0, \"jump_in_cut\": 36, \"ground\": 0}, {\"jump\": 37, \"exit_alt\": 5500, \"deploy_alt\": 4000, \"freefall\": 1500, \"cut\": 0, \"jump_in_cut\": 37, \"ground\": 0}, {\"jump\": 38, \"exit_alt\": 14000, \"deploy_alt\": 4000, \"freefall\": 10000, \"cut\": 0, \"jump_in_cut\": 38, \"ground\": 0}, {\"jump\": 39, \"exit_alt\": 14000, \"deploy_alt\": 3500, \"freefall\": 10500, \"cut\": 0, \"jump_in_cut\": 39, \"ground\": 0}, {\"jump\": 40, \"exit_alt\": 5000, \"deploy_alt\": 3000, \"freefall\": 2000, \"cut\": 0, \"jump_in_cut\": 40, \"ground\": 0}, {\"jump\": 41, \"exit_alt\": 13500, \"deploy_alt\": 3000, \"freefall\": 10500, \"cut\": 0, \"jump_in_cut\": 41, \"ground\": 0}, {\"jump\": 42, \"exit_alt\": 13500, \"deploy_alt\": 3500, \"freefall\": 10000, \"cut\": 0, \"jump_in_cut\": 42, \"ground\": 0}, {\"jump\": 43, \"exit_alt\": 13500, \"deploy_alt\": 3500, \"freefall\": 10000, \"cut\": 0, \"jump_in_cut\": 43, \"ground\": 0}, {\"jump\": 44, \"exit_alt\": 13500, \"deploy_alt\": 3500, \"freefall\": 10000, \"cut\": 0, \"jump_in_cut\": 44, \"ground\": 0}, {\"jump\": 45, \"exit_alt\": 13500, \"deploy_alt\": 3000, \"freefall\": 10500, \"cut\": 0, \"jump_in_cut\": 45, \"ground\": 0}, {\"jump\": 46, \"exit_alt\": 13000, \"deploy_alt\": 4000, \"freefall\": 9000, \"cut\": 0, \"jump_in_cut\": 46, \"ground\": 0}, {\"jump\": 47, \"exit_alt\": 13500, \"deploy_alt\": 6000, \"freefall\": 7500, \"cut\": 0, \"jump_in_cut\": 47, \"ground\": 0}, {\"jump\": 48, \"exit_alt\": 15000, \"deploy_alt\": 3500, \"freefall\": 11500, \"cut\": 0, \"jump_in_cut\": 48, \"ground\": 0}, {\"jump\": 49, \"exit_alt\": 14000, \"deploy_alt\": 4000, \"freefall\": 10000, \"cut\": 0, \"jump_in_cut\": 49, \"ground\": 0}, {\"jump\": 50, \"exit_alt\": 14000, \"deploy_alt\": 3500, \"freefall\": 10500, \"cut\": 1, \"jump_in_cut\": 0, \"ground\": 0}]}}, {\"mode\": \"vega-lite\"});\n",
       "</script>"
      ],
      "text/plain": [
       "alt.LayerChart(...)"
      ]
     },
     "execution_count": 19,
     "metadata": {},
     "output_type": "execute_result"
    }
   ],
   "source": [
    "top = alt.Chart(eli50).mark_rule(size=3).encode(\n",
    "    x=alt.X('jump', axis=None),\n",
    "    y=alt.Y('deploy_alt', axis=None),\n",
    "    y2=alt.Y2('exit_alt'),\n",
    ")\n",
    "\n",
    "bottom = alt.Chart(eli50).mark_rule(size=1).encode(\n",
    "    x=alt.X('jump_in_cut', axis=None),\n",
    "    y=alt.Y('deploy_alt', axis=None),\n",
    "    y2=alt.Y2('ground')\n",
    ")\n",
    "\n",
    "chart = (\n",
    "    (top + bottom)\n",
    "    .properties(height=80)\n",
    "    .configure_axis(grid=False)\n",
    "    .configure_view(strokeWidth=0)\n",
    ")\n",
    "\n",
    "chart"
   ]
  },
  {
   "cell_type": "markdown",
   "metadata": {},
   "source": [
    "#### Plot Everything"
   ]
  },
  {
   "cell_type": "code",
   "execution_count": 21,
   "metadata": {},
   "outputs": [],
   "source": [
    "eli['cut'] = eli['jump'] // 50\n",
    "eli['jump_in_cut'] = eli['jump'] % 50\n",
    "eli['ground'] = 0"
   ]
  },
  {
   "cell_type": "code",
   "execution_count": 22,
   "metadata": {},
   "outputs": [
    {
     "data": {
      "text/html": [
       "\n",
       "<div id=\"altair-viz-a9552e9f82ad4f47a5df918ef2760e18\"></div>\n",
       "<script type=\"text/javascript\">\n",
       "  (function(spec, embedOpt){\n",
       "    const outputDiv = document.getElementById(\"altair-viz-a9552e9f82ad4f47a5df918ef2760e18\");\n",
       "    const paths = {\n",
       "      \"vega\": \"https://cdn.jsdelivr.net/npm//vega@5?noext\",\n",
       "      \"vega-lib\": \"https://cdn.jsdelivr.net/npm//vega-lib?noext\",\n",
       "      \"vega-lite\": \"https://cdn.jsdelivr.net/npm//vega-lite@4.0.2?noext\",\n",
       "      \"vega-embed\": \"https://cdn.jsdelivr.net/npm//vega-embed@6?noext\",\n",
       "    };\n",
       "\n",
       "    function loadScript(lib) {\n",
       "      return new Promise(function(resolve, reject) {\n",
       "        var s = document.createElement('script');\n",
       "        s.src = paths[lib];\n",
       "        s.async = true;\n",
       "        s.onload = () => resolve(paths[lib]);\n",
       "        s.onerror = () => reject(`Error loading script: ${paths[lib]}`);\n",
       "        document.getElementsByTagName(\"head\")[0].appendChild(s);\n",
       "      });\n",
       "    }\n",
       "\n",
       "    function showError(err) {\n",
       "      outputDiv.innerHTML = `<div class=\"error\" style=\"color:red;\">${err}</div>`;\n",
       "      throw err;\n",
       "    }\n",
       "\n",
       "    function displayChart(vegaEmbed) {\n",
       "      vegaEmbed(outputDiv, spec, embedOpt)\n",
       "        .catch(err => showError(`Javascript Error: ${err.message}<br>This usually means there's a typo in your chart specification. See the javascript console for the full traceback.`));\n",
       "    }\n",
       "\n",
       "    if(typeof define === \"function\" && define.amd) {\n",
       "      requirejs.config({paths});\n",
       "      require([\"vega-embed\"], displayChart, err => showError(`Error loading script: ${err.message}`));\n",
       "    } else if (typeof vegaEmbed === \"function\") {\n",
       "      displayChart(vegaEmbed);\n",
       "    } else {\n",
       "      loadScript(\"vega\")\n",
       "        .then(() => loadScript(\"vega-lite\"))\n",
       "        .then(() => loadScript(\"vega-embed\"))\n",
       "        .catch(showError)\n",
       "        .then(() => displayChart(vegaEmbed));\n",
       "    }\n",
       "  })({\"config\": {\"view\": {\"continuousWidth\": 400, \"continuousHeight\": 300, \"strokeWidth\": 0}, \"axis\": {\"grid\": false}}, \"data\": {\"name\": \"data-dbba8783d0ca695423e2772ce7e396e7\"}, \"facet\": {\"row\": {\"type\": \"quantitative\", \"field\": \"cut\", \"title\": null}}, \"spec\": {\"layer\": [{\"mark\": {\"type\": \"rule\", \"size\": 3}, \"encoding\": {\"x\": {\"type\": \"quantitative\", \"axis\": null, \"field\": \"jump_in_cut\"}, \"y\": {\"type\": \"quantitative\", \"axis\": null, \"field\": \"deploy_alt\"}, \"y2\": {\"field\": \"exit_alt\"}}, \"height\": 80}, {\"mark\": {\"type\": \"rule\", \"size\": 1}, \"encoding\": {\"x\": {\"type\": \"quantitative\", \"axis\": null, \"field\": \"jump_in_cut\"}, \"y\": {\"type\": \"quantitative\", \"axis\": null, \"field\": \"deploy_alt\"}, \"y2\": {\"field\": \"ground\"}}, \"height\": 80}]}, \"$schema\": \"https://vega.github.io/schema/vega-lite/v4.0.2.json\", \"datasets\": {\"data-dbba8783d0ca695423e2772ce7e396e7\": [{\"jump\": 1, \"exit_alt\": 13500, \"deploy_alt\": 6000, \"freefall\": 7500, \"cut\": 0, \"jump_in_cut\": 1, \"ground\": 0}, {\"jump\": 2, \"exit_alt\": 13500, \"deploy_alt\": 6000, \"freefall\": 7500, \"cut\": 0, \"jump_in_cut\": 2, \"ground\": 0}, {\"jump\": 3, \"exit_alt\": 14000, \"deploy_alt\": 6000, \"freefall\": 8000, \"cut\": 0, \"jump_in_cut\": 3, \"ground\": 0}, {\"jump\": 4, \"exit_alt\": 13500, \"deploy_alt\": 6000, \"freefall\": 7500, \"cut\": 0, \"jump_in_cut\": 4, \"ground\": 0}, {\"jump\": 5, \"exit_alt\": 11000, \"deploy_alt\": 6000, \"freefall\": 5000, \"cut\": 0, \"jump_in_cut\": 5, \"ground\": 0}, {\"jump\": 6, \"exit_alt\": 12500, \"deploy_alt\": 4500, \"freefall\": 8000, \"cut\": 0, \"jump_in_cut\": 6, \"ground\": 0}, {\"jump\": 7, \"exit_alt\": 13000, \"deploy_alt\": 5000, \"freefall\": 8000, \"cut\": 0, \"jump_in_cut\": 7, \"ground\": 0}, {\"jump\": 8, \"exit_alt\": 13500, \"deploy_alt\": 6000, \"freefall\": 7500, \"cut\": 0, \"jump_in_cut\": 8, \"ground\": 0}, {\"jump\": 9, \"exit_alt\": 13500, \"deploy_alt\": 4000, \"freefall\": 9500, \"cut\": 0, \"jump_in_cut\": 9, \"ground\": 0}, {\"jump\": 10, \"exit_alt\": 13500, \"deploy_alt\": 4000, \"freefall\": 9500, \"cut\": 0, \"jump_in_cut\": 10, \"ground\": 0}, {\"jump\": 11, \"exit_alt\": 13500, \"deploy_alt\": 4000, \"freefall\": 9500, \"cut\": 0, \"jump_in_cut\": 11, \"ground\": 0}, {\"jump\": 12, \"exit_alt\": 5500, \"deploy_alt\": 5000, \"freefall\": 500, \"cut\": 0, \"jump_in_cut\": 12, \"ground\": 0}, {\"jump\": 13, \"exit_alt\": 3500, \"deploy_alt\": 3000, \"freefall\": 500, \"cut\": 0, \"jump_in_cut\": 13, \"ground\": 0}, {\"jump\": 14, \"exit_alt\": 13500, \"deploy_alt\": 5500, \"freefall\": 8000, \"cut\": 0, \"jump_in_cut\": 14, \"ground\": 0}, {\"jump\": 15, \"exit_alt\": 14000, \"deploy_alt\": 4500, \"freefall\": 9500, \"cut\": 0, \"jump_in_cut\": 15, \"ground\": 0}, {\"jump\": 16, \"exit_alt\": 14000, \"deploy_alt\": 4500, \"freefall\": 9500, \"cut\": 0, \"jump_in_cut\": 16, \"ground\": 0}, {\"jump\": 17, \"exit_alt\": 14000, \"deploy_alt\": 4500, \"freefall\": 9500, \"cut\": 0, \"jump_in_cut\": 17, \"ground\": 0}, {\"jump\": 18, \"exit_alt\": 13500, \"deploy_alt\": 4000, \"freefall\": 9500, \"cut\": 0, \"jump_in_cut\": 18, \"ground\": 0}, {\"jump\": 19, \"exit_alt\": 13500, \"deploy_alt\": 4000, \"freefall\": 9500, \"cut\": 0, \"jump_in_cut\": 19, \"ground\": 0}, {\"jump\": 20, \"exit_alt\": 13500, \"deploy_alt\": 4000, \"freefall\": 9500, \"cut\": 0, \"jump_in_cut\": 20, \"ground\": 0}, {\"jump\": 21, \"exit_alt\": 13500, \"deploy_alt\": 4000, \"freefall\": 9500, \"cut\": 0, \"jump_in_cut\": 21, \"ground\": 0}, {\"jump\": 22, \"exit_alt\": 14000, \"deploy_alt\": 4500, \"freefall\": 9500, \"cut\": 0, \"jump_in_cut\": 22, \"ground\": 0}, {\"jump\": 23, \"exit_alt\": 13500, \"deploy_alt\": 4000, \"freefall\": 9500, \"cut\": 0, \"jump_in_cut\": 23, \"ground\": 0}, {\"jump\": 24, \"exit_alt\": 13500, \"deploy_alt\": 5500, \"freefall\": 8000, \"cut\": 0, \"jump_in_cut\": 24, \"ground\": 0}, {\"jump\": 25, \"exit_alt\": 13500, \"deploy_alt\": 4000, \"freefall\": 9500, \"cut\": 0, \"jump_in_cut\": 25, \"ground\": 0}, {\"jump\": 26, \"exit_alt\": 7000, \"deploy_alt\": 4000, \"freefall\": 3000, \"cut\": 0, \"jump_in_cut\": 26, \"ground\": 0}, {\"jump\": 27, \"exit_alt\": 14000, \"deploy_alt\": 4000, \"freefall\": 10000, \"cut\": 0, \"jump_in_cut\": 27, \"ground\": 0}, {\"jump\": 28, \"exit_alt\": 13500, \"deploy_alt\": 5000, \"freefall\": 8500, \"cut\": 0, \"jump_in_cut\": 28, \"ground\": 0}, {\"jump\": 29, \"exit_alt\": 13500, \"deploy_alt\": 4500, \"freefall\": 9000, \"cut\": 0, \"jump_in_cut\": 29, \"ground\": 0}, {\"jump\": 30, \"exit_alt\": 13500, \"deploy_alt\": 4500, \"freefall\": 9000, \"cut\": 0, \"jump_in_cut\": 30, \"ground\": 0}, {\"jump\": 31, \"exit_alt\": 14000, \"deploy_alt\": 4500, \"freefall\": 9500, \"cut\": 0, \"jump_in_cut\": 31, \"ground\": 0}, {\"jump\": 32, \"exit_alt\": 14000, \"deploy_alt\": 4500, \"freefall\": 9500, \"cut\": 0, \"jump_in_cut\": 32, \"ground\": 0}, {\"jump\": 33, \"exit_alt\": 7000, \"deploy_alt\": 4500, \"freefall\": 2500, \"cut\": 0, \"jump_in_cut\": 33, \"ground\": 0}, {\"jump\": 34, \"exit_alt\": 6000, \"deploy_alt\": 4000, \"freefall\": 2000, \"cut\": 0, \"jump_in_cut\": 34, \"ground\": 0}, {\"jump\": 35, \"exit_alt\": 14000, \"deploy_alt\": 5000, \"freefall\": 9000, \"cut\": 0, \"jump_in_cut\": 35, \"ground\": 0}, {\"jump\": 36, \"exit_alt\": 14000, \"deploy_alt\": 5000, \"freefall\": 9000, \"cut\": 0, \"jump_in_cut\": 36, \"ground\": 0}, {\"jump\": 37, \"exit_alt\": 5500, \"deploy_alt\": 4000, \"freefall\": 1500, \"cut\": 0, \"jump_in_cut\": 37, \"ground\": 0}, {\"jump\": 38, \"exit_alt\": 14000, \"deploy_alt\": 4000, \"freefall\": 10000, \"cut\": 0, \"jump_in_cut\": 38, \"ground\": 0}, {\"jump\": 39, \"exit_alt\": 14000, \"deploy_alt\": 3500, \"freefall\": 10500, \"cut\": 0, \"jump_in_cut\": 39, \"ground\": 0}, {\"jump\": 40, \"exit_alt\": 5000, \"deploy_alt\": 3000, \"freefall\": 2000, \"cut\": 0, \"jump_in_cut\": 40, \"ground\": 0}, {\"jump\": 41, \"exit_alt\": 13500, \"deploy_alt\": 3000, \"freefall\": 10500, \"cut\": 0, \"jump_in_cut\": 41, \"ground\": 0}, {\"jump\": 42, \"exit_alt\": 13500, \"deploy_alt\": 3500, \"freefall\": 10000, \"cut\": 0, \"jump_in_cut\": 42, \"ground\": 0}, {\"jump\": 43, \"exit_alt\": 13500, \"deploy_alt\": 3500, \"freefall\": 10000, \"cut\": 0, \"jump_in_cut\": 43, \"ground\": 0}, {\"jump\": 44, \"exit_alt\": 13500, \"deploy_alt\": 3500, \"freefall\": 10000, \"cut\": 0, \"jump_in_cut\": 44, \"ground\": 0}, {\"jump\": 45, \"exit_alt\": 13500, \"deploy_alt\": 3000, \"freefall\": 10500, \"cut\": 0, \"jump_in_cut\": 45, \"ground\": 0}, {\"jump\": 46, \"exit_alt\": 13000, \"deploy_alt\": 4000, \"freefall\": 9000, \"cut\": 0, \"jump_in_cut\": 46, \"ground\": 0}, {\"jump\": 47, \"exit_alt\": 13500, \"deploy_alt\": 6000, \"freefall\": 7500, \"cut\": 0, \"jump_in_cut\": 47, \"ground\": 0}, {\"jump\": 48, \"exit_alt\": 15000, \"deploy_alt\": 3500, \"freefall\": 11500, \"cut\": 0, \"jump_in_cut\": 48, \"ground\": 0}, {\"jump\": 49, \"exit_alt\": 14000, \"deploy_alt\": 4000, \"freefall\": 10000, \"cut\": 0, \"jump_in_cut\": 49, \"ground\": 0}, {\"jump\": 50, \"exit_alt\": 14000, \"deploy_alt\": 3500, \"freefall\": 10500, \"cut\": 1, \"jump_in_cut\": 0, \"ground\": 0}, {\"jump\": 51, \"exit_alt\": 13500, \"deploy_alt\": 3500, \"freefall\": 10000, \"cut\": 1, \"jump_in_cut\": 1, \"ground\": 0}, {\"jump\": 52, \"exit_alt\": 13500, \"deploy_alt\": 4000, \"freefall\": 9500, \"cut\": 1, \"jump_in_cut\": 2, \"ground\": 0}, {\"jump\": 53, \"exit_alt\": 13500, \"deploy_alt\": 4000, \"freefall\": 9500, \"cut\": 1, \"jump_in_cut\": 3, \"ground\": 0}, {\"jump\": 54, \"exit_alt\": 13500, \"deploy_alt\": 4000, \"freefall\": 9500, \"cut\": 1, \"jump_in_cut\": 4, \"ground\": 0}, {\"jump\": 55, \"exit_alt\": 13500, \"deploy_alt\": 4000, \"freefall\": 9500, \"cut\": 1, \"jump_in_cut\": 5, \"ground\": 0}, {\"jump\": 56, \"exit_alt\": 13500, \"deploy_alt\": 4000, \"freefall\": 9500, \"cut\": 1, \"jump_in_cut\": 6, \"ground\": 0}, {\"jump\": 57, \"exit_alt\": 14500, \"deploy_alt\": 4500, \"freefall\": 10000, \"cut\": 1, \"jump_in_cut\": 7, \"ground\": 0}, {\"jump\": 58, \"exit_alt\": 13500, \"deploy_alt\": 4500, \"freefall\": 9000, \"cut\": 1, \"jump_in_cut\": 8, \"ground\": 0}, {\"jump\": 59, \"exit_alt\": 13500, \"deploy_alt\": 4500, \"freefall\": 9000, \"cut\": 1, \"jump_in_cut\": 9, \"ground\": 0}, {\"jump\": 60, \"exit_alt\": 13500, \"deploy_alt\": 5000, \"freefall\": 8500, \"cut\": 1, \"jump_in_cut\": 10, \"ground\": 0}, {\"jump\": 61, \"exit_alt\": 13500, \"deploy_alt\": 3500, \"freefall\": 10000, \"cut\": 1, \"jump_in_cut\": 11, \"ground\": 0}, {\"jump\": 62, \"exit_alt\": 13500, \"deploy_alt\": 3500, \"freefall\": 10000, \"cut\": 1, \"jump_in_cut\": 12, \"ground\": 0}, {\"jump\": 63, \"exit_alt\": 13500, \"deploy_alt\": 3500, \"freefall\": 10000, \"cut\": 1, \"jump_in_cut\": 13, \"ground\": 0}, {\"jump\": 64, \"exit_alt\": 13500, \"deploy_alt\": 3500, \"freefall\": 10000, \"cut\": 1, \"jump_in_cut\": 14, \"ground\": 0}, {\"jump\": 65, \"exit_alt\": 13500, \"deploy_alt\": 3500, \"freefall\": 10000, \"cut\": 1, \"jump_in_cut\": 15, \"ground\": 0}, {\"jump\": 66, \"exit_alt\": 13500, \"deploy_alt\": 3500, \"freefall\": 10000, \"cut\": 1, \"jump_in_cut\": 16, \"ground\": 0}, {\"jump\": 67, \"exit_alt\": 5000, \"deploy_alt\": 4500, \"freefall\": 500, \"cut\": 1, \"jump_in_cut\": 17, \"ground\": 0}, {\"jump\": 68, \"exit_alt\": 5000, \"deploy_alt\": 4500, \"freefall\": 500, \"cut\": 1, \"jump_in_cut\": 18, \"ground\": 0}, {\"jump\": 69, \"exit_alt\": 13500, \"deploy_alt\": 6000, \"freefall\": 7500, \"cut\": 1, \"jump_in_cut\": 19, \"ground\": 0}, {\"jump\": 70, \"exit_alt\": 13500, \"deploy_alt\": 4000, \"freefall\": 9500, \"cut\": 1, \"jump_in_cut\": 20, \"ground\": 0}, {\"jump\": 71, \"exit_alt\": 14000, \"deploy_alt\": 4000, \"freefall\": 10000, \"cut\": 1, \"jump_in_cut\": 21, \"ground\": 0}, {\"jump\": 72, \"exit_alt\": 14000, \"deploy_alt\": 3500, \"freefall\": 10500, \"cut\": 1, \"jump_in_cut\": 22, \"ground\": 0}, {\"jump\": 73, \"exit_alt\": 5000, \"deploy_alt\": 4000, \"freefall\": 1000, \"cut\": 1, \"jump_in_cut\": 23, \"ground\": 0}, {\"jump\": 74, \"exit_alt\": 13500, \"deploy_alt\": 3500, \"freefall\": 10000, \"cut\": 1, \"jump_in_cut\": 24, \"ground\": 0}, {\"jump\": 75, \"exit_alt\": 13500, \"deploy_alt\": 3500, \"freefall\": 10000, \"cut\": 1, \"jump_in_cut\": 25, \"ground\": 0}, {\"jump\": 76, \"exit_alt\": 13500, \"deploy_alt\": 3500, \"freefall\": 10000, \"cut\": 1, \"jump_in_cut\": 26, \"ground\": 0}, {\"jump\": 77, \"exit_alt\": 13500, \"deploy_alt\": 3000, \"freefall\": 10500, \"cut\": 1, \"jump_in_cut\": 27, \"ground\": 0}, {\"jump\": 78, \"exit_alt\": 13500, \"deploy_alt\": 6000, \"freefall\": 7500, \"cut\": 1, \"jump_in_cut\": 28, \"ground\": 0}, {\"jump\": 79, \"exit_alt\": 9500, \"deploy_alt\": 4000, \"freefall\": 5500, \"cut\": 1, \"jump_in_cut\": 29, \"ground\": 0}, {\"jump\": 80, \"exit_alt\": 9500, \"deploy_alt\": 4000, \"freefall\": 5500, \"cut\": 1, \"jump_in_cut\": 30, \"ground\": 0}, {\"jump\": 81, \"exit_alt\": 10500, \"deploy_alt\": 4000, \"freefall\": 6500, \"cut\": 1, \"jump_in_cut\": 31, \"ground\": 0}, {\"jump\": 82, \"exit_alt\": 9500, \"deploy_alt\": 4000, \"freefall\": 5500, \"cut\": 1, \"jump_in_cut\": 32, \"ground\": 0}, {\"jump\": 83, \"exit_alt\": 13500, \"deploy_alt\": 3500, \"freefall\": 10000, \"cut\": 1, \"jump_in_cut\": 33, \"ground\": 0}, {\"jump\": 84, \"exit_alt\": 13500, \"deploy_alt\": 3500, \"freefall\": 10000, \"cut\": 1, \"jump_in_cut\": 34, \"ground\": 0}, {\"jump\": 85, \"exit_alt\": 13500, \"deploy_alt\": 3500, \"freefall\": 10000, \"cut\": 1, \"jump_in_cut\": 35, \"ground\": 0}, {\"jump\": 86, \"exit_alt\": 13500, \"deploy_alt\": 3500, \"freefall\": 10000, \"cut\": 1, \"jump_in_cut\": 36, \"ground\": 0}, {\"jump\": 87, \"exit_alt\": 13500, \"deploy_alt\": 3500, \"freefall\": 10000, \"cut\": 1, \"jump_in_cut\": 37, \"ground\": 0}, {\"jump\": 88, \"exit_alt\": 13500, \"deploy_alt\": 3500, \"freefall\": 10000, \"cut\": 1, \"jump_in_cut\": 38, \"ground\": 0}, {\"jump\": 89, \"exit_alt\": 10500, \"deploy_alt\": 3500, \"freefall\": 7000, \"cut\": 1, \"jump_in_cut\": 39, \"ground\": 0}, {\"jump\": 90, \"exit_alt\": 10500, \"deploy_alt\": 1000, \"freefall\": 9500, \"cut\": 1, \"jump_in_cut\": 40, \"ground\": 0}, {\"jump\": 91, \"exit_alt\": 13500, \"deploy_alt\": 8000, \"freefall\": 5500, \"cut\": 1, \"jump_in_cut\": 41, \"ground\": 0}, {\"jump\": 92, \"exit_alt\": 13500, \"deploy_alt\": 3500, \"freefall\": 10000, \"cut\": 1, \"jump_in_cut\": 42, \"ground\": 0}, {\"jump\": 93, \"exit_alt\": 15000, \"deploy_alt\": 3500, \"freefall\": 11500, \"cut\": 1, \"jump_in_cut\": 43, \"ground\": 0}, {\"jump\": 94, \"exit_alt\": 10500, \"deploy_alt\": 3500, \"freefall\": 7000, \"cut\": 1, \"jump_in_cut\": 44, \"ground\": 0}, {\"jump\": 95, \"exit_alt\": 10500, \"deploy_alt\": 3500, \"freefall\": 7000, \"cut\": 1, \"jump_in_cut\": 45, \"ground\": 0}, {\"jump\": 96, \"exit_alt\": 10500, \"deploy_alt\": 3500, \"freefall\": 7000, \"cut\": 1, \"jump_in_cut\": 46, \"ground\": 0}, {\"jump\": 97, \"exit_alt\": 8500, \"deploy_alt\": 4000, \"freefall\": 4500, \"cut\": 1, \"jump_in_cut\": 47, \"ground\": 0}, {\"jump\": 98, \"exit_alt\": 8500, \"deploy_alt\": 3500, \"freefall\": 5000, \"cut\": 1, \"jump_in_cut\": 48, \"ground\": 0}, {\"jump\": 99, \"exit_alt\": 10500, \"deploy_alt\": 3500, \"freefall\": 7000, \"cut\": 1, \"jump_in_cut\": 49, \"ground\": 0}, {\"jump\": 100, \"exit_alt\": 10500, \"deploy_alt\": 3500, \"freefall\": 7000, \"cut\": 2, \"jump_in_cut\": 0, \"ground\": 0}, {\"jump\": 101, \"exit_alt\": 10500, \"deploy_alt\": 3500, \"freefall\": 7000, \"cut\": 2, \"jump_in_cut\": 1, \"ground\": 0}, {\"jump\": 102, \"exit_alt\": 9500, \"deploy_alt\": 3500, \"freefall\": 6000, \"cut\": 2, \"jump_in_cut\": 2, \"ground\": 0}, {\"jump\": 103, \"exit_alt\": 10000, \"deploy_alt\": 3000, \"freefall\": 7000, \"cut\": 2, \"jump_in_cut\": 3, \"ground\": 0}, {\"jump\": 104, \"exit_alt\": 9500, \"deploy_alt\": 3500, \"freefall\": 6000, \"cut\": 2, \"jump_in_cut\": 4, \"ground\": 0}, {\"jump\": 105, \"exit_alt\": 10000, \"deploy_alt\": 3000, \"freefall\": 7000, \"cut\": 2, \"jump_in_cut\": 5, \"ground\": 0}, {\"jump\": 106, \"exit_alt\": 10000, \"deploy_alt\": 2500, \"freefall\": 7500, \"cut\": 2, \"jump_in_cut\": 6, \"ground\": 0}, {\"jump\": 107, \"exit_alt\": 9750, \"deploy_alt\": 3000, \"freefall\": 6750, \"cut\": 2, \"jump_in_cut\": 7, \"ground\": 0}, {\"jump\": 108, \"exit_alt\": 9940, \"deploy_alt\": 2400, \"freefall\": 7540, \"cut\": 2, \"jump_in_cut\": 8, \"ground\": 0}, {\"jump\": 109, \"exit_alt\": 10700, \"deploy_alt\": 2520, \"freefall\": 8180, \"cut\": 2, \"jump_in_cut\": 9, \"ground\": 0}, {\"jump\": 110, \"exit_alt\": 11000, \"deploy_alt\": 2680, \"freefall\": 8320, \"cut\": 2, \"jump_in_cut\": 10, \"ground\": 0}, {\"jump\": 111, \"exit_alt\": 9610, \"deploy_alt\": 2550, \"freefall\": 7060, \"cut\": 2, \"jump_in_cut\": 11, \"ground\": 0}, {\"jump\": 112, \"exit_alt\": 9590, \"deploy_alt\": 3040, \"freefall\": 6550, \"cut\": 2, \"jump_in_cut\": 12, \"ground\": 0}, {\"jump\": 113, \"exit_alt\": 10700, \"deploy_alt\": 2470, \"freefall\": 8230, \"cut\": 2, \"jump_in_cut\": 13, \"ground\": 0}, {\"jump\": 114, \"exit_alt\": 10500, \"deploy_alt\": 2220, \"freefall\": 8280, \"cut\": 2, \"jump_in_cut\": 14, \"ground\": 0}, {\"jump\": 115, \"exit_alt\": 10200, \"deploy_alt\": 2490, \"freefall\": 7710, \"cut\": 2, \"jump_in_cut\": 15, \"ground\": 0}, {\"jump\": 116, \"exit_alt\": 10700, \"deploy_alt\": 2730, \"freefall\": 7970, \"cut\": 2, \"jump_in_cut\": 16, \"ground\": 0}, {\"jump\": 117, \"exit_alt\": 4590, \"deploy_alt\": 3790, \"freefall\": 800, \"cut\": 2, \"jump_in_cut\": 17, \"ground\": 0}, {\"jump\": 118, \"exit_alt\": 4670, \"deploy_alt\": 3740, \"freefall\": 930, \"cut\": 2, \"jump_in_cut\": 18, \"ground\": 0}, {\"jump\": 119, \"exit_alt\": 10400, \"deploy_alt\": 2640, \"freefall\": 7760, \"cut\": 2, \"jump_in_cut\": 19, \"ground\": 0}, {\"jump\": 120, \"exit_alt\": 11300, \"deploy_alt\": 2650, \"freefall\": 8650, \"cut\": 2, \"jump_in_cut\": 20, \"ground\": 0}, {\"jump\": 121, \"exit_alt\": 11200, \"deploy_alt\": 2510, \"freefall\": 8690, \"cut\": 2, \"jump_in_cut\": 21, \"ground\": 0}, {\"jump\": 122, \"exit_alt\": 10800, \"deploy_alt\": 2900, \"freefall\": 7900, \"cut\": 2, \"jump_in_cut\": 22, \"ground\": 0}, {\"jump\": 123, \"exit_alt\": 9880, \"deploy_alt\": 3380, \"freefall\": 6500, \"cut\": 2, \"jump_in_cut\": 23, \"ground\": 0}, {\"jump\": 124, \"exit_alt\": 8610, \"deploy_alt\": 3040, \"freefall\": 5570, \"cut\": 2, \"jump_in_cut\": 24, \"ground\": 0}, {\"jump\": 125, \"exit_alt\": 9100, \"deploy_alt\": 2830, \"freefall\": 6270, \"cut\": 2, \"jump_in_cut\": 25, \"ground\": 0}, {\"jump\": 126, \"exit_alt\": 9230, \"deploy_alt\": 2610, \"freefall\": 6620, \"cut\": 2, \"jump_in_cut\": 26, \"ground\": 0}, {\"jump\": 127, \"exit_alt\": 11300, \"deploy_alt\": 3430, \"freefall\": 7870, \"cut\": 2, \"jump_in_cut\": 27, \"ground\": 0}, {\"jump\": 128, \"exit_alt\": 12400, \"deploy_alt\": 2960, \"freefall\": 9440, \"cut\": 2, \"jump_in_cut\": 28, \"ground\": 0}, {\"jump\": 129, \"exit_alt\": 11400, \"deploy_alt\": 2810, \"freefall\": 8590, \"cut\": 2, \"jump_in_cut\": 29, \"ground\": 0}, {\"jump\": 130, \"exit_alt\": 11100, \"deploy_alt\": 2810, \"freefall\": 8290, \"cut\": 2, \"jump_in_cut\": 30, \"ground\": 0}, {\"jump\": 131, \"exit_alt\": 10500, \"deploy_alt\": 2540, \"freefall\": 7960, \"cut\": 2, \"jump_in_cut\": 31, \"ground\": 0}, {\"jump\": 132, \"exit_alt\": 7000, \"deploy_alt\": 6500, \"freefall\": 500, \"cut\": 2, \"jump_in_cut\": 32, \"ground\": 0}, {\"jump\": 133, \"exit_alt\": 7000, \"deploy_alt\": 6500, \"freefall\": 500, \"cut\": 2, \"jump_in_cut\": 33, \"ground\": 0}, {\"jump\": 134, \"exit_alt\": 7000, \"deploy_alt\": 6500, \"freefall\": 500, \"cut\": 2, \"jump_in_cut\": 34, \"ground\": 0}, {\"jump\": 135, \"exit_alt\": 7000, \"deploy_alt\": 6500, \"freefall\": 500, \"cut\": 2, \"jump_in_cut\": 35, \"ground\": 0}, {\"jump\": 136, \"exit_alt\": 7000, \"deploy_alt\": 6500, \"freefall\": 500, \"cut\": 2, \"jump_in_cut\": 36, \"ground\": 0}, {\"jump\": 137, \"exit_alt\": 13100, \"deploy_alt\": 6140, \"freefall\": 6960, \"cut\": 2, \"jump_in_cut\": 37, \"ground\": 0}, {\"jump\": 138, \"exit_alt\": 11200, \"deploy_alt\": 3050, \"freefall\": 8150, \"cut\": 2, \"jump_in_cut\": 38, \"ground\": 0}, {\"jump\": 139, \"exit_alt\": 11200, \"deploy_alt\": 3150, \"freefall\": 8050, \"cut\": 2, \"jump_in_cut\": 39, \"ground\": 0}, {\"jump\": 140, \"exit_alt\": 11300, \"deploy_alt\": 2570, \"freefall\": 8730, \"cut\": 2, \"jump_in_cut\": 40, \"ground\": 0}, {\"jump\": 141, \"exit_alt\": 10800, \"deploy_alt\": 3230, \"freefall\": 7570, \"cut\": 2, \"jump_in_cut\": 41, \"ground\": 0}, {\"jump\": 142, \"exit_alt\": 11500, \"deploy_alt\": 2390, \"freefall\": 9110, \"cut\": 2, \"jump_in_cut\": 42, \"ground\": 0}, {\"jump\": 143, \"exit_alt\": 11000, \"deploy_alt\": 2210, \"freefall\": 8790, \"cut\": 2, \"jump_in_cut\": 43, \"ground\": 0}, {\"jump\": 144, \"exit_alt\": 8460, \"deploy_alt\": 2800, \"freefall\": 5660, \"cut\": 2, \"jump_in_cut\": 44, \"ground\": 0}, {\"jump\": 145, \"exit_alt\": 10400, \"deploy_alt\": 2580, \"freefall\": 7820, \"cut\": 2, \"jump_in_cut\": 45, \"ground\": 0}, {\"jump\": 146, \"exit_alt\": 10500, \"deploy_alt\": 2670, \"freefall\": 7830, \"cut\": 2, \"jump_in_cut\": 46, \"ground\": 0}, {\"jump\": 147, \"exit_alt\": 10400, \"deploy_alt\": 2660, \"freefall\": 7740, \"cut\": 2, \"jump_in_cut\": 47, \"ground\": 0}, {\"jump\": 148, \"exit_alt\": 10100, \"deploy_alt\": 2500, \"freefall\": 7600, \"cut\": 2, \"jump_in_cut\": 48, \"ground\": 0}, {\"jump\": 149, \"exit_alt\": 9690, \"deploy_alt\": 5930, \"freefall\": 3760, \"cut\": 2, \"jump_in_cut\": 49, \"ground\": 0}, {\"jump\": 150, \"exit_alt\": 14100, \"deploy_alt\": 2980, \"freefall\": 11120, \"cut\": 3, \"jump_in_cut\": 0, \"ground\": 0}, {\"jump\": 151, \"exit_alt\": 13700, \"deploy_alt\": 3030, \"freefall\": 10670, \"cut\": 3, \"jump_in_cut\": 1, \"ground\": 0}, {\"jump\": 152, \"exit_alt\": 13700, \"deploy_alt\": 2680, \"freefall\": 11020, \"cut\": 3, \"jump_in_cut\": 2, \"ground\": 0}, {\"jump\": 153, \"exit_alt\": 13400, \"deploy_alt\": 2460, \"freefall\": 10940, \"cut\": 3, \"jump_in_cut\": 3, \"ground\": 0}, {\"jump\": 154, \"exit_alt\": 13800, \"deploy_alt\": 2590, \"freefall\": 11210, \"cut\": 3, \"jump_in_cut\": 4, \"ground\": 0}, {\"jump\": 155, \"exit_alt\": 13700, \"deploy_alt\": 2190, \"freefall\": 11510, \"cut\": 3, \"jump_in_cut\": 5, \"ground\": 0}, {\"jump\": 156, \"exit_alt\": 11000, \"deploy_alt\": 2440, \"freefall\": 8560, \"cut\": 3, \"jump_in_cut\": 6, \"ground\": 0}, {\"jump\": 157, \"exit_alt\": 11500, \"deploy_alt\": 2410, \"freefall\": 9090, \"cut\": 3, \"jump_in_cut\": 7, \"ground\": 0}, {\"jump\": 158, \"exit_alt\": 10700, \"deploy_alt\": 2390, \"freefall\": 8310, \"cut\": 3, \"jump_in_cut\": 8, \"ground\": 0}, {\"jump\": 159, \"exit_alt\": 10600, \"deploy_alt\": 2220, \"freefall\": 8380, \"cut\": 3, \"jump_in_cut\": 9, \"ground\": 0}, {\"jump\": 160, \"exit_alt\": 11600, \"deploy_alt\": 3780, \"freefall\": 7820, \"cut\": 3, \"jump_in_cut\": 10, \"ground\": 0}, {\"jump\": 161, \"exit_alt\": 11000, \"deploy_alt\": 10500, \"freefall\": 500, \"cut\": 3, \"jump_in_cut\": 11, \"ground\": 0}, {\"jump\": 162, \"exit_alt\": 14000, \"deploy_alt\": 2340, \"freefall\": 11660, \"cut\": 3, \"jump_in_cut\": 12, \"ground\": 0}, {\"jump\": 163, \"exit_alt\": 13800, \"deploy_alt\": 2420, \"freefall\": 11380, \"cut\": 3, \"jump_in_cut\": 13, \"ground\": 0}, {\"jump\": 164, \"exit_alt\": 10900, \"deploy_alt\": 2410, \"freefall\": 8490, \"cut\": 3, \"jump_in_cut\": 14, \"ground\": 0}, {\"jump\": 165, \"exit_alt\": 11400, \"deploy_alt\": 2490, \"freefall\": 8910, \"cut\": 3, \"jump_in_cut\": 15, \"ground\": 0}, {\"jump\": 166, \"exit_alt\": 10700, \"deploy_alt\": 2060, \"freefall\": 8640, \"cut\": 3, \"jump_in_cut\": 16, \"ground\": 0}, {\"jump\": 167, \"exit_alt\": 10700, \"deploy_alt\": 2630, \"freefall\": 8070, \"cut\": 3, \"jump_in_cut\": 17, \"ground\": 0}, {\"jump\": 168, \"exit_alt\": 10900, \"deploy_alt\": 2660, \"freefall\": 8240, \"cut\": 3, \"jump_in_cut\": 18, \"ground\": 0}, {\"jump\": 169, \"exit_alt\": 10700, \"deploy_alt\": 2530, \"freefall\": 8170, \"cut\": 3, \"jump_in_cut\": 19, \"ground\": 0}, {\"jump\": 170, \"exit_alt\": 8370, \"deploy_alt\": 3440, \"freefall\": 4930, \"cut\": 3, \"jump_in_cut\": 20, \"ground\": 0}, {\"jump\": 171, \"exit_alt\": 11400, \"deploy_alt\": 2320, \"freefall\": 9080, \"cut\": 3, \"jump_in_cut\": 21, \"ground\": 0}, {\"jump\": 172, \"exit_alt\": 13900, \"deploy_alt\": 2370, \"freefall\": 11530, \"cut\": 3, \"jump_in_cut\": 22, \"ground\": 0}, {\"jump\": 173, \"exit_alt\": 13700, \"deploy_alt\": 2160, \"freefall\": 11540, \"cut\": 3, \"jump_in_cut\": 23, \"ground\": 0}, {\"jump\": 174, \"exit_alt\": 13900, \"deploy_alt\": 2010, \"freefall\": 11890, \"cut\": 3, \"jump_in_cut\": 24, \"ground\": 0}, {\"jump\": 175, \"exit_alt\": 14000, \"deploy_alt\": 2130, \"freefall\": 11870, \"cut\": 3, \"jump_in_cut\": 25, \"ground\": 0}, {\"jump\": 176, \"exit_alt\": 13800, \"deploy_alt\": 2070, \"freefall\": 11730, \"cut\": 3, \"jump_in_cut\": 26, \"ground\": 0}, {\"jump\": 177, \"exit_alt\": 11200, \"deploy_alt\": 2140, \"freefall\": 9060, \"cut\": 3, \"jump_in_cut\": 27, \"ground\": 0}, {\"jump\": 178, \"exit_alt\": 11100, \"deploy_alt\": 2350, \"freefall\": 8750, \"cut\": 3, \"jump_in_cut\": 28, \"ground\": 0}, {\"jump\": 179, \"exit_alt\": 11500, \"deploy_alt\": 3700, \"freefall\": 7800, \"cut\": 3, \"jump_in_cut\": 29, \"ground\": 0}, {\"jump\": 180, \"exit_alt\": 8610, \"deploy_alt\": 2670, \"freefall\": 5940, \"cut\": 3, \"jump_in_cut\": 30, \"ground\": 0}, {\"jump\": 181, \"exit_alt\": 8210, \"deploy_alt\": 3130, \"freefall\": 5080, \"cut\": 3, \"jump_in_cut\": 31, \"ground\": 0}, {\"jump\": 182, \"exit_alt\": 8220, \"deploy_alt\": 3150, \"freefall\": 5070, \"cut\": 3, \"jump_in_cut\": 32, \"ground\": 0}, {\"jump\": 183, \"exit_alt\": 13700, \"deploy_alt\": 2400, \"freefall\": 11300, \"cut\": 3, \"jump_in_cut\": 33, \"ground\": 0}, {\"jump\": 184, \"exit_alt\": 13900, \"deploy_alt\": 2040, \"freefall\": 11860, \"cut\": 3, \"jump_in_cut\": 34, \"ground\": 0}, {\"jump\": 185, \"exit_alt\": 10900, \"deploy_alt\": 2740, \"freefall\": 8160, \"cut\": 3, \"jump_in_cut\": 35, \"ground\": 0}, {\"jump\": 186, \"exit_alt\": 10600, \"deploy_alt\": 2560, \"freefall\": 8040, \"cut\": 3, \"jump_in_cut\": 36, \"ground\": 0}, {\"jump\": 187, \"exit_alt\": 8600, \"deploy_alt\": 3680, \"freefall\": 4920, \"cut\": 3, \"jump_in_cut\": 37, \"ground\": 0}, {\"jump\": 188, \"exit_alt\": 13700, \"deploy_alt\": 2390, \"freefall\": 11310, \"cut\": 3, \"jump_in_cut\": 38, \"ground\": 0}, {\"jump\": 189, \"exit_alt\": 13700, \"deploy_alt\": 2220, \"freefall\": 11480, \"cut\": 3, \"jump_in_cut\": 39, \"ground\": 0}, {\"jump\": 190, \"exit_alt\": 13400, \"deploy_alt\": 2650, \"freefall\": 10750, \"cut\": 3, \"jump_in_cut\": 40, \"ground\": 0}, {\"jump\": 191, \"exit_alt\": 13700, \"deploy_alt\": 2310, \"freefall\": 11390, \"cut\": 3, \"jump_in_cut\": 41, \"ground\": 0}, {\"jump\": 192, \"exit_alt\": 13300, \"deploy_alt\": 2260, \"freefall\": 11040, \"cut\": 3, \"jump_in_cut\": 42, \"ground\": 0}, {\"jump\": 193, \"exit_alt\": 13800, \"deploy_alt\": 2130, \"freefall\": 11670, \"cut\": 3, \"jump_in_cut\": 43, \"ground\": 0}, {\"jump\": 194, \"exit_alt\": 13400, \"deploy_alt\": 2570, \"freefall\": 10830, \"cut\": 3, \"jump_in_cut\": 44, \"ground\": 0}, {\"jump\": 195, \"exit_alt\": 13200, \"deploy_alt\": 2070, \"freefall\": 11130, \"cut\": 3, \"jump_in_cut\": 45, \"ground\": 0}, {\"jump\": 196, \"exit_alt\": 13700, \"deploy_alt\": 3090, \"freefall\": 10610, \"cut\": 3, \"jump_in_cut\": 46, \"ground\": 0}, {\"jump\": 197, \"exit_alt\": 13400, \"deploy_alt\": 2560, \"freefall\": 10840, \"cut\": 3, \"jump_in_cut\": 47, \"ground\": 0}, {\"jump\": 198, \"exit_alt\": 13300, \"deploy_alt\": 2430, \"freefall\": 10870, \"cut\": 3, \"jump_in_cut\": 48, \"ground\": 0}, {\"jump\": 199, \"exit_alt\": 13400, \"deploy_alt\": 2080, \"freefall\": 11320, \"cut\": 3, \"jump_in_cut\": 49, \"ground\": 0}, {\"jump\": 200, \"exit_alt\": 13100, \"deploy_alt\": 2370, \"freefall\": 10730, \"cut\": 4, \"jump_in_cut\": 0, \"ground\": 0}, {\"jump\": 201, \"exit_alt\": 10300, \"deploy_alt\": 2470, \"freefall\": 7830, \"cut\": 4, \"jump_in_cut\": 1, \"ground\": 0}, {\"jump\": 202, \"exit_alt\": 11700, \"deploy_alt\": 2100, \"freefall\": 9600, \"cut\": 4, \"jump_in_cut\": 2, \"ground\": 0}, {\"jump\": 203, \"exit_alt\": 10700, \"deploy_alt\": 2770, \"freefall\": 7930, \"cut\": 4, \"jump_in_cut\": 3, \"ground\": 0}, {\"jump\": 204, \"exit_alt\": 11600, \"deploy_alt\": 3660, \"freefall\": 7940, \"cut\": 4, \"jump_in_cut\": 4, \"ground\": 0}, {\"jump\": 205, \"exit_alt\": 11800, \"deploy_alt\": 2580, \"freefall\": 9220, \"cut\": 4, \"jump_in_cut\": 5, \"ground\": 0}, {\"jump\": 206, \"exit_alt\": 11500, \"deploy_alt\": 2710, \"freefall\": 8790, \"cut\": 4, \"jump_in_cut\": 6, \"ground\": 0}, {\"jump\": 207, \"exit_alt\": 11600, \"deploy_alt\": 2340, \"freefall\": 9260, \"cut\": 4, \"jump_in_cut\": 7, \"ground\": 0}, {\"jump\": 208, \"exit_alt\": 10600, \"deploy_alt\": 2730, \"freefall\": 7870, \"cut\": 4, \"jump_in_cut\": 8, \"ground\": 0}, {\"jump\": 209, \"exit_alt\": 10400, \"deploy_alt\": 2220, \"freefall\": 8180, \"cut\": 4, \"jump_in_cut\": 9, \"ground\": 0}, {\"jump\": 210, \"exit_alt\": 11800, \"deploy_alt\": 2350, \"freefall\": 9450, \"cut\": 4, \"jump_in_cut\": 10, \"ground\": 0}, {\"jump\": 211, \"exit_alt\": 11600, \"deploy_alt\": 2500, \"freefall\": 9100, \"cut\": 4, \"jump_in_cut\": 11, \"ground\": 0}, {\"jump\": 212, \"exit_alt\": 10600, \"deploy_alt\": 1490, \"freefall\": 9110, \"cut\": 4, \"jump_in_cut\": 12, \"ground\": 0}, {\"jump\": 213, \"exit_alt\": 10500, \"deploy_alt\": 3850, \"freefall\": 6650, \"cut\": 4, \"jump_in_cut\": 13, \"ground\": 0}, {\"jump\": 214, \"exit_alt\": 10400, \"deploy_alt\": 2690, \"freefall\": 7710, \"cut\": 4, \"jump_in_cut\": 14, \"ground\": 0}, {\"jump\": 215, \"exit_alt\": 10600, \"deploy_alt\": 1680, \"freefall\": 8920, \"cut\": 4, \"jump_in_cut\": 15, \"ground\": 0}, {\"jump\": 216, \"exit_alt\": 10600, \"deploy_alt\": 2940, \"freefall\": 7660, \"cut\": 4, \"jump_in_cut\": 16, \"ground\": 0}, {\"jump\": 217, \"exit_alt\": 10500, \"deploy_alt\": 2330, \"freefall\": 8170, \"cut\": 4, \"jump_in_cut\": 17, \"ground\": 0}, {\"jump\": 218, \"exit_alt\": 10600, \"deploy_alt\": 2540, \"freefall\": 8060, \"cut\": 4, \"jump_in_cut\": 18, \"ground\": 0}, {\"jump\": 219, \"exit_alt\": 10500, \"deploy_alt\": 2560, \"freefall\": 7940, \"cut\": 4, \"jump_in_cut\": 19, \"ground\": 0}, {\"jump\": 220, \"exit_alt\": 11000, \"deploy_alt\": 2350, \"freefall\": 8650, \"cut\": 4, \"jump_in_cut\": 20, \"ground\": 0}, {\"jump\": 221, \"exit_alt\": 10900, \"deploy_alt\": 2390, \"freefall\": 8510, \"cut\": 4, \"jump_in_cut\": 21, \"ground\": 0}]}}, {\"mode\": \"vega-lite\"});\n",
       "</script>"
      ],
      "text/plain": [
       "alt.FacetChart(...)"
      ]
     },
     "execution_count": 22,
     "metadata": {},
     "output_type": "execute_result"
    }
   ],
   "source": [
    "top = alt.Chart(eli).mark_rule(size=3).encode(\n",
    "    x=alt.X('jump_in_cut', axis=None),\n",
    "    y=alt.Y('deploy_alt', axis=None),\n",
    "    y2=alt.Y2('exit_alt'),\n",
    ").properties(height=80)\n",
    "\n",
    "bottom = alt.Chart(eli).mark_rule(size=1).encode(\n",
    "    x=alt.X('jump_in_cut', axis=None),\n",
    "    y=alt.Y('deploy_alt', axis=None),\n",
    "    y2=alt.Y2('ground'),\n",
    ").properties(height=80)\n",
    "\n",
    "chart = (\n",
    "    alt.layer(top, bottom)\n",
    "    .facet(row = alt.Row(\"cut\", title=None))\n",
    "    .configure_axis(grid=False)\n",
    "    .configure_view(strokeWidth=0)\n",
    ")\n",
    "\n",
    "chart"
   ]
  },
  {
   "cell_type": "markdown",
   "metadata": {},
   "source": [
    "### Faceting"
   ]
  },
  {
   "cell_type": "markdown",
   "metadata": {},
   "source": [
    "ZA5950: International Social Survey Programme: National Identity III - ISSP 2013\n",
    "\n",
    "Question: \"Do Immigrants Increase Crime\"?\n",
    "        \n",
    "[Source](https://zacat.gesis.org/webview/index.jsp?object=http://zacat.gesis.org/obj/fStudy/ZA5950)"
   ]
  },
  {
   "cell_type": "code",
   "execution_count": 52,
   "metadata": {},
   "outputs": [],
   "source": [
    "im = pd.read_csv('../data/immigration.csv')"
   ]
  },
  {
   "cell_type": "code",
   "execution_count": 53,
   "metadata": {},
   "outputs": [
    {
     "data": {
      "text/html": [
       "<div>\n",
       "<style scoped>\n",
       "    .dataframe tbody tr th:only-of-type {\n",
       "        vertical-align: middle;\n",
       "    }\n",
       "\n",
       "    .dataframe tbody tr th {\n",
       "        vertical-align: top;\n",
       "    }\n",
       "\n",
       "    .dataframe thead th {\n",
       "        text-align: right;\n",
       "    }\n",
       "</style>\n",
       "<table border=\"1\" class=\"dataframe\">\n",
       "  <thead>\n",
       "    <tr style=\"text-align: right;\">\n",
       "      <th></th>\n",
       "      <th>country</th>\n",
       "      <th>response</th>\n",
       "      <th>n</th>\n",
       "      <th>pct</th>\n",
       "    </tr>\n",
       "  </thead>\n",
       "  <tbody>\n",
       "    <tr>\n",
       "      <td>87</td>\n",
       "      <td>Switzerland</td>\n",
       "      <td>Agree or Strongly Agree</td>\n",
       "      <td>773</td>\n",
       "      <td>62.5</td>\n",
       "    </tr>\n",
       "    <tr>\n",
       "      <td>51</td>\n",
       "      <td>Latvia</td>\n",
       "      <td>Agree or Strongly Agree</td>\n",
       "      <td>388</td>\n",
       "      <td>38.8</td>\n",
       "    </tr>\n",
       "    <tr>\n",
       "      <td>77</td>\n",
       "      <td>Slovenia</td>\n",
       "      <td>Undecided or Neutral</td>\n",
       "      <td>283</td>\n",
       "      <td>28.0</td>\n",
       "    </tr>\n",
       "    <tr>\n",
       "      <td>54</td>\n",
       "      <td>Lithuania</td>\n",
       "      <td>Agree or Strongly Agree</td>\n",
       "      <td>326</td>\n",
       "      <td>27.3</td>\n",
       "    </tr>\n",
       "    <tr>\n",
       "      <td>22</td>\n",
       "      <td>Georgia</td>\n",
       "      <td>Disagree or Strongly Disagree</td>\n",
       "      <td>610</td>\n",
       "      <td>40.7</td>\n",
       "    </tr>\n",
       "  </tbody>\n",
       "</table>\n",
       "</div>"
      ],
      "text/plain": [
       "        country                       response    n   pct\n",
       "87  Switzerland        Agree or Strongly Agree  773  62.5\n",
       "51       Latvia        Agree or Strongly Agree  388  38.8\n",
       "77     Slovenia           Undecided or Neutral  283  28.0\n",
       "54    Lithuania        Agree or Strongly Agree  326  27.3\n",
       "22      Georgia  Disagree or Strongly Disagree  610  40.7"
      ]
     },
     "execution_count": 53,
     "metadata": {},
     "output_type": "execute_result"
    }
   ],
   "source": [
    "im.sample(5)"
   ]
  },
  {
   "cell_type": "code",
   "execution_count": 54,
   "metadata": {},
   "outputs": [],
   "source": [
    "im['pct'] /= 100"
   ]
  },
  {
   "cell_type": "code",
   "execution_count": 55,
   "metadata": {},
   "outputs": [],
   "source": [
    "yes = im[im['response'] == 'Agree or Strongly Agree']"
   ]
  },
  {
   "cell_type": "code",
   "execution_count": 56,
   "metadata": {},
   "outputs": [
    {
     "data": {
      "text/html": [
       "\n",
       "<div id=\"altair-viz-79d85af3613e4bbaba935024da82195c\"></div>\n",
       "<script type=\"text/javascript\">\n",
       "  (function(spec, embedOpt){\n",
       "    const outputDiv = document.getElementById(\"altair-viz-79d85af3613e4bbaba935024da82195c\");\n",
       "    const paths = {\n",
       "      \"vega\": \"https://cdn.jsdelivr.net/npm//vega@5?noext\",\n",
       "      \"vega-lib\": \"https://cdn.jsdelivr.net/npm//vega-lib?noext\",\n",
       "      \"vega-lite\": \"https://cdn.jsdelivr.net/npm//vega-lite@4.0.2?noext\",\n",
       "      \"vega-embed\": \"https://cdn.jsdelivr.net/npm//vega-embed@6?noext\",\n",
       "    };\n",
       "\n",
       "    function loadScript(lib) {\n",
       "      return new Promise(function(resolve, reject) {\n",
       "        var s = document.createElement('script');\n",
       "        s.src = paths[lib];\n",
       "        s.async = true;\n",
       "        s.onload = () => resolve(paths[lib]);\n",
       "        s.onerror = () => reject(`Error loading script: ${paths[lib]}`);\n",
       "        document.getElementsByTagName(\"head\")[0].appendChild(s);\n",
       "      });\n",
       "    }\n",
       "\n",
       "    function showError(err) {\n",
       "      outputDiv.innerHTML = `<div class=\"error\" style=\"color:red;\">${err}</div>`;\n",
       "      throw err;\n",
       "    }\n",
       "\n",
       "    function displayChart(vegaEmbed) {\n",
       "      vegaEmbed(outputDiv, spec, embedOpt)\n",
       "        .catch(err => showError(`Javascript Error: ${err.message}<br>This usually means there's a typo in your chart specification. See the javascript console for the full traceback.`));\n",
       "    }\n",
       "\n",
       "    if(typeof define === \"function\" && define.amd) {\n",
       "      requirejs.config({paths});\n",
       "      require([\"vega-embed\"], displayChart, err => showError(`Error loading script: ${err.message}`));\n",
       "    } else if (typeof vegaEmbed === \"function\") {\n",
       "      displayChart(vegaEmbed);\n",
       "    } else {\n",
       "      loadScript(\"vega\")\n",
       "        .then(() => loadScript(\"vega-lite\"))\n",
       "        .then(() => loadScript(\"vega-embed\"))\n",
       "        .catch(showError)\n",
       "        .then(() => displayChart(vegaEmbed));\n",
       "    }\n",
       "  })({\"config\": {\"view\": {\"continuousWidth\": 400, \"continuousHeight\": 300}}, \"data\": {\"name\": \"data-1c1022a12abb7e1a6cb9d5c42bcd4d2f\"}, \"mark\": \"bar\", \"encoding\": {\"x\": {\"type\": \"quantitative\", \"field\": \"pct\"}, \"y\": {\"type\": \"nominal\", \"field\": \"country\"}}, \"$schema\": \"https://vega.github.io/schema/vega-lite/v4.0.2.json\", \"datasets\": {\"data-1c1022a12abb7e1a6cb9d5c42bcd4d2f\": [{\"country\": \"Belgium\", \"response\": \"Agree or Strongly Agree\", \"n\": 1081, \"pct\": 0.491}, {\"country\": \"Croatia\", \"response\": \"Agree or Strongly Agree\", \"n\": 323, \"pct\": 0.32299999999999995}, {\"country\": \"Czech Republic\", \"response\": \"Agree or Strongly Agree\", \"n\": 1386, \"pct\": 0.726}, {\"country\": \"Denmark\", \"response\": \"Agree or Strongly Agree\", \"n\": 821, \"pct\": 0.62}, {\"country\": \"Estonia\", \"response\": \"Agree or Strongly Agree\", \"n\": 371, \"pct\": 0.368}, {\"country\": \"Finland\", \"response\": \"Agree or Strongly Agree\", \"n\": 610, \"pct\": 0.491}, {\"country\": \"France\", \"response\": \"Agree or Strongly Agree\", \"n\": 833, \"pct\": 0.413}, {\"country\": \"Georgia\", \"response\": \"Agree or Strongly Agree\", \"n\": 482, \"pct\": 0.322}, {\"country\": \"Germany\", \"response\": \"Agree or Strongly Agree\", \"n\": 813, \"pct\": 0.474}, {\"country\": \"Great Britain\", \"response\": \"Agree or Strongly Agree\", \"n\": 407, \"pct\": 0.45}, {\"country\": \"Hungary\", \"response\": \"Agree or Strongly Agree\", \"n\": 536, \"pct\": 0.532}, {\"country\": \"Iceland\", \"response\": \"Agree or Strongly Agree\", \"n\": 363, \"pct\": 0.335}, {\"country\": \"India\", \"response\": \"Agree or Strongly Agree\", \"n\": 1051, \"pct\": 0.687}, {\"country\": \"Ireland\", \"response\": \"Agree or Strongly Agree\", \"n\": 353, \"pct\": 0.29100000000000004}, {\"country\": \"Israel\", \"response\": \"Agree or Strongly Agree\", \"n\": 666, \"pct\": 0.5529999999999999}, {\"country\": \"Japan\", \"response\": \"Agree or Strongly Agree\", \"n\": 488, \"pct\": 0.395}, {\"country\": \"Korea (South)\", \"response\": \"Agree or Strongly Agree\", \"n\": 677, \"pct\": 0.523}, {\"country\": \"Latvia\", \"response\": \"Agree or Strongly Agree\", \"n\": 388, \"pct\": 0.38799999999999996}, {\"country\": \"Lithuania\", \"response\": \"Agree or Strongly Agree\", \"n\": 326, \"pct\": 0.273}, {\"country\": \"Mexico\", \"response\": \"Agree or Strongly Agree\", \"n\": 351, \"pct\": 0.331}, {\"country\": \"Norway\", \"response\": \"Agree or Strongly Agree\", \"n\": 1099, \"pct\": 0.693}, {\"country\": \"Philippines\", \"response\": \"Agree or Strongly Agree\", \"n\": 369, \"pct\": 0.308}, {\"country\": \"Portugal\", \"response\": \"Agree or Strongly Agree\", \"n\": 473, \"pct\": 0.473}, {\"country\": \"Russia\", \"response\": \"Agree or Strongly Agree\", \"n\": 1065, \"pct\": 0.703}, {\"country\": \"Slovak Republic\", \"response\": \"Agree or Strongly Agree\", \"n\": 605, \"pct\": 0.523}, {\"country\": \"Slovenia\", \"response\": \"Agree or Strongly Agree\", \"n\": 444, \"pct\": 0.44}, {\"country\": \"South Africa\", \"response\": \"Agree or Strongly Agree\", \"n\": 1845, \"pct\": 0.674}, {\"country\": \"Spain\", \"response\": \"Agree or Strongly Agree\", \"n\": 517, \"pct\": 0.42200000000000004}, {\"country\": \"Sweden\", \"response\": \"Agree or Strongly Agree\", \"n\": 473, \"pct\": 0.434}, {\"country\": \"Switzerland\", \"response\": \"Agree or Strongly Agree\", \"n\": 773, \"pct\": 0.625}, {\"country\": \"Taiwan\", \"response\": \"Agree or Strongly Agree\", \"n\": 694, \"pct\": 0.35600000000000004}, {\"country\": \"Turkey\", \"response\": \"Agree or Strongly Agree\", \"n\": 996, \"pct\": 0.598}, {\"country\": \"United States\", \"response\": \"Agree or Strongly Agree\", \"n\": 252, \"pct\": 0.198}]}}, {\"mode\": \"vega-lite\"});\n",
       "</script>"
      ],
      "text/plain": [
       "alt.Chart(...)"
      ]
     },
     "execution_count": 56,
     "metadata": {},
     "output_type": "execute_result"
    }
   ],
   "source": [
    "alt.Chart(yes).mark_bar().encode(y='country', x='pct')"
   ]
  },
  {
   "cell_type": "code",
   "execution_count": 57,
   "metadata": {},
   "outputs": [
    {
     "data": {
      "text/html": [
       "\n",
       "<div id=\"altair-viz-66d857dfc5e94d269299a60fca3ab51e\"></div>\n",
       "<script type=\"text/javascript\">\n",
       "  (function(spec, embedOpt){\n",
       "    const outputDiv = document.getElementById(\"altair-viz-66d857dfc5e94d269299a60fca3ab51e\");\n",
       "    const paths = {\n",
       "      \"vega\": \"https://cdn.jsdelivr.net/npm//vega@5?noext\",\n",
       "      \"vega-lib\": \"https://cdn.jsdelivr.net/npm//vega-lib?noext\",\n",
       "      \"vega-lite\": \"https://cdn.jsdelivr.net/npm//vega-lite@4.0.2?noext\",\n",
       "      \"vega-embed\": \"https://cdn.jsdelivr.net/npm//vega-embed@6?noext\",\n",
       "    };\n",
       "\n",
       "    function loadScript(lib) {\n",
       "      return new Promise(function(resolve, reject) {\n",
       "        var s = document.createElement('script');\n",
       "        s.src = paths[lib];\n",
       "        s.async = true;\n",
       "        s.onload = () => resolve(paths[lib]);\n",
       "        s.onerror = () => reject(`Error loading script: ${paths[lib]}`);\n",
       "        document.getElementsByTagName(\"head\")[0].appendChild(s);\n",
       "      });\n",
       "    }\n",
       "\n",
       "    function showError(err) {\n",
       "      outputDiv.innerHTML = `<div class=\"error\" style=\"color:red;\">${err}</div>`;\n",
       "      throw err;\n",
       "    }\n",
       "\n",
       "    function displayChart(vegaEmbed) {\n",
       "      vegaEmbed(outputDiv, spec, embedOpt)\n",
       "        .catch(err => showError(`Javascript Error: ${err.message}<br>This usually means there's a typo in your chart specification. See the javascript console for the full traceback.`));\n",
       "    }\n",
       "\n",
       "    if(typeof define === \"function\" && define.amd) {\n",
       "      requirejs.config({paths});\n",
       "      require([\"vega-embed\"], displayChart, err => showError(`Error loading script: ${err.message}`));\n",
       "    } else if (typeof vegaEmbed === \"function\") {\n",
       "      displayChart(vegaEmbed);\n",
       "    } else {\n",
       "      loadScript(\"vega\")\n",
       "        .then(() => loadScript(\"vega-lite\"))\n",
       "        .then(() => loadScript(\"vega-embed\"))\n",
       "        .catch(showError)\n",
       "        .then(() => displayChart(vegaEmbed));\n",
       "    }\n",
       "  })({\"config\": {\"view\": {\"continuousWidth\": 400, \"continuousHeight\": 300}}, \"data\": {\"name\": \"data-70bbb0c66eaec06c187a7054c1c8a72d\"}, \"facet\": {\"column\": {\"type\": \"nominal\", \"field\": \"response\"}}, \"spec\": {\"mark\": \"bar\", \"encoding\": {\"x\": {\"type\": \"quantitative\", \"field\": \"pct\"}, \"y\": {\"type\": \"nominal\", \"field\": \"country\"}}, \"width\": 100}, \"$schema\": \"https://vega.github.io/schema/vega-lite/v4.0.2.json\", \"datasets\": {\"data-70bbb0c66eaec06c187a7054c1c8a72d\": [{\"country\": \"Belgium\", \"response\": \"Agree or Strongly Agree\", \"n\": 1081, \"pct\": 0.491}, {\"country\": \"Belgium\", \"response\": \"Disagree or Strongly Disagree\", \"n\": 444, \"pct\": 0.20199999999999999}, {\"country\": \"Belgium\", \"response\": \"Undecided or Neutral\", \"n\": 677, \"pct\": 0.307}, {\"country\": \"Croatia\", \"response\": \"Agree or Strongly Agree\", \"n\": 323, \"pct\": 0.32299999999999995}, {\"country\": \"Croatia\", \"response\": \"Disagree or Strongly Disagree\", \"n\": 389, \"pct\": 0.389}, {\"country\": \"Croatia\", \"response\": \"Undecided or Neutral\", \"n\": 288, \"pct\": 0.28800000000000003}, {\"country\": \"Czech Republic\", \"response\": \"Agree or Strongly Agree\", \"n\": 1386, \"pct\": 0.726}, {\"country\": \"Czech Republic\", \"response\": \"Disagree or Strongly Disagree\", \"n\": 131, \"pct\": 0.069}, {\"country\": \"Czech Republic\", \"response\": \"Undecided or Neutral\", \"n\": 392, \"pct\": 0.205}, {\"country\": \"Denmark\", \"response\": \"Agree or Strongly Agree\", \"n\": 821, \"pct\": 0.62}, {\"country\": \"Denmark\", \"response\": \"Disagree or Strongly Disagree\", \"n\": 238, \"pct\": 0.18}, {\"country\": \"Denmark\", \"response\": \"Undecided or Neutral\", \"n\": 266, \"pct\": 0.201}, {\"country\": \"Estonia\", \"response\": \"Agree or Strongly Agree\", \"n\": 371, \"pct\": 0.368}, {\"country\": \"Estonia\", \"response\": \"Disagree or Strongly Disagree\", \"n\": 242, \"pct\": 0.24}, {\"country\": \"Estonia\", \"response\": \"Undecided or Neutral\", \"n\": 396, \"pct\": 0.392}, {\"country\": \"Finland\", \"response\": \"Agree or Strongly Agree\", \"n\": 610, \"pct\": 0.491}, {\"country\": \"Finland\", \"response\": \"Disagree or Strongly Disagree\", \"n\": 230, \"pct\": 0.185}, {\"country\": \"Finland\", \"response\": \"Undecided or Neutral\", \"n\": 403, \"pct\": 0.324}, {\"country\": \"France\", \"response\": \"Agree or Strongly Agree\", \"n\": 833, \"pct\": 0.413}, {\"country\": \"France\", \"response\": \"Disagree or Strongly Disagree\", \"n\": 617, \"pct\": 0.306}, {\"country\": \"France\", \"response\": \"Undecided or Neutral\", \"n\": 567, \"pct\": 0.281}, {\"country\": \"Georgia\", \"response\": \"Agree or Strongly Agree\", \"n\": 482, \"pct\": 0.322}, {\"country\": \"Georgia\", \"response\": \"Disagree or Strongly Disagree\", \"n\": 610, \"pct\": 0.40700000000000003}, {\"country\": \"Georgia\", \"response\": \"Undecided or Neutral\", \"n\": 406, \"pct\": 0.271}, {\"country\": \"Germany\", \"response\": \"Agree or Strongly Agree\", \"n\": 813, \"pct\": 0.474}, {\"country\": \"Germany\", \"response\": \"Disagree or Strongly Disagree\", \"n\": 431, \"pct\": 0.251}, {\"country\": \"Germany\", \"response\": \"Undecided or Neutral\", \"n\": 473, \"pct\": 0.275}, {\"country\": \"Great Britain\", \"response\": \"Agree or Strongly Agree\", \"n\": 407, \"pct\": 0.45}, {\"country\": \"Great Britain\", \"response\": \"Disagree or Strongly Disagree\", \"n\": 216, \"pct\": 0.239}, {\"country\": \"Great Britain\", \"response\": \"Undecided or Neutral\", \"n\": 281, \"pct\": 0.311}, {\"country\": \"Hungary\", \"response\": \"Agree or Strongly Agree\", \"n\": 536, \"pct\": 0.532}, {\"country\": \"Hungary\", \"response\": \"Disagree or Strongly Disagree\", \"n\": 185, \"pct\": 0.184}, {\"country\": \"Hungary\", \"response\": \"Undecided or Neutral\", \"n\": 286, \"pct\": 0.284}, {\"country\": \"Iceland\", \"response\": \"Agree or Strongly Agree\", \"n\": 363, \"pct\": 0.335}, {\"country\": \"Iceland\", \"response\": \"Disagree or Strongly Disagree\", \"n\": 417, \"pct\": 0.385}, {\"country\": \"Iceland\", \"response\": \"Undecided or Neutral\", \"n\": 302, \"pct\": 0.27899999999999997}, {\"country\": \"India\", \"response\": \"Agree or Strongly Agree\", \"n\": 1051, \"pct\": 0.687}, {\"country\": \"India\", \"response\": \"Disagree or Strongly Disagree\", \"n\": 190, \"pct\": 0.124}, {\"country\": \"India\", \"response\": \"Undecided or Neutral\", \"n\": 289, \"pct\": 0.18899999999999997}, {\"country\": \"Ireland\", \"response\": \"Agree or Strongly Agree\", \"n\": 353, \"pct\": 0.29100000000000004}, {\"country\": \"Ireland\", \"response\": \"Disagree or Strongly Disagree\", \"n\": 514, \"pct\": 0.423}, {\"country\": \"Ireland\", \"response\": \"Undecided or Neutral\", \"n\": 348, \"pct\": 0.28600000000000003}, {\"country\": \"Israel\", \"response\": \"Agree or Strongly Agree\", \"n\": 666, \"pct\": 0.5529999999999999}, {\"country\": \"Israel\", \"response\": \"Disagree or Strongly Disagree\", \"n\": 231, \"pct\": 0.192}, {\"country\": \"Israel\", \"response\": \"Undecided or Neutral\", \"n\": 307, \"pct\": 0.255}, {\"country\": \"Japan\", \"response\": \"Agree or Strongly Agree\", \"n\": 488, \"pct\": 0.395}, {\"country\": \"Japan\", \"response\": \"Disagree or Strongly Disagree\", \"n\": 247, \"pct\": 0.2}, {\"country\": \"Japan\", \"response\": \"Undecided or Neutral\", \"n\": 499, \"pct\": 0.40399999999999997}, {\"country\": \"Korea (South)\", \"response\": \"Agree or Strongly Agree\", \"n\": 677, \"pct\": 0.523}, {\"country\": \"Korea (South)\", \"response\": \"Disagree or Strongly Disagree\", \"n\": 284, \"pct\": 0.21899999999999997}, {\"country\": \"Korea (South)\", \"response\": \"Undecided or Neutral\", \"n\": 333, \"pct\": 0.257}, {\"country\": \"Latvia\", \"response\": \"Agree or Strongly Agree\", \"n\": 388, \"pct\": 0.38799999999999996}, {\"country\": \"Latvia\", \"response\": \"Disagree or Strongly Disagree\", \"n\": 323, \"pct\": 0.32299999999999995}, {\"country\": \"Latvia\", \"response\": \"Undecided or Neutral\", \"n\": 289, \"pct\": 0.289}, {\"country\": \"Lithuania\", \"response\": \"Agree or Strongly Agree\", \"n\": 326, \"pct\": 0.273}, {\"country\": \"Lithuania\", \"response\": \"Disagree or Strongly Disagree\", \"n\": 332, \"pct\": 0.278}, {\"country\": \"Lithuania\", \"response\": \"Undecided or Neutral\", \"n\": 536, \"pct\": 0.449}, {\"country\": \"Mexico\", \"response\": \"Agree or Strongly Agree\", \"n\": 351, \"pct\": 0.331}, {\"country\": \"Mexico\", \"response\": \"Disagree or Strongly Disagree\", \"n\": 434, \"pct\": 0.409}, {\"country\": \"Mexico\", \"response\": \"Undecided or Neutral\", \"n\": 277, \"pct\": 0.261}, {\"country\": \"Norway\", \"response\": \"Agree or Strongly Agree\", \"n\": 1099, \"pct\": 0.693}, {\"country\": \"Norway\", \"response\": \"Disagree or Strongly Disagree\", \"n\": 173, \"pct\": 0.109}, {\"country\": \"Norway\", \"response\": \"Undecided or Neutral\", \"n\": 313, \"pct\": 0.19699999999999998}, {\"country\": \"Philippines\", \"response\": \"Agree or Strongly Agree\", \"n\": 369, \"pct\": 0.308}, {\"country\": \"Philippines\", \"response\": \"Disagree or Strongly Disagree\", \"n\": 540, \"pct\": 0.45}, {\"country\": \"Philippines\", \"response\": \"Undecided or Neutral\", \"n\": 291, \"pct\": 0.242}, {\"country\": \"Portugal\", \"response\": \"Agree or Strongly Agree\", \"n\": 473, \"pct\": 0.473}, {\"country\": \"Portugal\", \"response\": \"Disagree or Strongly Disagree\", \"n\": 283, \"pct\": 0.28300000000000003}, {\"country\": \"Portugal\", \"response\": \"Undecided or Neutral\", \"n\": 245, \"pct\": 0.245}, {\"country\": \"Russia\", \"response\": \"Agree or Strongly Agree\", \"n\": 1065, \"pct\": 0.703}, {\"country\": \"Russia\", \"response\": \"Disagree or Strongly Disagree\", \"n\": 139, \"pct\": 0.092}, {\"country\": \"Russia\", \"response\": \"Undecided or Neutral\", \"n\": 312, \"pct\": 0.20600000000000002}, {\"country\": \"Slovak Republic\", \"response\": \"Agree or Strongly Agree\", \"n\": 605, \"pct\": 0.523}, {\"country\": \"Slovak Republic\", \"response\": \"Disagree or Strongly Disagree\", \"n\": 190, \"pct\": 0.16399999999999998}, {\"country\": \"Slovak Republic\", \"response\": \"Undecided or Neutral\", \"n\": 361, \"pct\": 0.312}, {\"country\": \"Slovenia\", \"response\": \"Agree or Strongly Agree\", \"n\": 444, \"pct\": 0.44}, {\"country\": \"Slovenia\", \"response\": \"Disagree or Strongly Disagree\", \"n\": 283, \"pct\": 0.28}, {\"country\": \"Slovenia\", \"response\": \"Undecided or Neutral\", \"n\": 283, \"pct\": 0.28}, {\"country\": \"South Africa\", \"response\": \"Agree or Strongly Agree\", \"n\": 1845, \"pct\": 0.674}, {\"country\": \"South Africa\", \"response\": \"Disagree or Strongly Disagree\", \"n\": 517, \"pct\": 0.18899999999999997}, {\"country\": \"South Africa\", \"response\": \"Undecided or Neutral\", \"n\": 377, \"pct\": 0.138}, {\"country\": \"Spain\", \"response\": \"Agree or Strongly Agree\", \"n\": 517, \"pct\": 0.42200000000000004}, {\"country\": \"Spain\", \"response\": \"Disagree or Strongly Disagree\", \"n\": 453, \"pct\": 0.37}, {\"country\": \"Spain\", \"response\": \"Undecided or Neutral\", \"n\": 255, \"pct\": 0.20800000000000002}, {\"country\": \"Sweden\", \"response\": \"Agree or Strongly Agree\", \"n\": 473, \"pct\": 0.434}, {\"country\": \"Sweden\", \"response\": \"Disagree or Strongly Disagree\", \"n\": 259, \"pct\": 0.23800000000000002}, {\"country\": \"Sweden\", \"response\": \"Undecided or Neutral\", \"n\": 358, \"pct\": 0.32799999999999996}, {\"country\": \"Switzerland\", \"response\": \"Agree or Strongly Agree\", \"n\": 773, \"pct\": 0.625}, {\"country\": \"Switzerland\", \"response\": \"Disagree or Strongly Disagree\", \"n\": 234, \"pct\": 0.18899999999999997}, {\"country\": \"Switzerland\", \"response\": \"Undecided or Neutral\", \"n\": 230, \"pct\": 0.18600000000000003}, {\"country\": \"Taiwan\", \"response\": \"Agree or Strongly Agree\", \"n\": 694, \"pct\": 0.35600000000000004}, {\"country\": \"Taiwan\", \"response\": \"Disagree or Strongly Disagree\", \"n\": 809, \"pct\": 0.414}, {\"country\": \"Taiwan\", \"response\": \"Undecided or Neutral\", \"n\": 449, \"pct\": 0.23}, {\"country\": \"Turkey\", \"response\": \"Agree or Strongly Agree\", \"n\": 996, \"pct\": 0.598}, {\"country\": \"Turkey\", \"response\": \"Disagree or Strongly Disagree\", \"n\": 313, \"pct\": 0.188}, {\"country\": \"Turkey\", \"response\": \"Undecided or Neutral\", \"n\": 357, \"pct\": 0.214}, {\"country\": \"United States\", \"response\": \"Agree or Strongly Agree\", \"n\": 252, \"pct\": 0.198}, {\"country\": \"United States\", \"response\": \"Disagree or Strongly Disagree\", \"n\": 661, \"pct\": 0.519}, {\"country\": \"United States\", \"response\": \"Undecided or Neutral\", \"n\": 361, \"pct\": 0.28300000000000003}]}}, {\"mode\": \"vega-lite\"});\n",
       "</script>"
      ],
      "text/plain": [
       "alt.FacetChart(...)"
      ]
     },
     "execution_count": 57,
     "metadata": {},
     "output_type": "execute_result"
    }
   ],
   "source": [
    "chart = (\n",
    "    alt.Chart(im)\n",
    "    .mark_bar()\n",
    "    .encode(\n",
    "        y='country', \n",
    "        x='pct'\n",
    "    )\n",
    "    .properties(width=100)\n",
    "    .facet(column='response')\n",
    ")\n",
    "\n",
    "chart"
   ]
  },
  {
   "cell_type": "markdown",
   "metadata": {},
   "source": [
    "Clean up..."
   ]
  },
  {
   "cell_type": "code",
   "execution_count": 58,
   "metadata": {},
   "outputs": [],
   "source": [
    "sort = yes.sort_values('pct', ascending=False)['country'].values.tolist()"
   ]
  },
  {
   "cell_type": "code",
   "execution_count": 80,
   "metadata": {},
   "outputs": [
    {
     "data": {
      "text/html": [
       "\n",
       "<div id=\"altair-viz-8486b257488c4b83a6bd1919587dd7e2\"></div>\n",
       "<script type=\"text/javascript\">\n",
       "  (function(spec, embedOpt){\n",
       "    const outputDiv = document.getElementById(\"altair-viz-8486b257488c4b83a6bd1919587dd7e2\");\n",
       "    const paths = {\n",
       "      \"vega\": \"https://cdn.jsdelivr.net/npm//vega@5?noext\",\n",
       "      \"vega-lib\": \"https://cdn.jsdelivr.net/npm//vega-lib?noext\",\n",
       "      \"vega-lite\": \"https://cdn.jsdelivr.net/npm//vega-lite@4.0.2?noext\",\n",
       "      \"vega-embed\": \"https://cdn.jsdelivr.net/npm//vega-embed@6?noext\",\n",
       "    };\n",
       "\n",
       "    function loadScript(lib) {\n",
       "      return new Promise(function(resolve, reject) {\n",
       "        var s = document.createElement('script');\n",
       "        s.src = paths[lib];\n",
       "        s.async = true;\n",
       "        s.onload = () => resolve(paths[lib]);\n",
       "        s.onerror = () => reject(`Error loading script: ${paths[lib]}`);\n",
       "        document.getElementsByTagName(\"head\")[0].appendChild(s);\n",
       "      });\n",
       "    }\n",
       "\n",
       "    function showError(err) {\n",
       "      outputDiv.innerHTML = `<div class=\"error\" style=\"color:red;\">${err}</div>`;\n",
       "      throw err;\n",
       "    }\n",
       "\n",
       "    function displayChart(vegaEmbed) {\n",
       "      vegaEmbed(outputDiv, spec, embedOpt)\n",
       "        .catch(err => showError(`Javascript Error: ${err.message}<br>This usually means there's a typo in your chart specification. See the javascript console for the full traceback.`));\n",
       "    }\n",
       "\n",
       "    if(typeof define === \"function\" && define.amd) {\n",
       "      requirejs.config({paths});\n",
       "      require([\"vega-embed\"], displayChart, err => showError(`Error loading script: ${err.message}`));\n",
       "    } else if (typeof vegaEmbed === \"function\") {\n",
       "      displayChart(vegaEmbed);\n",
       "    } else {\n",
       "      loadScript(\"vega\")\n",
       "        .then(() => loadScript(\"vega-lite\"))\n",
       "        .then(() => loadScript(\"vega-embed\"))\n",
       "        .catch(showError)\n",
       "        .then(() => displayChart(vegaEmbed));\n",
       "    }\n",
       "  })({\"config\": {\"view\": {\"continuousWidth\": 400, \"continuousHeight\": 300}}, \"data\": {\"name\": \"data-70bbb0c66eaec06c187a7054c1c8a72d\"}, \"facet\": {\"column\": {\"type\": \"nominal\", \"field\": \"response\", \"title\": \"\"}}, \"spec\": {\"mark\": \"bar\", \"encoding\": {\"color\": {\"type\": \"nominal\", \"field\": \"response\", \"legend\": null, \"scale\": {\"range\": [\"#1c77c3\", \"#39a9db\", \"#8C8C8C\"]}}, \"x\": {\"type\": \"quantitative\", \"axis\": {\"format\": \"%\"}, \"field\": \"pct\", \"title\": null}, \"y\": {\"type\": \"nominal\", \"field\": \"country\", \"sort\": [\"Czech Republic\", \"Russia\", \"Norway\", \"India\", \"South Africa\", \"Switzerland\", \"Denmark\", \"Turkey\", \"Israel\", \"Hungary\", \"Korea (South)\", \"Slovak Republic\", \"Belgium\", \"Finland\", \"Germany\", \"Portugal\", \"Great Britain\", \"Slovenia\", \"Sweden\", \"Spain\", \"France\", \"Japan\", \"Latvia\", \"Estonia\", \"Taiwan\", \"Iceland\", \"Mexico\", \"Croatia\", \"Georgia\", \"Philippines\", \"Ireland\", \"Lithuania\", \"United States\"], \"title\": null}}, \"height\": 350, \"width\": 150}, \"title\": \"Do Immigrants Increase Crime?\", \"$schema\": \"https://vega.github.io/schema/vega-lite/v4.0.2.json\", \"datasets\": {\"data-70bbb0c66eaec06c187a7054c1c8a72d\": [{\"country\": \"Belgium\", \"response\": \"Agree or Strongly Agree\", \"n\": 1081, \"pct\": 0.491}, {\"country\": \"Belgium\", \"response\": \"Disagree or Strongly Disagree\", \"n\": 444, \"pct\": 0.20199999999999999}, {\"country\": \"Belgium\", \"response\": \"Undecided or Neutral\", \"n\": 677, \"pct\": 0.307}, {\"country\": \"Croatia\", \"response\": \"Agree or Strongly Agree\", \"n\": 323, \"pct\": 0.32299999999999995}, {\"country\": \"Croatia\", \"response\": \"Disagree or Strongly Disagree\", \"n\": 389, \"pct\": 0.389}, {\"country\": \"Croatia\", \"response\": \"Undecided or Neutral\", \"n\": 288, \"pct\": 0.28800000000000003}, {\"country\": \"Czech Republic\", \"response\": \"Agree or Strongly Agree\", \"n\": 1386, \"pct\": 0.726}, {\"country\": \"Czech Republic\", \"response\": \"Disagree or Strongly Disagree\", \"n\": 131, \"pct\": 0.069}, {\"country\": \"Czech Republic\", \"response\": \"Undecided or Neutral\", \"n\": 392, \"pct\": 0.205}, {\"country\": \"Denmark\", \"response\": \"Agree or Strongly Agree\", \"n\": 821, \"pct\": 0.62}, {\"country\": \"Denmark\", \"response\": \"Disagree or Strongly Disagree\", \"n\": 238, \"pct\": 0.18}, {\"country\": \"Denmark\", \"response\": \"Undecided or Neutral\", \"n\": 266, \"pct\": 0.201}, {\"country\": \"Estonia\", \"response\": \"Agree or Strongly Agree\", \"n\": 371, \"pct\": 0.368}, {\"country\": \"Estonia\", \"response\": \"Disagree or Strongly Disagree\", \"n\": 242, \"pct\": 0.24}, {\"country\": \"Estonia\", \"response\": \"Undecided or Neutral\", \"n\": 396, \"pct\": 0.392}, {\"country\": \"Finland\", \"response\": \"Agree or Strongly Agree\", \"n\": 610, \"pct\": 0.491}, {\"country\": \"Finland\", \"response\": \"Disagree or Strongly Disagree\", \"n\": 230, \"pct\": 0.185}, {\"country\": \"Finland\", \"response\": \"Undecided or Neutral\", \"n\": 403, \"pct\": 0.324}, {\"country\": \"France\", \"response\": \"Agree or Strongly Agree\", \"n\": 833, \"pct\": 0.413}, {\"country\": \"France\", \"response\": \"Disagree or Strongly Disagree\", \"n\": 617, \"pct\": 0.306}, {\"country\": \"France\", \"response\": \"Undecided or Neutral\", \"n\": 567, \"pct\": 0.281}, {\"country\": \"Georgia\", \"response\": \"Agree or Strongly Agree\", \"n\": 482, \"pct\": 0.322}, {\"country\": \"Georgia\", \"response\": \"Disagree or Strongly Disagree\", \"n\": 610, \"pct\": 0.40700000000000003}, {\"country\": \"Georgia\", \"response\": \"Undecided or Neutral\", \"n\": 406, \"pct\": 0.271}, {\"country\": \"Germany\", \"response\": \"Agree or Strongly Agree\", \"n\": 813, \"pct\": 0.474}, {\"country\": \"Germany\", \"response\": \"Disagree or Strongly Disagree\", \"n\": 431, \"pct\": 0.251}, {\"country\": \"Germany\", \"response\": \"Undecided or Neutral\", \"n\": 473, \"pct\": 0.275}, {\"country\": \"Great Britain\", \"response\": \"Agree or Strongly Agree\", \"n\": 407, \"pct\": 0.45}, {\"country\": \"Great Britain\", \"response\": \"Disagree or Strongly Disagree\", \"n\": 216, \"pct\": 0.239}, {\"country\": \"Great Britain\", \"response\": \"Undecided or Neutral\", \"n\": 281, \"pct\": 0.311}, {\"country\": \"Hungary\", \"response\": \"Agree or Strongly Agree\", \"n\": 536, \"pct\": 0.532}, {\"country\": \"Hungary\", \"response\": \"Disagree or Strongly Disagree\", \"n\": 185, \"pct\": 0.184}, {\"country\": \"Hungary\", \"response\": \"Undecided or Neutral\", \"n\": 286, \"pct\": 0.284}, {\"country\": \"Iceland\", \"response\": \"Agree or Strongly Agree\", \"n\": 363, \"pct\": 0.335}, {\"country\": \"Iceland\", \"response\": \"Disagree or Strongly Disagree\", \"n\": 417, \"pct\": 0.385}, {\"country\": \"Iceland\", \"response\": \"Undecided or Neutral\", \"n\": 302, \"pct\": 0.27899999999999997}, {\"country\": \"India\", \"response\": \"Agree or Strongly Agree\", \"n\": 1051, \"pct\": 0.687}, {\"country\": \"India\", \"response\": \"Disagree or Strongly Disagree\", \"n\": 190, \"pct\": 0.124}, {\"country\": \"India\", \"response\": \"Undecided or Neutral\", \"n\": 289, \"pct\": 0.18899999999999997}, {\"country\": \"Ireland\", \"response\": \"Agree or Strongly Agree\", \"n\": 353, \"pct\": 0.29100000000000004}, {\"country\": \"Ireland\", \"response\": \"Disagree or Strongly Disagree\", \"n\": 514, \"pct\": 0.423}, {\"country\": \"Ireland\", \"response\": \"Undecided or Neutral\", \"n\": 348, \"pct\": 0.28600000000000003}, {\"country\": \"Israel\", \"response\": \"Agree or Strongly Agree\", \"n\": 666, \"pct\": 0.5529999999999999}, {\"country\": \"Israel\", \"response\": \"Disagree or Strongly Disagree\", \"n\": 231, \"pct\": 0.192}, {\"country\": \"Israel\", \"response\": \"Undecided or Neutral\", \"n\": 307, \"pct\": 0.255}, {\"country\": \"Japan\", \"response\": \"Agree or Strongly Agree\", \"n\": 488, \"pct\": 0.395}, {\"country\": \"Japan\", \"response\": \"Disagree or Strongly Disagree\", \"n\": 247, \"pct\": 0.2}, {\"country\": \"Japan\", \"response\": \"Undecided or Neutral\", \"n\": 499, \"pct\": 0.40399999999999997}, {\"country\": \"Korea (South)\", \"response\": \"Agree or Strongly Agree\", \"n\": 677, \"pct\": 0.523}, {\"country\": \"Korea (South)\", \"response\": \"Disagree or Strongly Disagree\", \"n\": 284, \"pct\": 0.21899999999999997}, {\"country\": \"Korea (South)\", \"response\": \"Undecided or Neutral\", \"n\": 333, \"pct\": 0.257}, {\"country\": \"Latvia\", \"response\": \"Agree or Strongly Agree\", \"n\": 388, \"pct\": 0.38799999999999996}, {\"country\": \"Latvia\", \"response\": \"Disagree or Strongly Disagree\", \"n\": 323, \"pct\": 0.32299999999999995}, {\"country\": \"Latvia\", \"response\": \"Undecided or Neutral\", \"n\": 289, \"pct\": 0.289}, {\"country\": \"Lithuania\", \"response\": \"Agree or Strongly Agree\", \"n\": 326, \"pct\": 0.273}, {\"country\": \"Lithuania\", \"response\": \"Disagree or Strongly Disagree\", \"n\": 332, \"pct\": 0.278}, {\"country\": \"Lithuania\", \"response\": \"Undecided or Neutral\", \"n\": 536, \"pct\": 0.449}, {\"country\": \"Mexico\", \"response\": \"Agree or Strongly Agree\", \"n\": 351, \"pct\": 0.331}, {\"country\": \"Mexico\", \"response\": \"Disagree or Strongly Disagree\", \"n\": 434, \"pct\": 0.409}, {\"country\": \"Mexico\", \"response\": \"Undecided or Neutral\", \"n\": 277, \"pct\": 0.261}, {\"country\": \"Norway\", \"response\": \"Agree or Strongly Agree\", \"n\": 1099, \"pct\": 0.693}, {\"country\": \"Norway\", \"response\": \"Disagree or Strongly Disagree\", \"n\": 173, \"pct\": 0.109}, {\"country\": \"Norway\", \"response\": \"Undecided or Neutral\", \"n\": 313, \"pct\": 0.19699999999999998}, {\"country\": \"Philippines\", \"response\": \"Agree or Strongly Agree\", \"n\": 369, \"pct\": 0.308}, {\"country\": \"Philippines\", \"response\": \"Disagree or Strongly Disagree\", \"n\": 540, \"pct\": 0.45}, {\"country\": \"Philippines\", \"response\": \"Undecided or Neutral\", \"n\": 291, \"pct\": 0.242}, {\"country\": \"Portugal\", \"response\": \"Agree or Strongly Agree\", \"n\": 473, \"pct\": 0.473}, {\"country\": \"Portugal\", \"response\": \"Disagree or Strongly Disagree\", \"n\": 283, \"pct\": 0.28300000000000003}, {\"country\": \"Portugal\", \"response\": \"Undecided or Neutral\", \"n\": 245, \"pct\": 0.245}, {\"country\": \"Russia\", \"response\": \"Agree or Strongly Agree\", \"n\": 1065, \"pct\": 0.703}, {\"country\": \"Russia\", \"response\": \"Disagree or Strongly Disagree\", \"n\": 139, \"pct\": 0.092}, {\"country\": \"Russia\", \"response\": \"Undecided or Neutral\", \"n\": 312, \"pct\": 0.20600000000000002}, {\"country\": \"Slovak Republic\", \"response\": \"Agree or Strongly Agree\", \"n\": 605, \"pct\": 0.523}, {\"country\": \"Slovak Republic\", \"response\": \"Disagree or Strongly Disagree\", \"n\": 190, \"pct\": 0.16399999999999998}, {\"country\": \"Slovak Republic\", \"response\": \"Undecided or Neutral\", \"n\": 361, \"pct\": 0.312}, {\"country\": \"Slovenia\", \"response\": \"Agree or Strongly Agree\", \"n\": 444, \"pct\": 0.44}, {\"country\": \"Slovenia\", \"response\": \"Disagree or Strongly Disagree\", \"n\": 283, \"pct\": 0.28}, {\"country\": \"Slovenia\", \"response\": \"Undecided or Neutral\", \"n\": 283, \"pct\": 0.28}, {\"country\": \"South Africa\", \"response\": \"Agree or Strongly Agree\", \"n\": 1845, \"pct\": 0.674}, {\"country\": \"South Africa\", \"response\": \"Disagree or Strongly Disagree\", \"n\": 517, \"pct\": 0.18899999999999997}, {\"country\": \"South Africa\", \"response\": \"Undecided or Neutral\", \"n\": 377, \"pct\": 0.138}, {\"country\": \"Spain\", \"response\": \"Agree or Strongly Agree\", \"n\": 517, \"pct\": 0.42200000000000004}, {\"country\": \"Spain\", \"response\": \"Disagree or Strongly Disagree\", \"n\": 453, \"pct\": 0.37}, {\"country\": \"Spain\", \"response\": \"Undecided or Neutral\", \"n\": 255, \"pct\": 0.20800000000000002}, {\"country\": \"Sweden\", \"response\": \"Agree or Strongly Agree\", \"n\": 473, \"pct\": 0.434}, {\"country\": \"Sweden\", \"response\": \"Disagree or Strongly Disagree\", \"n\": 259, \"pct\": 0.23800000000000002}, {\"country\": \"Sweden\", \"response\": \"Undecided or Neutral\", \"n\": 358, \"pct\": 0.32799999999999996}, {\"country\": \"Switzerland\", \"response\": \"Agree or Strongly Agree\", \"n\": 773, \"pct\": 0.625}, {\"country\": \"Switzerland\", \"response\": \"Disagree or Strongly Disagree\", \"n\": 234, \"pct\": 0.18899999999999997}, {\"country\": \"Switzerland\", \"response\": \"Undecided or Neutral\", \"n\": 230, \"pct\": 0.18600000000000003}, {\"country\": \"Taiwan\", \"response\": \"Agree or Strongly Agree\", \"n\": 694, \"pct\": 0.35600000000000004}, {\"country\": \"Taiwan\", \"response\": \"Disagree or Strongly Disagree\", \"n\": 809, \"pct\": 0.414}, {\"country\": \"Taiwan\", \"response\": \"Undecided or Neutral\", \"n\": 449, \"pct\": 0.23}, {\"country\": \"Turkey\", \"response\": \"Agree or Strongly Agree\", \"n\": 996, \"pct\": 0.598}, {\"country\": \"Turkey\", \"response\": \"Disagree or Strongly Disagree\", \"n\": 313, \"pct\": 0.188}, {\"country\": \"Turkey\", \"response\": \"Undecided or Neutral\", \"n\": 357, \"pct\": 0.214}, {\"country\": \"United States\", \"response\": \"Agree or Strongly Agree\", \"n\": 252, \"pct\": 0.198}, {\"country\": \"United States\", \"response\": \"Disagree or Strongly Disagree\", \"n\": 661, \"pct\": 0.519}, {\"country\": \"United States\", \"response\": \"Undecided or Neutral\", \"n\": 361, \"pct\": 0.28300000000000003}]}}, {\"mode\": \"vega-lite\"});\n",
       "</script>"
      ],
      "text/plain": [
       "alt.FacetChart(...)"
      ]
     },
     "execution_count": 80,
     "metadata": {},
     "output_type": "execute_result"
    }
   ],
   "source": [
    "chart = (\n",
    "    alt.Chart(im)\n",
    "    .mark_bar()\n",
    "    .encode(\n",
    "        y=alt.Y('country', sort=sort, title=None),\n",
    "        x=alt.X('pct', axis=alt.Axis(format='%'), title=None),\n",
    "        color=alt.Color(\n",
    "            'response', \n",
    "            legend=None, \n",
    "            scale=alt.Scale(range=[\"#1c77c3\", \"#39a9db\", \"#8C8C8C\"]))\n",
    "    )\n",
    "    .properties(width=150, height=350)\n",
    "    .facet(column=alt.Column('response', title=''))\n",
    ")\n",
    "\n",
    "chart.properties(title=\"Do Immigrants Increase Crime?\")"
   ]
  },
  {
   "cell_type": "markdown",
   "metadata": {},
   "source": [
    "### Back to `sex.csv`"
   ]
  },
  {
   "cell_type": "markdown",
   "metadata": {},
   "source": [
    "ZA4950: International Social Survey Programme: Religion III - ISSP 2008\n",
    "        \n",
    "[Source](https://zacat.gesis.org/webview/index.jsp?object=http://zacat.gesis.org/obj/fStudy/ZA4950)"
   ]
  },
  {
   "cell_type": "code",
   "execution_count": 88,
   "metadata": {},
   "outputs": [],
   "source": [
    "sex = pd.read_csv('../data/sex.csv')\n",
    "sex = sex.rename(columns={'age2': 'age'})\n",
    "sex['pct'] /= 100"
   ]
  },
  {
   "cell_type": "code",
   "execution_count": 89,
   "metadata": {},
   "outputs": [
    {
     "data": {
      "text/html": [
       "<div>\n",
       "<style scoped>\n",
       "    .dataframe tbody tr th:only-of-type {\n",
       "        vertical-align: middle;\n",
       "    }\n",
       "\n",
       "    .dataframe tbody tr th {\n",
       "        vertical-align: top;\n",
       "    }\n",
       "\n",
       "    .dataframe thead th {\n",
       "        text-align: right;\n",
       "    }\n",
       "</style>\n",
       "<table border=\"1\" class=\"dataframe\">\n",
       "  <thead>\n",
       "    <tr style=\"text-align: right;\">\n",
       "      <th></th>\n",
       "      <th>age</th>\n",
       "      <th>religion</th>\n",
       "      <th>response</th>\n",
       "      <th>n</th>\n",
       "      <th>pct</th>\n",
       "    </tr>\n",
       "  </thead>\n",
       "  <tbody>\n",
       "    <tr>\n",
       "      <td>178</td>\n",
       "      <td>60-69</td>\n",
       "      <td>Jewish</td>\n",
       "      <td>Wrong</td>\n",
       "      <td>72</td>\n",
       "      <td>0.500</td>\n",
       "    </tr>\n",
       "    <tr>\n",
       "      <td>90</td>\n",
       "      <td>30-39</td>\n",
       "      <td>Other Religions</td>\n",
       "      <td>Not wrong</td>\n",
       "      <td>42</td>\n",
       "      <td>0.396</td>\n",
       "    </tr>\n",
       "    <tr>\n",
       "      <td>128</td>\n",
       "      <td>40-49</td>\n",
       "      <td>Protestant</td>\n",
       "      <td>Wrong-ish</td>\n",
       "      <td>237</td>\n",
       "      <td>0.108</td>\n",
       "    </tr>\n",
       "    <tr>\n",
       "      <td>33</td>\n",
       "      <td>25-29</td>\n",
       "      <td>Buddhism</td>\n",
       "      <td>Not wrong</td>\n",
       "      <td>23</td>\n",
       "      <td>0.377</td>\n",
       "    </tr>\n",
       "    <tr>\n",
       "      <td>140</td>\n",
       "      <td>50-59</td>\n",
       "      <td>Hinduism</td>\n",
       "      <td>Wrong-ish</td>\n",
       "      <td>3</td>\n",
       "      <td>0.097</td>\n",
       "    </tr>\n",
       "  </tbody>\n",
       "</table>\n",
       "</div>"
      ],
      "text/plain": [
       "       age         religion   response    n    pct\n",
       "178  60-69           Jewish      Wrong   72  0.500\n",
       "90   30-39  Other Religions  Not wrong   42  0.396\n",
       "128  40-49       Protestant  Wrong-ish  237  0.108\n",
       "33   25-29         Buddhism  Not wrong   23  0.377\n",
       "140  50-59         Hinduism  Wrong-ish    3  0.097"
      ]
     },
     "execution_count": 89,
     "metadata": {},
     "output_type": "execute_result"
    }
   ],
   "source": [
    "sex.sample(5)"
   ]
  },
  {
   "cell_type": "code",
   "execution_count": 95,
   "metadata": {},
   "outputs": [
    {
     "data": {
      "text/html": [
       "\n",
       "<div id=\"altair-viz-38b3d2ed48d545389a34b78303d9c702\"></div>\n",
       "<script type=\"text/javascript\">\n",
       "  (function(spec, embedOpt){\n",
       "    const outputDiv = document.getElementById(\"altair-viz-38b3d2ed48d545389a34b78303d9c702\");\n",
       "    const paths = {\n",
       "      \"vega\": \"https://cdn.jsdelivr.net/npm//vega@5?noext\",\n",
       "      \"vega-lib\": \"https://cdn.jsdelivr.net/npm//vega-lib?noext\",\n",
       "      \"vega-lite\": \"https://cdn.jsdelivr.net/npm//vega-lite@4.0.2?noext\",\n",
       "      \"vega-embed\": \"https://cdn.jsdelivr.net/npm//vega-embed@6?noext\",\n",
       "    };\n",
       "\n",
       "    function loadScript(lib) {\n",
       "      return new Promise(function(resolve, reject) {\n",
       "        var s = document.createElement('script');\n",
       "        s.src = paths[lib];\n",
       "        s.async = true;\n",
       "        s.onload = () => resolve(paths[lib]);\n",
       "        s.onerror = () => reject(`Error loading script: ${paths[lib]}`);\n",
       "        document.getElementsByTagName(\"head\")[0].appendChild(s);\n",
       "      });\n",
       "    }\n",
       "\n",
       "    function showError(err) {\n",
       "      outputDiv.innerHTML = `<div class=\"error\" style=\"color:red;\">${err}</div>`;\n",
       "      throw err;\n",
       "    }\n",
       "\n",
       "    function displayChart(vegaEmbed) {\n",
       "      vegaEmbed(outputDiv, spec, embedOpt)\n",
       "        .catch(err => showError(`Javascript Error: ${err.message}<br>This usually means there's a typo in your chart specification. See the javascript console for the full traceback.`));\n",
       "    }\n",
       "\n",
       "    if(typeof define === \"function\" && define.amd) {\n",
       "      requirejs.config({paths});\n",
       "      require([\"vega-embed\"], displayChart, err => showError(`Error loading script: ${err.message}`));\n",
       "    } else if (typeof vegaEmbed === \"function\") {\n",
       "      displayChart(vegaEmbed);\n",
       "    } else {\n",
       "      loadScript(\"vega\")\n",
       "        .then(() => loadScript(\"vega-lite\"))\n",
       "        .then(() => loadScript(\"vega-embed\"))\n",
       "        .catch(showError)\n",
       "        .then(() => displayChart(vegaEmbed));\n",
       "    }\n",
       "  })({\"config\": {\"view\": {\"continuousWidth\": 400, \"continuousHeight\": 300}}, \"data\": {\"name\": \"data-235d74cff4151e7f691ed260b343d78b\"}, \"mark\": {\"type\": \"circle\", \"opacity\": 0.75}, \"encoding\": {\"color\": {\"type\": \"nominal\", \"field\": \"response\", \"legend\": {\"orient\": \"top\", \"title\": \"\"}, \"scale\": {\"domain\": [\"Not wrong\", \"Wrong-ish\", \"Wrong\"], \"range\": [\"#39a9db\", \"#f39237\", \"#d63230\"]}}, \"x\": {\"type\": \"quantitative\", \"axis\": {\"format\": \"%\", \"title\": \"\"}, \"field\": \"pct\"}, \"y\": {\"type\": \"nominal\", \"axis\": {\"grid\": true, \"title\": \"\"}, \"field\": \"age\", \"scale\": {\"domain\": [\"70+\", \"60-69\", \"50-59\", \"40-49\", \"30-39\", \"25-29\", \"18-24\"]}}}, \"$schema\": \"https://vega.github.io/schema/vega-lite/v4.0.2.json\", \"datasets\": {\"data-235d74cff4151e7f691ed260b343d78b\": [{\"age\": \"18-24\", \"religion\": \"No religion\", \"response\": \"Not wrong\", \"n\": 1147, \"pct\": 0.762}, {\"age\": \"18-24\", \"religion\": \"No religion\", \"response\": \"Wrong\", \"n\": 161, \"pct\": 0.107}, {\"age\": \"18-24\", \"religion\": \"No religion\", \"response\": \"Wrong-ish\", \"n\": 197, \"pct\": 0.131}, {\"age\": \"25-29\", \"religion\": \"No religion\", \"response\": \"Not wrong\", \"n\": 887, \"pct\": 0.755}, {\"age\": \"25-29\", \"religion\": \"No religion\", \"response\": \"Wrong\", \"n\": 116, \"pct\": 0.099}, {\"age\": \"25-29\", \"religion\": \"No religion\", \"response\": \"Wrong-ish\", \"n\": 172, \"pct\": 0.146}, {\"age\": \"30-39\", \"religion\": \"No religion\", \"response\": \"Not wrong\", \"n\": 1853, \"pct\": 0.763}, {\"age\": \"30-39\", \"religion\": \"No religion\", \"response\": \"Wrong\", \"n\": 205, \"pct\": 0.084}, {\"age\": \"30-39\", \"religion\": \"No religion\", \"response\": \"Wrong-ish\", \"n\": 370, \"pct\": 0.152}, {\"age\": \"40-49\", \"religion\": \"No religion\", \"response\": \"Not wrong\", \"n\": 1818, \"pct\": 0.7440000000000001}, {\"age\": \"40-49\", \"religion\": \"No religion\", \"response\": \"Wrong\", \"n\": 251, \"pct\": 0.10300000000000001}, {\"age\": \"40-49\", \"religion\": \"No religion\", \"response\": \"Wrong-ish\", \"n\": 375, \"pct\": 0.153}, {\"age\": \"50-59\", \"religion\": \"No religion\", \"response\": \"Not wrong\", \"n\": 1591, \"pct\": 0.75}, {\"age\": \"50-59\", \"religion\": \"No religion\", \"response\": \"Wrong\", \"n\": 211, \"pct\": 0.1}, {\"age\": \"50-59\", \"religion\": \"No religion\", \"response\": \"Wrong-ish\", \"n\": 318, \"pct\": 0.15}, {\"age\": \"60-69\", \"religion\": \"No religion\", \"response\": \"Not wrong\", \"n\": 970, \"pct\": 0.6629999999999999}, {\"age\": \"60-69\", \"religion\": \"No religion\", \"response\": \"Wrong\", \"n\": 211, \"pct\": 0.14400000000000002}, {\"age\": \"60-69\", \"religion\": \"No religion\", \"response\": \"Wrong-ish\", \"n\": 282, \"pct\": 0.193}, {\"age\": \"70+\", \"religion\": \"No religion\", \"response\": \"Not wrong\", \"n\": 469, \"pct\": 0.521}, {\"age\": \"70+\", \"religion\": \"No religion\", \"response\": \"Wrong\", \"n\": 236, \"pct\": 0.262}, {\"age\": \"70+\", \"religion\": \"No religion\", \"response\": \"Wrong-ish\", \"n\": 195, \"pct\": 0.217}]}}, {\"mode\": \"vega-lite\"});\n",
       "</script>"
      ],
      "text/plain": [
       "alt.Chart(...)"
      ]
     },
     "execution_count": 95,
     "metadata": {},
     "output_type": "execute_result"
    }
   ],
   "source": [
    "no = df[df['religion'] == 'No religion']\n",
    "\n",
    "chart = (\n",
    "    alt.Chart(no)\n",
    "    .mark_circle(opacity=3/4)\n",
    "    .encode(\n",
    "        x=alt.X('pct:Q', axis=alt.Axis(title='', format='%')),\n",
    "        y=alt.Y('age', \n",
    "            axis=alt.Axis(title='', grid=True),\n",
    "            scale=alt.Scale(domain=['70+','60-69', '50-59', '40-49', '30-39', '25-29', '18-24']),\n",
    "        ), \n",
    "        color=alt.Color('response', \n",
    "            scale=alt.Scale(\n",
    "                domain=['Not wrong', 'Wrong-ish', 'Wrong'], \n",
    "                range=[\"#39a9db\", \"#f39237\", \"#d63230\"]),\n",
    "            legend=alt.Legend(title='', orient='top')\n",
    "        )\n",
    "    )\n",
    ")\n",
    "\n",
    "chart"
   ]
  },
  {
   "cell_type": "code",
   "execution_count": 101,
   "metadata": {},
   "outputs": [
    {
     "data": {
      "text/html": [
       "\n",
       "<div id=\"altair-viz-328496dc1c65413f8975e1b83b8609ed\"></div>\n",
       "<script type=\"text/javascript\">\n",
       "  (function(spec, embedOpt){\n",
       "    const outputDiv = document.getElementById(\"altair-viz-328496dc1c65413f8975e1b83b8609ed\");\n",
       "    const paths = {\n",
       "      \"vega\": \"https://cdn.jsdelivr.net/npm//vega@5?noext\",\n",
       "      \"vega-lib\": \"https://cdn.jsdelivr.net/npm//vega-lib?noext\",\n",
       "      \"vega-lite\": \"https://cdn.jsdelivr.net/npm//vega-lite@4.0.2?noext\",\n",
       "      \"vega-embed\": \"https://cdn.jsdelivr.net/npm//vega-embed@6?noext\",\n",
       "    };\n",
       "\n",
       "    function loadScript(lib) {\n",
       "      return new Promise(function(resolve, reject) {\n",
       "        var s = document.createElement('script');\n",
       "        s.src = paths[lib];\n",
       "        s.async = true;\n",
       "        s.onload = () => resolve(paths[lib]);\n",
       "        s.onerror = () => reject(`Error loading script: ${paths[lib]}`);\n",
       "        document.getElementsByTagName(\"head\")[0].appendChild(s);\n",
       "      });\n",
       "    }\n",
       "\n",
       "    function showError(err) {\n",
       "      outputDiv.innerHTML = `<div class=\"error\" style=\"color:red;\">${err}</div>`;\n",
       "      throw err;\n",
       "    }\n",
       "\n",
       "    function displayChart(vegaEmbed) {\n",
       "      vegaEmbed(outputDiv, spec, embedOpt)\n",
       "        .catch(err => showError(`Javascript Error: ${err.message}<br>This usually means there's a typo in your chart specification. See the javascript console for the full traceback.`));\n",
       "    }\n",
       "\n",
       "    if(typeof define === \"function\" && define.amd) {\n",
       "      requirejs.config({paths});\n",
       "      require([\"vega-embed\"], displayChart, err => showError(`Error loading script: ${err.message}`));\n",
       "    } else if (typeof vegaEmbed === \"function\") {\n",
       "      displayChart(vegaEmbed);\n",
       "    } else {\n",
       "      loadScript(\"vega\")\n",
       "        .then(() => loadScript(\"vega-lite\"))\n",
       "        .then(() => loadScript(\"vega-embed\"))\n",
       "        .catch(showError)\n",
       "        .then(() => displayChart(vegaEmbed));\n",
       "    }\n",
       "  })({\"config\": {\"view\": {\"continuousWidth\": 400, \"continuousHeight\": 300, \"strokeWidth\": 0}}, \"data\": {\"name\": \"data-cc39b92d2241f14d033ea7c943f8042d\"}, \"facet\": {\"type\": \"nominal\", \"field\": \"religion\"}, \"spec\": {\"mark\": {\"type\": \"circle\", \"opacity\": 0.75}, \"encoding\": {\"color\": {\"type\": \"nominal\", \"field\": \"response\", \"legend\": {\"orient\": \"top\", \"title\": \"\"}, \"scale\": {\"domain\": [\"Not wrong\", \"Wrong-ish\", \"Wrong\"], \"range\": [\"#39a9db\", \"#f39237\", \"#d63230\"]}}, \"x\": {\"type\": \"quantitative\", \"axis\": {\"format\": \"%\", \"title\": \"\"}, \"field\": \"pct\"}, \"y\": {\"type\": \"nominal\", \"axis\": {\"grid\": true, \"title\": \"\"}, \"field\": \"age\", \"scale\": {\"domain\": [\"70+\", \"60-69\", \"50-59\", \"40-49\", \"30-39\", \"25-29\", \"18-24\"]}}}, \"height\": 100, \"width\": 100}, \"background\": \"#F0F0F0\", \"columns\": 3, \"title\": \"Sex Before Marriage\", \"$schema\": \"https://vega.github.io/schema/vega-lite/v4.0.2.json\", \"datasets\": {\"data-cc39b92d2241f14d033ea7c943f8042d\": [{\"age\": \"18-24\", \"religion\": \"Buddhism\", \"response\": \"Not wrong\", \"n\": 30, \"pct\": 0.4}, {\"age\": \"18-24\", \"religion\": \"Buddhism\", \"response\": \"Wrong\", \"n\": 12, \"pct\": 0.16}, {\"age\": \"18-24\", \"religion\": \"Buddhism\", \"response\": \"Wrong-ish\", \"n\": 33, \"pct\": 0.44}, {\"age\": \"18-24\", \"religion\": \"Christian Orthodox\", \"response\": \"Not wrong\", \"n\": 286, \"pct\": 0.665}, {\"age\": \"18-24\", \"religion\": \"Christian Orthodox\", \"response\": \"Wrong\", \"n\": 61, \"pct\": 0.142}, {\"age\": \"18-24\", \"religion\": \"Christian Orthodox\", \"response\": \"Wrong-ish\", \"n\": 83, \"pct\": 0.193}, {\"age\": \"18-24\", \"religion\": \"Hinduism\", \"response\": \"Not wrong\", \"n\": 7, \"pct\": 0.28}, {\"age\": \"18-24\", \"religion\": \"Hinduism\", \"response\": \"Wrong\", \"n\": 13, \"pct\": 0.52}, {\"age\": \"18-24\", \"religion\": \"Hinduism\", \"response\": \"Wrong-ish\", \"n\": 5, \"pct\": 0.2}, {\"age\": \"18-24\", \"religion\": \"Islam\", \"response\": \"Not wrong\", \"n\": 24, \"pct\": 0.075}, {\"age\": \"18-24\", \"religion\": \"Islam\", \"response\": \"Wrong\", \"n\": 259, \"pct\": 0.8140000000000001}, {\"age\": \"18-24\", \"religion\": \"Islam\", \"response\": \"Wrong-ish\", \"n\": 35, \"pct\": 0.11}, {\"age\": \"18-24\", \"religion\": \"Jewish\", \"response\": \"Not wrong\", \"n\": 86, \"pct\": 0.57}, {\"age\": \"18-24\", \"religion\": \"Jewish\", \"response\": \"Wrong\", \"n\": 48, \"pct\": 0.318}, {\"age\": \"18-24\", \"religion\": \"Jewish\", \"response\": \"Wrong-ish\", \"n\": 17, \"pct\": 0.113}, {\"age\": \"18-24\", \"religion\": \"No religion\", \"response\": \"Not wrong\", \"n\": 1147, \"pct\": 0.762}, {\"age\": \"18-24\", \"religion\": \"No religion\", \"response\": \"Wrong\", \"n\": 161, \"pct\": 0.107}, {\"age\": \"18-24\", \"religion\": \"No religion\", \"response\": \"Wrong-ish\", \"n\": 197, \"pct\": 0.131}, {\"age\": \"18-24\", \"religion\": \"Other Christian Religions\", \"response\": \"Not wrong\", \"n\": 61, \"pct\": 0.35100000000000003}, {\"age\": \"18-24\", \"religion\": \"Other Christian Religions\", \"response\": \"Wrong\", \"n\": 92, \"pct\": 0.529}, {\"age\": \"18-24\", \"religion\": \"Other Christian Religions\", \"response\": \"Wrong-ish\", \"n\": 21, \"pct\": 0.121}, {\"age\": \"18-24\", \"religion\": \"Other Eastern Religions\", \"response\": \"Not wrong\", \"n\": 36, \"pct\": 0.31}, {\"age\": \"18-24\", \"religion\": \"Other Eastern Religions\", \"response\": \"Wrong\", \"n\": 33, \"pct\": 0.284}, {\"age\": \"18-24\", \"religion\": \"Other Eastern Religions\", \"response\": \"Wrong-ish\", \"n\": 47, \"pct\": 0.405}, {\"age\": \"18-24\", \"religion\": \"Other Religions\", \"response\": \"Not wrong\", \"n\": 19, \"pct\": 0.358}, {\"age\": \"18-24\", \"religion\": \"Other Religions\", \"response\": \"Wrong\", \"n\": 28, \"pct\": 0.528}, {\"age\": \"18-24\", \"religion\": \"Other Religions\", \"response\": \"Wrong-ish\", \"n\": 6, \"pct\": 0.113}, {\"age\": \"18-24\", \"religion\": \"Protestant\", \"response\": \"Not wrong\", \"n\": 582, \"pct\": 0.552}, {\"age\": \"18-24\", \"religion\": \"Protestant\", \"response\": \"Wrong\", \"n\": 346, \"pct\": 0.32799999999999996}, {\"age\": \"18-24\", \"religion\": \"Protestant\", \"response\": \"Wrong-ish\", \"n\": 127, \"pct\": 0.12}, {\"age\": \"18-24\", \"religion\": \"Roman Catholic\", \"response\": \"Not wrong\", \"n\": 1330, \"pct\": 0.581}, {\"age\": \"18-24\", \"religion\": \"Roman Catholic\", \"response\": \"Wrong\", \"n\": 589, \"pct\": 0.257}, {\"age\": \"18-24\", \"religion\": \"Roman Catholic\", \"response\": \"Wrong-ish\", \"n\": 369, \"pct\": 0.161}, {\"age\": \"25-29\", \"religion\": \"Buddhism\", \"response\": \"Not wrong\", \"n\": 23, \"pct\": 0.377}, {\"age\": \"25-29\", \"religion\": \"Buddhism\", \"response\": \"Wrong\", \"n\": 15, \"pct\": 0.24600000000000002}, {\"age\": \"25-29\", \"religion\": \"Buddhism\", \"response\": \"Wrong-ish\", \"n\": 23, \"pct\": 0.377}, {\"age\": \"25-29\", \"religion\": \"Christian Orthodox\", \"response\": \"Not wrong\", \"n\": 215, \"pct\": 0.662}, {\"age\": \"25-29\", \"religion\": \"Christian Orthodox\", \"response\": \"Wrong\", \"n\": 40, \"pct\": 0.12300000000000001}, {\"age\": \"25-29\", \"religion\": \"Christian Orthodox\", \"response\": \"Wrong-ish\", \"n\": 70, \"pct\": 0.215}, {\"age\": \"25-29\", \"religion\": \"Hinduism\", \"response\": \"Not wrong\", \"n\": 2, \"pct\": 0.154}, {\"age\": \"25-29\", \"religion\": \"Hinduism\", \"response\": \"Wrong\", \"n\": 7, \"pct\": 0.5379999999999999}, {\"age\": \"25-29\", \"religion\": \"Hinduism\", \"response\": \"Wrong-ish\", \"n\": 4, \"pct\": 0.308}, {\"age\": \"25-29\", \"religion\": \"Islam\", \"response\": \"Not wrong\", \"n\": 30, \"pct\": 0.10099999999999999}, {\"age\": \"25-29\", \"religion\": \"Islam\", \"response\": \"Wrong\", \"n\": 231, \"pct\": 0.778}, {\"age\": \"25-29\", \"religion\": \"Islam\", \"response\": \"Wrong-ish\", \"n\": 36, \"pct\": 0.121}, {\"age\": \"25-29\", \"religion\": \"Jewish\", \"response\": \"Not wrong\", \"n\": 65, \"pct\": 0.619}, {\"age\": \"25-29\", \"religion\": \"Jewish\", \"response\": \"Wrong\", \"n\": 32, \"pct\": 0.305}, {\"age\": \"25-29\", \"religion\": \"Jewish\", \"response\": \"Wrong-ish\", \"n\": 8, \"pct\": 0.076}, {\"age\": \"25-29\", \"religion\": \"No religion\", \"response\": \"Not wrong\", \"n\": 887, \"pct\": 0.755}, {\"age\": \"25-29\", \"religion\": \"No religion\", \"response\": \"Wrong\", \"n\": 116, \"pct\": 0.099}, {\"age\": \"25-29\", \"religion\": \"No religion\", \"response\": \"Wrong-ish\", \"n\": 172, \"pct\": 0.146}, {\"age\": \"25-29\", \"religion\": \"Other Christian Religions\", \"response\": \"Not wrong\", \"n\": 43, \"pct\": 0.355}, {\"age\": \"25-29\", \"religion\": \"Other Christian Religions\", \"response\": \"Wrong\", \"n\": 58, \"pct\": 0.479}, {\"age\": \"25-29\", \"religion\": \"Other Christian Religions\", \"response\": \"Wrong-ish\", \"n\": 20, \"pct\": 0.165}, {\"age\": \"25-29\", \"religion\": \"Other Eastern Religions\", \"response\": \"Not wrong\", \"n\": 39, \"pct\": 0.386}, {\"age\": \"25-29\", \"religion\": \"Other Eastern Religions\", \"response\": \"Wrong\", \"n\": 21, \"pct\": 0.20800000000000002}, {\"age\": \"25-29\", \"religion\": \"Other Eastern Religions\", \"response\": \"Wrong-ish\", \"n\": 41, \"pct\": 0.406}, {\"age\": \"25-29\", \"religion\": \"Other Religions\", \"response\": \"Not wrong\", \"n\": 23, \"pct\": 0.41100000000000003}, {\"age\": \"25-29\", \"religion\": \"Other Religions\", \"response\": \"Wrong\", \"n\": 25, \"pct\": 0.446}, {\"age\": \"25-29\", \"religion\": \"Other Religions\", \"response\": \"Wrong-ish\", \"n\": 8, \"pct\": 0.14300000000000002}, {\"age\": \"25-29\", \"religion\": \"Protestant\", \"response\": \"Not wrong\", \"n\": 495, \"pct\": 0.589}, {\"age\": \"25-29\", \"religion\": \"Protestant\", \"response\": \"Wrong\", \"n\": 253, \"pct\": 0.301}, {\"age\": \"25-29\", \"religion\": \"Protestant\", \"response\": \"Wrong-ish\", \"n\": 92, \"pct\": 0.11}, {\"age\": \"25-29\", \"religion\": \"Roman Catholic\", \"response\": \"Not wrong\", \"n\": 1160, \"pct\": 0.601}, {\"age\": \"25-29\", \"religion\": \"Roman Catholic\", \"response\": \"Wrong\", \"n\": 500, \"pct\": 0.259}, {\"age\": \"25-29\", \"religion\": \"Roman Catholic\", \"response\": \"Wrong-ish\", \"n\": 271, \"pct\": 0.14}, {\"age\": \"30-39\", \"religion\": \"Buddhism\", \"response\": \"Not wrong\", \"n\": 43, \"pct\": 0.27899999999999997}, {\"age\": \"30-39\", \"religion\": \"Buddhism\", \"response\": \"Wrong\", \"n\": 44, \"pct\": 0.28600000000000003}, {\"age\": \"30-39\", \"religion\": \"Buddhism\", \"response\": \"Wrong-ish\", \"n\": 67, \"pct\": 0.435}, {\"age\": \"30-39\", \"religion\": \"Christian Orthodox\", \"response\": \"Not wrong\", \"n\": 376, \"pct\": 0.588}, {\"age\": \"30-39\", \"religion\": \"Christian Orthodox\", \"response\": \"Wrong\", \"n\": 129, \"pct\": 0.20199999999999999}, {\"age\": \"30-39\", \"religion\": \"Christian Orthodox\", \"response\": \"Wrong-ish\", \"n\": 134, \"pct\": 0.21}, {\"age\": \"30-39\", \"religion\": \"Hinduism\", \"response\": \"Not wrong\", \"n\": 9, \"pct\": 0.225}, {\"age\": \"30-39\", \"religion\": \"Hinduism\", \"response\": \"Wrong\", \"n\": 27, \"pct\": 0.675}, {\"age\": \"30-39\", \"religion\": \"Hinduism\", \"response\": \"Wrong-ish\", \"n\": 4, \"pct\": 0.1}, {\"age\": \"30-39\", \"religion\": \"Islam\", \"response\": \"Not wrong\", \"n\": 52, \"pct\": 0.099}, {\"age\": \"30-39\", \"religion\": \"Islam\", \"response\": \"Wrong\", \"n\": 430, \"pct\": 0.821}, {\"age\": \"30-39\", \"religion\": \"Islam\", \"response\": \"Wrong-ish\", \"n\": 42, \"pct\": 0.08}, {\"age\": \"30-39\", \"religion\": \"Jewish\", \"response\": \"Not wrong\", \"n\": 108, \"pct\": 0.524}, {\"age\": \"30-39\", \"religion\": \"Jewish\", \"response\": \"Wrong\", \"n\": 72, \"pct\": 0.35}, {\"age\": \"30-39\", \"religion\": \"Jewish\", \"response\": \"Wrong-ish\", \"n\": 26, \"pct\": 0.126}, {\"age\": \"30-39\", \"religion\": \"No religion\", \"response\": \"Not wrong\", \"n\": 1853, \"pct\": 0.763}, {\"age\": \"30-39\", \"religion\": \"No religion\", \"response\": \"Wrong\", \"n\": 205, \"pct\": 0.084}, {\"age\": \"30-39\", \"religion\": \"No religion\", \"response\": \"Wrong-ish\", \"n\": 370, \"pct\": 0.152}, {\"age\": \"30-39\", \"religion\": \"Other Christian Religions\", \"response\": \"Not wrong\", \"n\": 94, \"pct\": 0.39}, {\"age\": \"30-39\", \"religion\": \"Other Christian Religions\", \"response\": \"Wrong\", \"n\": 110, \"pct\": 0.456}, {\"age\": \"30-39\", \"religion\": \"Other Christian Religions\", \"response\": \"Wrong-ish\", \"n\": 37, \"pct\": 0.154}, {\"age\": \"30-39\", \"religion\": \"Other Eastern Religions\", \"response\": \"Not wrong\", \"n\": 66, \"pct\": 0.325}, {\"age\": \"30-39\", \"religion\": \"Other Eastern Religions\", \"response\": \"Wrong\", \"n\": 62, \"pct\": 0.305}, {\"age\": \"30-39\", \"religion\": \"Other Eastern Religions\", \"response\": \"Wrong-ish\", \"n\": 75, \"pct\": 0.369}, {\"age\": \"30-39\", \"religion\": \"Other Religions\", \"response\": \"Not wrong\", \"n\": 42, \"pct\": 0.396}, {\"age\": \"30-39\", \"religion\": \"Other Religions\", \"response\": \"Wrong\", \"n\": 47, \"pct\": 0.44299999999999995}, {\"age\": \"30-39\", \"religion\": \"Other Religions\", \"response\": \"Wrong-ish\", \"n\": 17, \"pct\": 0.16}, {\"age\": \"30-39\", \"religion\": \"Protestant\", \"response\": \"Not wrong\", \"n\": 1200, \"pct\": 0.588}, {\"age\": \"30-39\", \"religion\": \"Protestant\", \"response\": \"Wrong\", \"n\": 586, \"pct\": 0.287}, {\"age\": \"30-39\", \"religion\": \"Protestant\", \"response\": \"Wrong-ish\", \"n\": 254, \"pct\": 0.125}, {\"age\": \"30-39\", \"religion\": \"Roman Catholic\", \"response\": \"Not wrong\", \"n\": 2343, \"pct\": 0.596}, {\"age\": \"30-39\", \"religion\": \"Roman Catholic\", \"response\": \"Wrong\", \"n\": 983, \"pct\": 0.25}, {\"age\": \"30-39\", \"religion\": \"Roman Catholic\", \"response\": \"Wrong-ish\", \"n\": 606, \"pct\": 0.154}, {\"age\": \"40-49\", \"religion\": \"Buddhism\", \"response\": \"Not wrong\", \"n\": 45, \"pct\": 0.19699999999999998}, {\"age\": \"40-49\", \"religion\": \"Buddhism\", \"response\": \"Wrong\", \"n\": 93, \"pct\": 0.406}, {\"age\": \"40-49\", \"religion\": \"Buddhism\", \"response\": \"Wrong-ish\", \"n\": 91, \"pct\": 0.397}, {\"age\": \"40-49\", \"religion\": \"Christian Orthodox\", \"response\": \"Not wrong\", \"n\": 287, \"pct\": 0.47}, {\"age\": \"40-49\", \"religion\": \"Christian Orthodox\", \"response\": \"Wrong\", \"n\": 192, \"pct\": 0.314}, {\"age\": \"40-49\", \"religion\": \"Christian Orthodox\", \"response\": \"Wrong-ish\", \"n\": 132, \"pct\": 0.21600000000000003}, {\"age\": \"40-49\", \"religion\": \"Hinduism\", \"response\": \"Not wrong\", \"n\": 10, \"pct\": 0.23800000000000002}, {\"age\": \"40-49\", \"religion\": \"Hinduism\", \"response\": \"Wrong\", \"n\": 22, \"pct\": 0.524}, {\"age\": \"40-49\", \"religion\": \"Hinduism\", \"response\": \"Wrong-ish\", \"n\": 10, \"pct\": 0.23800000000000002}, {\"age\": \"40-49\", \"religion\": \"Islam\", \"response\": \"Not wrong\", \"n\": 42, \"pct\": 0.096}, {\"age\": \"40-49\", \"religion\": \"Islam\", \"response\": \"Wrong\", \"n\": 364, \"pct\": 0.835}, {\"age\": \"40-49\", \"religion\": \"Islam\", \"response\": \"Wrong-ish\", \"n\": 30, \"pct\": 0.069}, {\"age\": \"40-49\", \"religion\": \"Jewish\", \"response\": \"Not wrong\", \"n\": 90, \"pct\": 0.514}, {\"age\": \"40-49\", \"religion\": \"Jewish\", \"response\": \"Wrong\", \"n\": 66, \"pct\": 0.377}, {\"age\": \"40-49\", \"religion\": \"Jewish\", \"response\": \"Wrong-ish\", \"n\": 19, \"pct\": 0.109}, {\"age\": \"40-49\", \"religion\": \"No religion\", \"response\": \"Not wrong\", \"n\": 1818, \"pct\": 0.7440000000000001}, {\"age\": \"40-49\", \"religion\": \"No religion\", \"response\": \"Wrong\", \"n\": 251, \"pct\": 0.10300000000000001}, {\"age\": \"40-49\", \"religion\": \"No religion\", \"response\": \"Wrong-ish\", \"n\": 375, \"pct\": 0.153}, {\"age\": \"40-49\", \"religion\": \"Other Christian Religions\", \"response\": \"Not wrong\", \"n\": 85, \"pct\": 0.32}, {\"age\": \"40-49\", \"religion\": \"Other Christian Religions\", \"response\": \"Wrong\", \"n\": 160, \"pct\": 0.602}, {\"age\": \"40-49\", \"religion\": \"Other Christian Religions\", \"response\": \"Wrong-ish\", \"n\": 21, \"pct\": 0.079}, {\"age\": \"40-49\", \"religion\": \"Other Eastern Religions\", \"response\": \"Not wrong\", \"n\": 30, \"pct\": 0.146}, {\"age\": \"40-49\", \"religion\": \"Other Eastern Religions\", \"response\": \"Wrong\", \"n\": 110, \"pct\": 0.534}, {\"age\": \"40-49\", \"religion\": \"Other Eastern Religions\", \"response\": \"Wrong-ish\", \"n\": 66, \"pct\": 0.32}, {\"age\": \"40-49\", \"religion\": \"Other Religions\", \"response\": \"Not wrong\", \"n\": 43, \"pct\": 0.406}, {\"age\": \"40-49\", \"religion\": \"Other Religions\", \"response\": \"Wrong\", \"n\": 40, \"pct\": 0.377}, {\"age\": \"40-49\", \"religion\": \"Other Religions\", \"response\": \"Wrong-ish\", \"n\": 23, \"pct\": 0.217}, {\"age\": \"40-49\", \"religion\": \"Protestant\", \"response\": \"Not wrong\", \"n\": 1300, \"pct\": 0.594}, {\"age\": \"40-49\", \"religion\": \"Protestant\", \"response\": \"Wrong\", \"n\": 652, \"pct\": 0.298}, {\"age\": \"40-49\", \"religion\": \"Protestant\", \"response\": \"Wrong-ish\", \"n\": 237, \"pct\": 0.10800000000000001}, {\"age\": \"40-49\", \"religion\": \"Roman Catholic\", \"response\": \"Not wrong\", \"n\": 2334, \"pct\": 0.57}, {\"age\": \"40-49\", \"religion\": \"Roman Catholic\", \"response\": \"Wrong\", \"n\": 1069, \"pct\": 0.261}, {\"age\": \"40-49\", \"religion\": \"Roman Catholic\", \"response\": \"Wrong-ish\", \"n\": 695, \"pct\": 0.17}, {\"age\": \"50-59\", \"religion\": \"Buddhism\", \"response\": \"Not wrong\", \"n\": 34, \"pct\": 0.14300000000000002}, {\"age\": \"50-59\", \"religion\": \"Buddhism\", \"response\": \"Wrong\", \"n\": 126, \"pct\": 0.532}, {\"age\": \"50-59\", \"religion\": \"Buddhism\", \"response\": \"Wrong-ish\", \"n\": 77, \"pct\": 0.325}, {\"age\": \"50-59\", \"religion\": \"Christian Orthodox\", \"response\": \"Not wrong\", \"n\": 237, \"pct\": 0.349}, {\"age\": \"50-59\", \"religion\": \"Christian Orthodox\", \"response\": \"Wrong\", \"n\": 306, \"pct\": 0.451}, {\"age\": \"50-59\", \"religion\": \"Christian Orthodox\", \"response\": \"Wrong-ish\", \"n\": 136, \"pct\": 0.2}, {\"age\": \"50-59\", \"religion\": \"Hinduism\", \"response\": \"Not wrong\", \"n\": 5, \"pct\": 0.161}, {\"age\": \"50-59\", \"religion\": \"Hinduism\", \"response\": \"Wrong\", \"n\": 23, \"pct\": 0.742}, {\"age\": \"50-59\", \"religion\": \"Hinduism\", \"response\": \"Wrong-ish\", \"n\": 3, \"pct\": 0.09699999999999999}, {\"age\": \"50-59\", \"religion\": \"Islam\", \"response\": \"Not wrong\", \"n\": 23, \"pct\": 0.08800000000000001}, {\"age\": \"50-59\", \"religion\": \"Islam\", \"response\": \"Wrong\", \"n\": 221, \"pct\": 0.847}, {\"age\": \"50-59\", \"religion\": \"Islam\", \"response\": \"Wrong-ish\", \"n\": 17, \"pct\": 0.065}, {\"age\": \"50-59\", \"religion\": \"Jewish\", \"response\": \"Not wrong\", \"n\": 90, \"pct\": 0.511}, {\"age\": \"50-59\", \"religion\": \"Jewish\", \"response\": \"Wrong\", \"n\": 63, \"pct\": 0.358}, {\"age\": \"50-59\", \"religion\": \"Jewish\", \"response\": \"Wrong-ish\", \"n\": 23, \"pct\": 0.131}, {\"age\": \"50-59\", \"religion\": \"No religion\", \"response\": \"Not wrong\", \"n\": 1591, \"pct\": 0.75}, {\"age\": \"50-59\", \"religion\": \"No religion\", \"response\": \"Wrong\", \"n\": 211, \"pct\": 0.1}, {\"age\": \"50-59\", \"religion\": \"No religion\", \"response\": \"Wrong-ish\", \"n\": 318, \"pct\": 0.15}, {\"age\": \"50-59\", \"religion\": \"Other Christian Religions\", \"response\": \"Not wrong\", \"n\": 66, \"pct\": 0.355}, {\"age\": \"50-59\", \"religion\": \"Other Christian Religions\", \"response\": \"Wrong\", \"n\": 102, \"pct\": 0.5479999999999999}, {\"age\": \"50-59\", \"religion\": \"Other Christian Religions\", \"response\": \"Wrong-ish\", \"n\": 18, \"pct\": 0.09699999999999999}, {\"age\": \"50-59\", \"religion\": \"Other Eastern Religions\", \"response\": \"Not wrong\", \"n\": 25, \"pct\": 0.136}, {\"age\": \"50-59\", \"religion\": \"Other Eastern Religions\", \"response\": \"Wrong\", \"n\": 115, \"pct\": 0.625}, {\"age\": \"50-59\", \"religion\": \"Other Eastern Religions\", \"response\": \"Wrong-ish\", \"n\": 44, \"pct\": 0.239}, {\"age\": \"50-59\", \"religion\": \"Other Religions\", \"response\": \"Not wrong\", \"n\": 22, \"pct\": 0.265}, {\"age\": \"50-59\", \"religion\": \"Other Religions\", \"response\": \"Wrong\", \"n\": 49, \"pct\": 0.59}, {\"age\": \"50-59\", \"religion\": \"Other Religions\", \"response\": \"Wrong-ish\", \"n\": 12, \"pct\": 0.145}, {\"age\": \"50-59\", \"religion\": \"Protestant\", \"response\": \"Not wrong\", \"n\": 1286, \"pct\": 0.619}, {\"age\": \"50-59\", \"religion\": \"Protestant\", \"response\": \"Wrong\", \"n\": 509, \"pct\": 0.245}, {\"age\": \"50-59\", \"religion\": \"Protestant\", \"response\": \"Wrong-ish\", \"n\": 283, \"pct\": 0.136}, {\"age\": \"50-59\", \"religion\": \"Roman Catholic\", \"response\": \"Not wrong\", \"n\": 2055, \"pct\": 0.561}, {\"age\": \"50-59\", \"religion\": \"Roman Catholic\", \"response\": \"Wrong\", \"n\": 944, \"pct\": 0.258}, {\"age\": \"50-59\", \"religion\": \"Roman Catholic\", \"response\": \"Wrong-ish\", \"n\": 664, \"pct\": 0.18100000000000002}, {\"age\": \"60-69\", \"religion\": \"Buddhism\", \"response\": \"Not wrong\", \"n\": 16, \"pct\": 0.083}, {\"age\": \"60-69\", \"religion\": \"Buddhism\", \"response\": \"Wrong\", \"n\": 124, \"pct\": 0.642}, {\"age\": \"60-69\", \"religion\": \"Buddhism\", \"response\": \"Wrong-ish\", \"n\": 53, \"pct\": 0.275}, {\"age\": \"60-69\", \"religion\": \"Christian Orthodox\", \"response\": \"Not wrong\", \"n\": 95, \"pct\": 0.222}, {\"age\": \"60-69\", \"religion\": \"Christian Orthodox\", \"response\": \"Wrong\", \"n\": 272, \"pct\": 0.637}, {\"age\": \"60-69\", \"religion\": \"Christian Orthodox\", \"response\": \"Wrong-ish\", \"n\": 60, \"pct\": 0.141}, {\"age\": \"60-69\", \"religion\": \"Hinduism\", \"response\": \"Not wrong\", \"n\": 2, \"pct\": 0.07400000000000001}, {\"age\": \"60-69\", \"religion\": \"Hinduism\", \"response\": \"Wrong\", \"n\": 24, \"pct\": 0.889}, {\"age\": \"60-69\", \"religion\": \"Hinduism\", \"response\": \"Wrong-ish\", \"n\": 1, \"pct\": 0.037000000000000005}, {\"age\": \"60-69\", \"religion\": \"Islam\", \"response\": \"Not wrong\", \"n\": 9, \"pct\": 0.052000000000000005}, {\"age\": \"60-69\", \"religion\": \"Islam\", \"response\": \"Wrong\", \"n\": 154, \"pct\": 0.89}, {\"age\": \"60-69\", \"religion\": \"Islam\", \"response\": \"Wrong-ish\", \"n\": 10, \"pct\": 0.057999999999999996}, {\"age\": \"60-69\", \"religion\": \"Jewish\", \"response\": \"Not wrong\", \"n\": 57, \"pct\": 0.396}, {\"age\": \"60-69\", \"religion\": \"Jewish\", \"response\": \"Wrong\", \"n\": 72, \"pct\": 0.5}, {\"age\": \"60-69\", \"religion\": \"Jewish\", \"response\": \"Wrong-ish\", \"n\": 15, \"pct\": 0.10400000000000001}, {\"age\": \"60-69\", \"religion\": \"No religion\", \"response\": \"Not wrong\", \"n\": 970, \"pct\": 0.6629999999999999}, {\"age\": \"60-69\", \"religion\": \"No religion\", \"response\": \"Wrong\", \"n\": 211, \"pct\": 0.14400000000000002}, {\"age\": \"60-69\", \"religion\": \"No religion\", \"response\": \"Wrong-ish\", \"n\": 282, \"pct\": 0.193}, {\"age\": \"60-69\", \"religion\": \"Other Christian Religions\", \"response\": \"Not wrong\", \"n\": 42, \"pct\": 0.25}, {\"age\": \"60-69\", \"religion\": \"Other Christian Religions\", \"response\": \"Wrong\", \"n\": 111, \"pct\": 0.6609999999999999}, {\"age\": \"60-69\", \"religion\": \"Other Christian Religions\", \"response\": \"Wrong-ish\", \"n\": 15, \"pct\": 0.08900000000000001}, {\"age\": \"60-69\", \"religion\": \"Other Eastern Religions\", \"response\": \"Not wrong\", \"n\": 12, \"pct\": 0.1}, {\"age\": \"60-69\", \"religion\": \"Other Eastern Religions\", \"response\": \"Wrong\", \"n\": 90, \"pct\": 0.75}, {\"age\": \"60-69\", \"religion\": \"Other Eastern Religions\", \"response\": \"Wrong-ish\", \"n\": 18, \"pct\": 0.15}, {\"age\": \"60-69\", \"religion\": \"Other Religions\", \"response\": \"Not wrong\", \"n\": 16, \"pct\": 0.28600000000000003}, {\"age\": \"60-69\", \"religion\": \"Other Religions\", \"response\": \"Wrong\", \"n\": 30, \"pct\": 0.536}, {\"age\": \"60-69\", \"religion\": \"Other Religions\", \"response\": \"Wrong-ish\", \"n\": 10, \"pct\": 0.179}, {\"age\": \"60-69\", \"religion\": \"Protestant\", \"response\": \"Not wrong\", \"n\": 1082, \"pct\": 0.5579999999999999}, {\"age\": \"60-69\", \"religion\": \"Protestant\", \"response\": \"Wrong\", \"n\": 542, \"pct\": 0.27899999999999997}, {\"age\": \"60-69\", \"religion\": \"Protestant\", \"response\": \"Wrong-ish\", \"n\": 316, \"pct\": 0.163}, {\"age\": \"60-69\", \"religion\": \"Roman Catholic\", \"response\": \"Not wrong\", \"n\": 1429, \"pct\": 0.47}, {\"age\": \"60-69\", \"religion\": \"Roman Catholic\", \"response\": \"Wrong\", \"n\": 1013, \"pct\": 0.33299999999999996}, {\"age\": \"60-69\", \"religion\": \"Roman Catholic\", \"response\": \"Wrong-ish\", \"n\": 601, \"pct\": 0.198}, {\"age\": \"70+\", \"religion\": \"Buddhism\", \"response\": \"Not wrong\", \"n\": 16, \"pct\": 0.078}, {\"age\": \"70+\", \"religion\": \"Buddhism\", \"response\": \"Wrong\", \"n\": 140, \"pct\": 0.68}, {\"age\": \"70+\", \"religion\": \"Buddhism\", \"response\": \"Wrong-ish\", \"n\": 50, \"pct\": 0.243}, {\"age\": \"70+\", \"religion\": \"Christian Orthodox\", \"response\": \"Not wrong\", \"n\": 71, \"pct\": 0.185}, {\"age\": \"70+\", \"religion\": \"Christian Orthodox\", \"response\": \"Wrong\", \"n\": 272, \"pct\": 0.708}, {\"age\": \"70+\", \"religion\": \"Christian Orthodox\", \"response\": \"Wrong-ish\", \"n\": 41, \"pct\": 0.107}, {\"age\": \"70+\", \"religion\": \"Hinduism\", \"response\": \"Wrong\", \"n\": 8, \"pct\": 0.889}, {\"age\": \"70+\", \"religion\": \"Hinduism\", \"response\": \"Wrong-ish\", \"n\": 1, \"pct\": 0.111}, {\"age\": \"70+\", \"religion\": \"Islam\", \"response\": \"Not wrong\", \"n\": 7, \"pct\": 0.08800000000000001}, {\"age\": \"70+\", \"religion\": \"Islam\", \"response\": \"Wrong\", \"n\": 67, \"pct\": 0.838}, {\"age\": \"70+\", \"religion\": \"Islam\", \"response\": \"Wrong-ish\", \"n\": 6, \"pct\": 0.075}, {\"age\": \"70+\", \"religion\": \"Jewish\", \"response\": \"Not wrong\", \"n\": 36, \"pct\": 0.308}, {\"age\": \"70+\", \"religion\": \"Jewish\", \"response\": \"Wrong\", \"n\": 63, \"pct\": 0.5379999999999999}, {\"age\": \"70+\", \"religion\": \"Jewish\", \"response\": \"Wrong-ish\", \"n\": 18, \"pct\": 0.154}, {\"age\": \"70+\", \"religion\": \"No religion\", \"response\": \"Not wrong\", \"n\": 469, \"pct\": 0.521}, {\"age\": \"70+\", \"religion\": \"No religion\", \"response\": \"Wrong\", \"n\": 236, \"pct\": 0.262}, {\"age\": \"70+\", \"religion\": \"No religion\", \"response\": \"Wrong-ish\", \"n\": 195, \"pct\": 0.217}, {\"age\": \"70+\", \"religion\": \"Other Christian Religions\", \"response\": \"Not wrong\", \"n\": 23, \"pct\": 0.228}, {\"age\": \"70+\", \"religion\": \"Other Christian Religions\", \"response\": \"Wrong\", \"n\": 63, \"pct\": 0.624}, {\"age\": \"70+\", \"religion\": \"Other Christian Religions\", \"response\": \"Wrong-ish\", \"n\": 15, \"pct\": 0.149}, {\"age\": \"70+\", \"religion\": \"Other Eastern Religions\", \"response\": \"Not wrong\", \"n\": 5, \"pct\": 0.047}, {\"age\": \"70+\", \"religion\": \"Other Eastern Religions\", \"response\": \"Wrong\", \"n\": 92, \"pct\": 0.86}, {\"age\": \"70+\", \"religion\": \"Other Eastern Religions\", \"response\": \"Wrong-ish\", \"n\": 10, \"pct\": 0.09300000000000001}, {\"age\": \"70+\", \"religion\": \"Other Religions\", \"response\": \"Not wrong\", \"n\": 10, \"pct\": 0.22699999999999998}, {\"age\": \"70+\", \"religion\": \"Other Religions\", \"response\": \"Wrong\", \"n\": 28, \"pct\": 0.636}, {\"age\": \"70+\", \"religion\": \"Other Religions\", \"response\": \"Wrong-ish\", \"n\": 6, \"pct\": 0.136}, {\"age\": \"70+\", \"religion\": \"Protestant\", \"response\": \"Not wrong\", \"n\": 588, \"pct\": 0.39899999999999997}, {\"age\": \"70+\", \"religion\": \"Protestant\", \"response\": \"Wrong\", \"n\": 587, \"pct\": 0.39799999999999996}, {\"age\": \"70+\", \"religion\": \"Protestant\", \"response\": \"Wrong-ish\", \"n\": 299, \"pct\": 0.203}, {\"age\": \"70+\", \"religion\": \"Roman Catholic\", \"response\": \"Not wrong\", \"n\": 877, \"pct\": 0.314}, {\"age\": \"70+\", \"religion\": \"Roman Catholic\", \"response\": \"Wrong\", \"n\": 1300, \"pct\": 0.465}, {\"age\": \"70+\", \"religion\": \"Roman Catholic\", \"response\": \"Wrong-ish\", \"n\": 617, \"pct\": 0.221}]}}, {\"mode\": \"vega-lite\"});\n",
       "</script>"
      ],
      "text/plain": [
       "alt.FacetChart(...)"
      ]
     },
     "execution_count": 101,
     "metadata": {},
     "output_type": "execute_result"
    }
   ],
   "source": [
    "chart = (\n",
    "    alt.Chart(sex)\n",
    "    .mark_circle(opacity=3/4)\n",
    "    .encode(\n",
    "        x=alt.X('pct:Q', axis=alt.Axis(title='', format='%')),\n",
    "        y=alt.Y('age', \n",
    "            axis=alt.Axis(title='', grid=True),\n",
    "            scale=alt.Scale(domain=['70+','60-69', '50-59', '40-49', '30-39', '25-29', '18-24']),\n",
    "        ), \n",
    "        color=alt.Color('response', \n",
    "            scale=alt.Scale(\n",
    "                domain=['Not wrong', 'Wrong-ish', 'Wrong'], \n",
    "                range=[\"#39a9db\", \"#f39237\", \"#d63230\"]),\n",
    "            legend=alt.Legend(title='', orient='top')\n",
    "        )\n",
    "    )\n",
    "    .properties(height=100, width=100)\n",
    "    .facet('religion', columns=3)\n",
    "    .configure_view(strokeWidth=0)\n",
    "    .properties(\n",
    "        background='#F0F0F0',\n",
    "        title='Sex Before Marriage'\n",
    "    )\n",
    ")\n",
    "\n",
    "chart"
   ]
  },
  {
   "cell_type": "markdown",
   "metadata": {},
   "source": [
    "#### Another Layer & Facet Example"
   ]
  },
  {
   "cell_type": "code",
   "execution_count": null,
   "metadata": {},
   "outputs": [],
   "source": []
  }
 ],
 "metadata": {
  "kernelspec": {
   "display_name": "Python 3",
   "language": "python",
   "name": "python3"
  },
  "language_info": {
   "codemirror_mode": {
    "name": "ipython",
    "version": 3
   },
   "file_extension": ".py",
   "mimetype": "text/x-python",
   "name": "python",
   "nbconvert_exporter": "python",
   "pygments_lexer": "ipython3",
   "version": "3.7.4"
  }
 },
 "nbformat": 4,
 "nbformat_minor": 2
}
